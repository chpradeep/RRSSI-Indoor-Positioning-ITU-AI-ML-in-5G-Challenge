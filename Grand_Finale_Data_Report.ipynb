{
  "nbformat": 4,
  "nbformat_minor": 0,
  "metadata": {
    "colab": {
      "name": "Grand Finale Data Report.ipynb",
      "provenance": [],
      "collapsed_sections": []
    },
    "kernelspec": {
      "name": "python3",
      "display_name": "Python 3"
    },
    "language_info": {
      "name": "python"
    }
  },
  "cells": [
    {
      "cell_type": "markdown",
      "metadata": {
        "id": "F05KNxHOnFVh"
      },
      "source": [
        "# Location estimation using RSSI of wireless LAN\n",
        "\n",
        "---\n",
        "\n",
        "\n",
        "## Team C-LAMP"
      ]
    },
    {
      "cell_type": "markdown",
      "metadata": {
        "id": "gn5741sbnOuY"
      },
      "source": [
        "## Introduction\n",
        "\n",
        "In this project we aim to build a model to predict location based on RSSI readings from Access Points. The data for the project was provided by RISING, Japan for the problem ITU-ML5G-PS-016: Location estimation using RSSI of wireless LAN - organised as a part of the \"ITU AI/ML in 5G Challenge: applying machine learning in communication networks\". \n",
        "\n",
        "This project is divided into the following phases: \n",
        "\n",
        "- Phase 1: Emphasis is given on data preprocessing and exploration which will be covered in this report. Following this  the data and its attributes are described. Following this data preprocessing and transformation is done to efficiently fit the developed models. \n",
        "- Phase 2: Prediction model building is covered in this phase of the project."
      ]
    },
    {
      "cell_type": "markdown",
      "metadata": {
        "id": "nEH1lZBenWDf"
      },
      "source": [
        "##Dataset\n",
        "\n",
        "The provided data sets consists of the following files:\n",
        "\n",
        "1. AP_info.csv: CSV file providing the location (Latitude, Longitude) and environmental specfication for a set of 4 access points (hereby referred to as APs).\n",
        "2. training_dataset.csv: CSV file providing us with the data acquired from four APs to be used for training the model. \n",
        "    \n",
        "    Data includes :\n",
        "    - TimeStamp(UNIX)\t\n",
        "    - Latitude\tof Reference Point\n",
        "    - Longitude\tof Reference Point\n",
        "    - SSID of Access Point\n",
        "    - Channel\t\n",
        "    - RSSI(dBm)\n",
        "\n",
        "  Data from 13 unique reference points are present in this dataset.\n",
        "\n",
        "3. verification_dataset.csv: CSV file providing us with the data acquired from the four APs to be used for testing the model. \n",
        "    \n",
        "    Data includes :\n",
        "    - TimeStamp(UNIX)\t\n",
        "    - Latitude\tof Reference Point\n",
        "    - Longitude\tof Reference Point\n",
        "    - SSID of Access Point\n",
        "    - Channel\t\n",
        "    - RSSI(dBm)\n",
        "\n",
        "  Data from 13 unique reference points are present in this dataset.\n",
        "\n",
        "The data in the datasets training_dataset.csv and  verification_dataset.csv have been collected from the same set of 4 APs at identical location.\n",
        "\n",
        "The data set also contains a timestamp on when the RSSI readings of the 4 APs was made. The each data set has 5200 observations.\n",
        "\n",
        "A map of the reference and the access points was provided with the dataset, as shown below:\n",
        "\n",
        "![picture](https://drive.google.com/uc?export=view&id=1UoF4iMbTNJ_323xPSADQPs_qTEKl5nSm)\n"
      ]
    },
    {
      "cell_type": "markdown",
      "metadata": {
        "id": "TfP8SRWko9Kt"
      },
      "source": [
        "##Data Pre-processing\n",
        "\n",
        "### Preliminaries\n",
        "\n",
        "The following Python packages were used in this project.\n",
        "\n",
        "```\n",
        "import numpy\n",
        "import pandas \n",
        "import tensorflow \n",
        "from sklearn.preprocessing import MinMaxScaler\n",
        "from sklearn.model_selection import train_test_split\n",
        "from matplotlib import pyplot as plt\n",
        "```\n",
        "A short mentioning of the used packages:\n",
        "\n",
        "- numpy has been used for high-level mathematical functions\n",
        "- pandas has been mainly used for data manipulation and analysis.\n",
        "- tensorflow was used for training and inference of deep neural networks.\n",
        "- sklearn has many inbuilt functions containing various classification and regression algorithms which were used in this project\n",
        "- matplotlib was used in plotting various kinds of graphs and charts\n",
        "\n"
      ]
    },
    {
      "cell_type": "code",
      "metadata": {
        "id": "KKQK3cVi1e0D",
        "colab": {
          "base_uri": "https://localhost:8080/"
        },
        "outputId": "defca51e-6692-4177-f25c-0d8a65cfdf29"
      },
      "source": [
        "import numpy as np # linear algebra\n",
        "import pandas as pd # data processing, CSV file I/O (e.g. pd.read_csv)\n",
        "import tensorflow as tf\n",
        "from sklearn.preprocessing import MinMaxScaler\n",
        "from sklearn.model_selection import train_test_split\n",
        "from matplotlib import pyplot as plt\n",
        "import seaborn as sns\n",
        "import os\n",
        "import time\n",
        "cwd = os.getcwd()\n",
        "from google.colab import drive\n",
        "drive.mount('/content/drive')"
      ],
      "execution_count": 98,
      "outputs": [
        {
          "output_type": "stream",
          "name": "stdout",
          "text": [
            "Drive already mounted at /content/drive; to attempt to forcibly remount, call drive.mount(\"/content/drive\", force_remount=True).\n"
          ]
        }
      ]
    },
    {
      "cell_type": "markdown",
      "metadata": {
        "id": "6PFOmwTipQTg"
      },
      "source": [
        "Storing the path names"
      ]
    },
    {
      "cell_type": "code",
      "metadata": {
        "id": "h-4RK3Ar2ALQ"
      },
      "source": [
        "AP_train_path='/content/drive/MyDrive/CDAC/RSSI Dataset Grand Finale/AP_info.csv'\n",
        "Wifi_train_path ='/content/drive/MyDrive/CDAC/RSSI Dataset Grand Finale/training_dataset.csv'\n",
        "Wifi_test_path ='/content/drive/MyDrive/CDAC/RSSI Dataset Grand Finale/verification_dataset.csv'"
      ],
      "execution_count": 99,
      "outputs": []
    },
    {
      "cell_type": "markdown",
      "metadata": {
        "id": "ZEQJnti1pTsW"
      },
      "source": [
        "Reading the csv files and storing in form of dataset"
      ]
    },
    {
      "cell_type": "code",
      "metadata": {
        "id": "Xv2QMkLfn5pt"
      },
      "source": [
        "AP_train=pd.read_csv(AP_train_path)"
      ],
      "execution_count": 100,
      "outputs": []
    },
    {
      "cell_type": "markdown",
      "metadata": {
        "id": "HHNbEGvoph2M"
      },
      "source": [
        "Transforming the categorical data to numerical ones using one-hot-encoding"
      ]
    },
    {
      "cell_type": "code",
      "metadata": {
        "id": "M1STa2Eqn_e9"
      },
      "source": [
        "AP_train = pd.concat([AP_train,pd.get_dummies(AP_train['Indoor/Outdoor'])['Outdoor']], axis=1, join='inner').drop(columns=['Indoor/Outdoor'])"
      ],
      "execution_count": 101,
      "outputs": []
    },
    {
      "cell_type": "markdown",
      "metadata": {
        "id": "MrIFLJRmpZ6e"
      },
      "source": [
        "Let us have a look at the AP provided information"
      ]
    },
    {
      "cell_type": "code",
      "metadata": {
        "colab": {
          "base_uri": "https://localhost:8080/",
          "height": 175
        },
        "id": "_ha74gr6n72F",
        "outputId": "42377c50-c835-46a2-92e0-45f87a8908bb"
      },
      "source": [
        "AP_train"
      ],
      "execution_count": 102,
      "outputs": [
        {
          "output_type": "execute_result",
          "data": {
            "text/html": [
              "<div>\n",
              "<style scoped>\n",
              "    .dataframe tbody tr th:only-of-type {\n",
              "        vertical-align: middle;\n",
              "    }\n",
              "\n",
              "    .dataframe tbody tr th {\n",
              "        vertical-align: top;\n",
              "    }\n",
              "\n",
              "    .dataframe thead th {\n",
              "        text-align: right;\n",
              "    }\n",
              "</style>\n",
              "<table border=\"1\" class=\"dataframe\">\n",
              "  <thead>\n",
              "    <tr style=\"text-align: right;\">\n",
              "      <th></th>\n",
              "      <th>AP SSID</th>\n",
              "      <th>Latitude</th>\n",
              "      <th>Longitude</th>\n",
              "      <th>Hight Difference(m)</th>\n",
              "      <th>Outdoor</th>\n",
              "    </tr>\n",
              "  </thead>\n",
              "  <tbody>\n",
              "    <tr>\n",
              "      <th>0</th>\n",
              "      <td>1</td>\n",
              "      <td>35.157320</td>\n",
              "      <td>136.926447</td>\n",
              "      <td>0</td>\n",
              "      <td>1</td>\n",
              "    </tr>\n",
              "    <tr>\n",
              "      <th>1</th>\n",
              "      <td>2</td>\n",
              "      <td>35.157347</td>\n",
              "      <td>136.926807</td>\n",
              "      <td>0</td>\n",
              "      <td>1</td>\n",
              "    </tr>\n",
              "    <tr>\n",
              "      <th>2</th>\n",
              "      <td>3</td>\n",
              "      <td>35.157202</td>\n",
              "      <td>136.926827</td>\n",
              "      <td>0</td>\n",
              "      <td>1</td>\n",
              "    </tr>\n",
              "    <tr>\n",
              "      <th>3</th>\n",
              "      <td>4</td>\n",
              "      <td>35.157165</td>\n",
              "      <td>136.926470</td>\n",
              "      <td>0</td>\n",
              "      <td>1</td>\n",
              "    </tr>\n",
              "  </tbody>\n",
              "</table>\n",
              "</div>"
            ],
            "text/plain": [
              "   AP SSID   Latitude   Longitude  Hight Difference(m)  Outdoor\n",
              "0        1  35.157320  136.926447                    0        1\n",
              "1        2  35.157347  136.926807                    0        1\n",
              "2        3  35.157202  136.926827                    0        1\n",
              "3        4  35.157165  136.926470                    0        1"
            ]
          },
          "metadata": {},
          "execution_count": 102
        }
      ]
    },
    {
      "cell_type": "code",
      "metadata": {
        "id": "BfJ_uzqpp1sE"
      },
      "source": [
        "AP_train = AP_train.astype({\"Latitude\":'float64',\"Longitude\":'float64',\"Hight Difference(m)\":'float64'})"
      ],
      "execution_count": 103,
      "outputs": []
    },
    {
      "cell_type": "markdown",
      "metadata": {
        "id": "WrMoDDVOpsGT"
      },
      "source": [
        "Reading the measured data from the APs from training_dataset.csv and verification_dataset.csv and storing them inform of datasets."
      ]
    },
    {
      "cell_type": "code",
      "metadata": {
        "id": "48C1sG81p409"
      },
      "source": [
        "train = pd.read_csv(Wifi_train_path)\n",
        "test = pd.read_csv(Wifi_test_path)"
      ],
      "execution_count": 104,
      "outputs": []
    },
    {
      "cell_type": "code",
      "metadata": {
        "id": "engVZuFIqCzG"
      },
      "source": [
        "train.drop(columns=['No.'], inplace=True)\n",
        "test.drop(columns=['No.'], inplace=True)"
      ],
      "execution_count": 105,
      "outputs": []
    },
    {
      "cell_type": "markdown",
      "metadata": {
        "id": "LGRDTj49p51k"
      },
      "source": [
        "Having a look at the datasets:"
      ]
    },
    {
      "cell_type": "code",
      "metadata": {
        "colab": {
          "base_uri": "https://localhost:8080/",
          "height": 424
        },
        "id": "XyW4Y_lnqDbm",
        "outputId": "de54f1e0-d143-4c1e-fc58-fd927d0657da"
      },
      "source": [
        "train"
      ],
      "execution_count": 106,
      "outputs": [
        {
          "output_type": "execute_result",
          "data": {
            "text/html": [
              "<div>\n",
              "<style scoped>\n",
              "    .dataframe tbody tr th:only-of-type {\n",
              "        vertical-align: middle;\n",
              "    }\n",
              "\n",
              "    .dataframe tbody tr th {\n",
              "        vertical-align: top;\n",
              "    }\n",
              "\n",
              "    .dataframe thead th {\n",
              "        text-align: right;\n",
              "    }\n",
              "</style>\n",
              "<table border=\"1\" class=\"dataframe\">\n",
              "  <thead>\n",
              "    <tr style=\"text-align: right;\">\n",
              "      <th></th>\n",
              "      <th>TimeStamp(UNIX)</th>\n",
              "      <th>Latitude</th>\n",
              "      <th>Longitude</th>\n",
              "      <th>SSID</th>\n",
              "      <th>Channel</th>\n",
              "      <th>RSSI(dBm)</th>\n",
              "    </tr>\n",
              "  </thead>\n",
              "  <tbody>\n",
              "    <tr>\n",
              "      <th>0</th>\n",
              "      <td>1631687696</td>\n",
              "      <td>35.157140</td>\n",
              "      <td>136.926306</td>\n",
              "      <td>1</td>\n",
              "      <td>11</td>\n",
              "      <td>-41</td>\n",
              "    </tr>\n",
              "    <tr>\n",
              "      <th>1</th>\n",
              "      <td>1631687697</td>\n",
              "      <td>35.157140</td>\n",
              "      <td>136.926306</td>\n",
              "      <td>1</td>\n",
              "      <td>11</td>\n",
              "      <td>-41</td>\n",
              "    </tr>\n",
              "    <tr>\n",
              "      <th>2</th>\n",
              "      <td>1631687697</td>\n",
              "      <td>35.157140</td>\n",
              "      <td>136.926306</td>\n",
              "      <td>1</td>\n",
              "      <td>11</td>\n",
              "      <td>-41</td>\n",
              "    </tr>\n",
              "    <tr>\n",
              "      <th>3</th>\n",
              "      <td>1631687697</td>\n",
              "      <td>35.157140</td>\n",
              "      <td>136.926306</td>\n",
              "      <td>1</td>\n",
              "      <td>11</td>\n",
              "      <td>-41</td>\n",
              "    </tr>\n",
              "    <tr>\n",
              "      <th>4</th>\n",
              "      <td>1631687697</td>\n",
              "      <td>35.157140</td>\n",
              "      <td>136.926306</td>\n",
              "      <td>1</td>\n",
              "      <td>11</td>\n",
              "      <td>-41</td>\n",
              "    </tr>\n",
              "    <tr>\n",
              "      <th>...</th>\n",
              "      <td>...</td>\n",
              "      <td>...</td>\n",
              "      <td>...</td>\n",
              "      <td>...</td>\n",
              "      <td>...</td>\n",
              "      <td>...</td>\n",
              "    </tr>\n",
              "    <tr>\n",
              "      <th>5195</th>\n",
              "      <td>1631688763</td>\n",
              "      <td>35.157236</td>\n",
              "      <td>136.926489</td>\n",
              "      <td>4</td>\n",
              "      <td>1</td>\n",
              "      <td>-52</td>\n",
              "    </tr>\n",
              "    <tr>\n",
              "      <th>5196</th>\n",
              "      <td>1631688763</td>\n",
              "      <td>35.157236</td>\n",
              "      <td>136.926489</td>\n",
              "      <td>4</td>\n",
              "      <td>1</td>\n",
              "      <td>-52</td>\n",
              "    </tr>\n",
              "    <tr>\n",
              "      <th>5197</th>\n",
              "      <td>1631688763</td>\n",
              "      <td>35.157236</td>\n",
              "      <td>136.926489</td>\n",
              "      <td>4</td>\n",
              "      <td>1</td>\n",
              "      <td>-52</td>\n",
              "    </tr>\n",
              "    <tr>\n",
              "      <th>5198</th>\n",
              "      <td>1631688763</td>\n",
              "      <td>35.157236</td>\n",
              "      <td>136.926489</td>\n",
              "      <td>4</td>\n",
              "      <td>1</td>\n",
              "      <td>-52</td>\n",
              "    </tr>\n",
              "    <tr>\n",
              "      <th>5199</th>\n",
              "      <td>1631688763</td>\n",
              "      <td>35.157236</td>\n",
              "      <td>136.926489</td>\n",
              "      <td>4</td>\n",
              "      <td>1</td>\n",
              "      <td>-52</td>\n",
              "    </tr>\n",
              "  </tbody>\n",
              "</table>\n",
              "<p>5200 rows × 6 columns</p>\n",
              "</div>"
            ],
            "text/plain": [
              "      TimeStamp(UNIX)   Latitude   Longitude  SSID  Channel  RSSI(dBm)\n",
              "0          1631687696  35.157140  136.926306     1       11        -41\n",
              "1          1631687697  35.157140  136.926306     1       11        -41\n",
              "2          1631687697  35.157140  136.926306     1       11        -41\n",
              "3          1631687697  35.157140  136.926306     1       11        -41\n",
              "4          1631687697  35.157140  136.926306     1       11        -41\n",
              "...               ...        ...         ...   ...      ...        ...\n",
              "5195       1631688763  35.157236  136.926489     4        1        -52\n",
              "5196       1631688763  35.157236  136.926489     4        1        -52\n",
              "5197       1631688763  35.157236  136.926489     4        1        -52\n",
              "5198       1631688763  35.157236  136.926489     4        1        -52\n",
              "5199       1631688763  35.157236  136.926489     4        1        -52\n",
              "\n",
              "[5200 rows x 6 columns]"
            ]
          },
          "metadata": {},
          "execution_count": 106
        }
      ]
    },
    {
      "cell_type": "code",
      "metadata": {
        "colab": {
          "base_uri": "https://localhost:8080/",
          "height": 424
        },
        "id": "8Rd53y6RqFPL",
        "outputId": "9a1bdb83-1c40-4034-b0d7-03b8bb733ae1"
      },
      "source": [
        "test"
      ],
      "execution_count": 107,
      "outputs": [
        {
          "output_type": "execute_result",
          "data": {
            "text/html": [
              "<div>\n",
              "<style scoped>\n",
              "    .dataframe tbody tr th:only-of-type {\n",
              "        vertical-align: middle;\n",
              "    }\n",
              "\n",
              "    .dataframe tbody tr th {\n",
              "        vertical-align: top;\n",
              "    }\n",
              "\n",
              "    .dataframe thead th {\n",
              "        text-align: right;\n",
              "    }\n",
              "</style>\n",
              "<table border=\"1\" class=\"dataframe\">\n",
              "  <thead>\n",
              "    <tr style=\"text-align: right;\">\n",
              "      <th></th>\n",
              "      <th>TimeStamp(UNIX)</th>\n",
              "      <th>Latitude</th>\n",
              "      <th>Longitude</th>\n",
              "      <th>SSID</th>\n",
              "      <th>Channel</th>\n",
              "      <th>RSSI(dBm)</th>\n",
              "    </tr>\n",
              "  </thead>\n",
              "  <tbody>\n",
              "    <tr>\n",
              "      <th>0</th>\n",
              "      <td>1631689137</td>\n",
              "      <td>35.157261</td>\n",
              "      <td>136.926465</td>\n",
              "      <td>1</td>\n",
              "      <td>11</td>\n",
              "      <td>-41</td>\n",
              "    </tr>\n",
              "    <tr>\n",
              "      <th>1</th>\n",
              "      <td>1631689137</td>\n",
              "      <td>35.157261</td>\n",
              "      <td>136.926465</td>\n",
              "      <td>1</td>\n",
              "      <td>11</td>\n",
              "      <td>-41</td>\n",
              "    </tr>\n",
              "    <tr>\n",
              "      <th>2</th>\n",
              "      <td>1631689138</td>\n",
              "      <td>35.157261</td>\n",
              "      <td>136.926465</td>\n",
              "      <td>1</td>\n",
              "      <td>11</td>\n",
              "      <td>-41</td>\n",
              "    </tr>\n",
              "    <tr>\n",
              "      <th>3</th>\n",
              "      <td>1631689138</td>\n",
              "      <td>35.157261</td>\n",
              "      <td>136.926465</td>\n",
              "      <td>1</td>\n",
              "      <td>11</td>\n",
              "      <td>-41</td>\n",
              "    </tr>\n",
              "    <tr>\n",
              "      <th>4</th>\n",
              "      <td>1631689138</td>\n",
              "      <td>35.157261</td>\n",
              "      <td>136.926465</td>\n",
              "      <td>1</td>\n",
              "      <td>11</td>\n",
              "      <td>-41</td>\n",
              "    </tr>\n",
              "    <tr>\n",
              "      <th>...</th>\n",
              "      <td>...</td>\n",
              "      <td>...</td>\n",
              "      <td>...</td>\n",
              "      <td>...</td>\n",
              "      <td>...</td>\n",
              "      <td>...</td>\n",
              "    </tr>\n",
              "    <tr>\n",
              "      <th>5195</th>\n",
              "      <td>1631691291</td>\n",
              "      <td>35.157298</td>\n",
              "      <td>136.926575</td>\n",
              "      <td>4</td>\n",
              "      <td>1</td>\n",
              "      <td>-59</td>\n",
              "    </tr>\n",
              "    <tr>\n",
              "      <th>5196</th>\n",
              "      <td>1631691291</td>\n",
              "      <td>35.157298</td>\n",
              "      <td>136.926575</td>\n",
              "      <td>4</td>\n",
              "      <td>1</td>\n",
              "      <td>-59</td>\n",
              "    </tr>\n",
              "    <tr>\n",
              "      <th>5197</th>\n",
              "      <td>1631691291</td>\n",
              "      <td>35.157298</td>\n",
              "      <td>136.926575</td>\n",
              "      <td>4</td>\n",
              "      <td>1</td>\n",
              "      <td>-59</td>\n",
              "    </tr>\n",
              "    <tr>\n",
              "      <th>5198</th>\n",
              "      <td>1631691291</td>\n",
              "      <td>35.157298</td>\n",
              "      <td>136.926575</td>\n",
              "      <td>4</td>\n",
              "      <td>1</td>\n",
              "      <td>-59</td>\n",
              "    </tr>\n",
              "    <tr>\n",
              "      <th>5199</th>\n",
              "      <td>1631691292</td>\n",
              "      <td>35.157298</td>\n",
              "      <td>136.926575</td>\n",
              "      <td>4</td>\n",
              "      <td>1</td>\n",
              "      <td>-59</td>\n",
              "    </tr>\n",
              "  </tbody>\n",
              "</table>\n",
              "<p>5200 rows × 6 columns</p>\n",
              "</div>"
            ],
            "text/plain": [
              "      TimeStamp(UNIX)   Latitude   Longitude  SSID  Channel  RSSI(dBm)\n",
              "0          1631689137  35.157261  136.926465     1       11        -41\n",
              "1          1631689137  35.157261  136.926465     1       11        -41\n",
              "2          1631689138  35.157261  136.926465     1       11        -41\n",
              "3          1631689138  35.157261  136.926465     1       11        -41\n",
              "4          1631689138  35.157261  136.926465     1       11        -41\n",
              "...               ...        ...         ...   ...      ...        ...\n",
              "5195       1631691291  35.157298  136.926575     4        1        -59\n",
              "5196       1631691291  35.157298  136.926575     4        1        -59\n",
              "5197       1631691291  35.157298  136.926575     4        1        -59\n",
              "5198       1631691291  35.157298  136.926575     4        1        -59\n",
              "5199       1631691292  35.157298  136.926575     4        1        -59\n",
              "\n",
              "[5200 rows x 6 columns]"
            ]
          },
          "metadata": {},
          "execution_count": 107
        }
      ]
    },
    {
      "cell_type": "markdown",
      "metadata": {
        "id": "jaiyuJulp9N5"
      },
      "source": [
        "Removing the duplicate data present :"
      ]
    },
    {
      "cell_type": "code",
      "metadata": {
        "id": "qcQeHAjqqHDS"
      },
      "source": [
        "train.drop_duplicates(subset=['TimeStamp(UNIX)','Latitude','Longitude','SSID','RSSI(dBm)'],keep='first',inplace=True)\n",
        "test.drop_duplicates(subset=['TimeStamp(UNIX)','Latitude','Longitude','SSID','RSSI(dBm)'],keep='first',inplace=True)\n",
        "train.reset_index(inplace=True, drop=True)\n",
        "test.reset_index(inplace=True, drop=True)"
      ],
      "execution_count": 108,
      "outputs": []
    },
    {
      "cell_type": "markdown",
      "metadata": {
        "id": "OYsitPtDqDvv"
      },
      "source": [
        "Merging the information of APs with the training and testing data:"
      ]
    },
    {
      "cell_type": "code",
      "metadata": {
        "id": "bkb72lS5qKKb"
      },
      "source": [
        "train_semi = train.merge(AP_train, how='inner', left_on='SSID', right_on='AP SSID').drop(columns=['AP SSID'])\n",
        "test_semi = test.merge(AP_train, how='inner', left_on='SSID', right_on='AP SSID').drop(columns=['AP SSID'])"
      ],
      "execution_count": 109,
      "outputs": []
    },
    {
      "cell_type": "markdown",
      "metadata": {
        "id": "KF4s1SvhqKgE"
      },
      "source": [
        "Renaming the columns to make it more comprehensible"
      ]
    },
    {
      "cell_type": "code",
      "metadata": {
        "id": "7YgyPSfoqOyT"
      },
      "source": [
        "train_semi.rename(columns = {'Latitude_x':'Latitude_OP','Longitude_x':'Longitude_OP', 'Latitude_y':'Latitude_AP', 'Longitude_y':'Longitude_AP'},inplace=True)\n",
        "test_semi.rename(columns = {'Latitude_x':'Latitude_OP','Longitude_x':'Longitude_OP', 'Latitude_y':'Latitude_AP', 'Longitude_y':'Longitude_AP'},inplace=True)"
      ],
      "execution_count": 110,
      "outputs": []
    },
    {
      "cell_type": "markdown",
      "metadata": {
        "id": "SACIqu3wqOjY"
      },
      "source": [
        "As according to the research done in this domain, there is a clear cut relationship between RSSI and euclidean distance between the AP and the reference point (as shown in the formula below), hence we add a feature of the same.\n",
        "\n",
        "![picture](https://drive.google.com/uc?export=view&id=15tuh-QXcKEVx1P8EW9MuWRd_lJlTpywg)"
      ]
    },
    {
      "cell_type": "code",
      "metadata": {
        "id": "dAG7ELMiqS2m"
      },
      "source": [
        "def euclidean_dist(lat_op, long_op, lat_ap, long_ap, height):\n",
        "  return (((lat_op - lat_ap)*111000)**2 + ((long_op - long_ap)*111000)**2 + height**2)**0.5"
      ],
      "execution_count": 111,
      "outputs": []
    },
    {
      "cell_type": "markdown",
      "metadata": {
        "id": "aDpRDjVgqWEM"
      },
      "source": [
        "Since, we observe a significant variation in the provided RSSI data values (possibly due to multipath fading), we added a Moving Average of RSSI feature to smoothen the sudden variations in data."
      ]
    },
    {
      "cell_type": "code",
      "metadata": {
        "id": "vsVobQr9qWPt"
      },
      "source": [
        "def moving_average(inp):\n",
        "  moving_avg=list(inp[\"RSSI(dBm)\"][:4])\n",
        "  i = 0\n",
        "  window_size=10\n",
        "  while i < len(list(inp[\"RSSI(dBm)\"])) - window_size + 1:\n",
        "      this_window = list(inp[\"RSSI(dBm)\"][i : i + window_size])\n",
        "      window_average = sum(this_window) / window_size\n",
        "      moving_avg.append(window_average)\n",
        "      i += 1\n",
        "  for z in range(len(list(inp[\"RSSI(dBm)\"]))-len(moving_avg)):\n",
        "    moving_avg.append(moving_avg[-1])\n",
        "  return moving_avg"
      ],
      "execution_count": 112,
      "outputs": []
    },
    {
      "cell_type": "code",
      "metadata": {
        "id": "Uk-md4Vhqb1O"
      },
      "source": [
        "train_semi['Distance'] = train_semi.apply(lambda row: euclidean_dist(row['Latitude_OP'],row['Longitude_OP'],row['Latitude_AP'],row['Longitude_AP'],row['Hight Difference(m)']),axis=1)\n",
        "test_semi['Distance'] = test_semi.apply(lambda row: euclidean_dist(row['Latitude_OP'],row['Longitude_OP'],row['Latitude_AP'],row['Longitude_AP'],row['Hight Difference(m)']),axis=1)"
      ],
      "execution_count": 113,
      "outputs": []
    },
    {
      "cell_type": "code",
      "metadata": {
        "id": "FbFWnMgqqeYg"
      },
      "source": [
        "train_semi = pd.concat([train_semi,pd.DataFrame(moving_average(train_semi), columns = ['Moving Average (RSSI)'])], axis=1)\n",
        "test_semi = pd.concat([test_semi,pd.DataFrame(moving_average(test_semi), columns = ['Moving Average (RSSI)'])], axis=1)"
      ],
      "execution_count": 114,
      "outputs": []
    },
    {
      "cell_type": "code",
      "metadata": {
        "colab": {
          "base_uri": "https://localhost:8080/",
          "height": 441
        },
        "id": "gXBobEyvqhVA",
        "outputId": "5b73fd52-df03-42ac-92d4-fadaf7b88350"
      },
      "source": [
        "train_semi"
      ],
      "execution_count": 115,
      "outputs": [
        {
          "output_type": "execute_result",
          "data": {
            "text/html": [
              "<div>\n",
              "<style scoped>\n",
              "    .dataframe tbody tr th:only-of-type {\n",
              "        vertical-align: middle;\n",
              "    }\n",
              "\n",
              "    .dataframe tbody tr th {\n",
              "        vertical-align: top;\n",
              "    }\n",
              "\n",
              "    .dataframe thead th {\n",
              "        text-align: right;\n",
              "    }\n",
              "</style>\n",
              "<table border=\"1\" class=\"dataframe\">\n",
              "  <thead>\n",
              "    <tr style=\"text-align: right;\">\n",
              "      <th></th>\n",
              "      <th>TimeStamp(UNIX)</th>\n",
              "      <th>Latitude_OP</th>\n",
              "      <th>Longitude_OP</th>\n",
              "      <th>SSID</th>\n",
              "      <th>Channel</th>\n",
              "      <th>RSSI(dBm)</th>\n",
              "      <th>Latitude_AP</th>\n",
              "      <th>Longitude_AP</th>\n",
              "      <th>Hight Difference(m)</th>\n",
              "      <th>Outdoor</th>\n",
              "      <th>Distance</th>\n",
              "      <th>Moving Average (RSSI)</th>\n",
              "    </tr>\n",
              "  </thead>\n",
              "  <tbody>\n",
              "    <tr>\n",
              "      <th>0</th>\n",
              "      <td>1631687696</td>\n",
              "      <td>35.157140</td>\n",
              "      <td>136.926306</td>\n",
              "      <td>1</td>\n",
              "      <td>11</td>\n",
              "      <td>-41</td>\n",
              "      <td>35.157320</td>\n",
              "      <td>136.926447</td>\n",
              "      <td>0.0</td>\n",
              "      <td>1</td>\n",
              "      <td>25.439033</td>\n",
              "      <td>-41.0</td>\n",
              "    </tr>\n",
              "    <tr>\n",
              "      <th>1</th>\n",
              "      <td>1631687697</td>\n",
              "      <td>35.157140</td>\n",
              "      <td>136.926306</td>\n",
              "      <td>1</td>\n",
              "      <td>11</td>\n",
              "      <td>-41</td>\n",
              "      <td>35.157320</td>\n",
              "      <td>136.926447</td>\n",
              "      <td>0.0</td>\n",
              "      <td>1</td>\n",
              "      <td>25.439033</td>\n",
              "      <td>-41.0</td>\n",
              "    </tr>\n",
              "    <tr>\n",
              "      <th>2</th>\n",
              "      <td>1631687698</td>\n",
              "      <td>35.157140</td>\n",
              "      <td>136.926306</td>\n",
              "      <td>1</td>\n",
              "      <td>11</td>\n",
              "      <td>-41</td>\n",
              "      <td>35.157320</td>\n",
              "      <td>136.926447</td>\n",
              "      <td>0.0</td>\n",
              "      <td>1</td>\n",
              "      <td>25.439033</td>\n",
              "      <td>-41.0</td>\n",
              "    </tr>\n",
              "    <tr>\n",
              "      <th>3</th>\n",
              "      <td>1631687699</td>\n",
              "      <td>35.157140</td>\n",
              "      <td>136.926306</td>\n",
              "      <td>1</td>\n",
              "      <td>11</td>\n",
              "      <td>-41</td>\n",
              "      <td>35.157320</td>\n",
              "      <td>136.926447</td>\n",
              "      <td>0.0</td>\n",
              "      <td>1</td>\n",
              "      <td>25.439033</td>\n",
              "      <td>-41.0</td>\n",
              "    </tr>\n",
              "    <tr>\n",
              "      <th>4</th>\n",
              "      <td>1631687700</td>\n",
              "      <td>35.157140</td>\n",
              "      <td>136.926306</td>\n",
              "      <td>1</td>\n",
              "      <td>11</td>\n",
              "      <td>-41</td>\n",
              "      <td>35.157320</td>\n",
              "      <td>136.926447</td>\n",
              "      <td>0.0</td>\n",
              "      <td>1</td>\n",
              "      <td>25.439033</td>\n",
              "      <td>-41.0</td>\n",
              "    </tr>\n",
              "    <tr>\n",
              "      <th>...</th>\n",
              "      <td>...</td>\n",
              "      <td>...</td>\n",
              "      <td>...</td>\n",
              "      <td>...</td>\n",
              "      <td>...</td>\n",
              "      <td>...</td>\n",
              "      <td>...</td>\n",
              "      <td>...</td>\n",
              "      <td>...</td>\n",
              "      <td>...</td>\n",
              "      <td>...</td>\n",
              "      <td>...</td>\n",
              "    </tr>\n",
              "    <tr>\n",
              "      <th>1071</th>\n",
              "      <td>1631688759</td>\n",
              "      <td>35.157236</td>\n",
              "      <td>136.926489</td>\n",
              "      <td>4</td>\n",
              "      <td>1</td>\n",
              "      <td>-52</td>\n",
              "      <td>35.157165</td>\n",
              "      <td>136.926470</td>\n",
              "      <td>0.0</td>\n",
              "      <td>1</td>\n",
              "      <td>8.152950</td>\n",
              "      <td>-52.0</td>\n",
              "    </tr>\n",
              "    <tr>\n",
              "      <th>1072</th>\n",
              "      <td>1631688760</td>\n",
              "      <td>35.157236</td>\n",
              "      <td>136.926489</td>\n",
              "      <td>4</td>\n",
              "      <td>1</td>\n",
              "      <td>-52</td>\n",
              "      <td>35.157165</td>\n",
              "      <td>136.926470</td>\n",
              "      <td>0.0</td>\n",
              "      <td>1</td>\n",
              "      <td>8.152950</td>\n",
              "      <td>-52.0</td>\n",
              "    </tr>\n",
              "    <tr>\n",
              "      <th>1073</th>\n",
              "      <td>1631688761</td>\n",
              "      <td>35.157236</td>\n",
              "      <td>136.926489</td>\n",
              "      <td>4</td>\n",
              "      <td>1</td>\n",
              "      <td>-52</td>\n",
              "      <td>35.157165</td>\n",
              "      <td>136.926470</td>\n",
              "      <td>0.0</td>\n",
              "      <td>1</td>\n",
              "      <td>8.152950</td>\n",
              "      <td>-52.0</td>\n",
              "    </tr>\n",
              "    <tr>\n",
              "      <th>1074</th>\n",
              "      <td>1631688762</td>\n",
              "      <td>35.157236</td>\n",
              "      <td>136.926489</td>\n",
              "      <td>4</td>\n",
              "      <td>1</td>\n",
              "      <td>-52</td>\n",
              "      <td>35.157165</td>\n",
              "      <td>136.926470</td>\n",
              "      <td>0.0</td>\n",
              "      <td>1</td>\n",
              "      <td>8.152950</td>\n",
              "      <td>-52.0</td>\n",
              "    </tr>\n",
              "    <tr>\n",
              "      <th>1075</th>\n",
              "      <td>1631688763</td>\n",
              "      <td>35.157236</td>\n",
              "      <td>136.926489</td>\n",
              "      <td>4</td>\n",
              "      <td>1</td>\n",
              "      <td>-52</td>\n",
              "      <td>35.157165</td>\n",
              "      <td>136.926470</td>\n",
              "      <td>0.0</td>\n",
              "      <td>1</td>\n",
              "      <td>8.152950</td>\n",
              "      <td>-52.0</td>\n",
              "    </tr>\n",
              "  </tbody>\n",
              "</table>\n",
              "<p>1076 rows × 12 columns</p>\n",
              "</div>"
            ],
            "text/plain": [
              "      TimeStamp(UNIX)  Latitude_OP  ...   Distance  Moving Average (RSSI)\n",
              "0          1631687696    35.157140  ...  25.439033                  -41.0\n",
              "1          1631687697    35.157140  ...  25.439033                  -41.0\n",
              "2          1631687698    35.157140  ...  25.439033                  -41.0\n",
              "3          1631687699    35.157140  ...  25.439033                  -41.0\n",
              "4          1631687700    35.157140  ...  25.439033                  -41.0\n",
              "...               ...          ...  ...        ...                    ...\n",
              "1071       1631688759    35.157236  ...   8.152950                  -52.0\n",
              "1072       1631688760    35.157236  ...   8.152950                  -52.0\n",
              "1073       1631688761    35.157236  ...   8.152950                  -52.0\n",
              "1074       1631688762    35.157236  ...   8.152950                  -52.0\n",
              "1075       1631688763    35.157236  ...   8.152950                  -52.0\n",
              "\n",
              "[1076 rows x 12 columns]"
            ]
          },
          "metadata": {},
          "execution_count": 115
        }
      ]
    },
    {
      "cell_type": "code",
      "metadata": {
        "id": "W6K_3FJDqj0Y"
      },
      "source": [
        "final_train = train_semi.copy()\n",
        "final_test = test_semi.copy()"
      ],
      "execution_count": 116,
      "outputs": []
    },
    {
      "cell_type": "code",
      "metadata": {
        "colab": {
          "base_uri": "https://localhost:8080/",
          "height": 441
        },
        "id": "FJg81vLyqtNM",
        "outputId": "deaadea6-61dd-4c17-c723-df0944d55365"
      },
      "source": [
        " train_semi.drop_duplicates(subset=['TimeStamp(UNIX)','Latitude_OP','Longitude_OP','RSSI(dBm)'])"
      ],
      "execution_count": 117,
      "outputs": [
        {
          "output_type": "execute_result",
          "data": {
            "text/html": [
              "<div>\n",
              "<style scoped>\n",
              "    .dataframe tbody tr th:only-of-type {\n",
              "        vertical-align: middle;\n",
              "    }\n",
              "\n",
              "    .dataframe tbody tr th {\n",
              "        vertical-align: top;\n",
              "    }\n",
              "\n",
              "    .dataframe thead th {\n",
              "        text-align: right;\n",
              "    }\n",
              "</style>\n",
              "<table border=\"1\" class=\"dataframe\">\n",
              "  <thead>\n",
              "    <tr style=\"text-align: right;\">\n",
              "      <th></th>\n",
              "      <th>TimeStamp(UNIX)</th>\n",
              "      <th>Latitude_OP</th>\n",
              "      <th>Longitude_OP</th>\n",
              "      <th>SSID</th>\n",
              "      <th>Channel</th>\n",
              "      <th>RSSI(dBm)</th>\n",
              "      <th>Latitude_AP</th>\n",
              "      <th>Longitude_AP</th>\n",
              "      <th>Hight Difference(m)</th>\n",
              "      <th>Outdoor</th>\n",
              "      <th>Distance</th>\n",
              "      <th>Moving Average (RSSI)</th>\n",
              "    </tr>\n",
              "  </thead>\n",
              "  <tbody>\n",
              "    <tr>\n",
              "      <th>0</th>\n",
              "      <td>1631687696</td>\n",
              "      <td>35.157140</td>\n",
              "      <td>136.926306</td>\n",
              "      <td>1</td>\n",
              "      <td>11</td>\n",
              "      <td>-41</td>\n",
              "      <td>35.157320</td>\n",
              "      <td>136.926447</td>\n",
              "      <td>0.0</td>\n",
              "      <td>1</td>\n",
              "      <td>25.439033</td>\n",
              "      <td>-41.0</td>\n",
              "    </tr>\n",
              "    <tr>\n",
              "      <th>1</th>\n",
              "      <td>1631687697</td>\n",
              "      <td>35.157140</td>\n",
              "      <td>136.926306</td>\n",
              "      <td>1</td>\n",
              "      <td>11</td>\n",
              "      <td>-41</td>\n",
              "      <td>35.157320</td>\n",
              "      <td>136.926447</td>\n",
              "      <td>0.0</td>\n",
              "      <td>1</td>\n",
              "      <td>25.439033</td>\n",
              "      <td>-41.0</td>\n",
              "    </tr>\n",
              "    <tr>\n",
              "      <th>2</th>\n",
              "      <td>1631687698</td>\n",
              "      <td>35.157140</td>\n",
              "      <td>136.926306</td>\n",
              "      <td>1</td>\n",
              "      <td>11</td>\n",
              "      <td>-41</td>\n",
              "      <td>35.157320</td>\n",
              "      <td>136.926447</td>\n",
              "      <td>0.0</td>\n",
              "      <td>1</td>\n",
              "      <td>25.439033</td>\n",
              "      <td>-41.0</td>\n",
              "    </tr>\n",
              "    <tr>\n",
              "      <th>3</th>\n",
              "      <td>1631687699</td>\n",
              "      <td>35.157140</td>\n",
              "      <td>136.926306</td>\n",
              "      <td>1</td>\n",
              "      <td>11</td>\n",
              "      <td>-41</td>\n",
              "      <td>35.157320</td>\n",
              "      <td>136.926447</td>\n",
              "      <td>0.0</td>\n",
              "      <td>1</td>\n",
              "      <td>25.439033</td>\n",
              "      <td>-41.0</td>\n",
              "    </tr>\n",
              "    <tr>\n",
              "      <th>4</th>\n",
              "      <td>1631687700</td>\n",
              "      <td>35.157140</td>\n",
              "      <td>136.926306</td>\n",
              "      <td>1</td>\n",
              "      <td>11</td>\n",
              "      <td>-41</td>\n",
              "      <td>35.157320</td>\n",
              "      <td>136.926447</td>\n",
              "      <td>0.0</td>\n",
              "      <td>1</td>\n",
              "      <td>25.439033</td>\n",
              "      <td>-41.0</td>\n",
              "    </tr>\n",
              "    <tr>\n",
              "      <th>...</th>\n",
              "      <td>...</td>\n",
              "      <td>...</td>\n",
              "      <td>...</td>\n",
              "      <td>...</td>\n",
              "      <td>...</td>\n",
              "      <td>...</td>\n",
              "      <td>...</td>\n",
              "      <td>...</td>\n",
              "      <td>...</td>\n",
              "      <td>...</td>\n",
              "      <td>...</td>\n",
              "      <td>...</td>\n",
              "    </tr>\n",
              "    <tr>\n",
              "      <th>1071</th>\n",
              "      <td>1631688759</td>\n",
              "      <td>35.157236</td>\n",
              "      <td>136.926489</td>\n",
              "      <td>4</td>\n",
              "      <td>1</td>\n",
              "      <td>-52</td>\n",
              "      <td>35.157165</td>\n",
              "      <td>136.926470</td>\n",
              "      <td>0.0</td>\n",
              "      <td>1</td>\n",
              "      <td>8.152950</td>\n",
              "      <td>-52.0</td>\n",
              "    </tr>\n",
              "    <tr>\n",
              "      <th>1072</th>\n",
              "      <td>1631688760</td>\n",
              "      <td>35.157236</td>\n",
              "      <td>136.926489</td>\n",
              "      <td>4</td>\n",
              "      <td>1</td>\n",
              "      <td>-52</td>\n",
              "      <td>35.157165</td>\n",
              "      <td>136.926470</td>\n",
              "      <td>0.0</td>\n",
              "      <td>1</td>\n",
              "      <td>8.152950</td>\n",
              "      <td>-52.0</td>\n",
              "    </tr>\n",
              "    <tr>\n",
              "      <th>1073</th>\n",
              "      <td>1631688761</td>\n",
              "      <td>35.157236</td>\n",
              "      <td>136.926489</td>\n",
              "      <td>4</td>\n",
              "      <td>1</td>\n",
              "      <td>-52</td>\n",
              "      <td>35.157165</td>\n",
              "      <td>136.926470</td>\n",
              "      <td>0.0</td>\n",
              "      <td>1</td>\n",
              "      <td>8.152950</td>\n",
              "      <td>-52.0</td>\n",
              "    </tr>\n",
              "    <tr>\n",
              "      <th>1074</th>\n",
              "      <td>1631688762</td>\n",
              "      <td>35.157236</td>\n",
              "      <td>136.926489</td>\n",
              "      <td>4</td>\n",
              "      <td>1</td>\n",
              "      <td>-52</td>\n",
              "      <td>35.157165</td>\n",
              "      <td>136.926470</td>\n",
              "      <td>0.0</td>\n",
              "      <td>1</td>\n",
              "      <td>8.152950</td>\n",
              "      <td>-52.0</td>\n",
              "    </tr>\n",
              "    <tr>\n",
              "      <th>1075</th>\n",
              "      <td>1631688763</td>\n",
              "      <td>35.157236</td>\n",
              "      <td>136.926489</td>\n",
              "      <td>4</td>\n",
              "      <td>1</td>\n",
              "      <td>-52</td>\n",
              "      <td>35.157165</td>\n",
              "      <td>136.926470</td>\n",
              "      <td>0.0</td>\n",
              "      <td>1</td>\n",
              "      <td>8.152950</td>\n",
              "      <td>-52.0</td>\n",
              "    </tr>\n",
              "  </tbody>\n",
              "</table>\n",
              "<p>1059 rows × 12 columns</p>\n",
              "</div>"
            ],
            "text/plain": [
              "      TimeStamp(UNIX)  Latitude_OP  ...   Distance  Moving Average (RSSI)\n",
              "0          1631687696    35.157140  ...  25.439033                  -41.0\n",
              "1          1631687697    35.157140  ...  25.439033                  -41.0\n",
              "2          1631687698    35.157140  ...  25.439033                  -41.0\n",
              "3          1631687699    35.157140  ...  25.439033                  -41.0\n",
              "4          1631687700    35.157140  ...  25.439033                  -41.0\n",
              "...               ...          ...  ...        ...                    ...\n",
              "1071       1631688759    35.157236  ...   8.152950                  -52.0\n",
              "1072       1631688760    35.157236  ...   8.152950                  -52.0\n",
              "1073       1631688761    35.157236  ...   8.152950                  -52.0\n",
              "1074       1631688762    35.157236  ...   8.152950                  -52.0\n",
              "1075       1631688763    35.157236  ...   8.152950                  -52.0\n",
              "\n",
              "[1059 rows x 12 columns]"
            ]
          },
          "metadata": {},
          "execution_count": 117
        }
      ]
    },
    {
      "cell_type": "code",
      "metadata": {
        "id": "PoeOGVgzvPxo"
      },
      "source": [
        "train[\"RSSI_AAA001\"] = np.where(train['SSID'] == 1, train[\"RSSI(dBm)\"], \"\")\n",
        "train[\"RSSI_AAA002\"] = np.where(train['SSID'] == 2, train[\"RSSI(dBm)\"], \"\")\n",
        "train[\"RSSI_AAA003\"] = np.where(train['SSID'] == 3, train[\"RSSI(dBm)\"], \"\")\n",
        "train[\"RSSI_AAA004\"] = np.where(train['SSID'] == 4, train[\"RSSI(dBm)\"], \"\")"
      ],
      "execution_count": 118,
      "outputs": []
    },
    {
      "cell_type": "code",
      "metadata": {
        "id": "TvPz_1arvmdJ"
      },
      "source": [
        "train.drop(['SSID','RSSI(dBm)'],axis=1,inplace=True)"
      ],
      "execution_count": 119,
      "outputs": []
    },
    {
      "cell_type": "code",
      "metadata": {
        "colab": {
          "base_uri": "https://localhost:8080/",
          "height": 424
        },
        "id": "lxA2X5YrwfIy",
        "outputId": "f2a3f69a-0e5a-4d08-c74a-3915bcda538b"
      },
      "source": [
        "train"
      ],
      "execution_count": 120,
      "outputs": [
        {
          "output_type": "execute_result",
          "data": {
            "text/html": [
              "<div>\n",
              "<style scoped>\n",
              "    .dataframe tbody tr th:only-of-type {\n",
              "        vertical-align: middle;\n",
              "    }\n",
              "\n",
              "    .dataframe tbody tr th {\n",
              "        vertical-align: top;\n",
              "    }\n",
              "\n",
              "    .dataframe thead th {\n",
              "        text-align: right;\n",
              "    }\n",
              "</style>\n",
              "<table border=\"1\" class=\"dataframe\">\n",
              "  <thead>\n",
              "    <tr style=\"text-align: right;\">\n",
              "      <th></th>\n",
              "      <th>TimeStamp(UNIX)</th>\n",
              "      <th>Latitude</th>\n",
              "      <th>Longitude</th>\n",
              "      <th>Channel</th>\n",
              "      <th>RSSI_AAA001</th>\n",
              "      <th>RSSI_AAA002</th>\n",
              "      <th>RSSI_AAA003</th>\n",
              "      <th>RSSI_AAA004</th>\n",
              "    </tr>\n",
              "  </thead>\n",
              "  <tbody>\n",
              "    <tr>\n",
              "      <th>0</th>\n",
              "      <td>1631687696</td>\n",
              "      <td>35.157140</td>\n",
              "      <td>136.926306</td>\n",
              "      <td>11</td>\n",
              "      <td>-41</td>\n",
              "      <td></td>\n",
              "      <td></td>\n",
              "      <td></td>\n",
              "    </tr>\n",
              "    <tr>\n",
              "      <th>1</th>\n",
              "      <td>1631687697</td>\n",
              "      <td>35.157140</td>\n",
              "      <td>136.926306</td>\n",
              "      <td>11</td>\n",
              "      <td>-41</td>\n",
              "      <td></td>\n",
              "      <td></td>\n",
              "      <td></td>\n",
              "    </tr>\n",
              "    <tr>\n",
              "      <th>2</th>\n",
              "      <td>1631687698</td>\n",
              "      <td>35.157140</td>\n",
              "      <td>136.926306</td>\n",
              "      <td>11</td>\n",
              "      <td>-41</td>\n",
              "      <td></td>\n",
              "      <td></td>\n",
              "      <td></td>\n",
              "    </tr>\n",
              "    <tr>\n",
              "      <th>3</th>\n",
              "      <td>1631687699</td>\n",
              "      <td>35.157140</td>\n",
              "      <td>136.926306</td>\n",
              "      <td>11</td>\n",
              "      <td>-41</td>\n",
              "      <td></td>\n",
              "      <td></td>\n",
              "      <td></td>\n",
              "    </tr>\n",
              "    <tr>\n",
              "      <th>4</th>\n",
              "      <td>1631687700</td>\n",
              "      <td>35.157140</td>\n",
              "      <td>136.926306</td>\n",
              "      <td>11</td>\n",
              "      <td>-41</td>\n",
              "      <td></td>\n",
              "      <td></td>\n",
              "      <td></td>\n",
              "    </tr>\n",
              "    <tr>\n",
              "      <th>...</th>\n",
              "      <td>...</td>\n",
              "      <td>...</td>\n",
              "      <td>...</td>\n",
              "      <td>...</td>\n",
              "      <td>...</td>\n",
              "      <td>...</td>\n",
              "      <td>...</td>\n",
              "      <td>...</td>\n",
              "    </tr>\n",
              "    <tr>\n",
              "      <th>1071</th>\n",
              "      <td>1631688759</td>\n",
              "      <td>35.157236</td>\n",
              "      <td>136.926489</td>\n",
              "      <td>1</td>\n",
              "      <td></td>\n",
              "      <td></td>\n",
              "      <td></td>\n",
              "      <td>-52</td>\n",
              "    </tr>\n",
              "    <tr>\n",
              "      <th>1072</th>\n",
              "      <td>1631688760</td>\n",
              "      <td>35.157236</td>\n",
              "      <td>136.926489</td>\n",
              "      <td>1</td>\n",
              "      <td></td>\n",
              "      <td></td>\n",
              "      <td></td>\n",
              "      <td>-52</td>\n",
              "    </tr>\n",
              "    <tr>\n",
              "      <th>1073</th>\n",
              "      <td>1631688761</td>\n",
              "      <td>35.157236</td>\n",
              "      <td>136.926489</td>\n",
              "      <td>1</td>\n",
              "      <td></td>\n",
              "      <td></td>\n",
              "      <td></td>\n",
              "      <td>-52</td>\n",
              "    </tr>\n",
              "    <tr>\n",
              "      <th>1074</th>\n",
              "      <td>1631688762</td>\n",
              "      <td>35.157236</td>\n",
              "      <td>136.926489</td>\n",
              "      <td>1</td>\n",
              "      <td></td>\n",
              "      <td></td>\n",
              "      <td></td>\n",
              "      <td>-52</td>\n",
              "    </tr>\n",
              "    <tr>\n",
              "      <th>1075</th>\n",
              "      <td>1631688763</td>\n",
              "      <td>35.157236</td>\n",
              "      <td>136.926489</td>\n",
              "      <td>1</td>\n",
              "      <td></td>\n",
              "      <td></td>\n",
              "      <td></td>\n",
              "      <td>-52</td>\n",
              "    </tr>\n",
              "  </tbody>\n",
              "</table>\n",
              "<p>1076 rows × 8 columns</p>\n",
              "</div>"
            ],
            "text/plain": [
              "      TimeStamp(UNIX)   Latitude  ...  RSSI_AAA003  RSSI_AAA004\n",
              "0          1631687696  35.157140  ...                          \n",
              "1          1631687697  35.157140  ...                          \n",
              "2          1631687698  35.157140  ...                          \n",
              "3          1631687699  35.157140  ...                          \n",
              "4          1631687700  35.157140  ...                          \n",
              "...               ...        ...  ...          ...          ...\n",
              "1071       1631688759  35.157236  ...                       -52\n",
              "1072       1631688760  35.157236  ...                       -52\n",
              "1073       1631688761  35.157236  ...                       -52\n",
              "1074       1631688762  35.157236  ...                       -52\n",
              "1075       1631688763  35.157236  ...                       -52\n",
              "\n",
              "[1076 rows x 8 columns]"
            ]
          },
          "metadata": {},
          "execution_count": 120
        }
      ]
    },
    {
      "cell_type": "code",
      "metadata": {
        "colab": {
          "base_uri": "https://localhost:8080/",
          "height": 441
        },
        "id": "WV8KCwfRwqtO",
        "outputId": "6a8c7fac-bcc0-4061-af34-41efce5b89d0"
      },
      "source": [
        "train_semi"
      ],
      "execution_count": 121,
      "outputs": [
        {
          "output_type": "execute_result",
          "data": {
            "text/html": [
              "<div>\n",
              "<style scoped>\n",
              "    .dataframe tbody tr th:only-of-type {\n",
              "        vertical-align: middle;\n",
              "    }\n",
              "\n",
              "    .dataframe tbody tr th {\n",
              "        vertical-align: top;\n",
              "    }\n",
              "\n",
              "    .dataframe thead th {\n",
              "        text-align: right;\n",
              "    }\n",
              "</style>\n",
              "<table border=\"1\" class=\"dataframe\">\n",
              "  <thead>\n",
              "    <tr style=\"text-align: right;\">\n",
              "      <th></th>\n",
              "      <th>TimeStamp(UNIX)</th>\n",
              "      <th>Latitude_OP</th>\n",
              "      <th>Longitude_OP</th>\n",
              "      <th>SSID</th>\n",
              "      <th>Channel</th>\n",
              "      <th>RSSI(dBm)</th>\n",
              "      <th>Latitude_AP</th>\n",
              "      <th>Longitude_AP</th>\n",
              "      <th>Hight Difference(m)</th>\n",
              "      <th>Outdoor</th>\n",
              "      <th>Distance</th>\n",
              "      <th>Moving Average (RSSI)</th>\n",
              "    </tr>\n",
              "  </thead>\n",
              "  <tbody>\n",
              "    <tr>\n",
              "      <th>0</th>\n",
              "      <td>1631687696</td>\n",
              "      <td>35.157140</td>\n",
              "      <td>136.926306</td>\n",
              "      <td>1</td>\n",
              "      <td>11</td>\n",
              "      <td>-41</td>\n",
              "      <td>35.157320</td>\n",
              "      <td>136.926447</td>\n",
              "      <td>0.0</td>\n",
              "      <td>1</td>\n",
              "      <td>25.439033</td>\n",
              "      <td>-41.0</td>\n",
              "    </tr>\n",
              "    <tr>\n",
              "      <th>1</th>\n",
              "      <td>1631687697</td>\n",
              "      <td>35.157140</td>\n",
              "      <td>136.926306</td>\n",
              "      <td>1</td>\n",
              "      <td>11</td>\n",
              "      <td>-41</td>\n",
              "      <td>35.157320</td>\n",
              "      <td>136.926447</td>\n",
              "      <td>0.0</td>\n",
              "      <td>1</td>\n",
              "      <td>25.439033</td>\n",
              "      <td>-41.0</td>\n",
              "    </tr>\n",
              "    <tr>\n",
              "      <th>2</th>\n",
              "      <td>1631687698</td>\n",
              "      <td>35.157140</td>\n",
              "      <td>136.926306</td>\n",
              "      <td>1</td>\n",
              "      <td>11</td>\n",
              "      <td>-41</td>\n",
              "      <td>35.157320</td>\n",
              "      <td>136.926447</td>\n",
              "      <td>0.0</td>\n",
              "      <td>1</td>\n",
              "      <td>25.439033</td>\n",
              "      <td>-41.0</td>\n",
              "    </tr>\n",
              "    <tr>\n",
              "      <th>3</th>\n",
              "      <td>1631687699</td>\n",
              "      <td>35.157140</td>\n",
              "      <td>136.926306</td>\n",
              "      <td>1</td>\n",
              "      <td>11</td>\n",
              "      <td>-41</td>\n",
              "      <td>35.157320</td>\n",
              "      <td>136.926447</td>\n",
              "      <td>0.0</td>\n",
              "      <td>1</td>\n",
              "      <td>25.439033</td>\n",
              "      <td>-41.0</td>\n",
              "    </tr>\n",
              "    <tr>\n",
              "      <th>4</th>\n",
              "      <td>1631687700</td>\n",
              "      <td>35.157140</td>\n",
              "      <td>136.926306</td>\n",
              "      <td>1</td>\n",
              "      <td>11</td>\n",
              "      <td>-41</td>\n",
              "      <td>35.157320</td>\n",
              "      <td>136.926447</td>\n",
              "      <td>0.0</td>\n",
              "      <td>1</td>\n",
              "      <td>25.439033</td>\n",
              "      <td>-41.0</td>\n",
              "    </tr>\n",
              "    <tr>\n",
              "      <th>...</th>\n",
              "      <td>...</td>\n",
              "      <td>...</td>\n",
              "      <td>...</td>\n",
              "      <td>...</td>\n",
              "      <td>...</td>\n",
              "      <td>...</td>\n",
              "      <td>...</td>\n",
              "      <td>...</td>\n",
              "      <td>...</td>\n",
              "      <td>...</td>\n",
              "      <td>...</td>\n",
              "      <td>...</td>\n",
              "    </tr>\n",
              "    <tr>\n",
              "      <th>1071</th>\n",
              "      <td>1631688759</td>\n",
              "      <td>35.157236</td>\n",
              "      <td>136.926489</td>\n",
              "      <td>4</td>\n",
              "      <td>1</td>\n",
              "      <td>-52</td>\n",
              "      <td>35.157165</td>\n",
              "      <td>136.926470</td>\n",
              "      <td>0.0</td>\n",
              "      <td>1</td>\n",
              "      <td>8.152950</td>\n",
              "      <td>-52.0</td>\n",
              "    </tr>\n",
              "    <tr>\n",
              "      <th>1072</th>\n",
              "      <td>1631688760</td>\n",
              "      <td>35.157236</td>\n",
              "      <td>136.926489</td>\n",
              "      <td>4</td>\n",
              "      <td>1</td>\n",
              "      <td>-52</td>\n",
              "      <td>35.157165</td>\n",
              "      <td>136.926470</td>\n",
              "      <td>0.0</td>\n",
              "      <td>1</td>\n",
              "      <td>8.152950</td>\n",
              "      <td>-52.0</td>\n",
              "    </tr>\n",
              "    <tr>\n",
              "      <th>1073</th>\n",
              "      <td>1631688761</td>\n",
              "      <td>35.157236</td>\n",
              "      <td>136.926489</td>\n",
              "      <td>4</td>\n",
              "      <td>1</td>\n",
              "      <td>-52</td>\n",
              "      <td>35.157165</td>\n",
              "      <td>136.926470</td>\n",
              "      <td>0.0</td>\n",
              "      <td>1</td>\n",
              "      <td>8.152950</td>\n",
              "      <td>-52.0</td>\n",
              "    </tr>\n",
              "    <tr>\n",
              "      <th>1074</th>\n",
              "      <td>1631688762</td>\n",
              "      <td>35.157236</td>\n",
              "      <td>136.926489</td>\n",
              "      <td>4</td>\n",
              "      <td>1</td>\n",
              "      <td>-52</td>\n",
              "      <td>35.157165</td>\n",
              "      <td>136.926470</td>\n",
              "      <td>0.0</td>\n",
              "      <td>1</td>\n",
              "      <td>8.152950</td>\n",
              "      <td>-52.0</td>\n",
              "    </tr>\n",
              "    <tr>\n",
              "      <th>1075</th>\n",
              "      <td>1631688763</td>\n",
              "      <td>35.157236</td>\n",
              "      <td>136.926489</td>\n",
              "      <td>4</td>\n",
              "      <td>1</td>\n",
              "      <td>-52</td>\n",
              "      <td>35.157165</td>\n",
              "      <td>136.926470</td>\n",
              "      <td>0.0</td>\n",
              "      <td>1</td>\n",
              "      <td>8.152950</td>\n",
              "      <td>-52.0</td>\n",
              "    </tr>\n",
              "  </tbody>\n",
              "</table>\n",
              "<p>1076 rows × 12 columns</p>\n",
              "</div>"
            ],
            "text/plain": [
              "      TimeStamp(UNIX)  Latitude_OP  ...   Distance  Moving Average (RSSI)\n",
              "0          1631687696    35.157140  ...  25.439033                  -41.0\n",
              "1          1631687697    35.157140  ...  25.439033                  -41.0\n",
              "2          1631687698    35.157140  ...  25.439033                  -41.0\n",
              "3          1631687699    35.157140  ...  25.439033                  -41.0\n",
              "4          1631687700    35.157140  ...  25.439033                  -41.0\n",
              "...               ...          ...  ...        ...                    ...\n",
              "1071       1631688759    35.157236  ...   8.152950                  -52.0\n",
              "1072       1631688760    35.157236  ...   8.152950                  -52.0\n",
              "1073       1631688761    35.157236  ...   8.152950                  -52.0\n",
              "1074       1631688762    35.157236  ...   8.152950                  -52.0\n",
              "1075       1631688763    35.157236  ...   8.152950                  -52.0\n",
              "\n",
              "[1076 rows x 12 columns]"
            ]
          },
          "metadata": {},
          "execution_count": 121
        }
      ]
    },
    {
      "cell_type": "code",
      "metadata": {
        "id": "BqGmrNzQFIeO"
      },
      "source": [
        "train_semi = pd.concat([train_semi,pd.get_dummies(train_semi['SSID'])], axis=1, join='inner').drop(columns=['SSID'])\n",
        "test_semi = pd.concat([test_semi,pd.get_dummies(test_semi['SSID'])], axis=1, join='inner').drop(columns=['SSID'])"
      ],
      "execution_count": 122,
      "outputs": []
    },
    {
      "cell_type": "code",
      "metadata": {
        "colab": {
          "base_uri": "https://localhost:8080/",
          "height": 458
        },
        "id": "d2x9TR5xBE8l",
        "outputId": "96a97652-cc4d-4481-c92f-027630d6e838"
      },
      "source": [
        "train_semi"
      ],
      "execution_count": 123,
      "outputs": [
        {
          "output_type": "execute_result",
          "data": {
            "text/html": [
              "<div>\n",
              "<style scoped>\n",
              "    .dataframe tbody tr th:only-of-type {\n",
              "        vertical-align: middle;\n",
              "    }\n",
              "\n",
              "    .dataframe tbody tr th {\n",
              "        vertical-align: top;\n",
              "    }\n",
              "\n",
              "    .dataframe thead th {\n",
              "        text-align: right;\n",
              "    }\n",
              "</style>\n",
              "<table border=\"1\" class=\"dataframe\">\n",
              "  <thead>\n",
              "    <tr style=\"text-align: right;\">\n",
              "      <th></th>\n",
              "      <th>TimeStamp(UNIX)</th>\n",
              "      <th>Latitude_OP</th>\n",
              "      <th>Longitude_OP</th>\n",
              "      <th>Channel</th>\n",
              "      <th>RSSI(dBm)</th>\n",
              "      <th>Latitude_AP</th>\n",
              "      <th>Longitude_AP</th>\n",
              "      <th>Hight Difference(m)</th>\n",
              "      <th>Outdoor</th>\n",
              "      <th>Distance</th>\n",
              "      <th>Moving Average (RSSI)</th>\n",
              "      <th>1</th>\n",
              "      <th>2</th>\n",
              "      <th>3</th>\n",
              "      <th>4</th>\n",
              "    </tr>\n",
              "  </thead>\n",
              "  <tbody>\n",
              "    <tr>\n",
              "      <th>0</th>\n",
              "      <td>1631687696</td>\n",
              "      <td>35.157140</td>\n",
              "      <td>136.926306</td>\n",
              "      <td>11</td>\n",
              "      <td>-41</td>\n",
              "      <td>35.157320</td>\n",
              "      <td>136.926447</td>\n",
              "      <td>0.0</td>\n",
              "      <td>1</td>\n",
              "      <td>25.439033</td>\n",
              "      <td>-41.0</td>\n",
              "      <td>1</td>\n",
              "      <td>0</td>\n",
              "      <td>0</td>\n",
              "      <td>0</td>\n",
              "    </tr>\n",
              "    <tr>\n",
              "      <th>1</th>\n",
              "      <td>1631687697</td>\n",
              "      <td>35.157140</td>\n",
              "      <td>136.926306</td>\n",
              "      <td>11</td>\n",
              "      <td>-41</td>\n",
              "      <td>35.157320</td>\n",
              "      <td>136.926447</td>\n",
              "      <td>0.0</td>\n",
              "      <td>1</td>\n",
              "      <td>25.439033</td>\n",
              "      <td>-41.0</td>\n",
              "      <td>1</td>\n",
              "      <td>0</td>\n",
              "      <td>0</td>\n",
              "      <td>0</td>\n",
              "    </tr>\n",
              "    <tr>\n",
              "      <th>2</th>\n",
              "      <td>1631687698</td>\n",
              "      <td>35.157140</td>\n",
              "      <td>136.926306</td>\n",
              "      <td>11</td>\n",
              "      <td>-41</td>\n",
              "      <td>35.157320</td>\n",
              "      <td>136.926447</td>\n",
              "      <td>0.0</td>\n",
              "      <td>1</td>\n",
              "      <td>25.439033</td>\n",
              "      <td>-41.0</td>\n",
              "      <td>1</td>\n",
              "      <td>0</td>\n",
              "      <td>0</td>\n",
              "      <td>0</td>\n",
              "    </tr>\n",
              "    <tr>\n",
              "      <th>3</th>\n",
              "      <td>1631687699</td>\n",
              "      <td>35.157140</td>\n",
              "      <td>136.926306</td>\n",
              "      <td>11</td>\n",
              "      <td>-41</td>\n",
              "      <td>35.157320</td>\n",
              "      <td>136.926447</td>\n",
              "      <td>0.0</td>\n",
              "      <td>1</td>\n",
              "      <td>25.439033</td>\n",
              "      <td>-41.0</td>\n",
              "      <td>1</td>\n",
              "      <td>0</td>\n",
              "      <td>0</td>\n",
              "      <td>0</td>\n",
              "    </tr>\n",
              "    <tr>\n",
              "      <th>4</th>\n",
              "      <td>1631687700</td>\n",
              "      <td>35.157140</td>\n",
              "      <td>136.926306</td>\n",
              "      <td>11</td>\n",
              "      <td>-41</td>\n",
              "      <td>35.157320</td>\n",
              "      <td>136.926447</td>\n",
              "      <td>0.0</td>\n",
              "      <td>1</td>\n",
              "      <td>25.439033</td>\n",
              "      <td>-41.0</td>\n",
              "      <td>1</td>\n",
              "      <td>0</td>\n",
              "      <td>0</td>\n",
              "      <td>0</td>\n",
              "    </tr>\n",
              "    <tr>\n",
              "      <th>...</th>\n",
              "      <td>...</td>\n",
              "      <td>...</td>\n",
              "      <td>...</td>\n",
              "      <td>...</td>\n",
              "      <td>...</td>\n",
              "      <td>...</td>\n",
              "      <td>...</td>\n",
              "      <td>...</td>\n",
              "      <td>...</td>\n",
              "      <td>...</td>\n",
              "      <td>...</td>\n",
              "      <td>...</td>\n",
              "      <td>...</td>\n",
              "      <td>...</td>\n",
              "      <td>...</td>\n",
              "    </tr>\n",
              "    <tr>\n",
              "      <th>1071</th>\n",
              "      <td>1631688759</td>\n",
              "      <td>35.157236</td>\n",
              "      <td>136.926489</td>\n",
              "      <td>1</td>\n",
              "      <td>-52</td>\n",
              "      <td>35.157165</td>\n",
              "      <td>136.926470</td>\n",
              "      <td>0.0</td>\n",
              "      <td>1</td>\n",
              "      <td>8.152950</td>\n",
              "      <td>-52.0</td>\n",
              "      <td>0</td>\n",
              "      <td>0</td>\n",
              "      <td>0</td>\n",
              "      <td>1</td>\n",
              "    </tr>\n",
              "    <tr>\n",
              "      <th>1072</th>\n",
              "      <td>1631688760</td>\n",
              "      <td>35.157236</td>\n",
              "      <td>136.926489</td>\n",
              "      <td>1</td>\n",
              "      <td>-52</td>\n",
              "      <td>35.157165</td>\n",
              "      <td>136.926470</td>\n",
              "      <td>0.0</td>\n",
              "      <td>1</td>\n",
              "      <td>8.152950</td>\n",
              "      <td>-52.0</td>\n",
              "      <td>0</td>\n",
              "      <td>0</td>\n",
              "      <td>0</td>\n",
              "      <td>1</td>\n",
              "    </tr>\n",
              "    <tr>\n",
              "      <th>1073</th>\n",
              "      <td>1631688761</td>\n",
              "      <td>35.157236</td>\n",
              "      <td>136.926489</td>\n",
              "      <td>1</td>\n",
              "      <td>-52</td>\n",
              "      <td>35.157165</td>\n",
              "      <td>136.926470</td>\n",
              "      <td>0.0</td>\n",
              "      <td>1</td>\n",
              "      <td>8.152950</td>\n",
              "      <td>-52.0</td>\n",
              "      <td>0</td>\n",
              "      <td>0</td>\n",
              "      <td>0</td>\n",
              "      <td>1</td>\n",
              "    </tr>\n",
              "    <tr>\n",
              "      <th>1074</th>\n",
              "      <td>1631688762</td>\n",
              "      <td>35.157236</td>\n",
              "      <td>136.926489</td>\n",
              "      <td>1</td>\n",
              "      <td>-52</td>\n",
              "      <td>35.157165</td>\n",
              "      <td>136.926470</td>\n",
              "      <td>0.0</td>\n",
              "      <td>1</td>\n",
              "      <td>8.152950</td>\n",
              "      <td>-52.0</td>\n",
              "      <td>0</td>\n",
              "      <td>0</td>\n",
              "      <td>0</td>\n",
              "      <td>1</td>\n",
              "    </tr>\n",
              "    <tr>\n",
              "      <th>1075</th>\n",
              "      <td>1631688763</td>\n",
              "      <td>35.157236</td>\n",
              "      <td>136.926489</td>\n",
              "      <td>1</td>\n",
              "      <td>-52</td>\n",
              "      <td>35.157165</td>\n",
              "      <td>136.926470</td>\n",
              "      <td>0.0</td>\n",
              "      <td>1</td>\n",
              "      <td>8.152950</td>\n",
              "      <td>-52.0</td>\n",
              "      <td>0</td>\n",
              "      <td>0</td>\n",
              "      <td>0</td>\n",
              "      <td>1</td>\n",
              "    </tr>\n",
              "  </tbody>\n",
              "</table>\n",
              "<p>1076 rows × 15 columns</p>\n",
              "</div>"
            ],
            "text/plain": [
              "      TimeStamp(UNIX)  Latitude_OP  Longitude_OP  Channel  ...  1  2  3  4\n",
              "0          1631687696    35.157140    136.926306       11  ...  1  0  0  0\n",
              "1          1631687697    35.157140    136.926306       11  ...  1  0  0  0\n",
              "2          1631687698    35.157140    136.926306       11  ...  1  0  0  0\n",
              "3          1631687699    35.157140    136.926306       11  ...  1  0  0  0\n",
              "4          1631687700    35.157140    136.926306       11  ...  1  0  0  0\n",
              "...               ...          ...           ...      ...  ... .. .. .. ..\n",
              "1071       1631688759    35.157236    136.926489        1  ...  0  0  0  1\n",
              "1072       1631688760    35.157236    136.926489        1  ...  0  0  0  1\n",
              "1073       1631688761    35.157236    136.926489        1  ...  0  0  0  1\n",
              "1074       1631688762    35.157236    136.926489        1  ...  0  0  0  1\n",
              "1075       1631688763    35.157236    136.926489        1  ...  0  0  0  1\n",
              "\n",
              "[1076 rows x 15 columns]"
            ]
          },
          "metadata": {},
          "execution_count": 123
        }
      ]
    },
    {
      "cell_type": "code",
      "metadata": {
        "colab": {
          "base_uri": "https://localhost:8080/",
          "height": 458
        },
        "id": "3AGg8gtXBGeA",
        "outputId": "a9b7d7a7-2680-446d-f0ff-3dcd58d2eb69"
      },
      "source": [
        "test_semi"
      ],
      "execution_count": 124,
      "outputs": [
        {
          "output_type": "execute_result",
          "data": {
            "text/html": [
              "<div>\n",
              "<style scoped>\n",
              "    .dataframe tbody tr th:only-of-type {\n",
              "        vertical-align: middle;\n",
              "    }\n",
              "\n",
              "    .dataframe tbody tr th {\n",
              "        vertical-align: top;\n",
              "    }\n",
              "\n",
              "    .dataframe thead th {\n",
              "        text-align: right;\n",
              "    }\n",
              "</style>\n",
              "<table border=\"1\" class=\"dataframe\">\n",
              "  <thead>\n",
              "    <tr style=\"text-align: right;\">\n",
              "      <th></th>\n",
              "      <th>TimeStamp(UNIX)</th>\n",
              "      <th>Latitude_OP</th>\n",
              "      <th>Longitude_OP</th>\n",
              "      <th>Channel</th>\n",
              "      <th>RSSI(dBm)</th>\n",
              "      <th>Latitude_AP</th>\n",
              "      <th>Longitude_AP</th>\n",
              "      <th>Hight Difference(m)</th>\n",
              "      <th>Outdoor</th>\n",
              "      <th>Distance</th>\n",
              "      <th>Moving Average (RSSI)</th>\n",
              "      <th>1</th>\n",
              "      <th>2</th>\n",
              "      <th>3</th>\n",
              "      <th>4</th>\n",
              "    </tr>\n",
              "  </thead>\n",
              "  <tbody>\n",
              "    <tr>\n",
              "      <th>0</th>\n",
              "      <td>1631689137</td>\n",
              "      <td>35.157261</td>\n",
              "      <td>136.926465</td>\n",
              "      <td>11</td>\n",
              "      <td>-41</td>\n",
              "      <td>35.157320</td>\n",
              "      <td>136.926447</td>\n",
              "      <td>0.0</td>\n",
              "      <td>1</td>\n",
              "      <td>6.906728</td>\n",
              "      <td>-41.0</td>\n",
              "      <td>1</td>\n",
              "      <td>0</td>\n",
              "      <td>0</td>\n",
              "      <td>0</td>\n",
              "    </tr>\n",
              "    <tr>\n",
              "      <th>1</th>\n",
              "      <td>1631689138</td>\n",
              "      <td>35.157261</td>\n",
              "      <td>136.926465</td>\n",
              "      <td>11</td>\n",
              "      <td>-41</td>\n",
              "      <td>35.157320</td>\n",
              "      <td>136.926447</td>\n",
              "      <td>0.0</td>\n",
              "      <td>1</td>\n",
              "      <td>6.906728</td>\n",
              "      <td>-41.0</td>\n",
              "      <td>1</td>\n",
              "      <td>0</td>\n",
              "      <td>0</td>\n",
              "      <td>0</td>\n",
              "    </tr>\n",
              "    <tr>\n",
              "      <th>2</th>\n",
              "      <td>1631689139</td>\n",
              "      <td>35.157261</td>\n",
              "      <td>136.926465</td>\n",
              "      <td>11</td>\n",
              "      <td>-41</td>\n",
              "      <td>35.157320</td>\n",
              "      <td>136.926447</td>\n",
              "      <td>0.0</td>\n",
              "      <td>1</td>\n",
              "      <td>6.906728</td>\n",
              "      <td>-41.0</td>\n",
              "      <td>1</td>\n",
              "      <td>0</td>\n",
              "      <td>0</td>\n",
              "      <td>0</td>\n",
              "    </tr>\n",
              "    <tr>\n",
              "      <th>3</th>\n",
              "      <td>1631689140</td>\n",
              "      <td>35.157261</td>\n",
              "      <td>136.926465</td>\n",
              "      <td>11</td>\n",
              "      <td>-41</td>\n",
              "      <td>35.157320</td>\n",
              "      <td>136.926447</td>\n",
              "      <td>0.0</td>\n",
              "      <td>1</td>\n",
              "      <td>6.906728</td>\n",
              "      <td>-41.0</td>\n",
              "      <td>1</td>\n",
              "      <td>0</td>\n",
              "      <td>0</td>\n",
              "      <td>0</td>\n",
              "    </tr>\n",
              "    <tr>\n",
              "      <th>4</th>\n",
              "      <td>1631689141</td>\n",
              "      <td>35.157261</td>\n",
              "      <td>136.926465</td>\n",
              "      <td>11</td>\n",
              "      <td>-41</td>\n",
              "      <td>35.157320</td>\n",
              "      <td>136.926447</td>\n",
              "      <td>0.0</td>\n",
              "      <td>1</td>\n",
              "      <td>6.906728</td>\n",
              "      <td>-41.0</td>\n",
              "      <td>1</td>\n",
              "      <td>0</td>\n",
              "      <td>0</td>\n",
              "      <td>0</td>\n",
              "    </tr>\n",
              "    <tr>\n",
              "      <th>...</th>\n",
              "      <td>...</td>\n",
              "      <td>...</td>\n",
              "      <td>...</td>\n",
              "      <td>...</td>\n",
              "      <td>...</td>\n",
              "      <td>...</td>\n",
              "      <td>...</td>\n",
              "      <td>...</td>\n",
              "      <td>...</td>\n",
              "      <td>...</td>\n",
              "      <td>...</td>\n",
              "      <td>...</td>\n",
              "      <td>...</td>\n",
              "      <td>...</td>\n",
              "      <td>...</td>\n",
              "    </tr>\n",
              "    <tr>\n",
              "      <th>1096</th>\n",
              "      <td>1631691288</td>\n",
              "      <td>35.157298</td>\n",
              "      <td>136.926575</td>\n",
              "      <td>1</td>\n",
              "      <td>-59</td>\n",
              "      <td>35.157165</td>\n",
              "      <td>136.926470</td>\n",
              "      <td>0.0</td>\n",
              "      <td>1</td>\n",
              "      <td>18.773415</td>\n",
              "      <td>-59.0</td>\n",
              "      <td>0</td>\n",
              "      <td>0</td>\n",
              "      <td>0</td>\n",
              "      <td>1</td>\n",
              "    </tr>\n",
              "    <tr>\n",
              "      <th>1097</th>\n",
              "      <td>1631691289</td>\n",
              "      <td>35.157298</td>\n",
              "      <td>136.926575</td>\n",
              "      <td>1</td>\n",
              "      <td>-59</td>\n",
              "      <td>35.157165</td>\n",
              "      <td>136.926470</td>\n",
              "      <td>0.0</td>\n",
              "      <td>1</td>\n",
              "      <td>18.773415</td>\n",
              "      <td>-59.0</td>\n",
              "      <td>0</td>\n",
              "      <td>0</td>\n",
              "      <td>0</td>\n",
              "      <td>1</td>\n",
              "    </tr>\n",
              "    <tr>\n",
              "      <th>1098</th>\n",
              "      <td>1631691290</td>\n",
              "      <td>35.157298</td>\n",
              "      <td>136.926575</td>\n",
              "      <td>1</td>\n",
              "      <td>-59</td>\n",
              "      <td>35.157165</td>\n",
              "      <td>136.926470</td>\n",
              "      <td>0.0</td>\n",
              "      <td>1</td>\n",
              "      <td>18.773415</td>\n",
              "      <td>-59.0</td>\n",
              "      <td>0</td>\n",
              "      <td>0</td>\n",
              "      <td>0</td>\n",
              "      <td>1</td>\n",
              "    </tr>\n",
              "    <tr>\n",
              "      <th>1099</th>\n",
              "      <td>1631691291</td>\n",
              "      <td>35.157298</td>\n",
              "      <td>136.926575</td>\n",
              "      <td>1</td>\n",
              "      <td>-59</td>\n",
              "      <td>35.157165</td>\n",
              "      <td>136.926470</td>\n",
              "      <td>0.0</td>\n",
              "      <td>1</td>\n",
              "      <td>18.773415</td>\n",
              "      <td>-59.0</td>\n",
              "      <td>0</td>\n",
              "      <td>0</td>\n",
              "      <td>0</td>\n",
              "      <td>1</td>\n",
              "    </tr>\n",
              "    <tr>\n",
              "      <th>1100</th>\n",
              "      <td>1631691292</td>\n",
              "      <td>35.157298</td>\n",
              "      <td>136.926575</td>\n",
              "      <td>1</td>\n",
              "      <td>-59</td>\n",
              "      <td>35.157165</td>\n",
              "      <td>136.926470</td>\n",
              "      <td>0.0</td>\n",
              "      <td>1</td>\n",
              "      <td>18.773415</td>\n",
              "      <td>-59.0</td>\n",
              "      <td>0</td>\n",
              "      <td>0</td>\n",
              "      <td>0</td>\n",
              "      <td>1</td>\n",
              "    </tr>\n",
              "  </tbody>\n",
              "</table>\n",
              "<p>1101 rows × 15 columns</p>\n",
              "</div>"
            ],
            "text/plain": [
              "      TimeStamp(UNIX)  Latitude_OP  Longitude_OP  Channel  ...  1  2  3  4\n",
              "0          1631689137    35.157261    136.926465       11  ...  1  0  0  0\n",
              "1          1631689138    35.157261    136.926465       11  ...  1  0  0  0\n",
              "2          1631689139    35.157261    136.926465       11  ...  1  0  0  0\n",
              "3          1631689140    35.157261    136.926465       11  ...  1  0  0  0\n",
              "4          1631689141    35.157261    136.926465       11  ...  1  0  0  0\n",
              "...               ...          ...           ...      ...  ... .. .. .. ..\n",
              "1096       1631691288    35.157298    136.926575        1  ...  0  0  0  1\n",
              "1097       1631691289    35.157298    136.926575        1  ...  0  0  0  1\n",
              "1098       1631691290    35.157298    136.926575        1  ...  0  0  0  1\n",
              "1099       1631691291    35.157298    136.926575        1  ...  0  0  0  1\n",
              "1100       1631691292    35.157298    136.926575        1  ...  0  0  0  1\n",
              "\n",
              "[1101 rows x 15 columns]"
            ]
          },
          "metadata": {},
          "execution_count": 124
        }
      ]
    },
    {
      "cell_type": "markdown",
      "metadata": {
        "id": "uJam-KLXq9TY"
      },
      "source": [
        "##Models\n",
        "\n",
        "For model development we follow two main concepts\n",
        "1. RSSI Distance Estimation\n",
        "2. RSSI Fingerprinting\n",
        "\n",
        "### 1. RSSI Distance Estimation\n",
        "\n",
        "RSSI distance estimation is solely dependent on a clear correlation between distance and RSSI value. As mentioned previously clear correlation is not present, thereby giving us considerable distance error between the predicted location and actual location.\n",
        "\n",
        "For performing the same we have tried several algorithms, the following have yielded the best results:\n",
        "\n",
        "### (i) Linear Regression using Polynomial Features of Degree 2:\n",
        "\n",
        "\n",
        "Since from the formula of RSSI and distance :\n",
        "\n",
        "![picture](https://drive.google.com/uc?export=view&id=15tuh-QXcKEVx1P8EW9MuWRd_lJlTpywg)\n",
        "\n",
        "where n=2, an inverse square law exists between RSSI and distance, thereby motivating us to use the same.\n",
        "\n",
        "The following illustrate the results obtained:"
      ]
    },
    {
      "cell_type": "code",
      "metadata": {
        "id": "jHGCX79WSEB4"
      },
      "source": [
        "trainX_final = train_semi[['Latitude_AP', 'Longitude_AP', 'Channel', 'RSSI(dBm)', 'Hight Difference(m)', 'Outdoor', 'Moving Average (RSSI)', 1, 2, 3, 4]]\n",
        "trainY_final = train_semi[['Latitude_OP','Longitude_OP','Distance']]"
      ],
      "execution_count": 125,
      "outputs": []
    },
    {
      "cell_type": "code",
      "metadata": {
        "id": "MYy3GHsBT_jU"
      },
      "source": [
        "testX_final = test_semi[['Latitude_AP', 'Longitude_AP', 'Channel', 'RSSI(dBm)', 'Hight Difference(m)', 'Outdoor', 'Moving Average (RSSI)', 1, 2, 3, 4]]\n",
        "testY_final = test_semi[['Latitude_OP','Longitude_OP','Distance']]"
      ],
      "execution_count": 126,
      "outputs": []
    },
    {
      "cell_type": "code",
      "metadata": {
        "colab": {
          "base_uri": "https://localhost:8080/"
        },
        "id": "Aj75Nu1CBIco",
        "outputId": "34b0fccf-1282-4bbe-a32b-41779e0bf830"
      },
      "source": [
        "mm_scaler = MinMaxScaler()\n",
        "train_X = pd.DataFrame(mm_scaler.fit_transform(trainX_final),columns=['Latitude_AP', 'Longitude_AP', 'Channel', 'RSSI(dBm)', 'Hight Difference(m)', 'Outdoor', 'Moving Average (RSSI)', '1', '2', '3', '4'])\n",
        "test_X = pd.DataFrame(mm_scaler.transform(testX_final),columns=['Latitude_AP', 'Longitude_AP', 'Channel', 'RSSI(dBm)', 'Hight Difference(m)', 'Outdoor', 'Moving Average (RSSI)', '1', '2', '3', '4'])"
      ],
      "execution_count": 127,
      "outputs": [
        {
          "output_type": "stream",
          "name": "stderr",
          "text": [
            "/usr/local/lib/python3.7/dist-packages/sklearn/utils/validation.py:1679: FutureWarning: Feature names only support names that are all strings. Got feature names with dtypes: ['int', 'str']. An error will be raised in 1.2.\n",
            "  FutureWarning,\n",
            "/usr/local/lib/python3.7/dist-packages/sklearn/utils/validation.py:1679: FutureWarning: Feature names only support names that are all strings. Got feature names with dtypes: ['int', 'str']. An error will be raised in 1.2.\n",
            "  FutureWarning,\n",
            "/usr/local/lib/python3.7/dist-packages/sklearn/utils/validation.py:1679: FutureWarning: Feature names only support names that are all strings. Got feature names with dtypes: ['int', 'str']. An error will be raised in 1.2.\n",
            "  FutureWarning,\n"
          ]
        }
      ]
    },
    {
      "cell_type": "code",
      "metadata": {
        "colab": {
          "base_uri": "https://localhost:8080/",
          "height": 424
        },
        "id": "lRYr2GC9UMok",
        "outputId": "0febccdb-3ecf-4e7c-c98a-b0d171c5c321"
      },
      "source": [
        "trainX_final"
      ],
      "execution_count": 128,
      "outputs": [
        {
          "output_type": "execute_result",
          "data": {
            "text/html": [
              "<div>\n",
              "<style scoped>\n",
              "    .dataframe tbody tr th:only-of-type {\n",
              "        vertical-align: middle;\n",
              "    }\n",
              "\n",
              "    .dataframe tbody tr th {\n",
              "        vertical-align: top;\n",
              "    }\n",
              "\n",
              "    .dataframe thead th {\n",
              "        text-align: right;\n",
              "    }\n",
              "</style>\n",
              "<table border=\"1\" class=\"dataframe\">\n",
              "  <thead>\n",
              "    <tr style=\"text-align: right;\">\n",
              "      <th></th>\n",
              "      <th>Latitude_AP</th>\n",
              "      <th>Longitude_AP</th>\n",
              "      <th>Channel</th>\n",
              "      <th>RSSI(dBm)</th>\n",
              "      <th>Hight Difference(m)</th>\n",
              "      <th>Outdoor</th>\n",
              "      <th>Moving Average (RSSI)</th>\n",
              "      <th>1</th>\n",
              "      <th>2</th>\n",
              "      <th>3</th>\n",
              "      <th>4</th>\n",
              "    </tr>\n",
              "  </thead>\n",
              "  <tbody>\n",
              "    <tr>\n",
              "      <th>0</th>\n",
              "      <td>35.157320</td>\n",
              "      <td>136.926447</td>\n",
              "      <td>11</td>\n",
              "      <td>-41</td>\n",
              "      <td>0.0</td>\n",
              "      <td>1</td>\n",
              "      <td>-41.0</td>\n",
              "      <td>1</td>\n",
              "      <td>0</td>\n",
              "      <td>0</td>\n",
              "      <td>0</td>\n",
              "    </tr>\n",
              "    <tr>\n",
              "      <th>1</th>\n",
              "      <td>35.157320</td>\n",
              "      <td>136.926447</td>\n",
              "      <td>11</td>\n",
              "      <td>-41</td>\n",
              "      <td>0.0</td>\n",
              "      <td>1</td>\n",
              "      <td>-41.0</td>\n",
              "      <td>1</td>\n",
              "      <td>0</td>\n",
              "      <td>0</td>\n",
              "      <td>0</td>\n",
              "    </tr>\n",
              "    <tr>\n",
              "      <th>2</th>\n",
              "      <td>35.157320</td>\n",
              "      <td>136.926447</td>\n",
              "      <td>11</td>\n",
              "      <td>-41</td>\n",
              "      <td>0.0</td>\n",
              "      <td>1</td>\n",
              "      <td>-41.0</td>\n",
              "      <td>1</td>\n",
              "      <td>0</td>\n",
              "      <td>0</td>\n",
              "      <td>0</td>\n",
              "    </tr>\n",
              "    <tr>\n",
              "      <th>3</th>\n",
              "      <td>35.157320</td>\n",
              "      <td>136.926447</td>\n",
              "      <td>11</td>\n",
              "      <td>-41</td>\n",
              "      <td>0.0</td>\n",
              "      <td>1</td>\n",
              "      <td>-41.0</td>\n",
              "      <td>1</td>\n",
              "      <td>0</td>\n",
              "      <td>0</td>\n",
              "      <td>0</td>\n",
              "    </tr>\n",
              "    <tr>\n",
              "      <th>4</th>\n",
              "      <td>35.157320</td>\n",
              "      <td>136.926447</td>\n",
              "      <td>11</td>\n",
              "      <td>-41</td>\n",
              "      <td>0.0</td>\n",
              "      <td>1</td>\n",
              "      <td>-41.0</td>\n",
              "      <td>1</td>\n",
              "      <td>0</td>\n",
              "      <td>0</td>\n",
              "      <td>0</td>\n",
              "    </tr>\n",
              "    <tr>\n",
              "      <th>...</th>\n",
              "      <td>...</td>\n",
              "      <td>...</td>\n",
              "      <td>...</td>\n",
              "      <td>...</td>\n",
              "      <td>...</td>\n",
              "      <td>...</td>\n",
              "      <td>...</td>\n",
              "      <td>...</td>\n",
              "      <td>...</td>\n",
              "      <td>...</td>\n",
              "      <td>...</td>\n",
              "    </tr>\n",
              "    <tr>\n",
              "      <th>1071</th>\n",
              "      <td>35.157165</td>\n",
              "      <td>136.926470</td>\n",
              "      <td>1</td>\n",
              "      <td>-52</td>\n",
              "      <td>0.0</td>\n",
              "      <td>1</td>\n",
              "      <td>-52.0</td>\n",
              "      <td>0</td>\n",
              "      <td>0</td>\n",
              "      <td>0</td>\n",
              "      <td>1</td>\n",
              "    </tr>\n",
              "    <tr>\n",
              "      <th>1072</th>\n",
              "      <td>35.157165</td>\n",
              "      <td>136.926470</td>\n",
              "      <td>1</td>\n",
              "      <td>-52</td>\n",
              "      <td>0.0</td>\n",
              "      <td>1</td>\n",
              "      <td>-52.0</td>\n",
              "      <td>0</td>\n",
              "      <td>0</td>\n",
              "      <td>0</td>\n",
              "      <td>1</td>\n",
              "    </tr>\n",
              "    <tr>\n",
              "      <th>1073</th>\n",
              "      <td>35.157165</td>\n",
              "      <td>136.926470</td>\n",
              "      <td>1</td>\n",
              "      <td>-52</td>\n",
              "      <td>0.0</td>\n",
              "      <td>1</td>\n",
              "      <td>-52.0</td>\n",
              "      <td>0</td>\n",
              "      <td>0</td>\n",
              "      <td>0</td>\n",
              "      <td>1</td>\n",
              "    </tr>\n",
              "    <tr>\n",
              "      <th>1074</th>\n",
              "      <td>35.157165</td>\n",
              "      <td>136.926470</td>\n",
              "      <td>1</td>\n",
              "      <td>-52</td>\n",
              "      <td>0.0</td>\n",
              "      <td>1</td>\n",
              "      <td>-52.0</td>\n",
              "      <td>0</td>\n",
              "      <td>0</td>\n",
              "      <td>0</td>\n",
              "      <td>1</td>\n",
              "    </tr>\n",
              "    <tr>\n",
              "      <th>1075</th>\n",
              "      <td>35.157165</td>\n",
              "      <td>136.926470</td>\n",
              "      <td>1</td>\n",
              "      <td>-52</td>\n",
              "      <td>0.0</td>\n",
              "      <td>1</td>\n",
              "      <td>-52.0</td>\n",
              "      <td>0</td>\n",
              "      <td>0</td>\n",
              "      <td>0</td>\n",
              "      <td>1</td>\n",
              "    </tr>\n",
              "  </tbody>\n",
              "</table>\n",
              "<p>1076 rows × 11 columns</p>\n",
              "</div>"
            ],
            "text/plain": [
              "      Latitude_AP  Longitude_AP  Channel  RSSI(dBm)  ...  1  2  3  4\n",
              "0       35.157320    136.926447       11        -41  ...  1  0  0  0\n",
              "1       35.157320    136.926447       11        -41  ...  1  0  0  0\n",
              "2       35.157320    136.926447       11        -41  ...  1  0  0  0\n",
              "3       35.157320    136.926447       11        -41  ...  1  0  0  0\n",
              "4       35.157320    136.926447       11        -41  ...  1  0  0  0\n",
              "...           ...           ...      ...        ...  ... .. .. .. ..\n",
              "1071    35.157165    136.926470        1        -52  ...  0  0  0  1\n",
              "1072    35.157165    136.926470        1        -52  ...  0  0  0  1\n",
              "1073    35.157165    136.926470        1        -52  ...  0  0  0  1\n",
              "1074    35.157165    136.926470        1        -52  ...  0  0  0  1\n",
              "1075    35.157165    136.926470        1        -52  ...  0  0  0  1\n",
              "\n",
              "[1076 rows x 11 columns]"
            ]
          },
          "metadata": {},
          "execution_count": 128
        }
      ]
    },
    {
      "cell_type": "code",
      "metadata": {
        "colab": {
          "base_uri": "https://localhost:8080/",
          "height": 424
        },
        "id": "G3m2UhTBUQDN",
        "outputId": "00b19a62-2e94-4989-ff5b-6af8f4ff628e"
      },
      "source": [
        "train_X"
      ],
      "execution_count": 129,
      "outputs": [
        {
          "output_type": "execute_result",
          "data": {
            "text/html": [
              "<div>\n",
              "<style scoped>\n",
              "    .dataframe tbody tr th:only-of-type {\n",
              "        vertical-align: middle;\n",
              "    }\n",
              "\n",
              "    .dataframe tbody tr th {\n",
              "        vertical-align: top;\n",
              "    }\n",
              "\n",
              "    .dataframe thead th {\n",
              "        text-align: right;\n",
              "    }\n",
              "</style>\n",
              "<table border=\"1\" class=\"dataframe\">\n",
              "  <thead>\n",
              "    <tr style=\"text-align: right;\">\n",
              "      <th></th>\n",
              "      <th>Latitude_AP</th>\n",
              "      <th>Longitude_AP</th>\n",
              "      <th>Channel</th>\n",
              "      <th>RSSI(dBm)</th>\n",
              "      <th>Hight Difference(m)</th>\n",
              "      <th>Outdoor</th>\n",
              "      <th>Moving Average (RSSI)</th>\n",
              "      <th>1</th>\n",
              "      <th>2</th>\n",
              "      <th>3</th>\n",
              "      <th>4</th>\n",
              "    </tr>\n",
              "  </thead>\n",
              "  <tbody>\n",
              "    <tr>\n",
              "      <th>0</th>\n",
              "      <td>0.852747</td>\n",
              "      <td>0.000000</td>\n",
              "      <td>1.0</td>\n",
              "      <td>1.000</td>\n",
              "      <td>0.0</td>\n",
              "      <td>0.0</td>\n",
              "      <td>1.000</td>\n",
              "      <td>1.0</td>\n",
              "      <td>0.0</td>\n",
              "      <td>0.0</td>\n",
              "      <td>0.0</td>\n",
              "    </tr>\n",
              "    <tr>\n",
              "      <th>1</th>\n",
              "      <td>0.852747</td>\n",
              "      <td>0.000000</td>\n",
              "      <td>1.0</td>\n",
              "      <td>1.000</td>\n",
              "      <td>0.0</td>\n",
              "      <td>0.0</td>\n",
              "      <td>1.000</td>\n",
              "      <td>1.0</td>\n",
              "      <td>0.0</td>\n",
              "      <td>0.0</td>\n",
              "      <td>0.0</td>\n",
              "    </tr>\n",
              "    <tr>\n",
              "      <th>2</th>\n",
              "      <td>0.852747</td>\n",
              "      <td>0.000000</td>\n",
              "      <td>1.0</td>\n",
              "      <td>1.000</td>\n",
              "      <td>0.0</td>\n",
              "      <td>0.0</td>\n",
              "      <td>1.000</td>\n",
              "      <td>1.0</td>\n",
              "      <td>0.0</td>\n",
              "      <td>0.0</td>\n",
              "      <td>0.0</td>\n",
              "    </tr>\n",
              "    <tr>\n",
              "      <th>3</th>\n",
              "      <td>0.852747</td>\n",
              "      <td>0.000000</td>\n",
              "      <td>1.0</td>\n",
              "      <td>1.000</td>\n",
              "      <td>0.0</td>\n",
              "      <td>0.0</td>\n",
              "      <td>1.000</td>\n",
              "      <td>1.0</td>\n",
              "      <td>0.0</td>\n",
              "      <td>0.0</td>\n",
              "      <td>0.0</td>\n",
              "    </tr>\n",
              "    <tr>\n",
              "      <th>4</th>\n",
              "      <td>0.852747</td>\n",
              "      <td>0.000000</td>\n",
              "      <td>1.0</td>\n",
              "      <td>1.000</td>\n",
              "      <td>0.0</td>\n",
              "      <td>0.0</td>\n",
              "      <td>1.000</td>\n",
              "      <td>1.0</td>\n",
              "      <td>0.0</td>\n",
              "      <td>0.0</td>\n",
              "      <td>0.0</td>\n",
              "    </tr>\n",
              "    <tr>\n",
              "      <th>...</th>\n",
              "      <td>...</td>\n",
              "      <td>...</td>\n",
              "      <td>...</td>\n",
              "      <td>...</td>\n",
              "      <td>...</td>\n",
              "      <td>...</td>\n",
              "      <td>...</td>\n",
              "      <td>...</td>\n",
              "      <td>...</td>\n",
              "      <td>...</td>\n",
              "      <td>...</td>\n",
              "    </tr>\n",
              "    <tr>\n",
              "      <th>1071</th>\n",
              "      <td>0.000000</td>\n",
              "      <td>0.060016</td>\n",
              "      <td>0.0</td>\n",
              "      <td>0.725</td>\n",
              "      <td>0.0</td>\n",
              "      <td>0.0</td>\n",
              "      <td>0.725</td>\n",
              "      <td>0.0</td>\n",
              "      <td>0.0</td>\n",
              "      <td>0.0</td>\n",
              "      <td>1.0</td>\n",
              "    </tr>\n",
              "    <tr>\n",
              "      <th>1072</th>\n",
              "      <td>0.000000</td>\n",
              "      <td>0.060016</td>\n",
              "      <td>0.0</td>\n",
              "      <td>0.725</td>\n",
              "      <td>0.0</td>\n",
              "      <td>0.0</td>\n",
              "      <td>0.725</td>\n",
              "      <td>0.0</td>\n",
              "      <td>0.0</td>\n",
              "      <td>0.0</td>\n",
              "      <td>1.0</td>\n",
              "    </tr>\n",
              "    <tr>\n",
              "      <th>1073</th>\n",
              "      <td>0.000000</td>\n",
              "      <td>0.060016</td>\n",
              "      <td>0.0</td>\n",
              "      <td>0.725</td>\n",
              "      <td>0.0</td>\n",
              "      <td>0.0</td>\n",
              "      <td>0.725</td>\n",
              "      <td>0.0</td>\n",
              "      <td>0.0</td>\n",
              "      <td>0.0</td>\n",
              "      <td>1.0</td>\n",
              "    </tr>\n",
              "    <tr>\n",
              "      <th>1074</th>\n",
              "      <td>0.000000</td>\n",
              "      <td>0.060016</td>\n",
              "      <td>0.0</td>\n",
              "      <td>0.725</td>\n",
              "      <td>0.0</td>\n",
              "      <td>0.0</td>\n",
              "      <td>0.725</td>\n",
              "      <td>0.0</td>\n",
              "      <td>0.0</td>\n",
              "      <td>0.0</td>\n",
              "      <td>1.0</td>\n",
              "    </tr>\n",
              "    <tr>\n",
              "      <th>1075</th>\n",
              "      <td>0.000000</td>\n",
              "      <td>0.060016</td>\n",
              "      <td>0.0</td>\n",
              "      <td>0.725</td>\n",
              "      <td>0.0</td>\n",
              "      <td>0.0</td>\n",
              "      <td>0.725</td>\n",
              "      <td>0.0</td>\n",
              "      <td>0.0</td>\n",
              "      <td>0.0</td>\n",
              "      <td>1.0</td>\n",
              "    </tr>\n",
              "  </tbody>\n",
              "</table>\n",
              "<p>1076 rows × 11 columns</p>\n",
              "</div>"
            ],
            "text/plain": [
              "      Latitude_AP  Longitude_AP  Channel  RSSI(dBm)  ...    1    2    3    4\n",
              "0        0.852747      0.000000      1.0      1.000  ...  1.0  0.0  0.0  0.0\n",
              "1        0.852747      0.000000      1.0      1.000  ...  1.0  0.0  0.0  0.0\n",
              "2        0.852747      0.000000      1.0      1.000  ...  1.0  0.0  0.0  0.0\n",
              "3        0.852747      0.000000      1.0      1.000  ...  1.0  0.0  0.0  0.0\n",
              "4        0.852747      0.000000      1.0      1.000  ...  1.0  0.0  0.0  0.0\n",
              "...           ...           ...      ...        ...  ...  ...  ...  ...  ...\n",
              "1071     0.000000      0.060016      0.0      0.725  ...  0.0  0.0  0.0  1.0\n",
              "1072     0.000000      0.060016      0.0      0.725  ...  0.0  0.0  0.0  1.0\n",
              "1073     0.000000      0.060016      0.0      0.725  ...  0.0  0.0  0.0  1.0\n",
              "1074     0.000000      0.060016      0.0      0.725  ...  0.0  0.0  0.0  1.0\n",
              "1075     0.000000      0.060016      0.0      0.725  ...  0.0  0.0  0.0  1.0\n",
              "\n",
              "[1076 rows x 11 columns]"
            ]
          },
          "metadata": {},
          "execution_count": 129
        }
      ]
    },
    {
      "cell_type": "code",
      "metadata": {
        "colab": {
          "base_uri": "https://localhost:8080/",
          "height": 458
        },
        "id": "SXzW9EwBURwR",
        "outputId": "75366bf0-b0ed-4370-9a06-ff48a0e46c44"
      },
      "source": [
        "test_semi"
      ],
      "execution_count": 130,
      "outputs": [
        {
          "output_type": "execute_result",
          "data": {
            "text/html": [
              "<div>\n",
              "<style scoped>\n",
              "    .dataframe tbody tr th:only-of-type {\n",
              "        vertical-align: middle;\n",
              "    }\n",
              "\n",
              "    .dataframe tbody tr th {\n",
              "        vertical-align: top;\n",
              "    }\n",
              "\n",
              "    .dataframe thead th {\n",
              "        text-align: right;\n",
              "    }\n",
              "</style>\n",
              "<table border=\"1\" class=\"dataframe\">\n",
              "  <thead>\n",
              "    <tr style=\"text-align: right;\">\n",
              "      <th></th>\n",
              "      <th>TimeStamp(UNIX)</th>\n",
              "      <th>Latitude_OP</th>\n",
              "      <th>Longitude_OP</th>\n",
              "      <th>Channel</th>\n",
              "      <th>RSSI(dBm)</th>\n",
              "      <th>Latitude_AP</th>\n",
              "      <th>Longitude_AP</th>\n",
              "      <th>Hight Difference(m)</th>\n",
              "      <th>Outdoor</th>\n",
              "      <th>Distance</th>\n",
              "      <th>Moving Average (RSSI)</th>\n",
              "      <th>1</th>\n",
              "      <th>2</th>\n",
              "      <th>3</th>\n",
              "      <th>4</th>\n",
              "    </tr>\n",
              "  </thead>\n",
              "  <tbody>\n",
              "    <tr>\n",
              "      <th>0</th>\n",
              "      <td>1631689137</td>\n",
              "      <td>35.157261</td>\n",
              "      <td>136.926465</td>\n",
              "      <td>11</td>\n",
              "      <td>-41</td>\n",
              "      <td>35.157320</td>\n",
              "      <td>136.926447</td>\n",
              "      <td>0.0</td>\n",
              "      <td>1</td>\n",
              "      <td>6.906728</td>\n",
              "      <td>-41.0</td>\n",
              "      <td>1</td>\n",
              "      <td>0</td>\n",
              "      <td>0</td>\n",
              "      <td>0</td>\n",
              "    </tr>\n",
              "    <tr>\n",
              "      <th>1</th>\n",
              "      <td>1631689138</td>\n",
              "      <td>35.157261</td>\n",
              "      <td>136.926465</td>\n",
              "      <td>11</td>\n",
              "      <td>-41</td>\n",
              "      <td>35.157320</td>\n",
              "      <td>136.926447</td>\n",
              "      <td>0.0</td>\n",
              "      <td>1</td>\n",
              "      <td>6.906728</td>\n",
              "      <td>-41.0</td>\n",
              "      <td>1</td>\n",
              "      <td>0</td>\n",
              "      <td>0</td>\n",
              "      <td>0</td>\n",
              "    </tr>\n",
              "    <tr>\n",
              "      <th>2</th>\n",
              "      <td>1631689139</td>\n",
              "      <td>35.157261</td>\n",
              "      <td>136.926465</td>\n",
              "      <td>11</td>\n",
              "      <td>-41</td>\n",
              "      <td>35.157320</td>\n",
              "      <td>136.926447</td>\n",
              "      <td>0.0</td>\n",
              "      <td>1</td>\n",
              "      <td>6.906728</td>\n",
              "      <td>-41.0</td>\n",
              "      <td>1</td>\n",
              "      <td>0</td>\n",
              "      <td>0</td>\n",
              "      <td>0</td>\n",
              "    </tr>\n",
              "    <tr>\n",
              "      <th>3</th>\n",
              "      <td>1631689140</td>\n",
              "      <td>35.157261</td>\n",
              "      <td>136.926465</td>\n",
              "      <td>11</td>\n",
              "      <td>-41</td>\n",
              "      <td>35.157320</td>\n",
              "      <td>136.926447</td>\n",
              "      <td>0.0</td>\n",
              "      <td>1</td>\n",
              "      <td>6.906728</td>\n",
              "      <td>-41.0</td>\n",
              "      <td>1</td>\n",
              "      <td>0</td>\n",
              "      <td>0</td>\n",
              "      <td>0</td>\n",
              "    </tr>\n",
              "    <tr>\n",
              "      <th>4</th>\n",
              "      <td>1631689141</td>\n",
              "      <td>35.157261</td>\n",
              "      <td>136.926465</td>\n",
              "      <td>11</td>\n",
              "      <td>-41</td>\n",
              "      <td>35.157320</td>\n",
              "      <td>136.926447</td>\n",
              "      <td>0.0</td>\n",
              "      <td>1</td>\n",
              "      <td>6.906728</td>\n",
              "      <td>-41.0</td>\n",
              "      <td>1</td>\n",
              "      <td>0</td>\n",
              "      <td>0</td>\n",
              "      <td>0</td>\n",
              "    </tr>\n",
              "    <tr>\n",
              "      <th>...</th>\n",
              "      <td>...</td>\n",
              "      <td>...</td>\n",
              "      <td>...</td>\n",
              "      <td>...</td>\n",
              "      <td>...</td>\n",
              "      <td>...</td>\n",
              "      <td>...</td>\n",
              "      <td>...</td>\n",
              "      <td>...</td>\n",
              "      <td>...</td>\n",
              "      <td>...</td>\n",
              "      <td>...</td>\n",
              "      <td>...</td>\n",
              "      <td>...</td>\n",
              "      <td>...</td>\n",
              "    </tr>\n",
              "    <tr>\n",
              "      <th>1096</th>\n",
              "      <td>1631691288</td>\n",
              "      <td>35.157298</td>\n",
              "      <td>136.926575</td>\n",
              "      <td>1</td>\n",
              "      <td>-59</td>\n",
              "      <td>35.157165</td>\n",
              "      <td>136.926470</td>\n",
              "      <td>0.0</td>\n",
              "      <td>1</td>\n",
              "      <td>18.773415</td>\n",
              "      <td>-59.0</td>\n",
              "      <td>0</td>\n",
              "      <td>0</td>\n",
              "      <td>0</td>\n",
              "      <td>1</td>\n",
              "    </tr>\n",
              "    <tr>\n",
              "      <th>1097</th>\n",
              "      <td>1631691289</td>\n",
              "      <td>35.157298</td>\n",
              "      <td>136.926575</td>\n",
              "      <td>1</td>\n",
              "      <td>-59</td>\n",
              "      <td>35.157165</td>\n",
              "      <td>136.926470</td>\n",
              "      <td>0.0</td>\n",
              "      <td>1</td>\n",
              "      <td>18.773415</td>\n",
              "      <td>-59.0</td>\n",
              "      <td>0</td>\n",
              "      <td>0</td>\n",
              "      <td>0</td>\n",
              "      <td>1</td>\n",
              "    </tr>\n",
              "    <tr>\n",
              "      <th>1098</th>\n",
              "      <td>1631691290</td>\n",
              "      <td>35.157298</td>\n",
              "      <td>136.926575</td>\n",
              "      <td>1</td>\n",
              "      <td>-59</td>\n",
              "      <td>35.157165</td>\n",
              "      <td>136.926470</td>\n",
              "      <td>0.0</td>\n",
              "      <td>1</td>\n",
              "      <td>18.773415</td>\n",
              "      <td>-59.0</td>\n",
              "      <td>0</td>\n",
              "      <td>0</td>\n",
              "      <td>0</td>\n",
              "      <td>1</td>\n",
              "    </tr>\n",
              "    <tr>\n",
              "      <th>1099</th>\n",
              "      <td>1631691291</td>\n",
              "      <td>35.157298</td>\n",
              "      <td>136.926575</td>\n",
              "      <td>1</td>\n",
              "      <td>-59</td>\n",
              "      <td>35.157165</td>\n",
              "      <td>136.926470</td>\n",
              "      <td>0.0</td>\n",
              "      <td>1</td>\n",
              "      <td>18.773415</td>\n",
              "      <td>-59.0</td>\n",
              "      <td>0</td>\n",
              "      <td>0</td>\n",
              "      <td>0</td>\n",
              "      <td>1</td>\n",
              "    </tr>\n",
              "    <tr>\n",
              "      <th>1100</th>\n",
              "      <td>1631691292</td>\n",
              "      <td>35.157298</td>\n",
              "      <td>136.926575</td>\n",
              "      <td>1</td>\n",
              "      <td>-59</td>\n",
              "      <td>35.157165</td>\n",
              "      <td>136.926470</td>\n",
              "      <td>0.0</td>\n",
              "      <td>1</td>\n",
              "      <td>18.773415</td>\n",
              "      <td>-59.0</td>\n",
              "      <td>0</td>\n",
              "      <td>0</td>\n",
              "      <td>0</td>\n",
              "      <td>1</td>\n",
              "    </tr>\n",
              "  </tbody>\n",
              "</table>\n",
              "<p>1101 rows × 15 columns</p>\n",
              "</div>"
            ],
            "text/plain": [
              "      TimeStamp(UNIX)  Latitude_OP  Longitude_OP  Channel  ...  1  2  3  4\n",
              "0          1631689137    35.157261    136.926465       11  ...  1  0  0  0\n",
              "1          1631689138    35.157261    136.926465       11  ...  1  0  0  0\n",
              "2          1631689139    35.157261    136.926465       11  ...  1  0  0  0\n",
              "3          1631689140    35.157261    136.926465       11  ...  1  0  0  0\n",
              "4          1631689141    35.157261    136.926465       11  ...  1  0  0  0\n",
              "...               ...          ...           ...      ...  ... .. .. .. ..\n",
              "1096       1631691288    35.157298    136.926575        1  ...  0  0  0  1\n",
              "1097       1631691289    35.157298    136.926575        1  ...  0  0  0  1\n",
              "1098       1631691290    35.157298    136.926575        1  ...  0  0  0  1\n",
              "1099       1631691291    35.157298    136.926575        1  ...  0  0  0  1\n",
              "1100       1631691292    35.157298    136.926575        1  ...  0  0  0  1\n",
              "\n",
              "[1101 rows x 15 columns]"
            ]
          },
          "metadata": {},
          "execution_count": 130
        }
      ]
    },
    {
      "cell_type": "code",
      "metadata": {
        "colab": {
          "base_uri": "https://localhost:8080/",
          "height": 424
        },
        "id": "13R0DuodVS4X",
        "outputId": "8a19ded9-813e-434f-b27b-838637baad22"
      },
      "source": [
        "test_X"
      ],
      "execution_count": 131,
      "outputs": [
        {
          "output_type": "execute_result",
          "data": {
            "text/html": [
              "<div>\n",
              "<style scoped>\n",
              "    .dataframe tbody tr th:only-of-type {\n",
              "        vertical-align: middle;\n",
              "    }\n",
              "\n",
              "    .dataframe tbody tr th {\n",
              "        vertical-align: top;\n",
              "    }\n",
              "\n",
              "    .dataframe thead th {\n",
              "        text-align: right;\n",
              "    }\n",
              "</style>\n",
              "<table border=\"1\" class=\"dataframe\">\n",
              "  <thead>\n",
              "    <tr style=\"text-align: right;\">\n",
              "      <th></th>\n",
              "      <th>Latitude_AP</th>\n",
              "      <th>Longitude_AP</th>\n",
              "      <th>Channel</th>\n",
              "      <th>RSSI(dBm)</th>\n",
              "      <th>Hight Difference(m)</th>\n",
              "      <th>Outdoor</th>\n",
              "      <th>Moving Average (RSSI)</th>\n",
              "      <th>1</th>\n",
              "      <th>2</th>\n",
              "      <th>3</th>\n",
              "      <th>4</th>\n",
              "    </tr>\n",
              "  </thead>\n",
              "  <tbody>\n",
              "    <tr>\n",
              "      <th>0</th>\n",
              "      <td>0.852747</td>\n",
              "      <td>0.000000</td>\n",
              "      <td>1.0</td>\n",
              "      <td>1.00</td>\n",
              "      <td>0.0</td>\n",
              "      <td>0.0</td>\n",
              "      <td>1.00</td>\n",
              "      <td>1.0</td>\n",
              "      <td>0.0</td>\n",
              "      <td>0.0</td>\n",
              "      <td>0.0</td>\n",
              "    </tr>\n",
              "    <tr>\n",
              "      <th>1</th>\n",
              "      <td>0.852747</td>\n",
              "      <td>0.000000</td>\n",
              "      <td>1.0</td>\n",
              "      <td>1.00</td>\n",
              "      <td>0.0</td>\n",
              "      <td>0.0</td>\n",
              "      <td>1.00</td>\n",
              "      <td>1.0</td>\n",
              "      <td>0.0</td>\n",
              "      <td>0.0</td>\n",
              "      <td>0.0</td>\n",
              "    </tr>\n",
              "    <tr>\n",
              "      <th>2</th>\n",
              "      <td>0.852747</td>\n",
              "      <td>0.000000</td>\n",
              "      <td>1.0</td>\n",
              "      <td>1.00</td>\n",
              "      <td>0.0</td>\n",
              "      <td>0.0</td>\n",
              "      <td>1.00</td>\n",
              "      <td>1.0</td>\n",
              "      <td>0.0</td>\n",
              "      <td>0.0</td>\n",
              "      <td>0.0</td>\n",
              "    </tr>\n",
              "    <tr>\n",
              "      <th>3</th>\n",
              "      <td>0.852747</td>\n",
              "      <td>0.000000</td>\n",
              "      <td>1.0</td>\n",
              "      <td>1.00</td>\n",
              "      <td>0.0</td>\n",
              "      <td>0.0</td>\n",
              "      <td>1.00</td>\n",
              "      <td>1.0</td>\n",
              "      <td>0.0</td>\n",
              "      <td>0.0</td>\n",
              "      <td>0.0</td>\n",
              "    </tr>\n",
              "    <tr>\n",
              "      <th>4</th>\n",
              "      <td>0.852747</td>\n",
              "      <td>0.000000</td>\n",
              "      <td>1.0</td>\n",
              "      <td>1.00</td>\n",
              "      <td>0.0</td>\n",
              "      <td>0.0</td>\n",
              "      <td>1.00</td>\n",
              "      <td>1.0</td>\n",
              "      <td>0.0</td>\n",
              "      <td>0.0</td>\n",
              "      <td>0.0</td>\n",
              "    </tr>\n",
              "    <tr>\n",
              "      <th>...</th>\n",
              "      <td>...</td>\n",
              "      <td>...</td>\n",
              "      <td>...</td>\n",
              "      <td>...</td>\n",
              "      <td>...</td>\n",
              "      <td>...</td>\n",
              "      <td>...</td>\n",
              "      <td>...</td>\n",
              "      <td>...</td>\n",
              "      <td>...</td>\n",
              "      <td>...</td>\n",
              "    </tr>\n",
              "    <tr>\n",
              "      <th>1096</th>\n",
              "      <td>0.000000</td>\n",
              "      <td>0.060016</td>\n",
              "      <td>0.0</td>\n",
              "      <td>0.55</td>\n",
              "      <td>0.0</td>\n",
              "      <td>0.0</td>\n",
              "      <td>0.55</td>\n",
              "      <td>0.0</td>\n",
              "      <td>0.0</td>\n",
              "      <td>0.0</td>\n",
              "      <td>1.0</td>\n",
              "    </tr>\n",
              "    <tr>\n",
              "      <th>1097</th>\n",
              "      <td>0.000000</td>\n",
              "      <td>0.060016</td>\n",
              "      <td>0.0</td>\n",
              "      <td>0.55</td>\n",
              "      <td>0.0</td>\n",
              "      <td>0.0</td>\n",
              "      <td>0.55</td>\n",
              "      <td>0.0</td>\n",
              "      <td>0.0</td>\n",
              "      <td>0.0</td>\n",
              "      <td>1.0</td>\n",
              "    </tr>\n",
              "    <tr>\n",
              "      <th>1098</th>\n",
              "      <td>0.000000</td>\n",
              "      <td>0.060016</td>\n",
              "      <td>0.0</td>\n",
              "      <td>0.55</td>\n",
              "      <td>0.0</td>\n",
              "      <td>0.0</td>\n",
              "      <td>0.55</td>\n",
              "      <td>0.0</td>\n",
              "      <td>0.0</td>\n",
              "      <td>0.0</td>\n",
              "      <td>1.0</td>\n",
              "    </tr>\n",
              "    <tr>\n",
              "      <th>1099</th>\n",
              "      <td>0.000000</td>\n",
              "      <td>0.060016</td>\n",
              "      <td>0.0</td>\n",
              "      <td>0.55</td>\n",
              "      <td>0.0</td>\n",
              "      <td>0.0</td>\n",
              "      <td>0.55</td>\n",
              "      <td>0.0</td>\n",
              "      <td>0.0</td>\n",
              "      <td>0.0</td>\n",
              "      <td>1.0</td>\n",
              "    </tr>\n",
              "    <tr>\n",
              "      <th>1100</th>\n",
              "      <td>0.000000</td>\n",
              "      <td>0.060016</td>\n",
              "      <td>0.0</td>\n",
              "      <td>0.55</td>\n",
              "      <td>0.0</td>\n",
              "      <td>0.0</td>\n",
              "      <td>0.55</td>\n",
              "      <td>0.0</td>\n",
              "      <td>0.0</td>\n",
              "      <td>0.0</td>\n",
              "      <td>1.0</td>\n",
              "    </tr>\n",
              "  </tbody>\n",
              "</table>\n",
              "<p>1101 rows × 11 columns</p>\n",
              "</div>"
            ],
            "text/plain": [
              "      Latitude_AP  Longitude_AP  Channel  RSSI(dBm)  ...    1    2    3    4\n",
              "0        0.852747      0.000000      1.0       1.00  ...  1.0  0.0  0.0  0.0\n",
              "1        0.852747      0.000000      1.0       1.00  ...  1.0  0.0  0.0  0.0\n",
              "2        0.852747      0.000000      1.0       1.00  ...  1.0  0.0  0.0  0.0\n",
              "3        0.852747      0.000000      1.0       1.00  ...  1.0  0.0  0.0  0.0\n",
              "4        0.852747      0.000000      1.0       1.00  ...  1.0  0.0  0.0  0.0\n",
              "...           ...           ...      ...        ...  ...  ...  ...  ...  ...\n",
              "1096     0.000000      0.060016      0.0       0.55  ...  0.0  0.0  0.0  1.0\n",
              "1097     0.000000      0.060016      0.0       0.55  ...  0.0  0.0  0.0  1.0\n",
              "1098     0.000000      0.060016      0.0       0.55  ...  0.0  0.0  0.0  1.0\n",
              "1099     0.000000      0.060016      0.0       0.55  ...  0.0  0.0  0.0  1.0\n",
              "1100     0.000000      0.060016      0.0       0.55  ...  0.0  0.0  0.0  1.0\n",
              "\n",
              "[1101 rows x 11 columns]"
            ]
          },
          "metadata": {},
          "execution_count": 131
        }
      ]
    },
    {
      "cell_type": "markdown",
      "metadata": {
        "id": "2QH5SEwctitd"
      },
      "source": [
        "Estimation of Distance of RP from AP using Linear Regression with Polynomial Feature of Degree 2"
      ]
    },
    {
      "cell_type": "code",
      "metadata": {
        "id": "kqvyVi92VUnU"
      },
      "source": [
        "from sklearn.linear_model import LinearRegression\n",
        "from sklearn.preprocessing import PolynomialFeatures"
      ],
      "execution_count": 132,
      "outputs": []
    },
    {
      "cell_type": "code",
      "metadata": {
        "id": "UJ_9iANzX3Mx"
      },
      "source": [
        "polyfeat = PolynomialFeatures(degree=2)\n",
        "newtrain_X = polyfeat.fit_transform(train_X[['Channel', 'RSSI(dBm)', 'Hight Difference(m)', 'Outdoor', 'Moving Average (RSSI)']])\n",
        "newtest_X = polyfeat.transform(test_X[['Channel', 'RSSI(dBm)', 'Hight Difference(m)', 'Outdoor', 'Moving Average (RSSI)']])"
      ],
      "execution_count": 133,
      "outputs": []
    },
    {
      "cell_type": "code",
      "metadata": {
        "colab": {
          "base_uri": "https://localhost:8080/"
        },
        "id": "T6mQR5DnX_78",
        "outputId": "1cf7ed5a-5511-419f-d8a7-385a6b2414e0"
      },
      "source": [
        "model1 = LinearRegression(normalize=True, fit_intercept=False)\n",
        "model1.fit(newtrain_X, trainY_final['Distance'])\n",
        "pred_y = model1.predict(newtest_X)"
      ],
      "execution_count": 134,
      "outputs": [
        {
          "output_type": "stream",
          "name": "stderr",
          "text": [
            "/usr/local/lib/python3.7/dist-packages/sklearn/linear_model/_base.py:145: FutureWarning: 'normalize' was deprecated in version 1.0 and will be removed in 1.2.\n",
            "If you wish to scale the data, use Pipeline with a StandardScaler in a preprocessing stage. To reproduce the previous behavior:\n",
            "\n",
            "from sklearn.pipeline import make_pipeline\n",
            "\n",
            "model = make_pipeline(StandardScaler(with_mean=False), LinearRegression())\n",
            "\n",
            "If you wish to pass a sample_weight parameter, you need to pass it as a fit parameter to each step of the pipeline as follows:\n",
            "\n",
            "kwargs = {s[0] + '__sample_weight': sample_weight for s in model.steps}\n",
            "model.fit(X, y, **kwargs)\n",
            "\n",
            "\n",
            "  FutureWarning,\n"
          ]
        }
      ]
    },
    {
      "cell_type": "code",
      "metadata": {
        "colab": {
          "base_uri": "https://localhost:8080/",
          "height": 265
        },
        "id": "VJy1UNloYH5G",
        "outputId": "c4df591e-5958-4aae-f454-dfc07a62eaac"
      },
      "source": [
        "plt.plot(testY_final['Distance'])\n",
        "plt.plot(pred_y)\n",
        "plt.show()"
      ],
      "execution_count": 135,
      "outputs": [
        {
          "output_type": "display_data",
          "data": {
            "image/png": "[encoded data removed]",
            "text/plain": [
              "<Figure size 432x288 with 1 Axes>"
            ]
          },
          "metadata": {
            "needs_background": "light"
          }
        }
      ]
    },
    {
      "cell_type": "code",
      "metadata": {
        "colab": {
          "base_uri": "https://localhost:8080/"
        },
        "id": "sB9h44yVbrzj",
        "outputId": "bbf82e69-8717-4e96-ac4e-f00b89458f41"
      },
      "source": [
        "dist_err=((testY_final['Distance']-pred_y)**2)**0.5\n",
        "df_error = pd.DataFrame(dist_err, columns = ['Distance Error'])\n",
        "dist_err"
      ],
      "execution_count": 136,
      "outputs": [
        {
          "output_type": "execute_result",
          "data": {
            "text/plain": [
              "0       10.345729\n",
              "1       10.345729\n",
              "2       10.345729\n",
              "3       10.345729\n",
              "4       10.345729\n",
              "          ...    \n",
              "1096     8.126144\n",
              "1097     8.126144\n",
              "1098     8.126144\n",
              "1099     8.126144\n",
              "1100     8.126144\n",
              "Name: Distance, Length: 1101, dtype: float64"
            ]
          },
          "metadata": {},
          "execution_count": 136
        }
      ]
    },
    {
      "cell_type": "code",
      "metadata": {
        "colab": {
          "base_uri": "https://localhost:8080/"
        },
        "id": "I9zi4PBWvLG6",
        "outputId": "ec18a6b0-d007-4942-e1e2-afe620df2144"
      },
      "source": [
        "dist_err"
      ],
      "execution_count": 140,
      "outputs": [
        {
          "output_type": "execute_result",
          "data": {
            "text/plain": [
              "0       10.345729\n",
              "1       10.345729\n",
              "2       10.345729\n",
              "3       10.345729\n",
              "4       10.345729\n",
              "          ...    \n",
              "1096     8.126144\n",
              "1097     8.126144\n",
              "1098     8.126144\n",
              "1099     8.126144\n",
              "1100     8.126144\n",
              "Name: Distance, Length: 1101, dtype: float64"
            ]
          },
          "metadata": {},
          "execution_count": 140
        }
      ]
    },
    {
      "cell_type": "code",
      "metadata": {
        "colab": {
          "base_uri": "https://localhost:8080/"
        },
        "id": "n2pwgL8lb3mV",
        "outputId": "77d29099-5283-494b-f005-432fe279efcc"
      },
      "source": [
        "dist_err.mean()"
      ],
      "execution_count": 137,
      "outputs": [
        {
          "output_type": "execute_result",
          "data": {
            "text/plain": [
              "9.863278183131035"
            ]
          },
          "metadata": {},
          "execution_count": 137
        }
      ]
    },
    {
      "cell_type": "code",
      "metadata": {
        "colab": {
          "base_uri": "https://localhost:8080/"
        },
        "id": "AqoV3lm4b6Yz",
        "outputId": "221ef8a7-691d-43f3-ffea-9e18395a49cd"
      },
      "source": [
        "dist_err.max()"
      ],
      "execution_count": 138,
      "outputs": [
        {
          "output_type": "execute_result",
          "data": {
            "text/plain": [
              "28.615543060449383"
            ]
          },
          "metadata": {},
          "execution_count": 138
        }
      ]
    },
    {
      "cell_type": "code",
      "metadata": {
        "colab": {
          "base_uri": "https://localhost:8080/"
        },
        "id": "UGBqLCtCuTnd",
        "outputId": "a2293ca5-32a4-4a6f-a7c0-73815d4ca9fe"
      },
      "source": [
        "count = len([i for i in list(dist_err) if i  < 2])\n",
        "low_error = count / len(list(dist_err)) * 100\n",
        "print(\"Percentage of data with less than 2m error : \",low_error)"
      ],
      "execution_count": 143,
      "outputs": [
        {
          "output_type": "stream",
          "name": "stdout",
          "text": [
            "Percentage of data with less than 2m error :  16.62125340599455\n"
          ]
        }
      ]
    },
    {
      "cell_type": "markdown",
      "metadata": {
        "id": "RZxgP9dTtbf7"
      },
      "source": [
        "Direct estimation of Latitude and Longitude using Linear Regression with Polynomial Feature of Degree 2"
      ]
    },
    {
      "cell_type": "code",
      "metadata": {
        "id": "VTTp3QNYahMB"
      },
      "source": [
        "polyfeat = PolynomialFeatures(degree=2)\n",
        "newtrain_X = polyfeat.fit_transform(train_X[['Latitude_AP','Longitude_AP','Channel', 'RSSI(dBm)', 'Hight Difference(m)', 'Outdoor', 'Moving Average (RSSI)','1','2','3','4']])\n",
        "newtest_X = polyfeat.transform(test_X[['Latitude_AP','Longitude_AP','Channel', 'RSSI(dBm)', 'Hight Difference(m)', 'Outdoor', 'Moving Average (RSSI)','1','2','3','4']])"
      ],
      "execution_count": 144,
      "outputs": []
    },
    {
      "cell_type": "code",
      "metadata": {
        "colab": {
          "base_uri": "https://localhost:8080/"
        },
        "id": "OGqmkfkBYXTe",
        "outputId": "409871b4-f327-4f8d-c609-54ccec114bb2"
      },
      "source": [
        "model2 = LinearRegression(normalize=True, fit_intercept=False)\n",
        "model2.fit(newtrain_X, trainY_final[['Latitude_OP','Longitude_OP']])\n",
        "pred_y = model2.predict(newtest_X)"
      ],
      "execution_count": 145,
      "outputs": [
        {
          "output_type": "stream",
          "name": "stderr",
          "text": [
            "/usr/local/lib/python3.7/dist-packages/sklearn/linear_model/_base.py:145: FutureWarning: 'normalize' was deprecated in version 1.0 and will be removed in 1.2.\n",
            "If you wish to scale the data, use Pipeline with a StandardScaler in a preprocessing stage. To reproduce the previous behavior:\n",
            "\n",
            "from sklearn.pipeline import make_pipeline\n",
            "\n",
            "model = make_pipeline(StandardScaler(with_mean=False), LinearRegression())\n",
            "\n",
            "If you wish to pass a sample_weight parameter, you need to pass it as a fit parameter to each step of the pipeline as follows:\n",
            "\n",
            "kwargs = {s[0] + '__sample_weight': sample_weight for s in model.steps}\n",
            "model.fit(X, y, **kwargs)\n",
            "\n",
            "\n",
            "  FutureWarning,\n"
          ]
        }
      ]
    },
    {
      "cell_type": "code",
      "metadata": {
        "colab": {
          "base_uri": "https://localhost:8080/",
          "height": 276
        },
        "id": "oDgf9Y_2agG5",
        "outputId": "1821d9a5-42c3-4456-80a0-cc79f05e8436"
      },
      "source": [
        "plt.plot(testY_final[['Latitude_OP']])\n",
        "plt.plot(pred_y[:,0])\n",
        "plt.show()"
      ],
      "execution_count": 146,
      "outputs": [
        {
          "output_type": "display_data",
          "data": {
            "image/png": "[encoded data removed]",
            "text/plain": [
              "<Figure size 432x288 with 1 Axes>"
            ]
          },
          "metadata": {
            "needs_background": "light"
          }
        }
      ]
    },
    {
      "cell_type": "code",
      "metadata": {
        "colab": {
          "base_uri": "https://localhost:8080/",
          "height": 276
        },
        "id": "k2P96T2tbGvN",
        "outputId": "7a03f1a9-bf69-4474-87bb-06fce570f7ec"
      },
      "source": [
        "plt.plot(testY_final[['Longitude_OP']])\n",
        "plt.plot(pred_y[:,1])\n",
        "plt.show()"
      ],
      "execution_count": 147,
      "outputs": [
        {
          "output_type": "display_data",
          "data": {
            "image/png": "[encoded data removed]",
            "text/plain": [
              "<Figure size 432x288 with 1 Axes>"
            ]
          },
          "metadata": {
            "needs_background": "light"
          }
        }
      ]
    },
    {
      "cell_type": "code",
      "metadata": {
        "colab": {
          "base_uri": "https://localhost:8080/"
        },
        "id": "IHxHZeOIbhPB",
        "outputId": "2a8e1cf9-46e0-4db4-b3ea-42f75f79ec17"
      },
      "source": [
        "pred = pd.DataFrame(pred_y, columns = ['Latitude','Longitude'])\n",
        "pred['dist_err'] = (((pred['Latitude']-testY_final['Latitude_OP'])*111000)**2 + (((pred['Longitude']-testY_final['Longitude_OP'])*111000)**2))**0.5\n",
        "pred['dist_err'].mean()"
      ],
      "execution_count": 148,
      "outputs": [
        {
          "output_type": "execute_result",
          "data": {
            "text/plain": [
              "20.078328934137563"
            ]
          },
          "metadata": {},
          "execution_count": 148
        }
      ]
    },
    {
      "cell_type": "code",
      "metadata": {
        "colab": {
          "base_uri": "https://localhost:8080/"
        },
        "id": "LFJxbLjjdezk",
        "outputId": "07de6a31-2dde-43d6-c375-dfefaad41cf0"
      },
      "source": [
        "pred['dist_err'].max()"
      ],
      "execution_count": 149,
      "outputs": [
        {
          "output_type": "execute_result",
          "data": {
            "text/plain": [
              "42.45041076685584"
            ]
          },
          "metadata": {},
          "execution_count": 149
        }
      ]
    },
    {
      "cell_type": "code",
      "metadata": {
        "colab": {
          "base_uri": "https://localhost:8080/"
        },
        "id": "3Eu7NDt0ujoq",
        "outputId": "ee80db6d-66ec-4b2e-d669-783d4c3917fc"
      },
      "source": [
        "count = len([i for i in list(pred['dist_err']) if i  < 2])\n",
        "low_error = count / len(list(pred['dist_err'])) * 100\n",
        "print(\"Percentage of data with less than 2m error : \",low_error)"
      ],
      "execution_count": 150,
      "outputs": [
        {
          "output_type": "stream",
          "name": "stdout",
          "text": [
            "Percentage of data with less than 2m error :  0.0\n"
          ]
        }
      ]
    },
    {
      "cell_type": "markdown",
      "metadata": {
        "id": "2mBhtd4krRxh"
      },
      "source": [
        "### (ii) AdaBoost\n",
        "\n",
        "In this case we trained 8 different models for the 4 different APs.\n",
        "Two models for each AP for predicting Latitude and Longitude of the reference points/observation points respectively."
      ]
    },
    {
      "cell_type": "markdown",
      "metadata": {
        "id": "Defq5TlStJ8N"
      },
      "source": [
        "Distance Estimation using AdaBoost"
      ]
    },
    {
      "cell_type": "code",
      "metadata": {
        "id": "tWcTfBVj_Rzp"
      },
      "source": [
        "from sklearn.ensemble import AdaBoostRegressor\n",
        "from sklearn.model_selection import cross_val_score, KFold\n",
        "from sklearn.metrics import mean_squared_error"
      ],
      "execution_count": 151,
      "outputs": []
    },
    {
      "cell_type": "code",
      "metadata": {
        "colab": {
          "base_uri": "https://localhost:8080/",
          "height": 458
        },
        "id": "oLvGcRm8DkAm",
        "outputId": "33a5c999-944a-4a39-aaf9-783e49323568"
      },
      "source": [
        "train_semi"
      ],
      "execution_count": 152,
      "outputs": [
        {
          "output_type": "execute_result",
          "data": {
            "text/html": [
              "<div>\n",
              "<style scoped>\n",
              "    .dataframe tbody tr th:only-of-type {\n",
              "        vertical-align: middle;\n",
              "    }\n",
              "\n",
              "    .dataframe tbody tr th {\n",
              "        vertical-align: top;\n",
              "    }\n",
              "\n",
              "    .dataframe thead th {\n",
              "        text-align: right;\n",
              "    }\n",
              "</style>\n",
              "<table border=\"1\" class=\"dataframe\">\n",
              "  <thead>\n",
              "    <tr style=\"text-align: right;\">\n",
              "      <th></th>\n",
              "      <th>TimeStamp(UNIX)</th>\n",
              "      <th>Latitude_OP</th>\n",
              "      <th>Longitude_OP</th>\n",
              "      <th>Channel</th>\n",
              "      <th>RSSI(dBm)</th>\n",
              "      <th>Latitude_AP</th>\n",
              "      <th>Longitude_AP</th>\n",
              "      <th>Hight Difference(m)</th>\n",
              "      <th>Outdoor</th>\n",
              "      <th>Distance</th>\n",
              "      <th>Moving Average (RSSI)</th>\n",
              "      <th>1</th>\n",
              "      <th>2</th>\n",
              "      <th>3</th>\n",
              "      <th>4</th>\n",
              "    </tr>\n",
              "  </thead>\n",
              "  <tbody>\n",
              "    <tr>\n",
              "      <th>0</th>\n",
              "      <td>1631687696</td>\n",
              "      <td>35.157140</td>\n",
              "      <td>136.926306</td>\n",
              "      <td>11</td>\n",
              "      <td>-41</td>\n",
              "      <td>35.157320</td>\n",
              "      <td>136.926447</td>\n",
              "      <td>0.0</td>\n",
              "      <td>1</td>\n",
              "      <td>25.439033</td>\n",
              "      <td>-41.0</td>\n",
              "      <td>1</td>\n",
              "      <td>0</td>\n",
              "      <td>0</td>\n",
              "      <td>0</td>\n",
              "    </tr>\n",
              "    <tr>\n",
              "      <th>1</th>\n",
              "      <td>1631687697</td>\n",
              "      <td>35.157140</td>\n",
              "      <td>136.926306</td>\n",
              "      <td>11</td>\n",
              "      <td>-41</td>\n",
              "      <td>35.157320</td>\n",
              "      <td>136.926447</td>\n",
              "      <td>0.0</td>\n",
              "      <td>1</td>\n",
              "      <td>25.439033</td>\n",
              "      <td>-41.0</td>\n",
              "      <td>1</td>\n",
              "      <td>0</td>\n",
              "      <td>0</td>\n",
              "      <td>0</td>\n",
              "    </tr>\n",
              "    <tr>\n",
              "      <th>2</th>\n",
              "      <td>1631687698</td>\n",
              "      <td>35.157140</td>\n",
              "      <td>136.926306</td>\n",
              "      <td>11</td>\n",
              "      <td>-41</td>\n",
              "      <td>35.157320</td>\n",
              "      <td>136.926447</td>\n",
              "      <td>0.0</td>\n",
              "      <td>1</td>\n",
              "      <td>25.439033</td>\n",
              "      <td>-41.0</td>\n",
              "      <td>1</td>\n",
              "      <td>0</td>\n",
              "      <td>0</td>\n",
              "      <td>0</td>\n",
              "    </tr>\n",
              "    <tr>\n",
              "      <th>3</th>\n",
              "      <td>1631687699</td>\n",
              "      <td>35.157140</td>\n",
              "      <td>136.926306</td>\n",
              "      <td>11</td>\n",
              "      <td>-41</td>\n",
              "      <td>35.157320</td>\n",
              "      <td>136.926447</td>\n",
              "      <td>0.0</td>\n",
              "      <td>1</td>\n",
              "      <td>25.439033</td>\n",
              "      <td>-41.0</td>\n",
              "      <td>1</td>\n",
              "      <td>0</td>\n",
              "      <td>0</td>\n",
              "      <td>0</td>\n",
              "    </tr>\n",
              "    <tr>\n",
              "      <th>4</th>\n",
              "      <td>1631687700</td>\n",
              "      <td>35.157140</td>\n",
              "      <td>136.926306</td>\n",
              "      <td>11</td>\n",
              "      <td>-41</td>\n",
              "      <td>35.157320</td>\n",
              "      <td>136.926447</td>\n",
              "      <td>0.0</td>\n",
              "      <td>1</td>\n",
              "      <td>25.439033</td>\n",
              "      <td>-41.0</td>\n",
              "      <td>1</td>\n",
              "      <td>0</td>\n",
              "      <td>0</td>\n",
              "      <td>0</td>\n",
              "    </tr>\n",
              "    <tr>\n",
              "      <th>...</th>\n",
              "      <td>...</td>\n",
              "      <td>...</td>\n",
              "      <td>...</td>\n",
              "      <td>...</td>\n",
              "      <td>...</td>\n",
              "      <td>...</td>\n",
              "      <td>...</td>\n",
              "      <td>...</td>\n",
              "      <td>...</td>\n",
              "      <td>...</td>\n",
              "      <td>...</td>\n",
              "      <td>...</td>\n",
              "      <td>...</td>\n",
              "      <td>...</td>\n",
              "      <td>...</td>\n",
              "    </tr>\n",
              "    <tr>\n",
              "      <th>1071</th>\n",
              "      <td>1631688759</td>\n",
              "      <td>35.157236</td>\n",
              "      <td>136.926489</td>\n",
              "      <td>1</td>\n",
              "      <td>-52</td>\n",
              "      <td>35.157165</td>\n",
              "      <td>136.926470</td>\n",
              "      <td>0.0</td>\n",
              "      <td>1</td>\n",
              "      <td>8.152950</td>\n",
              "      <td>-52.0</td>\n",
              "      <td>0</td>\n",
              "      <td>0</td>\n",
              "      <td>0</td>\n",
              "      <td>1</td>\n",
              "    </tr>\n",
              "    <tr>\n",
              "      <th>1072</th>\n",
              "      <td>1631688760</td>\n",
              "      <td>35.157236</td>\n",
              "      <td>136.926489</td>\n",
              "      <td>1</td>\n",
              "      <td>-52</td>\n",
              "      <td>35.157165</td>\n",
              "      <td>136.926470</td>\n",
              "      <td>0.0</td>\n",
              "      <td>1</td>\n",
              "      <td>8.152950</td>\n",
              "      <td>-52.0</td>\n",
              "      <td>0</td>\n",
              "      <td>0</td>\n",
              "      <td>0</td>\n",
              "      <td>1</td>\n",
              "    </tr>\n",
              "    <tr>\n",
              "      <th>1073</th>\n",
              "      <td>1631688761</td>\n",
              "      <td>35.157236</td>\n",
              "      <td>136.926489</td>\n",
              "      <td>1</td>\n",
              "      <td>-52</td>\n",
              "      <td>35.157165</td>\n",
              "      <td>136.926470</td>\n",
              "      <td>0.0</td>\n",
              "      <td>1</td>\n",
              "      <td>8.152950</td>\n",
              "      <td>-52.0</td>\n",
              "      <td>0</td>\n",
              "      <td>0</td>\n",
              "      <td>0</td>\n",
              "      <td>1</td>\n",
              "    </tr>\n",
              "    <tr>\n",
              "      <th>1074</th>\n",
              "      <td>1631688762</td>\n",
              "      <td>35.157236</td>\n",
              "      <td>136.926489</td>\n",
              "      <td>1</td>\n",
              "      <td>-52</td>\n",
              "      <td>35.157165</td>\n",
              "      <td>136.926470</td>\n",
              "      <td>0.0</td>\n",
              "      <td>1</td>\n",
              "      <td>8.152950</td>\n",
              "      <td>-52.0</td>\n",
              "      <td>0</td>\n",
              "      <td>0</td>\n",
              "      <td>0</td>\n",
              "      <td>1</td>\n",
              "    </tr>\n",
              "    <tr>\n",
              "      <th>1075</th>\n",
              "      <td>1631688763</td>\n",
              "      <td>35.157236</td>\n",
              "      <td>136.926489</td>\n",
              "      <td>1</td>\n",
              "      <td>-52</td>\n",
              "      <td>35.157165</td>\n",
              "      <td>136.926470</td>\n",
              "      <td>0.0</td>\n",
              "      <td>1</td>\n",
              "      <td>8.152950</td>\n",
              "      <td>-52.0</td>\n",
              "      <td>0</td>\n",
              "      <td>0</td>\n",
              "      <td>0</td>\n",
              "      <td>1</td>\n",
              "    </tr>\n",
              "  </tbody>\n",
              "</table>\n",
              "<p>1076 rows × 15 columns</p>\n",
              "</div>"
            ],
            "text/plain": [
              "      TimeStamp(UNIX)  Latitude_OP  Longitude_OP  Channel  ...  1  2  3  4\n",
              "0          1631687696    35.157140    136.926306       11  ...  1  0  0  0\n",
              "1          1631687697    35.157140    136.926306       11  ...  1  0  0  0\n",
              "2          1631687698    35.157140    136.926306       11  ...  1  0  0  0\n",
              "3          1631687699    35.157140    136.926306       11  ...  1  0  0  0\n",
              "4          1631687700    35.157140    136.926306       11  ...  1  0  0  0\n",
              "...               ...          ...           ...      ...  ... .. .. .. ..\n",
              "1071       1631688759    35.157236    136.926489        1  ...  0  0  0  1\n",
              "1072       1631688760    35.157236    136.926489        1  ...  0  0  0  1\n",
              "1073       1631688761    35.157236    136.926489        1  ...  0  0  0  1\n",
              "1074       1631688762    35.157236    136.926489        1  ...  0  0  0  1\n",
              "1075       1631688763    35.157236    136.926489        1  ...  0  0  0  1\n",
              "\n",
              "[1076 rows x 15 columns]"
            ]
          },
          "metadata": {},
          "execution_count": 152
        }
      ]
    },
    {
      "cell_type": "code",
      "metadata": {
        "colab": {
          "base_uri": "https://localhost:8080/"
        },
        "id": "LBMSVj7bJjBd",
        "outputId": "a169e5e6-601c-4274-ea3b-355a6a354b5a"
      },
      "source": [
        "mm_scaler = MinMaxScaler()\n",
        "train_semiX = pd.DataFrame(mm_scaler.fit_transform(train_semi[['Latitude_AP', 'Longitude_AP', 'Channel', 'RSSI(dBm)', 'Hight Difference(m)', 'Outdoor', 'Moving Average (RSSI)', 1, 2, 3, 4]]),columns=['Latitude_AP', 'Longitude_AP', 'Channel', 'RSSI(dBm)', 'Hight Difference(m)', 'Outdoor', 'Moving Average (RSSI)', 1, 2, 3, 4])\n",
        "test_semiX = pd.DataFrame(mm_scaler.transform(test_semi[['Latitude_AP', 'Longitude_AP', 'Channel', 'RSSI(dBm)', 'Hight Difference(m)', 'Outdoor', 'Moving Average (RSSI)', 1, 2, 3, 4]]),columns=['Latitude_AP', 'Longitude_AP', 'Channel', 'RSSI(dBm)', 'Hight Difference(m)', 'Outdoor', 'Moving Average (RSSI)', 1, 2, 3, 4])"
      ],
      "execution_count": 153,
      "outputs": [
        {
          "output_type": "stream",
          "name": "stderr",
          "text": [
            "/usr/local/lib/python3.7/dist-packages/sklearn/utils/validation.py:1679: FutureWarning: Feature names only support names that are all strings. Got feature names with dtypes: ['int', 'str']. An error will be raised in 1.2.\n",
            "  FutureWarning,\n",
            "/usr/local/lib/python3.7/dist-packages/sklearn/utils/validation.py:1679: FutureWarning: Feature names only support names that are all strings. Got feature names with dtypes: ['int', 'str']. An error will be raised in 1.2.\n",
            "  FutureWarning,\n",
            "/usr/local/lib/python3.7/dist-packages/sklearn/utils/validation.py:1679: FutureWarning: Feature names only support names that are all strings. Got feature names with dtypes: ['int', 'str']. An error will be raised in 1.2.\n",
            "  FutureWarning,\n"
          ]
        }
      ]
    },
    {
      "cell_type": "code",
      "metadata": {
        "id": "Npf0Q0fzApIe"
      },
      "source": [
        "ap01_dat_tr = pd.concat([train_semiX[train_semiX[1]==1],(train_semi[train_semi[1]==1])[['Distance','Latitude_OP','Longitude_OP']]],axis=1).reset_index(drop=True)\n",
        "ap02_dat_tr = pd.concat([train_semiX[train_semiX[2]==1],(train_semi[train_semi[2]==1])[['Distance','Latitude_OP','Longitude_OP']]],axis=1).reset_index(drop=True)\n",
        "ap03_dat_tr = pd.concat([train_semiX[train_semiX[3]==1],(train_semi[train_semi[3]==1])[['Distance','Latitude_OP','Longitude_OP']]],axis=1).reset_index(drop=True)\n",
        "ap04_dat_tr = pd.concat([train_semiX[train_semiX[4]==1],(train_semi[train_semi[4]==1])[['Distance','Latitude_OP','Longitude_OP']]],axis=1).reset_index(drop=True)\n",
        "ap01_dat_te = pd.concat([test_semiX[test_semiX[1]==1],(test_semi[test_semi[1]==1])[['Distance','Latitude_OP','Longitude_OP']]],axis=1).reset_index(drop=True)\n",
        "ap02_dat_te = pd.concat([test_semiX[test_semiX[2]==1],(test_semi[test_semi[2]==1])[['Distance','Latitude_OP','Longitude_OP']]],axis=1).reset_index(drop=True)\n",
        "ap03_dat_te = pd.concat([test_semiX[test_semiX[3]==1],(test_semi[test_semi[3]==1])[['Distance','Latitude_OP','Longitude_OP']]],axis=1).reset_index(drop=True)\n",
        "ap04_dat_te = pd.concat([test_semiX[test_semiX[4]==1],(test_semi[test_semi[4]==1])[['Distance','Latitude_OP','Longitude_OP']]],axis=1).reset_index(drop=True)"
      ],
      "execution_count": 154,
      "outputs": []
    },
    {
      "cell_type": "code",
      "metadata": {
        "id": "7X-0B6B6DJwc"
      },
      "source": [
        "ap01_datX_tr = ap01_dat_tr[['Outdoor','Moving Average (RSSI)']]\n",
        "ap01_datY_tr = ap01_dat_tr[['Distance']]\n",
        "ap02_datX_tr = ap02_dat_tr[['Outdoor','Moving Average (RSSI)']]\n",
        "ap02_datY_tr = ap02_dat_tr[['Distance']]\n",
        "ap03_datX_tr = ap03_dat_tr[['Outdoor','Moving Average (RSSI)']]\n",
        "ap03_datY_tr = ap03_dat_tr[['Distance']]\n",
        "ap04_datX_tr = ap04_dat_tr[['Outdoor','Moving Average (RSSI)']]\n",
        "ap04_datY_tr = ap04_dat_tr[['Distance']]\n",
        "ap01_datX_te = ap01_dat_te[['Outdoor','Moving Average (RSSI)']]\n",
        "ap01_datY_te = ap01_dat_te[['Distance']]\n",
        "ap02_datX_te = ap02_dat_te[['Outdoor','Moving Average (RSSI)']]\n",
        "ap02_datY_te = ap02_dat_te[['Distance']]\n",
        "ap03_datX_te = ap03_dat_te[['Outdoor','Moving Average (RSSI)']]\n",
        "ap03_datY_te = ap03_dat_te[['Distance']]\n",
        "ap04_datX_te = ap04_dat_te[['Outdoor','Moving Average (RSSI)']]\n",
        "ap04_datY_te = ap04_dat_te[['Distance']]"
      ],
      "execution_count": 155,
      "outputs": []
    },
    {
      "cell_type": "code",
      "metadata": {
        "id": "7VN5Bdl2EoRI"
      },
      "source": [
        "polyfeat = PolynomialFeatures(degree=2)\n",
        "ap01_datX_tr = polyfeat.fit_transform(ap01_datX_tr)\n",
        "ap01_datX_te = polyfeat.transform(ap01_datX_te)\n",
        "polyfeat = PolynomialFeatures(degree=2)\n",
        "ap02_datX_tr = polyfeat.fit_transform(ap02_datX_tr)\n",
        "ap02_datX_te = polyfeat.transform(ap02_datX_te)\n",
        "polyfeat = PolynomialFeatures(degree=2)\n",
        "ap03_datX_tr = polyfeat.fit_transform(ap03_datX_tr)\n",
        "ap03_datX_te = polyfeat.transform(ap03_datX_te)\n",
        "polyfeat = PolynomialFeatures(degree=2)\n",
        "ap04_datX_tr = polyfeat.fit_transform(ap04_datX_tr)\n",
        "ap04_datX_te = polyfeat.transform(ap04_datX_te)"
      ],
      "execution_count": 156,
      "outputs": []
    },
    {
      "cell_type": "code",
      "metadata": {
        "colab": {
          "base_uri": "https://localhost:8080/"
        },
        "id": "uGpEpH8kGnQD",
        "outputId": "4c1ebb72-0c81-4e0a-b760-5e77947bd69b"
      },
      "source": [
        "ada_AP1 = AdaBoostRegressor(n_estimators=25)\n",
        "ada_AP1.fit(ap01_datX_tr,ap01_datY_tr)\n",
        "prediction = ada_AP1.predict(ap01_datX_te)\n",
        "prediction = prediction.reshape(-1,1)"
      ],
      "execution_count": 157,
      "outputs": [
        {
          "output_type": "stream",
          "name": "stderr",
          "text": [
            "/usr/local/lib/python3.7/dist-packages/sklearn/utils/validation.py:985: DataConversionWarning: A column-vector y was passed when a 1d array was expected. Please change the shape of y to (n_samples, ), for example using ravel().\n",
            "  y = column_or_1d(y, warn=True)\n"
          ]
        }
      ]
    },
    {
      "cell_type": "code",
      "metadata": {
        "colab": {
          "base_uri": "https://localhost:8080/",
          "height": 265
        },
        "id": "lwvSIldtHTpF",
        "outputId": "37474aec-61d0-43de-c11b-7ec5154793cf"
      },
      "source": [
        "plt.plot(ap01_datY_te)\n",
        "plt.plot(prediction)\n",
        "plt.show()"
      ],
      "execution_count": 158,
      "outputs": [
        {
          "output_type": "display_data",
          "data": {
            "image/png": "[encoded data removed]",
            "text/plain": [
              "<Figure size 432x288 with 1 Axes>"
            ]
          },
          "metadata": {
            "needs_background": "light"
          }
        }
      ]
    },
    {
      "cell_type": "code",
      "metadata": {
        "colab": {
          "base_uri": "https://localhost:8080/",
          "height": 424
        },
        "id": "9_8atiqMHmpm",
        "outputId": "1ae76539-b176-436b-a022-565bb8f02469"
      },
      "source": [
        "dist_err=((ap01_datY_te-prediction)**2)**0.5\n",
        "df_error = pd.DataFrame(dist_err, columns = ['Distance Error'])\n",
        "dist_err"
      ],
      "execution_count": 163,
      "outputs": [
        {
          "output_type": "execute_result",
          "data": {
            "text/html": [
              "<div>\n",
              "<style scoped>\n",
              "    .dataframe tbody tr th:only-of-type {\n",
              "        vertical-align: middle;\n",
              "    }\n",
              "\n",
              "    .dataframe tbody tr th {\n",
              "        vertical-align: top;\n",
              "    }\n",
              "\n",
              "    .dataframe thead th {\n",
              "        text-align: right;\n",
              "    }\n",
              "</style>\n",
              "<table border=\"1\" class=\"dataframe\">\n",
              "  <thead>\n",
              "    <tr style=\"text-align: right;\">\n",
              "      <th></th>\n",
              "      <th>Distance</th>\n",
              "    </tr>\n",
              "  </thead>\n",
              "  <tbody>\n",
              "    <tr>\n",
              "      <th>0</th>\n",
              "      <td>14.723041</td>\n",
              "    </tr>\n",
              "    <tr>\n",
              "      <th>1</th>\n",
              "      <td>14.723041</td>\n",
              "    </tr>\n",
              "    <tr>\n",
              "      <th>2</th>\n",
              "      <td>14.723041</td>\n",
              "    </tr>\n",
              "    <tr>\n",
              "      <th>3</th>\n",
              "      <td>14.723041</td>\n",
              "    </tr>\n",
              "    <tr>\n",
              "      <th>4</th>\n",
              "      <td>14.723041</td>\n",
              "    </tr>\n",
              "    <tr>\n",
              "      <th>...</th>\n",
              "      <td>...</td>\n",
              "    </tr>\n",
              "    <tr>\n",
              "      <th>270</th>\n",
              "      <td>6.730336</td>\n",
              "    </tr>\n",
              "    <tr>\n",
              "      <th>271</th>\n",
              "      <td>6.730336</td>\n",
              "    </tr>\n",
              "    <tr>\n",
              "      <th>272</th>\n",
              "      <td>10.767781</td>\n",
              "    </tr>\n",
              "    <tr>\n",
              "      <th>273</th>\n",
              "      <td>15.538932</td>\n",
              "    </tr>\n",
              "    <tr>\n",
              "      <th>274</th>\n",
              "      <td>3.979083</td>\n",
              "    </tr>\n",
              "  </tbody>\n",
              "</table>\n",
              "<p>275 rows × 1 columns</p>\n",
              "</div>"
            ],
            "text/plain": [
              "      Distance\n",
              "0    14.723041\n",
              "1    14.723041\n",
              "2    14.723041\n",
              "3    14.723041\n",
              "4    14.723041\n",
              "..         ...\n",
              "270   6.730336\n",
              "271   6.730336\n",
              "272  10.767781\n",
              "273  15.538932\n",
              "274   3.979083\n",
              "\n",
              "[275 rows x 1 columns]"
            ]
          },
          "metadata": {},
          "execution_count": 163
        }
      ]
    },
    {
      "cell_type": "code",
      "metadata": {
        "colab": {
          "base_uri": "https://localhost:8080/"
        },
        "id": "dX6l6QBHH9-J",
        "outputId": "4d408200-486c-40a4-9b34-cf7bdb7795ed"
      },
      "source": [
        "dist_err.mean()"
      ],
      "execution_count": 164,
      "outputs": [
        {
          "output_type": "execute_result",
          "data": {
            "text/plain": [
              "Distance    13.638022\n",
              "dtype: float64"
            ]
          },
          "metadata": {},
          "execution_count": 164
        }
      ]
    },
    {
      "cell_type": "code",
      "metadata": {
        "colab": {
          "base_uri": "https://localhost:8080/"
        },
        "id": "k_lOkihtIA7s",
        "outputId": "bdc3bd16-6255-4403-aba2-c5fe03d542a8"
      },
      "source": [
        "dist_err.max()"
      ],
      "execution_count": 165,
      "outputs": [
        {
          "output_type": "execute_result",
          "data": {
            "text/plain": [
              "Distance    38.332407\n",
              "dtype: float64"
            ]
          },
          "metadata": {},
          "execution_count": 165
        }
      ]
    },
    {
      "cell_type": "code",
      "metadata": {
        "colab": {
          "base_uri": "https://localhost:8080/"
        },
        "id": "hxNgRtEMuwRR",
        "outputId": "93c1d1c8-a835-4421-9183-26924084c3f0"
      },
      "source": [
        "count = len([i for i in list(dist_err['Distance']) if i  < 2])\n",
        "low_error = count / len(list(dist_err['Distance'])) * 100\n",
        "print(\"Percentage of data with less than 2m error : \",low_error)"
      ],
      "execution_count": 166,
      "outputs": [
        {
          "output_type": "stream",
          "name": "stdout",
          "text": [
            "Percentage of data with less than 2m error :  8.727272727272728\n"
          ]
        }
      ]
    },
    {
      "cell_type": "code",
      "metadata": {
        "colab": {
          "base_uri": "https://localhost:8080/"
        },
        "id": "EY8OS3HgQ0dM",
        "outputId": "0d92fa2a-00e4-45c7-abdb-c3f5f1907192"
      },
      "source": [
        "ada_AP2 = AdaBoostRegressor(n_estimators=25)\n",
        "ada_AP2.fit(ap02_datX_tr,ap02_datY_tr)\n",
        "prediction = ada_AP2.predict(ap02_datX_te)\n",
        "prediction = prediction.reshape(-1,1)"
      ],
      "execution_count": 167,
      "outputs": [
        {
          "output_type": "stream",
          "name": "stderr",
          "text": [
            "/usr/local/lib/python3.7/dist-packages/sklearn/utils/validation.py:985: DataConversionWarning: A column-vector y was passed when a 1d array was expected. Please change the shape of y to (n_samples, ), for example using ravel().\n",
            "  y = column_or_1d(y, warn=True)\n"
          ]
        }
      ]
    },
    {
      "cell_type": "code",
      "metadata": {
        "colab": {
          "base_uri": "https://localhost:8080/",
          "height": 268
        },
        "id": "XNa4qNIvQ0dN",
        "outputId": "4104433b-f258-46a7-84f0-e7c862a60833"
      },
      "source": [
        "plt.plot(ap02_datY_te)\n",
        "plt.plot(prediction)\n",
        "plt.show()"
      ],
      "execution_count": 168,
      "outputs": [
        {
          "output_type": "display_data",
          "data": {
            "image/png": "[encoded data removed]",
            "text/plain": [
              "<Figure size 432x288 with 1 Axes>"
            ]
          },
          "metadata": {
            "needs_background": "light"
          }
        }
      ]
    },
    {
      "cell_type": "code",
      "metadata": {
        "colab": {
          "base_uri": "https://localhost:8080/",
          "height": 424
        },
        "id": "s2LogkO9Q0dN",
        "outputId": "ba563f62-90c3-47f7-d59b-e0f655028d73"
      },
      "source": [
        "dist_err=((ap02_datY_te-prediction)**2)**0.5\n",
        "df_error = pd.DataFrame(dist_err, columns = ['Distance Error'])\n",
        "dist_err"
      ],
      "execution_count": 169,
      "outputs": [
        {
          "output_type": "execute_result",
          "data": {
            "text/html": [
              "<div>\n",
              "<style scoped>\n",
              "    .dataframe tbody tr th:only-of-type {\n",
              "        vertical-align: middle;\n",
              "    }\n",
              "\n",
              "    .dataframe tbody tr th {\n",
              "        vertical-align: top;\n",
              "    }\n",
              "\n",
              "    .dataframe thead th {\n",
              "        text-align: right;\n",
              "    }\n",
              "</style>\n",
              "<table border=\"1\" class=\"dataframe\">\n",
              "  <thead>\n",
              "    <tr style=\"text-align: right;\">\n",
              "      <th></th>\n",
              "      <th>Distance</th>\n",
              "    </tr>\n",
              "  </thead>\n",
              "  <tbody>\n",
              "    <tr>\n",
              "      <th>0</th>\n",
              "      <td>12.514937</td>\n",
              "    </tr>\n",
              "    <tr>\n",
              "      <th>1</th>\n",
              "      <td>3.800604</td>\n",
              "    </tr>\n",
              "    <tr>\n",
              "      <th>2</th>\n",
              "      <td>1.498899</td>\n",
              "    </tr>\n",
              "    <tr>\n",
              "      <th>3</th>\n",
              "      <td>8.961715</td>\n",
              "    </tr>\n",
              "    <tr>\n",
              "      <th>4</th>\n",
              "      <td>3.800604</td>\n",
              "    </tr>\n",
              "    <tr>\n",
              "      <th>...</th>\n",
              "      <td>...</td>\n",
              "    </tr>\n",
              "    <tr>\n",
              "      <th>271</th>\n",
              "      <td>11.265753</td>\n",
              "    </tr>\n",
              "    <tr>\n",
              "      <th>272</th>\n",
              "      <td>21.726366</td>\n",
              "    </tr>\n",
              "    <tr>\n",
              "      <th>273</th>\n",
              "      <td>8.964048</td>\n",
              "    </tr>\n",
              "    <tr>\n",
              "      <th>274</th>\n",
              "      <td>8.964048</td>\n",
              "    </tr>\n",
              "    <tr>\n",
              "      <th>275</th>\n",
              "      <td>8.964048</td>\n",
              "    </tr>\n",
              "  </tbody>\n",
              "</table>\n",
              "<p>276 rows × 1 columns</p>\n",
              "</div>"
            ],
            "text/plain": [
              "      Distance\n",
              "0    12.514937\n",
              "1     3.800604\n",
              "2     1.498899\n",
              "3     8.961715\n",
              "4     3.800604\n",
              "..         ...\n",
              "271  11.265753\n",
              "272  21.726366\n",
              "273   8.964048\n",
              "274   8.964048\n",
              "275   8.964048\n",
              "\n",
              "[276 rows x 1 columns]"
            ]
          },
          "metadata": {},
          "execution_count": 169
        }
      ]
    },
    {
      "cell_type": "code",
      "metadata": {
        "colab": {
          "base_uri": "https://localhost:8080/"
        },
        "id": "2PndooQ2Q0dN",
        "outputId": "7234ccb1-76d4-4732-8356-0b62ffc84eea"
      },
      "source": [
        "dist_err.mean()"
      ],
      "execution_count": 170,
      "outputs": [
        {
          "output_type": "execute_result",
          "data": {
            "text/plain": [
              "Distance    14.897885\n",
              "dtype: float64"
            ]
          },
          "metadata": {},
          "execution_count": 170
        }
      ]
    },
    {
      "cell_type": "code",
      "metadata": {
        "colab": {
          "base_uri": "https://localhost:8080/"
        },
        "id": "p7ypAhXsQ0dN",
        "outputId": "5e9b958a-5ce9-4720-b72a-84b4d9b6f4bb"
      },
      "source": [
        "dist_err.max()"
      ],
      "execution_count": 171,
      "outputs": [
        {
          "output_type": "execute_result",
          "data": {
            "text/plain": [
              "Distance    30.101564\n",
              "dtype: float64"
            ]
          },
          "metadata": {},
          "execution_count": 171
        }
      ]
    },
    {
      "cell_type": "code",
      "metadata": {
        "colab": {
          "base_uri": "https://localhost:8080/"
        },
        "id": "FasRYxH1uznl",
        "outputId": "3cc4248c-33ff-4a0a-912a-e7a9063abb86"
      },
      "source": [
        "count = len([i for i in list(dist_err['Distance']) if i  < 2])\n",
        "low_error = count / len(list(dist_err['Distance'])) * 100\n",
        "print(\"Percentage of data with less than 2m error : \",low_error)"
      ],
      "execution_count": 172,
      "outputs": [
        {
          "output_type": "stream",
          "name": "stdout",
          "text": [
            "Percentage of data with less than 2m error :  2.1739130434782608\n"
          ]
        }
      ]
    },
    {
      "cell_type": "code",
      "metadata": {
        "colab": {
          "base_uri": "https://localhost:8080/"
        },
        "id": "IDh5mjPHQ4TB",
        "outputId": "60e8703e-e8ec-42d4-81da-8f8d5b0464aa"
      },
      "source": [
        "ada_AP3 = AdaBoostRegressor(n_estimators=25)\n",
        "ada_AP3.fit(ap03_datX_tr,ap03_datY_tr)\n",
        "prediction = ada_AP3.predict(ap03_datX_te)\n",
        "prediction = prediction.reshape(-1,1)"
      ],
      "execution_count": 173,
      "outputs": [
        {
          "output_type": "stream",
          "name": "stderr",
          "text": [
            "/usr/local/lib/python3.7/dist-packages/sklearn/utils/validation.py:985: DataConversionWarning: A column-vector y was passed when a 1d array was expected. Please change the shape of y to (n_samples, ), for example using ravel().\n",
            "  y = column_or_1d(y, warn=True)\n"
          ]
        }
      ]
    },
    {
      "cell_type": "code",
      "metadata": {
        "colab": {
          "base_uri": "https://localhost:8080/",
          "height": 265
        },
        "id": "JuS9u2yUQ4TB",
        "outputId": "2588f522-fe69-4cb3-b63f-4d09753ad73e"
      },
      "source": [
        "plt.plot(ap03_datY_te)\n",
        "plt.plot(prediction)\n",
        "plt.show()"
      ],
      "execution_count": 174,
      "outputs": [
        {
          "output_type": "display_data",
          "data": {
            "image/png": "[encoded data removed]",
            "text/plain": [
              "<Figure size 432x288 with 1 Axes>"
            ]
          },
          "metadata": {
            "needs_background": "light"
          }
        }
      ]
    },
    {
      "cell_type": "code",
      "metadata": {
        "colab": {
          "base_uri": "https://localhost:8080/",
          "height": 424
        },
        "id": "fCIJa2Q8Q4TC",
        "outputId": "e2d6e9d8-9d83-4ba1-f595-f74c9e65c52e"
      },
      "source": [
        "dist_err=((ap03_datY_te-prediction)**2)**0.5\n",
        "df_error = pd.DataFrame(dist_err, columns = ['Distance Error'])\n",
        "dist_err"
      ],
      "execution_count": 175,
      "outputs": [
        {
          "output_type": "execute_result",
          "data": {
            "text/html": [
              "<div>\n",
              "<style scoped>\n",
              "    .dataframe tbody tr th:only-of-type {\n",
              "        vertical-align: middle;\n",
              "    }\n",
              "\n",
              "    .dataframe tbody tr th {\n",
              "        vertical-align: top;\n",
              "    }\n",
              "\n",
              "    .dataframe thead th {\n",
              "        text-align: right;\n",
              "    }\n",
              "</style>\n",
              "<table border=\"1\" class=\"dataframe\">\n",
              "  <thead>\n",
              "    <tr style=\"text-align: right;\">\n",
              "      <th></th>\n",
              "      <th>Distance</th>\n",
              "    </tr>\n",
              "  </thead>\n",
              "  <tbody>\n",
              "    <tr>\n",
              "      <th>0</th>\n",
              "      <td>11.614014</td>\n",
              "    </tr>\n",
              "    <tr>\n",
              "      <th>1</th>\n",
              "      <td>11.614014</td>\n",
              "    </tr>\n",
              "    <tr>\n",
              "      <th>2</th>\n",
              "      <td>11.614014</td>\n",
              "    </tr>\n",
              "    <tr>\n",
              "      <th>3</th>\n",
              "      <td>11.614014</td>\n",
              "    </tr>\n",
              "    <tr>\n",
              "      <th>4</th>\n",
              "      <td>11.614014</td>\n",
              "    </tr>\n",
              "    <tr>\n",
              "      <th>...</th>\n",
              "      <td>...</td>\n",
              "    </tr>\n",
              "    <tr>\n",
              "      <th>270</th>\n",
              "      <td>0.911712</td>\n",
              "    </tr>\n",
              "    <tr>\n",
              "      <th>271</th>\n",
              "      <td>0.911712</td>\n",
              "    </tr>\n",
              "    <tr>\n",
              "      <th>272</th>\n",
              "      <td>0.878847</td>\n",
              "    </tr>\n",
              "    <tr>\n",
              "      <th>273</th>\n",
              "      <td>0.878847</td>\n",
              "    </tr>\n",
              "    <tr>\n",
              "      <th>274</th>\n",
              "      <td>0.878847</td>\n",
              "    </tr>\n",
              "  </tbody>\n",
              "</table>\n",
              "<p>275 rows × 1 columns</p>\n",
              "</div>"
            ],
            "text/plain": [
              "      Distance\n",
              "0    11.614014\n",
              "1    11.614014\n",
              "2    11.614014\n",
              "3    11.614014\n",
              "4    11.614014\n",
              "..         ...\n",
              "270   0.911712\n",
              "271   0.911712\n",
              "272   0.878847\n",
              "273   0.878847\n",
              "274   0.878847\n",
              "\n",
              "[275 rows x 1 columns]"
            ]
          },
          "metadata": {},
          "execution_count": 175
        }
      ]
    },
    {
      "cell_type": "code",
      "metadata": {
        "colab": {
          "base_uri": "https://localhost:8080/"
        },
        "id": "8GqBiA3qQ4TC",
        "outputId": "c06b7067-2a7e-4afd-9718-43660212138b"
      },
      "source": [
        "dist_err.mean()"
      ],
      "execution_count": 176,
      "outputs": [
        {
          "output_type": "execute_result",
          "data": {
            "text/plain": [
              "Distance    9.468714\n",
              "dtype: float64"
            ]
          },
          "metadata": {},
          "execution_count": 176
        }
      ]
    },
    {
      "cell_type": "code",
      "metadata": {
        "colab": {
          "base_uri": "https://localhost:8080/"
        },
        "id": "B5jaPtH7Q4TC",
        "outputId": "0207fd87-4256-459e-93db-dadd30b93b38"
      },
      "source": [
        "dist_err.max()"
      ],
      "execution_count": 177,
      "outputs": [
        {
          "output_type": "execute_result",
          "data": {
            "text/plain": [
              "Distance    24.106562\n",
              "dtype: float64"
            ]
          },
          "metadata": {},
          "execution_count": 177
        }
      ]
    },
    {
      "cell_type": "code",
      "metadata": {
        "colab": {
          "base_uri": "https://localhost:8080/"
        },
        "id": "zA6ns9OSu1cm",
        "outputId": "2314bb49-8b22-4f44-f3e0-bb639a45b7ed"
      },
      "source": [
        "count = len([i for i in list(dist_err['Distance']) if i  < 2])\n",
        "low_error = count / len(list(dist_err['Distance'])) * 100\n",
        "print(\"Percentage of data with less than 2m error : \",low_error)"
      ],
      "execution_count": 178,
      "outputs": [
        {
          "output_type": "stream",
          "name": "stdout",
          "text": [
            "Percentage of data with less than 2m error :  15.272727272727273\n"
          ]
        }
      ]
    },
    {
      "cell_type": "code",
      "metadata": {
        "colab": {
          "base_uri": "https://localhost:8080/"
        },
        "id": "6qSNOIx-Q5WU",
        "outputId": "c392254e-2ef6-4a3c-85ea-8fe637a2e094"
      },
      "source": [
        "ada_AP4 = AdaBoostRegressor(n_estimators=25)\n",
        "ada_AP4.fit(ap04_datX_tr,ap04_datY_tr)\n",
        "prediction = ada_AP4.predict(ap04_datX_te)\n",
        "prediction = prediction.reshape(-1,1)"
      ],
      "execution_count": 179,
      "outputs": [
        {
          "output_type": "stream",
          "name": "stderr",
          "text": [
            "/usr/local/lib/python3.7/dist-packages/sklearn/utils/validation.py:985: DataConversionWarning: A column-vector y was passed when a 1d array was expected. Please change the shape of y to (n_samples, ), for example using ravel().\n",
            "  y = column_or_1d(y, warn=True)\n"
          ]
        }
      ]
    },
    {
      "cell_type": "code",
      "metadata": {
        "colab": {
          "base_uri": "https://localhost:8080/",
          "height": 265
        },
        "id": "zgPSQG57Q5WV",
        "outputId": "fb6df047-76db-4eb7-8fc9-1fb6160ba8b2"
      },
      "source": [
        "plt.plot(ap04_datY_te)\n",
        "plt.plot(prediction)\n",
        "plt.show()"
      ],
      "execution_count": 180,
      "outputs": [
        {
          "output_type": "display_data",
          "data": {
            "image/png": "[encoded data removed]",
            "text/plain": [
              "<Figure size 432x288 with 1 Axes>"
            ]
          },
          "metadata": {
            "needs_background": "light"
          }
        }
      ]
    },
    {
      "cell_type": "code",
      "metadata": {
        "colab": {
          "base_uri": "https://localhost:8080/",
          "height": 424
        },
        "id": "onYj8hdyQ5WV",
        "outputId": "b0221d9d-7c9e-4a3c-cb48-d5e60d87e146"
      },
      "source": [
        "dist_err=((ap04_datY_te-prediction)**2)**0.5\n",
        "df_error = pd.DataFrame(dist_err, columns = ['Distance Error'])\n",
        "dist_err"
      ],
      "execution_count": 181,
      "outputs": [
        {
          "output_type": "execute_result",
          "data": {
            "text/html": [
              "<div>\n",
              "<style scoped>\n",
              "    .dataframe tbody tr th:only-of-type {\n",
              "        vertical-align: middle;\n",
              "    }\n",
              "\n",
              "    .dataframe tbody tr th {\n",
              "        vertical-align: top;\n",
              "    }\n",
              "\n",
              "    .dataframe thead th {\n",
              "        text-align: right;\n",
              "    }\n",
              "</style>\n",
              "<table border=\"1\" class=\"dataframe\">\n",
              "  <thead>\n",
              "    <tr style=\"text-align: right;\">\n",
              "      <th></th>\n",
              "      <th>Distance</th>\n",
              "    </tr>\n",
              "  </thead>\n",
              "  <tbody>\n",
              "    <tr>\n",
              "      <th>0</th>\n",
              "      <td>7.798348</td>\n",
              "    </tr>\n",
              "    <tr>\n",
              "      <th>1</th>\n",
              "      <td>7.798348</td>\n",
              "    </tr>\n",
              "    <tr>\n",
              "      <th>2</th>\n",
              "      <td>7.798348</td>\n",
              "    </tr>\n",
              "    <tr>\n",
              "      <th>3</th>\n",
              "      <td>7.798348</td>\n",
              "    </tr>\n",
              "    <tr>\n",
              "      <th>4</th>\n",
              "      <td>7.798348</td>\n",
              "    </tr>\n",
              "    <tr>\n",
              "      <th>...</th>\n",
              "      <td>...</td>\n",
              "    </tr>\n",
              "    <tr>\n",
              "      <th>270</th>\n",
              "      <td>11.067417</td>\n",
              "    </tr>\n",
              "    <tr>\n",
              "      <th>271</th>\n",
              "      <td>11.067417</td>\n",
              "    </tr>\n",
              "    <tr>\n",
              "      <th>272</th>\n",
              "      <td>11.067417</td>\n",
              "    </tr>\n",
              "    <tr>\n",
              "      <th>273</th>\n",
              "      <td>11.067417</td>\n",
              "    </tr>\n",
              "    <tr>\n",
              "      <th>274</th>\n",
              "      <td>11.067417</td>\n",
              "    </tr>\n",
              "  </tbody>\n",
              "</table>\n",
              "<p>275 rows × 1 columns</p>\n",
              "</div>"
            ],
            "text/plain": [
              "      Distance\n",
              "0     7.798348\n",
              "1     7.798348\n",
              "2     7.798348\n",
              "3     7.798348\n",
              "4     7.798348\n",
              "..         ...\n",
              "270  11.067417\n",
              "271  11.067417\n",
              "272  11.067417\n",
              "273  11.067417\n",
              "274  11.067417\n",
              "\n",
              "[275 rows x 1 columns]"
            ]
          },
          "metadata": {},
          "execution_count": 181
        }
      ]
    },
    {
      "cell_type": "code",
      "metadata": {
        "colab": {
          "base_uri": "https://localhost:8080/"
        },
        "id": "esOElQT9Q5WW",
        "outputId": "7126f383-6918-4a30-ef47-58c51bd2158a"
      },
      "source": [
        "dist_err.mean()"
      ],
      "execution_count": 182,
      "outputs": [
        {
          "output_type": "execute_result",
          "data": {
            "text/plain": [
              "Distance    13.569597\n",
              "dtype: float64"
            ]
          },
          "metadata": {},
          "execution_count": 182
        }
      ]
    },
    {
      "cell_type": "code",
      "metadata": {
        "colab": {
          "base_uri": "https://localhost:8080/"
        },
        "id": "Nc3CotvfQ5WW",
        "outputId": "f7071dcd-5904-4bb7-fdeb-3f2e24fdd46b"
      },
      "source": [
        "dist_err.max()"
      ],
      "execution_count": 183,
      "outputs": [
        {
          "output_type": "execute_result",
          "data": {
            "text/plain": [
              "Distance    26.77563\n",
              "dtype: float64"
            ]
          },
          "metadata": {},
          "execution_count": 183
        }
      ]
    },
    {
      "cell_type": "code",
      "metadata": {
        "colab": {
          "base_uri": "https://localhost:8080/"
        },
        "id": "UQobP4r_u2_B",
        "outputId": "db60747f-c73e-42ce-940a-0616f31ae6ab"
      },
      "source": [
        "count = len([i for i in list(dist_err['Distance']) if i  < 2])\n",
        "low_error = count / len(list(dist_err['Distance'])) * 100\n",
        "print(\"Percentage of data with less than 2m error : \",low_error)"
      ],
      "execution_count": 184,
      "outputs": [
        {
          "output_type": "stream",
          "name": "stdout",
          "text": [
            "Percentage of data with less than 2m error :  8.363636363636363\n"
          ]
        }
      ]
    },
    {
      "cell_type": "markdown",
      "metadata": {
        "id": "9FBMb7hCtRA8"
      },
      "source": [
        "Direct estimation of Latitude and Longitude using AdaBoost"
      ]
    },
    {
      "cell_type": "code",
      "metadata": {
        "id": "t6eBqLnnoIbX"
      },
      "source": [
        "ap01_datX_tr = ap01_dat_tr[['Latitude_AP','Longitude_AP','Outdoor','Moving Average (RSSI)']]\n",
        "ap01_datY_tr = ap01_dat_tr[['Latitude_OP','Longitude_OP']]\n",
        "ap02_datX_tr = ap02_dat_tr[['Latitude_AP','Longitude_AP','Outdoor','Moving Average (RSSI)']]\n",
        "ap02_datY_tr = ap02_dat_tr[['Latitude_OP','Longitude_OP']]\n",
        "ap03_datX_tr = ap03_dat_tr[['Latitude_AP','Longitude_AP','Outdoor','Moving Average (RSSI)']]\n",
        "ap03_datY_tr = ap03_dat_tr[['Latitude_OP','Longitude_OP']]\n",
        "ap04_datX_tr = ap04_dat_tr[['Latitude_AP','Longitude_AP','Outdoor','Moving Average (RSSI)']]\n",
        "ap04_datY_tr = ap04_dat_tr[['Latitude_OP','Longitude_OP']]\n",
        "ap01_datX_te = ap01_dat_te[['Latitude_AP','Longitude_AP','Outdoor','Moving Average (RSSI)']]\n",
        "ap01_datY_te = ap01_dat_te[['Latitude_OP','Longitude_OP']]\n",
        "ap02_datX_te = ap02_dat_te[['Latitude_AP','Longitude_AP','Outdoor','Moving Average (RSSI)']]\n",
        "ap02_datY_te = ap02_dat_te[['Latitude_OP','Longitude_OP']]\n",
        "ap03_datX_te = ap03_dat_te[['Latitude_AP','Longitude_AP','Outdoor','Moving Average (RSSI)']]\n",
        "ap03_datY_te = ap03_dat_te[['Latitude_OP','Longitude_OP']]\n",
        "ap04_datX_te = ap04_dat_te[['Latitude_AP','Longitude_AP','Outdoor','Moving Average (RSSI)']]\n",
        "ap04_datY_te = ap04_dat_te[['Latitude_OP','Longitude_OP']]"
      ],
      "execution_count": 185,
      "outputs": []
    },
    {
      "cell_type": "code",
      "metadata": {
        "colab": {
          "base_uri": "https://localhost:8080/",
          "height": 424
        },
        "id": "gBK4MfbUn18i",
        "outputId": "c20a48a5-510b-4441-eeb7-f97787c8a6e9"
      },
      "source": [
        "ap01_datY_tr"
      ],
      "execution_count": 186,
      "outputs": [
        {
          "output_type": "execute_result",
          "data": {
            "text/html": [
              "<div>\n",
              "<style scoped>\n",
              "    .dataframe tbody tr th:only-of-type {\n",
              "        vertical-align: middle;\n",
              "    }\n",
              "\n",
              "    .dataframe tbody tr th {\n",
              "        vertical-align: top;\n",
              "    }\n",
              "\n",
              "    .dataframe thead th {\n",
              "        text-align: right;\n",
              "    }\n",
              "</style>\n",
              "<table border=\"1\" class=\"dataframe\">\n",
              "  <thead>\n",
              "    <tr style=\"text-align: right;\">\n",
              "      <th></th>\n",
              "      <th>Latitude_OP</th>\n",
              "      <th>Longitude_OP</th>\n",
              "    </tr>\n",
              "  </thead>\n",
              "  <tbody>\n",
              "    <tr>\n",
              "      <th>0</th>\n",
              "      <td>35.157140</td>\n",
              "      <td>136.926306</td>\n",
              "    </tr>\n",
              "    <tr>\n",
              "      <th>1</th>\n",
              "      <td>35.157140</td>\n",
              "      <td>136.926306</td>\n",
              "    </tr>\n",
              "    <tr>\n",
              "      <th>2</th>\n",
              "      <td>35.157140</td>\n",
              "      <td>136.926306</td>\n",
              "    </tr>\n",
              "    <tr>\n",
              "      <th>3</th>\n",
              "      <td>35.157140</td>\n",
              "      <td>136.926306</td>\n",
              "    </tr>\n",
              "    <tr>\n",
              "      <th>4</th>\n",
              "      <td>35.157140</td>\n",
              "      <td>136.926306</td>\n",
              "    </tr>\n",
              "    <tr>\n",
              "      <th>...</th>\n",
              "      <td>...</td>\n",
              "      <td>...</td>\n",
              "    </tr>\n",
              "    <tr>\n",
              "      <th>264</th>\n",
              "      <td>35.157236</td>\n",
              "      <td>136.926489</td>\n",
              "    </tr>\n",
              "    <tr>\n",
              "      <th>265</th>\n",
              "      <td>35.157236</td>\n",
              "      <td>136.926489</td>\n",
              "    </tr>\n",
              "    <tr>\n",
              "      <th>266</th>\n",
              "      <td>35.157236</td>\n",
              "      <td>136.926489</td>\n",
              "    </tr>\n",
              "    <tr>\n",
              "      <th>267</th>\n",
              "      <td>35.157236</td>\n",
              "      <td>136.926489</td>\n",
              "    </tr>\n",
              "    <tr>\n",
              "      <th>268</th>\n",
              "      <td>35.157236</td>\n",
              "      <td>136.926489</td>\n",
              "    </tr>\n",
              "  </tbody>\n",
              "</table>\n",
              "<p>269 rows × 2 columns</p>\n",
              "</div>"
            ],
            "text/plain": [
              "     Latitude_OP  Longitude_OP\n",
              "0      35.157140    136.926306\n",
              "1      35.157140    136.926306\n",
              "2      35.157140    136.926306\n",
              "3      35.157140    136.926306\n",
              "4      35.157140    136.926306\n",
              "..           ...           ...\n",
              "264    35.157236    136.926489\n",
              "265    35.157236    136.926489\n",
              "266    35.157236    136.926489\n",
              "267    35.157236    136.926489\n",
              "268    35.157236    136.926489\n",
              "\n",
              "[269 rows x 2 columns]"
            ]
          },
          "metadata": {},
          "execution_count": 186
        }
      ]
    },
    {
      "cell_type": "code",
      "metadata": {
        "id": "6V37WpLnq1Qf"
      },
      "source": [
        "ada_AP1_Lat = AdaBoostRegressor(n_estimators=25)\n",
        "ada_AP1_Lat.fit(ap01_datX_tr,ap01_datY_tr['Latitude_OP'])\n",
        "prediction1_Lat = ada_AP1_Lat.predict(ap01_datX_te)\n",
        "prediction1_Lat = pd.DataFrame(prediction1_Lat.reshape(-1,1),columns=['Latitude'])\n",
        "ada_AP1_Lon = AdaBoostRegressor(n_estimators=25)\n",
        "ada_AP1_Lon.fit(ap01_datX_tr,ap01_datY_tr['Longitude_OP'])\n",
        "prediction1_Lon = ada_AP1_Lon.predict(ap01_datX_te)\n",
        "prediction1_Lon = pd.DataFrame(prediction1_Lon.reshape(-1,1),columns=['Longitude'])"
      ],
      "execution_count": 187,
      "outputs": []
    },
    {
      "cell_type": "code",
      "metadata": {
        "colab": {
          "base_uri": "https://localhost:8080/"
        },
        "id": "G_UV4BX9n9Ef",
        "outputId": "562d149b-da68-462e-f52d-9fb26a21e4f8"
      },
      "source": [
        "pred1 = pd.concat([prediction1_Lat,prediction1_Lon],axis=1)\n",
        "pred['dist_err'] = (((pred1['Latitude']-ap01_datY_tr['Latitude_OP'])*111000)**2 + (((pred1['Longitude']-ap01_datY_tr['Longitude_OP'])*111000)**2))**0.5\n",
        "pred['dist_err'].mean()"
      ],
      "execution_count": 188,
      "outputs": [
        {
          "output_type": "execute_result",
          "data": {
            "text/plain": [
              "19.723402427225682"
            ]
          },
          "metadata": {},
          "execution_count": 188
        }
      ]
    },
    {
      "cell_type": "code",
      "metadata": {
        "colab": {
          "base_uri": "https://localhost:8080/"
        },
        "id": "9VPacxyFqfHp",
        "outputId": "9623b0a3-cd66-49fd-b093-9fdecfd693bb"
      },
      "source": [
        "pred['dist_err'].max()"
      ],
      "execution_count": 189,
      "outputs": [
        {
          "output_type": "execute_result",
          "data": {
            "text/plain": [
              "40.16723451547242"
            ]
          },
          "metadata": {},
          "execution_count": 189
        }
      ]
    },
    {
      "cell_type": "code",
      "metadata": {
        "colab": {
          "base_uri": "https://localhost:8080/"
        },
        "id": "QYRBPti2u4hA",
        "outputId": "06b2a8ed-516b-4b8a-bfc2-227b78db7194"
      },
      "source": [
        "count = len([i for i in list(pred['dist_err']) if i  < 2])\n",
        "low_error = count / len(list(pred['dist_err'])) * 100\n",
        "print(\"Percentage of data with less than 2m error : \",low_error)"
      ],
      "execution_count": 190,
      "outputs": [
        {
          "output_type": "stream",
          "name": "stdout",
          "text": [
            "Percentage of data with less than 2m error :  1.725703905540418\n"
          ]
        }
      ]
    },
    {
      "cell_type": "code",
      "metadata": {
        "id": "kHqqTOhKq8UH"
      },
      "source": [
        "ada_AP2_Lat = AdaBoostRegressor(n_estimators=25)\n",
        "ada_AP2_Lat.fit(ap02_datX_tr,ap02_datY_tr['Latitude_OP'])\n",
        "prediction2_Lat = ada_AP2_Lat.predict(ap02_datX_te)\n",
        "prediction2_Lat = pd.DataFrame(prediction2_Lat.reshape(-1,1),columns=['Latitude'])\n",
        "ada_AP2_Lon = AdaBoostRegressor(n_estimators=25)\n",
        "ada_AP2_Lon.fit(ap02_datX_tr,ap01_datY_tr['Longitude_OP'])\n",
        "prediction2_Lon = ada_AP2_Lon.predict(ap02_datX_te)\n",
        "prediction2_Lon = pd.DataFrame(prediction2_Lon.reshape(-1,1),columns=['Longitude'])"
      ],
      "execution_count": 191,
      "outputs": []
    },
    {
      "cell_type": "code",
      "metadata": {
        "colab": {
          "base_uri": "https://localhost:8080/"
        },
        "id": "OpoPN7B1q8UH",
        "outputId": "8366f095-3fac-402b-cc1a-2968aa423c6e"
      },
      "source": [
        "pred2 = pd.concat([prediction2_Lat,prediction2_Lon],axis=1)\n",
        "pred['dist_err'] = (((pred2['Latitude']-ap02_datY_tr['Latitude_OP'])*111000)**2 + (((pred2['Longitude']-ap02_datY_tr['Longitude_OP'])*111000)**2))**0.5\n",
        "pred['dist_err'].mean()"
      ],
      "execution_count": 192,
      "outputs": [
        {
          "output_type": "execute_result",
          "data": {
            "text/plain": [
              "17.17507671525532"
            ]
          },
          "metadata": {},
          "execution_count": 192
        }
      ]
    },
    {
      "cell_type": "code",
      "metadata": {
        "colab": {
          "base_uri": "https://localhost:8080/"
        },
        "id": "69WIb8Ghq8UI",
        "outputId": "ad181caf-fa50-42a4-d154-b9debdeaf0d0"
      },
      "source": [
        "pred['dist_err'].max()"
      ],
      "execution_count": 193,
      "outputs": [
        {
          "output_type": "execute_result",
          "data": {
            "text/plain": [
              "34.93098796039522"
            ]
          },
          "metadata": {},
          "execution_count": 193
        }
      ]
    },
    {
      "cell_type": "code",
      "metadata": {
        "colab": {
          "base_uri": "https://localhost:8080/"
        },
        "id": "ugR_nxHfu7wB",
        "outputId": "63727900-901e-483c-fd37-a9ab8f53c232"
      },
      "source": [
        "count = len([i for i in list(pred['dist_err']) if i  < 2])\n",
        "low_error = count / len(list(pred['dist_err'])) * 100\n",
        "print(\"Percentage of data with less than 2m error : \",low_error)"
      ],
      "execution_count": 194,
      "outputs": [
        {
          "output_type": "stream",
          "name": "stdout",
          "text": [
            "Percentage of data with less than 2m error :  3.7238873751135335\n"
          ]
        }
      ]
    },
    {
      "cell_type": "code",
      "metadata": {
        "id": "UpnKwTisq9Qp"
      },
      "source": [
        "ada_AP3_Lat = AdaBoostRegressor(n_estimators=25)\n",
        "ada_AP3_Lat.fit(ap03_datX_tr,ap03_datY_tr['Latitude_OP'])\n",
        "prediction3_Lat = ada_AP3_Lat.predict(ap03_datX_te)\n",
        "prediction3_Lat = pd.DataFrame(prediction3_Lat.reshape(-1,1),columns=['Latitude'])\n",
        "ada_AP3_Lon = AdaBoostRegressor(n_estimators=25)\n",
        "ada_AP3_Lon.fit(ap03_datX_tr,ap03_datY_tr['Longitude_OP'])\n",
        "prediction3_Lon = ada_AP3_Lon.predict(ap03_datX_te)\n",
        "prediction3_Lon = pd.DataFrame(prediction3_Lon.reshape(-1,1),columns=['Longitude'])"
      ],
      "execution_count": 195,
      "outputs": []
    },
    {
      "cell_type": "code",
      "metadata": {
        "colab": {
          "base_uri": "https://localhost:8080/"
        },
        "id": "2xZWM0j5q9Qq",
        "outputId": "edec93ad-68d6-4643-d8ce-5367c29b4d09"
      },
      "source": [
        "pred3 = pd.concat([prediction3_Lat,prediction3_Lon],axis=1)\n",
        "pred['dist_err'] = (((pred3['Latitude']-ap03_datY_tr['Latitude_OP'])*111000)**2 + (((pred3['Longitude']-ap03_datY_tr['Longitude_OP'])*111000)**2))**0.5\n",
        "pred['dist_err'].mean()"
      ],
      "execution_count": 196,
      "outputs": [
        {
          "output_type": "execute_result",
          "data": {
            "text/plain": [
              "15.829584458315654"
            ]
          },
          "metadata": {},
          "execution_count": 196
        }
      ]
    },
    {
      "cell_type": "code",
      "metadata": {
        "colab": {
          "base_uri": "https://localhost:8080/"
        },
        "id": "YMFO0dwxq9Qq",
        "outputId": "f937e8f9-1f87-40b0-fdcd-daef13dff66f"
      },
      "source": [
        "pred['dist_err'].max()"
      ],
      "execution_count": 197,
      "outputs": [
        {
          "output_type": "execute_result",
          "data": {
            "text/plain": [
              "40.246158168422504"
            ]
          },
          "metadata": {},
          "execution_count": 197
        }
      ]
    },
    {
      "cell_type": "code",
      "metadata": {
        "colab": {
          "base_uri": "https://localhost:8080/"
        },
        "id": "npMM1C44u9-9",
        "outputId": "a1610092-9172-4761-99e4-66ffd47f69cd"
      },
      "source": [
        "count = len([i for i in list(pred['dist_err']) if i  < 2])\n",
        "low_error = count / len(list(pred['dist_err'])) * 100\n",
        "print(\"Percentage of data with less than 2m error : \",low_error)"
      ],
      "execution_count": 198,
      "outputs": [
        {
          "output_type": "stream",
          "name": "stdout",
          "text": [
            "Percentage of data with less than 2m error :  0.0\n"
          ]
        }
      ]
    },
    {
      "cell_type": "code",
      "metadata": {
        "id": "5ldfq5sPq-QK"
      },
      "source": [
        "ada_AP4_Lat = AdaBoostRegressor(n_estimators=25)\n",
        "ada_AP4_Lat.fit(ap04_datX_tr,ap04_datY_tr['Latitude_OP'])\n",
        "prediction4_Lat = ada_AP4_Lat.predict(ap04_datX_te)\n",
        "prediction4_Lat = pd.DataFrame(prediction4_Lat.reshape(-1,1),columns=['Latitude'])\n",
        "ada_AP4_Lon = AdaBoostRegressor(n_estimators=25)\n",
        "ada_AP4_Lon.fit(ap04_datX_tr,ap04_datY_tr['Longitude_OP'])\n",
        "prediction4_Lon = ada_AP4_Lon.predict(ap04_datX_te)\n",
        "prediction4_Lon = pd.DataFrame(prediction4_Lon.reshape(-1,1),columns=['Longitude'])"
      ],
      "execution_count": 199,
      "outputs": []
    },
    {
      "cell_type": "code",
      "metadata": {
        "colab": {
          "base_uri": "https://localhost:8080/"
        },
        "id": "zZA8Zx78q-QK",
        "outputId": "e563820d-fc6d-4b42-9707-2e796a9e30c6"
      },
      "source": [
        "pred4 = pd.concat([prediction4_Lat,prediction4_Lon],axis=1)\n",
        "pred['dist_err'] = (((pred4['Latitude']-ap04_datY_tr['Latitude_OP'])*111000)**2 + (((pred4['Longitude']-ap04_datY_tr['Longitude_OP'])*111000)**2))**0.5\n",
        "pred['dist_err'].mean()"
      ],
      "execution_count": 200,
      "outputs": [
        {
          "output_type": "execute_result",
          "data": {
            "text/plain": [
              "44.73269661180082"
            ]
          },
          "metadata": {},
          "execution_count": 200
        }
      ]
    },
    {
      "cell_type": "code",
      "metadata": {
        "colab": {
          "base_uri": "https://localhost:8080/"
        },
        "id": "WoplEOa2q-QL",
        "outputId": "ab4ceec0-b866-4a0c-82a2-0a94dfd420c8"
      },
      "source": [
        "pred['dist_err'].max()"
      ],
      "execution_count": 201,
      "outputs": [
        {
          "output_type": "execute_result",
          "data": {
            "text/plain": [
              "64.21984701857666"
            ]
          },
          "metadata": {},
          "execution_count": 201
        }
      ]
    },
    {
      "cell_type": "code",
      "metadata": {
        "colab": {
          "base_uri": "https://localhost:8080/"
        },
        "id": "RMg7LXxIu_2V",
        "outputId": "3e3031c6-49bf-45da-b265-adad092d7cfa"
      },
      "source": [
        "count = len([i for i in list(pred['dist_err']) if i  < 2])\n",
        "low_error = count / len(list(pred['dist_err'])) * 100\n",
        "print(\"Percentage of data with less than 2m error : \",low_error)"
      ],
      "execution_count": 202,
      "outputs": [
        {
          "output_type": "stream",
          "name": "stdout",
          "text": [
            "Percentage of data with less than 2m error :  1.08991825613079\n"
          ]
        }
      ]
    },
    {
      "cell_type": "markdown",
      "metadata": {
        "id": "SI4ibXg8roXy"
      },
      "source": [
        "### 2. RSSI Fingerprinting\n",
        "\n",
        "Fingerprinting of RSSI gives us a map of the RSSI throughout the area of inspection, it is effective for both indoor and outdoor experimental conditions. However, many data points uniformly spread throughout the area, gives the model a better understanding, which is not available in this scenario.\n",
        "\n",
        "###(i) KNN - Regressor\n",
        "\n",
        "We have used KNN regressor to predict reference point locations using the concept of RSSI Fingerprinting."
      ]
    },
    {
      "cell_type": "code",
      "metadata": {
        "id": "ft_uMU2zdpiO"
      },
      "source": [
        "from sklearn import neighbors\n",
        "from sklearn.metrics import mean_squared_error \n",
        "from math import sqrt\n",
        "import matplotlib.pyplot as plt\n",
        "%matplotlib inline"
      ],
      "execution_count": 203,
      "outputs": []
    },
    {
      "cell_type": "code",
      "metadata": {
        "colab": {
          "base_uri": "https://localhost:8080/"
        },
        "id": "w6p2wUaWmiYi",
        "outputId": "f1e11eaa-e00f-4c7d-f951-d4209ce68abf"
      },
      "source": [
        "rmse_val = [] #to store rmse values for different k\n",
        "for K in range(13):\n",
        "    K = K+1\n",
        "    model = neighbors.KNeighborsRegressor(n_neighbors = K)\n",
        "\n",
        "    model.fit(newtrain_X, trainY_final[['Latitude_OP','Longitude_OP']])  #fit the model\n",
        "    pred=model.predict(newtest_X) #make prediction on test set\n",
        "    error = sqrt(mean_squared_error(testY_final[['Latitude_OP','Longitude_OP']],pred)) #calculate rmse\n",
        "    rmse_val.append(error) #store rmse values\n",
        "    print('RMSE value for k= ' , K , 'is:', error)"
      ],
      "execution_count": 204,
      "outputs": [
        {
          "output_type": "stream",
          "name": "stdout",
          "text": [
            "RMSE value for k=  1 is: 0.00019403133450176412\n",
            "RMSE value for k=  2 is: 0.00017599442745989613\n",
            "RMSE value for k=  3 is: 0.00015660253439955558\n",
            "RMSE value for k=  4 is: 0.00014742622766071331\n",
            "RMSE value for k=  5 is: 0.00014352280953079433\n",
            "RMSE value for k=  6 is: 0.00014236459141663612\n",
            "RMSE value for k=  7 is: 0.00014152271060345912\n",
            "RMSE value for k=  8 is: 0.00014222109114668514\n",
            "RMSE value for k=  9 is: 0.00014250639222449473\n",
            "RMSE value for k=  10 is: 0.00014302952811793768\n",
            "RMSE value for k=  11 is: 0.0001435621872199662\n",
            "RMSE value for k=  12 is: 0.0001444131374214374\n",
            "RMSE value for k=  13 is: 0.00014504664334179568\n"
          ]
        }
      ]
    },
    {
      "cell_type": "code",
      "metadata": {
        "colab": {
          "base_uri": "https://localhost:8080/",
          "height": 282
        },
        "id": "2DH7ytXimluq",
        "outputId": "d718cf5c-112a-4b4c-e58d-a74d8f33400a"
      },
      "source": [
        "#plotting the rmse values against k values\n",
        "curve = pd.DataFrame(rmse_val) #elbow curve \n",
        "curve.plot()"
      ],
      "execution_count": 205,
      "outputs": [
        {
          "output_type": "execute_result",
          "data": {
            "text/plain": [
              "<matplotlib.axes._subplots.AxesSubplot at 0x7f1798dc3950>"
            ]
          },
          "metadata": {},
          "execution_count": 205
        },
        {
          "output_type": "display_data",
          "data": {
            "image/png": "[encoded data removed]",
            "text/plain": [
              "<Figure size 432x288 with 1 Axes>"
            ]
          },
          "metadata": {
            "needs_background": "light"
          }
        }
      ]
    },
    {
      "cell_type": "code",
      "metadata": {
        "id": "p11Da7-QnQHu"
      },
      "source": [
        "model = neighbors.KNeighborsRegressor(n_neighbors = 5)\n",
        "model.fit(newtrain_X, trainY_final[['Latitude_OP','Longitude_OP']])  #fit the model\n",
        "pred_knn=model.predict(newtest_X) #make prediction on test set\n"
      ],
      "execution_count": 206,
      "outputs": []
    },
    {
      "cell_type": "code",
      "metadata": {
        "colab": {
          "base_uri": "https://localhost:8080/",
          "height": 295
        },
        "id": "6SEbFa-rnUkh",
        "outputId": "551de013-3702-4343-8f76-ec4e94e69a02"
      },
      "source": [
        "# pred=model.predict(newtest_X)\n",
        "x_ax = range(len(testY_final[['Latitude_OP']]))\n",
        "plt.plot(x_ax, testY_final[['Latitude_OP']], linewidth=1, label=\"original\")\n",
        "plt.plot(x_ax, pred_knn[:,0], linewidth=1.1, label=\"predicted\")\n",
        "plt.title(\"KNN 5- neighbours\")\n",
        "plt.xlabel('X-axis')\n",
        "plt.ylabel('Y-axis')\n",
        "plt.legend(loc='best',fancybox=True, shadow=True)\n",
        "plt.grid(True)\n",
        "plt.show() "
      ],
      "execution_count": 207,
      "outputs": [
        {
          "output_type": "display_data",
          "data": {
            "image/png": "[encoded data removed]",
            "text/plain": [
              "<Figure size 432x288 with 1 Axes>"
            ]
          },
          "metadata": {
            "needs_background": "light"
          }
        }
      ]
    },
    {
      "cell_type": "code",
      "metadata": {
        "colab": {
          "base_uri": "https://localhost:8080/",
          "height": 295
        },
        "id": "eqH9EPOGn2Q3",
        "outputId": "5b77c5a3-2852-484d-90ca-f8ac24558086"
      },
      "source": [
        "# pred=model.predict(newtest_X)\n",
        "x_ax = range(len(testY_final[['Longitude_OP']]))\n",
        "plt.plot(x_ax, testY_final[['Longitude_OP']], linewidth=1, label=\"original\")\n",
        "plt.plot(x_ax, pred_knn[:,1], linewidth=1.1, label=\"predicted\")\n",
        "plt.title(\"KNN 5- neighbours\")\n",
        "plt.xlabel('X-axis')\n",
        "plt.ylabel('Y-axis')\n",
        "plt.legend(loc='best',fancybox=True, shadow=True)\n",
        "plt.grid(True)\n",
        "plt.show() "
      ],
      "execution_count": 208,
      "outputs": [
        {
          "output_type": "display_data",
          "data": {
            "image/png": "[encoded data removed]",
            "text/plain": [
              "<Figure size 432x288 with 1 Axes>"
            ]
          },
          "metadata": {
            "needs_background": "light"
          }
        }
      ]
    },
    {
      "cell_type": "code",
      "metadata": {
        "colab": {
          "base_uri": "https://localhost:8080/"
        },
        "id": "VMdH2Mycn_kX",
        "outputId": "88194000-3ecf-4dd4-98b7-c026c382b84f"
      },
      "source": [
        "pred = pd.DataFrame(pred_knn, columns = ['Latitude','Longitude'])\n",
        "pred['dist_err'] = (((pred['Latitude']-testY_final['Latitude_OP'])*111000)**2 + (((pred['Longitude']-testY_final['Longitude_OP'])*111000)**2))**0.5\n",
        "pred['dist_err'].mean()"
      ],
      "execution_count": 209,
      "outputs": [
        {
          "output_type": "execute_result",
          "data": {
            "text/plain": [
              "20.320987330547233"
            ]
          },
          "metadata": {},
          "execution_count": 209
        }
      ]
    },
    {
      "cell_type": "code",
      "metadata": {
        "colab": {
          "base_uri": "https://localhost:8080/"
        },
        "id": "N7pkFp5-oGZ9",
        "outputId": "372aacd7-11aa-4854-df25-0f35d66def08"
      },
      "source": [
        "pred['dist_err'].max()"
      ],
      "execution_count": 210,
      "outputs": [
        {
          "output_type": "execute_result",
          "data": {
            "text/plain": [
              "61.28648126758737"
            ]
          },
          "metadata": {},
          "execution_count": 210
        }
      ]
    },
    {
      "cell_type": "code",
      "metadata": {
        "colab": {
          "base_uri": "https://localhost:8080/"
        },
        "id": "N11457hVvBwe",
        "outputId": "639ad507-471f-434c-c105-ce2c831af1a4"
      },
      "source": [
        "count = len([i for i in list(pred['dist_err']) if i  < 2])\n",
        "low_error = count / len(list(pred['dist_err'])) * 100\n",
        "print(\"Percentage of data with less than 2m error : \",low_error)"
      ],
      "execution_count": 211,
      "outputs": [
        {
          "output_type": "stream",
          "name": "stdout",
          "text": [
            "Percentage of data with less than 2m error :  0.2724795640326975\n"
          ]
        }
      ]
    },
    {
      "cell_type": "markdown",
      "metadata": {
        "id": "azh4uTEOr-ZG"
      },
      "source": [
        "##Summary\n",
        "\n",
        "We discovered that the data set downloaded was in relatively clean state and therefore we did not have to clean up the data. However, feature engineering was required to come to the conclusions regarding the data. \n",
        "\n",
        "Since the number of Reference point in the training dataset is limited to 13, and is not uniformly distributed over the localisation area, satisfactory results could not be obtained using RSSI fingerprinting technique."
      ]
    },
    {
      "cell_type": "markdown",
      "metadata": {
        "id": "KqFkQL2dsw9N"
      },
      "source": [
        "## Future aspects for improvement\n",
        "\n",
        "Filters such as Kalman Filter and Gaussian Filter can be applied to the data if the data collected is in the form of a Time-Series with changes in Latitude and Longitude. \n",
        "\n",
        "More number of reference points in the data provided would significantly improve the performance of the models."
      ]
    },
    {
      "cell_type": "markdown",
      "metadata": {
        "id": "TGW7u0naspvV"
      },
      "source": [
        "## References\n",
        "\n",
        "- Shen, Y., Hwang, B. and Jeong, J.P., 2020. Particle Filtering-Based Indoor Positioning System for Beacon Tag Tracking. IEEE Access, 8, pp.226445-226460.\n",
        "\n",
        "- Li, G., Geng, E., Ye, Z., Xu, Y., Lin, J. and Pang, Y., 2018. Indoor positioning algorithm based on the improved RSSI distance model. Sensors, 18(9), p.2820.\n",
        "\n",
        "- Bullmann, M., Fetzer, T., Ebner, F., Ebner, M., Deinzer, F. and Grzegorzek, M., 2020. Comparison of 2.4 GHz WiFi FTM-and RSSI-based indoor positioning methods in realistic scenarios. Sensors, 20(16), p.4515.\n",
        "\n",
        "- Sung, Y., 2016. RSSI-based distance estimation framework using a Kalman filter for sustainable indoor computing environments. Sustainability, 8(11), p.1136."
      ]
    }
  ]
}