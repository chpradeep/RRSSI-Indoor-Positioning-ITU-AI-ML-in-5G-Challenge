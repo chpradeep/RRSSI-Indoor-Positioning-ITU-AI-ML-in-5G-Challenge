{
  "nbformat": 4,
  "nbformat_minor": 0,
  "metadata": {
    "colab": {
      "name": "Combined Report.ipynb",
      "provenance": [],
      "collapsed_sections": []
    },
    "kernelspec": {
      "name": "python3",
      "display_name": "Python 3"
    },
    "language_info": {
      "name": "python"
    }
  },
  "cells": [
    {
      "cell_type": "markdown",
      "metadata": {
        "id": "F05KNxHOnFVh"
      },
      "source": [
        "# Location estimation using RSSI of wireless LAN\n",
        "\n",
        "---\n",
        "\n",
        "\n",
        "## Team C-LAMP"
      ]
    },
    {
      "cell_type": "markdown",
      "metadata": {
        "id": "gn5741sbnOuY"
      },
      "source": [
        "## Introduction\n",
        "\n",
        "In this project, we aim to build a model to predict location based on RSSI readings from Access Points. The data for the project was provided by RISING, Japan for the problem ITU-ML5G-PS-016: Location estimation using RSSI of wireless LAN - organied as a part of the \"ITU AI/ML in 5G Challenge: applying machine learning in communication networks\". \n",
        "\n",
        "This project is divided into the following phases: \n",
        "\n",
        "- Phase 1: Emphasis is given on data preprocessing and exploration ,which will be covered in this report. Following this  the data and its attributes are described. Following this data preprocessing and transformation is done to efficiently fit the developed models. \n",
        "- Phase 2: Prediction model building is covered in this phase of the project."
      ]
    },
    {
      "cell_type": "markdown",
      "metadata": {
        "id": "nEH1lZBenWDf"
      },
      "source": [
        "##Dataset\n",
        "\n",
        "The provided data sets consist of the following files:\n",
        "\n",
        "1. AP_info.csv: CSV file providing the location (Latitude, Longitude) and environmental specification for a set of 4 access points (hereby referred to as APs).\n",
        "2. training_dataset.csv: CSV file providing us with the data acquired from four APs to be used for training the model. \n",
        "    \n",
        "    Data includes :\n",
        "    - TimeStamp(UNIX)\t\n",
        "    - Latitude\tof Reference Point\n",
        "    - Longitude\tof Reference Point\n",
        "    - SSID of Access Point\n",
        "    - Channel\t\n",
        "    - RSSI(dBm)\n",
        "\n",
        "  Data from 13 unique reference points are present in this dataset.\n",
        "\n",
        "3. verification_dataset.csv: CSV file providing us with the data acquired from the four APs to be used for testing the model. \n",
        "    \n",
        "    Data includes :\n",
        "    - TimeStamp(UNIX)\t\n",
        "    - Latitude\tof Reference Point\n",
        "    - Longitude\tof Reference Point\n",
        "    - SSID of Access Point\n",
        "    - Channel\t\n",
        "    - RSSI(dBm)\n",
        "\n",
        "  Data from 13 unique reference points are present in this dataset.\n",
        "\n",
        "The data in the datasets training_dataset.csv and  verification_dataset.csv have been collected from the same set of 4 APs at identical location.\n",
        "\n",
        "The data set also contains a timestamp on when the RSSI readings of the 4 APs was made. The each data set has 5200 observations.\n",
        "\n",
        "A map of the reference and the access points was provided with the dataset, as shown below:\n",
        "\n",
        "![picture](https://drive.google.com/uc?export=view&id=1UoF4iMbTNJ_323xPSADQPs_qTEKl5nSm)\n"
      ]
    },
    {
      "cell_type": "markdown",
      "metadata": {
        "id": "TfP8SRWko9Kt"
      },
      "source": [
        "##Data Pre-processing\n",
        "\n",
        "### Preliminaries\n",
        "\n",
        "The following Python packages were used in this project.\n",
        "\n",
        "```\n",
        "import numpy\n",
        "import pandas \n",
        "import tensorflow \n",
        "from sklearn.preprocessing import MinMaxScaler\n",
        "from sklearn.model_selection import train_test_split\n",
        "from matplotlib import pyplot as plt\n",
        "```\n",
        "A short mentioning of the used packages:\n",
        "\n",
        "- numpy has been used for high-level mathematical functions\n",
        "- pandas has been mainly used for data manipulation and analysis.\n",
        "- tensorflow was used for training and inference of deep neural networks.\n",
        "- sklearn has many inbuilt functions containing various classification and regression algorithms which were used in this project\n",
        "- matplotlib was used in plotting various kinds of graphs and charts\n",
        "\n"
      ]
    },
    {
      "cell_type": "code",
      "metadata": {
        "id": "KKQK3cVi1e0D",
        "colab": {
          "base_uri": "https://localhost:8080/"
        },
        "outputId": "e566ac4d-c403-4976-b289-f477b80b4068"
      },
      "source": [
        "import numpy as np # linear algebra\n",
        "import pandas as pd # data processing, CSV file I/O (e.g. pd.read_csv)\n",
        "import tensorflow as tf\n",
        "from sklearn.preprocessing import MinMaxScaler\n",
        "from sklearn.model_selection import train_test_split\n",
        "from matplotlib import pyplot as plt\n",
        "import seaborn as sns\n",
        "import os\n",
        "import time\n",
        "cwd = os.getcwd()\n",
        "from google.colab import drive\n",
        "drive.mount('/content/drive')"
      ],
      "execution_count": 1,
      "outputs": [
        {
          "output_type": "stream",
          "name": "stdout",
          "text": [
            "Mounted at /content/drive\n"
          ]
        }
      ]
    },
    {
      "cell_type": "markdown",
      "metadata": {
        "id": "6PFOmwTipQTg"
      },
      "source": [
        "Storing the path names"
      ]
    },
    {
      "cell_type": "code",
      "metadata": {
        "id": "h-4RK3Ar2ALQ"
      },
      "source": [
        "AP_train_path='/content/drive/MyDrive/CDAC/RSSI Dataset Grand Finale/AP_info.csv'\n",
        "Wifi_train_path ='/content/drive/MyDrive/CDAC/RSSI Dataset Grand Finale/training_dataset.csv'\n",
        "Wifi_test_path ='/content/drive/MyDrive/CDAC/RSSI Dataset Grand Finale/verification_dataset.csv'"
      ],
      "execution_count": 2,
      "outputs": []
    },
    {
      "cell_type": "markdown",
      "metadata": {
        "id": "ZEQJnti1pTsW"
      },
      "source": [
        "Reading the csv files and storing in form of dataset"
      ]
    },
    {
      "cell_type": "code",
      "metadata": {
        "id": "Xv2QMkLfn5pt"
      },
      "source": [
        "AP_train=pd.read_csv(AP_train_path)"
      ],
      "execution_count": 3,
      "outputs": []
    },
    {
      "cell_type": "markdown",
      "metadata": {
        "id": "HHNbEGvoph2M"
      },
      "source": [
        "Transforming the categorical data to numerical ones using one-hot-encoding"
      ]
    },
    {
      "cell_type": "code",
      "metadata": {
        "id": "M1STa2Eqn_e9"
      },
      "source": [
        "AP_train = pd.concat([AP_train,pd.get_dummies(AP_train['Indoor/Outdoor'])['Outdoor']], axis=1, join='inner').drop(columns=['Indoor/Outdoor'])"
      ],
      "execution_count": 4,
      "outputs": []
    },
    {
      "cell_type": "markdown",
      "metadata": {
        "id": "MrIFLJRmpZ6e"
      },
      "source": [
        "Let us have a look at the AP provided information"
      ]
    },
    {
      "cell_type": "code",
      "metadata": {
        "colab": {
          "base_uri": "https://localhost:8080/",
          "height": 175
        },
        "id": "_ha74gr6n72F",
        "outputId": "57320e4f-c7ab-4df6-ed74-8e4a34bd8e3e"
      },
      "source": [
        "AP_train"
      ],
      "execution_count": 5,
      "outputs": [
        {
          "output_type": "execute_result",
          "data": {
            "text/html": [
              "<div>\n",
              "<style scoped>\n",
              "    .dataframe tbody tr th:only-of-type {\n",
              "        vertical-align: middle;\n",
              "    }\n",
              "\n",
              "    .dataframe tbody tr th {\n",
              "        vertical-align: top;\n",
              "    }\n",
              "\n",
              "    .dataframe thead th {\n",
              "        text-align: right;\n",
              "    }\n",
              "</style>\n",
              "<table border=\"1\" class=\"dataframe\">\n",
              "  <thead>\n",
              "    <tr style=\"text-align: right;\">\n",
              "      <th></th>\n",
              "      <th>AP SSID</th>\n",
              "      <th>Latitude</th>\n",
              "      <th>Longitude</th>\n",
              "      <th>Hight Difference(m)</th>\n",
              "      <th>Outdoor</th>\n",
              "    </tr>\n",
              "  </thead>\n",
              "  <tbody>\n",
              "    <tr>\n",
              "      <th>0</th>\n",
              "      <td>1</td>\n",
              "      <td>35.157320</td>\n",
              "      <td>136.926447</td>\n",
              "      <td>0</td>\n",
              "      <td>1</td>\n",
              "    </tr>\n",
              "    <tr>\n",
              "      <th>1</th>\n",
              "      <td>2</td>\n",
              "      <td>35.157347</td>\n",
              "      <td>136.926807</td>\n",
              "      <td>0</td>\n",
              "      <td>1</td>\n",
              "    </tr>\n",
              "    <tr>\n",
              "      <th>2</th>\n",
              "      <td>3</td>\n",
              "      <td>35.157202</td>\n",
              "      <td>136.926827</td>\n",
              "      <td>0</td>\n",
              "      <td>1</td>\n",
              "    </tr>\n",
              "    <tr>\n",
              "      <th>3</th>\n",
              "      <td>4</td>\n",
              "      <td>35.157165</td>\n",
              "      <td>136.926470</td>\n",
              "      <td>0</td>\n",
              "      <td>1</td>\n",
              "    </tr>\n",
              "  </tbody>\n",
              "</table>\n",
              "</div>"
            ],
            "text/plain": [
              "   AP SSID   Latitude   Longitude  Hight Difference(m)  Outdoor\n",
              "0        1  35.157320  136.926447                    0        1\n",
              "1        2  35.157347  136.926807                    0        1\n",
              "2        3  35.157202  136.926827                    0        1\n",
              "3        4  35.157165  136.926470                    0        1"
            ]
          },
          "metadata": {},
          "execution_count": 5
        }
      ]
    },
    {
      "cell_type": "code",
      "metadata": {
        "id": "BfJ_uzqpp1sE"
      },
      "source": [
        "AP_train = AP_train.astype({\"Latitude\":'float64',\"Longitude\":'float64',\"Hight Difference(m)\":'float64'})"
      ],
      "execution_count": 6,
      "outputs": []
    },
    {
      "cell_type": "markdown",
      "metadata": {
        "id": "WrMoDDVOpsGT"
      },
      "source": [
        "Reading the measured data from the APs from training_dataset.csv and verification_dataset.csv and storing them inform of datasets."
      ]
    },
    {
      "cell_type": "code",
      "metadata": {
        "id": "48C1sG81p409"
      },
      "source": [
        "train = pd.read_csv(Wifi_train_path)\n",
        "test = pd.read_csv(Wifi_test_path)"
      ],
      "execution_count": 7,
      "outputs": []
    },
    {
      "cell_type": "code",
      "metadata": {
        "id": "engVZuFIqCzG"
      },
      "source": [
        "train.drop(columns=['No.'], inplace=True)\n",
        "test.drop(columns=['No.'], inplace=True)"
      ],
      "execution_count": 8,
      "outputs": []
    },
    {
      "cell_type": "markdown",
      "metadata": {
        "id": "LGRDTj49p51k"
      },
      "source": [
        "Having a look at the datasets:"
      ]
    },
    {
      "cell_type": "code",
      "metadata": {
        "colab": {
          "base_uri": "https://localhost:8080/",
          "height": 423
        },
        "id": "XyW4Y_lnqDbm",
        "outputId": "f40e5051-0c60-45a3-e199-79e6ee54ab2f"
      },
      "source": [
        "train"
      ],
      "execution_count": 9,
      "outputs": [
        {
          "output_type": "execute_result",
          "data": {
            "text/html": [
              "<div>\n",
              "<style scoped>\n",
              "    .dataframe tbody tr th:only-of-type {\n",
              "        vertical-align: middle;\n",
              "    }\n",
              "\n",
              "    .dataframe tbody tr th {\n",
              "        vertical-align: top;\n",
              "    }\n",
              "\n",
              "    .dataframe thead th {\n",
              "        text-align: right;\n",
              "    }\n",
              "</style>\n",
              "<table border=\"1\" class=\"dataframe\">\n",
              "  <thead>\n",
              "    <tr style=\"text-align: right;\">\n",
              "      <th></th>\n",
              "      <th>TimeStamp(UNIX)</th>\n",
              "      <th>Latitude</th>\n",
              "      <th>Longitude</th>\n",
              "      <th>SSID</th>\n",
              "      <th>Channel</th>\n",
              "      <th>RSSI(dBm)</th>\n",
              "    </tr>\n",
              "  </thead>\n",
              "  <tbody>\n",
              "    <tr>\n",
              "      <th>0</th>\n",
              "      <td>1631687696</td>\n",
              "      <td>35.157140</td>\n",
              "      <td>136.926306</td>\n",
              "      <td>1</td>\n",
              "      <td>11</td>\n",
              "      <td>-41</td>\n",
              "    </tr>\n",
              "    <tr>\n",
              "      <th>1</th>\n",
              "      <td>1631687697</td>\n",
              "      <td>35.157140</td>\n",
              "      <td>136.926306</td>\n",
              "      <td>1</td>\n",
              "      <td>11</td>\n",
              "      <td>-41</td>\n",
              "    </tr>\n",
              "    <tr>\n",
              "      <th>2</th>\n",
              "      <td>1631687697</td>\n",
              "      <td>35.157140</td>\n",
              "      <td>136.926306</td>\n",
              "      <td>1</td>\n",
              "      <td>11</td>\n",
              "      <td>-41</td>\n",
              "    </tr>\n",
              "    <tr>\n",
              "      <th>3</th>\n",
              "      <td>1631687697</td>\n",
              "      <td>35.157140</td>\n",
              "      <td>136.926306</td>\n",
              "      <td>1</td>\n",
              "      <td>11</td>\n",
              "      <td>-41</td>\n",
              "    </tr>\n",
              "    <tr>\n",
              "      <th>4</th>\n",
              "      <td>1631687697</td>\n",
              "      <td>35.157140</td>\n",
              "      <td>136.926306</td>\n",
              "      <td>1</td>\n",
              "      <td>11</td>\n",
              "      <td>-41</td>\n",
              "    </tr>\n",
              "    <tr>\n",
              "      <th>...</th>\n",
              "      <td>...</td>\n",
              "      <td>...</td>\n",
              "      <td>...</td>\n",
              "      <td>...</td>\n",
              "      <td>...</td>\n",
              "      <td>...</td>\n",
              "    </tr>\n",
              "    <tr>\n",
              "      <th>5195</th>\n",
              "      <td>1631688763</td>\n",
              "      <td>35.157236</td>\n",
              "      <td>136.926489</td>\n",
              "      <td>4</td>\n",
              "      <td>1</td>\n",
              "      <td>-52</td>\n",
              "    </tr>\n",
              "    <tr>\n",
              "      <th>5196</th>\n",
              "      <td>1631688763</td>\n",
              "      <td>35.157236</td>\n",
              "      <td>136.926489</td>\n",
              "      <td>4</td>\n",
              "      <td>1</td>\n",
              "      <td>-52</td>\n",
              "    </tr>\n",
              "    <tr>\n",
              "      <th>5197</th>\n",
              "      <td>1631688763</td>\n",
              "      <td>35.157236</td>\n",
              "      <td>136.926489</td>\n",
              "      <td>4</td>\n",
              "      <td>1</td>\n",
              "      <td>-52</td>\n",
              "    </tr>\n",
              "    <tr>\n",
              "      <th>5198</th>\n",
              "      <td>1631688763</td>\n",
              "      <td>35.157236</td>\n",
              "      <td>136.926489</td>\n",
              "      <td>4</td>\n",
              "      <td>1</td>\n",
              "      <td>-52</td>\n",
              "    </tr>\n",
              "    <tr>\n",
              "      <th>5199</th>\n",
              "      <td>1631688763</td>\n",
              "      <td>35.157236</td>\n",
              "      <td>136.926489</td>\n",
              "      <td>4</td>\n",
              "      <td>1</td>\n",
              "      <td>-52</td>\n",
              "    </tr>\n",
              "  </tbody>\n",
              "</table>\n",
              "<p>5200 rows × 6 columns</p>\n",
              "</div>"
            ],
            "text/plain": [
              "      TimeStamp(UNIX)   Latitude   Longitude  SSID  Channel  RSSI(dBm)\n",
              "0          1631687696  35.157140  136.926306     1       11        -41\n",
              "1          1631687697  35.157140  136.926306     1       11        -41\n",
              "2          1631687697  35.157140  136.926306     1       11        -41\n",
              "3          1631687697  35.157140  136.926306     1       11        -41\n",
              "4          1631687697  35.157140  136.926306     1       11        -41\n",
              "...               ...        ...         ...   ...      ...        ...\n",
              "5195       1631688763  35.157236  136.926489     4        1        -52\n",
              "5196       1631688763  35.157236  136.926489     4        1        -52\n",
              "5197       1631688763  35.157236  136.926489     4        1        -52\n",
              "5198       1631688763  35.157236  136.926489     4        1        -52\n",
              "5199       1631688763  35.157236  136.926489     4        1        -52\n",
              "\n",
              "[5200 rows x 6 columns]"
            ]
          },
          "metadata": {},
          "execution_count": 9
        }
      ]
    },
    {
      "cell_type": "code",
      "metadata": {
        "colab": {
          "base_uri": "https://localhost:8080/",
          "height": 423
        },
        "id": "8Rd53y6RqFPL",
        "outputId": "bf5536ee-13ed-470a-9761-9d018b411296"
      },
      "source": [
        "test"
      ],
      "execution_count": 10,
      "outputs": [
        {
          "output_type": "execute_result",
          "data": {
            "text/html": [
              "<div>\n",
              "<style scoped>\n",
              "    .dataframe tbody tr th:only-of-type {\n",
              "        vertical-align: middle;\n",
              "    }\n",
              "\n",
              "    .dataframe tbody tr th {\n",
              "        vertical-align: top;\n",
              "    }\n",
              "\n",
              "    .dataframe thead th {\n",
              "        text-align: right;\n",
              "    }\n",
              "</style>\n",
              "<table border=\"1\" class=\"dataframe\">\n",
              "  <thead>\n",
              "    <tr style=\"text-align: right;\">\n",
              "      <th></th>\n",
              "      <th>TimeStamp(UNIX)</th>\n",
              "      <th>Latitude</th>\n",
              "      <th>Longitude</th>\n",
              "      <th>SSID</th>\n",
              "      <th>Channel</th>\n",
              "      <th>RSSI(dBm)</th>\n",
              "    </tr>\n",
              "  </thead>\n",
              "  <tbody>\n",
              "    <tr>\n",
              "      <th>0</th>\n",
              "      <td>1631689137</td>\n",
              "      <td>35.157261</td>\n",
              "      <td>136.926465</td>\n",
              "      <td>1</td>\n",
              "      <td>11</td>\n",
              "      <td>-41</td>\n",
              "    </tr>\n",
              "    <tr>\n",
              "      <th>1</th>\n",
              "      <td>1631689137</td>\n",
              "      <td>35.157261</td>\n",
              "      <td>136.926465</td>\n",
              "      <td>1</td>\n",
              "      <td>11</td>\n",
              "      <td>-41</td>\n",
              "    </tr>\n",
              "    <tr>\n",
              "      <th>2</th>\n",
              "      <td>1631689138</td>\n",
              "      <td>35.157261</td>\n",
              "      <td>136.926465</td>\n",
              "      <td>1</td>\n",
              "      <td>11</td>\n",
              "      <td>-41</td>\n",
              "    </tr>\n",
              "    <tr>\n",
              "      <th>3</th>\n",
              "      <td>1631689138</td>\n",
              "      <td>35.157261</td>\n",
              "      <td>136.926465</td>\n",
              "      <td>1</td>\n",
              "      <td>11</td>\n",
              "      <td>-41</td>\n",
              "    </tr>\n",
              "    <tr>\n",
              "      <th>4</th>\n",
              "      <td>1631689138</td>\n",
              "      <td>35.157261</td>\n",
              "      <td>136.926465</td>\n",
              "      <td>1</td>\n",
              "      <td>11</td>\n",
              "      <td>-41</td>\n",
              "    </tr>\n",
              "    <tr>\n",
              "      <th>...</th>\n",
              "      <td>...</td>\n",
              "      <td>...</td>\n",
              "      <td>...</td>\n",
              "      <td>...</td>\n",
              "      <td>...</td>\n",
              "      <td>...</td>\n",
              "    </tr>\n",
              "    <tr>\n",
              "      <th>5195</th>\n",
              "      <td>1631691291</td>\n",
              "      <td>35.157298</td>\n",
              "      <td>136.926575</td>\n",
              "      <td>4</td>\n",
              "      <td>1</td>\n",
              "      <td>-59</td>\n",
              "    </tr>\n",
              "    <tr>\n",
              "      <th>5196</th>\n",
              "      <td>1631691291</td>\n",
              "      <td>35.157298</td>\n",
              "      <td>136.926575</td>\n",
              "      <td>4</td>\n",
              "      <td>1</td>\n",
              "      <td>-59</td>\n",
              "    </tr>\n",
              "    <tr>\n",
              "      <th>5197</th>\n",
              "      <td>1631691291</td>\n",
              "      <td>35.157298</td>\n",
              "      <td>136.926575</td>\n",
              "      <td>4</td>\n",
              "      <td>1</td>\n",
              "      <td>-59</td>\n",
              "    </tr>\n",
              "    <tr>\n",
              "      <th>5198</th>\n",
              "      <td>1631691291</td>\n",
              "      <td>35.157298</td>\n",
              "      <td>136.926575</td>\n",
              "      <td>4</td>\n",
              "      <td>1</td>\n",
              "      <td>-59</td>\n",
              "    </tr>\n",
              "    <tr>\n",
              "      <th>5199</th>\n",
              "      <td>1631691292</td>\n",
              "      <td>35.157298</td>\n",
              "      <td>136.926575</td>\n",
              "      <td>4</td>\n",
              "      <td>1</td>\n",
              "      <td>-59</td>\n",
              "    </tr>\n",
              "  </tbody>\n",
              "</table>\n",
              "<p>5200 rows × 6 columns</p>\n",
              "</div>"
            ],
            "text/plain": [
              "      TimeStamp(UNIX)   Latitude   Longitude  SSID  Channel  RSSI(dBm)\n",
              "0          1631689137  35.157261  136.926465     1       11        -41\n",
              "1          1631689137  35.157261  136.926465     1       11        -41\n",
              "2          1631689138  35.157261  136.926465     1       11        -41\n",
              "3          1631689138  35.157261  136.926465     1       11        -41\n",
              "4          1631689138  35.157261  136.926465     1       11        -41\n",
              "...               ...        ...         ...   ...      ...        ...\n",
              "5195       1631691291  35.157298  136.926575     4        1        -59\n",
              "5196       1631691291  35.157298  136.926575     4        1        -59\n",
              "5197       1631691291  35.157298  136.926575     4        1        -59\n",
              "5198       1631691291  35.157298  136.926575     4        1        -59\n",
              "5199       1631691292  35.157298  136.926575     4        1        -59\n",
              "\n",
              "[5200 rows x 6 columns]"
            ]
          },
          "metadata": {},
          "execution_count": 10
        }
      ]
    },
    {
      "cell_type": "markdown",
      "metadata": {
        "id": "jaiyuJulp9N5"
      },
      "source": [
        "Removing the duplicate data present :"
      ]
    },
    {
      "cell_type": "code",
      "metadata": {
        "id": "qcQeHAjqqHDS"
      },
      "source": [
        "train.drop_duplicates(subset=['TimeStamp(UNIX)','Latitude','Longitude','SSID','RSSI(dBm)'],keep='first',inplace=True)\n",
        "test.drop_duplicates(subset=['TimeStamp(UNIX)','Latitude','Longitude','SSID','RSSI(dBm)'],keep='first',inplace=True)\n",
        "train.reset_index(inplace=True, drop=True)\n",
        "test.reset_index(inplace=True, drop=True)"
      ],
      "execution_count": 11,
      "outputs": []
    },
    {
      "cell_type": "markdown",
      "metadata": {
        "id": "OYsitPtDqDvv"
      },
      "source": [
        "Merging the information of APs with the training and testing data:"
      ]
    },
    {
      "cell_type": "code",
      "metadata": {
        "id": "bkb72lS5qKKb"
      },
      "source": [
        "train_semi = train.merge(AP_train, how='inner', left_on='SSID', right_on='AP SSID').drop(columns=['AP SSID'])\n",
        "test_semi = test.merge(AP_train, how='inner', left_on='SSID', right_on='AP SSID').drop(columns=['AP SSID'])"
      ],
      "execution_count": 12,
      "outputs": []
    },
    {
      "cell_type": "markdown",
      "metadata": {
        "id": "KF4s1SvhqKgE"
      },
      "source": [
        "Renaming the columns to make it more comprehensible"
      ]
    },
    {
      "cell_type": "code",
      "metadata": {
        "id": "7YgyPSfoqOyT"
      },
      "source": [
        "train_semi.rename(columns = {'Latitude_x':'Latitude_OP','Longitude_x':'Longitude_OP', 'Latitude_y':'Latitude_AP', 'Longitude_y':'Longitude_AP'},inplace=True)\n",
        "test_semi.rename(columns = {'Latitude_x':'Latitude_OP','Longitude_x':'Longitude_OP', 'Latitude_y':'Latitude_AP', 'Longitude_y':'Longitude_AP'},inplace=True)"
      ],
      "execution_count": 13,
      "outputs": []
    },
    {
      "cell_type": "markdown",
      "metadata": {
        "id": "SACIqu3wqOjY"
      },
      "source": [
        "As according to the research done in this domain, there is a clear cut relationship between RSSI and euclidean distance between the AP and the reference point (as shown in the formula below), hence we add a feature of the same.\n",
        "\n",
        "![picture](https://drive.google.com/uc?export=view&id=15tuh-QXcKEVx1P8EW9MuWRd_lJlTpywg)"
      ]
    },
    {
      "cell_type": "code",
      "metadata": {
        "id": "dAG7ELMiqS2m"
      },
      "source": [
        "def euclidean_dist(lat_op, long_op, lat_ap, long_ap, height):\n",
        "  return (((lat_op - lat_ap)*111000)**2 + ((long_op - long_ap)*111000)**2 + height**2)**0.5"
      ],
      "execution_count": 14,
      "outputs": []
    },
    {
      "cell_type": "markdown",
      "metadata": {
        "id": "aDpRDjVgqWEM"
      },
      "source": [
        "Since, we observe a significant variation in the provided RSSI data values (possibly due to multipath fading), we added a Moving Average of RSSI feature to smoothen the sudden variations in data."
      ]
    },
    {
      "cell_type": "code",
      "metadata": {
        "id": "vsVobQr9qWPt"
      },
      "source": [
        "def moving_average(inp):\n",
        "  moving_avg=list(inp[\"RSSI(dBm)\"][:4])\n",
        "  i = 0\n",
        "  window_size=10\n",
        "  while i < len(list(inp[\"RSSI(dBm)\"])) - window_size + 1:\n",
        "      this_window = list(inp[\"RSSI(dBm)\"][i : i + window_size])\n",
        "      window_average = sum(this_window) / window_size\n",
        "      moving_avg.append(window_average)\n",
        "      i += 1\n",
        "  for z in range(len(list(inp[\"RSSI(dBm)\"]))-len(moving_avg)):\n",
        "    moving_avg.append(moving_avg[-1])\n",
        "  return moving_avg"
      ],
      "execution_count": 15,
      "outputs": []
    },
    {
      "cell_type": "code",
      "metadata": {
        "id": "Uk-md4Vhqb1O"
      },
      "source": [
        "train_semi['Distance'] = train_semi.apply(lambda row: euclidean_dist(row['Latitude_OP'],row['Longitude_OP'],row['Latitude_AP'],row['Longitude_AP'],row['Hight Difference(m)']),axis=1)\n",
        "test_semi['Distance'] = test_semi.apply(lambda row: euclidean_dist(row['Latitude_OP'],row['Longitude_OP'],row['Latitude_AP'],row['Longitude_AP'],row['Hight Difference(m)']),axis=1)"
      ],
      "execution_count": 16,
      "outputs": []
    },
    {
      "cell_type": "code",
      "metadata": {
        "id": "FbFWnMgqqeYg"
      },
      "source": [
        "train_semi = pd.concat([train_semi,pd.DataFrame(moving_average(train_semi), columns = ['Moving Average (RSSI)'])], axis=1)\n",
        "test_semi = pd.concat([test_semi,pd.DataFrame(moving_average(test_semi), columns = ['Moving Average (RSSI)'])], axis=1)"
      ],
      "execution_count": 17,
      "outputs": []
    },
    {
      "cell_type": "code",
      "metadata": {
        "colab": {
          "base_uri": "https://localhost:8080/",
          "height": 423
        },
        "id": "gXBobEyvqhVA",
        "outputId": "420d4f4b-42d6-413c-ec23-0875bef26931"
      },
      "source": [
        "train_semi"
      ],
      "execution_count": 18,
      "outputs": [
        {
          "output_type": "execute_result",
          "data": {
            "text/html": [
              "<div>\n",
              "<style scoped>\n",
              "    .dataframe tbody tr th:only-of-type {\n",
              "        vertical-align: middle;\n",
              "    }\n",
              "\n",
              "    .dataframe tbody tr th {\n",
              "        vertical-align: top;\n",
              "    }\n",
              "\n",
              "    .dataframe thead th {\n",
              "        text-align: right;\n",
              "    }\n",
              "</style>\n",
              "<table border=\"1\" class=\"dataframe\">\n",
              "  <thead>\n",
              "    <tr style=\"text-align: right;\">\n",
              "      <th></th>\n",
              "      <th>TimeStamp(UNIX)</th>\n",
              "      <th>Latitude_OP</th>\n",
              "      <th>Longitude_OP</th>\n",
              "      <th>SSID</th>\n",
              "      <th>Channel</th>\n",
              "      <th>RSSI(dBm)</th>\n",
              "      <th>Latitude_AP</th>\n",
              "      <th>Longitude_AP</th>\n",
              "      <th>Hight Difference(m)</th>\n",
              "      <th>Outdoor</th>\n",
              "      <th>Distance</th>\n",
              "      <th>Moving Average (RSSI)</th>\n",
              "    </tr>\n",
              "  </thead>\n",
              "  <tbody>\n",
              "    <tr>\n",
              "      <th>0</th>\n",
              "      <td>1631687696</td>\n",
              "      <td>35.157140</td>\n",
              "      <td>136.926306</td>\n",
              "      <td>1</td>\n",
              "      <td>11</td>\n",
              "      <td>-41</td>\n",
              "      <td>35.157320</td>\n",
              "      <td>136.926447</td>\n",
              "      <td>0.0</td>\n",
              "      <td>1</td>\n",
              "      <td>25.439033</td>\n",
              "      <td>-41.0</td>\n",
              "    </tr>\n",
              "    <tr>\n",
              "      <th>1</th>\n",
              "      <td>1631687697</td>\n",
              "      <td>35.157140</td>\n",
              "      <td>136.926306</td>\n",
              "      <td>1</td>\n",
              "      <td>11</td>\n",
              "      <td>-41</td>\n",
              "      <td>35.157320</td>\n",
              "      <td>136.926447</td>\n",
              "      <td>0.0</td>\n",
              "      <td>1</td>\n",
              "      <td>25.439033</td>\n",
              "      <td>-41.0</td>\n",
              "    </tr>\n",
              "    <tr>\n",
              "      <th>2</th>\n",
              "      <td>1631687698</td>\n",
              "      <td>35.157140</td>\n",
              "      <td>136.926306</td>\n",
              "      <td>1</td>\n",
              "      <td>11</td>\n",
              "      <td>-41</td>\n",
              "      <td>35.157320</td>\n",
              "      <td>136.926447</td>\n",
              "      <td>0.0</td>\n",
              "      <td>1</td>\n",
              "      <td>25.439033</td>\n",
              "      <td>-41.0</td>\n",
              "    </tr>\n",
              "    <tr>\n",
              "      <th>3</th>\n",
              "      <td>1631687699</td>\n",
              "      <td>35.157140</td>\n",
              "      <td>136.926306</td>\n",
              "      <td>1</td>\n",
              "      <td>11</td>\n",
              "      <td>-41</td>\n",
              "      <td>35.157320</td>\n",
              "      <td>136.926447</td>\n",
              "      <td>0.0</td>\n",
              "      <td>1</td>\n",
              "      <td>25.439033</td>\n",
              "      <td>-41.0</td>\n",
              "    </tr>\n",
              "    <tr>\n",
              "      <th>4</th>\n",
              "      <td>1631687700</td>\n",
              "      <td>35.157140</td>\n",
              "      <td>136.926306</td>\n",
              "      <td>1</td>\n",
              "      <td>11</td>\n",
              "      <td>-41</td>\n",
              "      <td>35.157320</td>\n",
              "      <td>136.926447</td>\n",
              "      <td>0.0</td>\n",
              "      <td>1</td>\n",
              "      <td>25.439033</td>\n",
              "      <td>-41.0</td>\n",
              "    </tr>\n",
              "    <tr>\n",
              "      <th>...</th>\n",
              "      <td>...</td>\n",
              "      <td>...</td>\n",
              "      <td>...</td>\n",
              "      <td>...</td>\n",
              "      <td>...</td>\n",
              "      <td>...</td>\n",
              "      <td>...</td>\n",
              "      <td>...</td>\n",
              "      <td>...</td>\n",
              "      <td>...</td>\n",
              "      <td>...</td>\n",
              "      <td>...</td>\n",
              "    </tr>\n",
              "    <tr>\n",
              "      <th>1071</th>\n",
              "      <td>1631688759</td>\n",
              "      <td>35.157236</td>\n",
              "      <td>136.926489</td>\n",
              "      <td>4</td>\n",
              "      <td>1</td>\n",
              "      <td>-52</td>\n",
              "      <td>35.157165</td>\n",
              "      <td>136.926470</td>\n",
              "      <td>0.0</td>\n",
              "      <td>1</td>\n",
              "      <td>8.152950</td>\n",
              "      <td>-52.0</td>\n",
              "    </tr>\n",
              "    <tr>\n",
              "      <th>1072</th>\n",
              "      <td>1631688760</td>\n",
              "      <td>35.157236</td>\n",
              "      <td>136.926489</td>\n",
              "      <td>4</td>\n",
              "      <td>1</td>\n",
              "      <td>-52</td>\n",
              "      <td>35.157165</td>\n",
              "      <td>136.926470</td>\n",
              "      <td>0.0</td>\n",
              "      <td>1</td>\n",
              "      <td>8.152950</td>\n",
              "      <td>-52.0</td>\n",
              "    </tr>\n",
              "    <tr>\n",
              "      <th>1073</th>\n",
              "      <td>1631688761</td>\n",
              "      <td>35.157236</td>\n",
              "      <td>136.926489</td>\n",
              "      <td>4</td>\n",
              "      <td>1</td>\n",
              "      <td>-52</td>\n",
              "      <td>35.157165</td>\n",
              "      <td>136.926470</td>\n",
              "      <td>0.0</td>\n",
              "      <td>1</td>\n",
              "      <td>8.152950</td>\n",
              "      <td>-52.0</td>\n",
              "    </tr>\n",
              "    <tr>\n",
              "      <th>1074</th>\n",
              "      <td>1631688762</td>\n",
              "      <td>35.157236</td>\n",
              "      <td>136.926489</td>\n",
              "      <td>4</td>\n",
              "      <td>1</td>\n",
              "      <td>-52</td>\n",
              "      <td>35.157165</td>\n",
              "      <td>136.926470</td>\n",
              "      <td>0.0</td>\n",
              "      <td>1</td>\n",
              "      <td>8.152950</td>\n",
              "      <td>-52.0</td>\n",
              "    </tr>\n",
              "    <tr>\n",
              "      <th>1075</th>\n",
              "      <td>1631688763</td>\n",
              "      <td>35.157236</td>\n",
              "      <td>136.926489</td>\n",
              "      <td>4</td>\n",
              "      <td>1</td>\n",
              "      <td>-52</td>\n",
              "      <td>35.157165</td>\n",
              "      <td>136.926470</td>\n",
              "      <td>0.0</td>\n",
              "      <td>1</td>\n",
              "      <td>8.152950</td>\n",
              "      <td>-52.0</td>\n",
              "    </tr>\n",
              "  </tbody>\n",
              "</table>\n",
              "<p>1076 rows × 12 columns</p>\n",
              "</div>"
            ],
            "text/plain": [
              "      TimeStamp(UNIX)  Latitude_OP  ...   Distance  Moving Average (RSSI)\n",
              "0          1631687696    35.157140  ...  25.439033                  -41.0\n",
              "1          1631687697    35.157140  ...  25.439033                  -41.0\n",
              "2          1631687698    35.157140  ...  25.439033                  -41.0\n",
              "3          1631687699    35.157140  ...  25.439033                  -41.0\n",
              "4          1631687700    35.157140  ...  25.439033                  -41.0\n",
              "...               ...          ...  ...        ...                    ...\n",
              "1071       1631688759    35.157236  ...   8.152950                  -52.0\n",
              "1072       1631688760    35.157236  ...   8.152950                  -52.0\n",
              "1073       1631688761    35.157236  ...   8.152950                  -52.0\n",
              "1074       1631688762    35.157236  ...   8.152950                  -52.0\n",
              "1075       1631688763    35.157236  ...   8.152950                  -52.0\n",
              "\n",
              "[1076 rows x 12 columns]"
            ]
          },
          "metadata": {},
          "execution_count": 18
        }
      ]
    },
    {
      "cell_type": "code",
      "metadata": {
        "id": "W6K_3FJDqj0Y"
      },
      "source": [
        "final_train = train_semi.copy()\n",
        "final_test = test_semi.copy()"
      ],
      "execution_count": 19,
      "outputs": []
    },
    {
      "cell_type": "code",
      "metadata": {
        "colab": {
          "base_uri": "https://localhost:8080/",
          "height": 423
        },
        "id": "FJg81vLyqtNM",
        "outputId": "42b810ad-6087-48c0-8c77-27dc55cf6157"
      },
      "source": [
        " train_semi.drop_duplicates(subset=['TimeStamp(UNIX)','Latitude_OP','Longitude_OP','RSSI(dBm)'])"
      ],
      "execution_count": 20,
      "outputs": [
        {
          "output_type": "execute_result",
          "data": {
            "text/html": [
              "<div>\n",
              "<style scoped>\n",
              "    .dataframe tbody tr th:only-of-type {\n",
              "        vertical-align: middle;\n",
              "    }\n",
              "\n",
              "    .dataframe tbody tr th {\n",
              "        vertical-align: top;\n",
              "    }\n",
              "\n",
              "    .dataframe thead th {\n",
              "        text-align: right;\n",
              "    }\n",
              "</style>\n",
              "<table border=\"1\" class=\"dataframe\">\n",
              "  <thead>\n",
              "    <tr style=\"text-align: right;\">\n",
              "      <th></th>\n",
              "      <th>TimeStamp(UNIX)</th>\n",
              "      <th>Latitude_OP</th>\n",
              "      <th>Longitude_OP</th>\n",
              "      <th>SSID</th>\n",
              "      <th>Channel</th>\n",
              "      <th>RSSI(dBm)</th>\n",
              "      <th>Latitude_AP</th>\n",
              "      <th>Longitude_AP</th>\n",
              "      <th>Hight Difference(m)</th>\n",
              "      <th>Outdoor</th>\n",
              "      <th>Distance</th>\n",
              "      <th>Moving Average (RSSI)</th>\n",
              "    </tr>\n",
              "  </thead>\n",
              "  <tbody>\n",
              "    <tr>\n",
              "      <th>0</th>\n",
              "      <td>1631687696</td>\n",
              "      <td>35.157140</td>\n",
              "      <td>136.926306</td>\n",
              "      <td>1</td>\n",
              "      <td>11</td>\n",
              "      <td>-41</td>\n",
              "      <td>35.157320</td>\n",
              "      <td>136.926447</td>\n",
              "      <td>0.0</td>\n",
              "      <td>1</td>\n",
              "      <td>25.439033</td>\n",
              "      <td>-41.0</td>\n",
              "    </tr>\n",
              "    <tr>\n",
              "      <th>1</th>\n",
              "      <td>1631687697</td>\n",
              "      <td>35.157140</td>\n",
              "      <td>136.926306</td>\n",
              "      <td>1</td>\n",
              "      <td>11</td>\n",
              "      <td>-41</td>\n",
              "      <td>35.157320</td>\n",
              "      <td>136.926447</td>\n",
              "      <td>0.0</td>\n",
              "      <td>1</td>\n",
              "      <td>25.439033</td>\n",
              "      <td>-41.0</td>\n",
              "    </tr>\n",
              "    <tr>\n",
              "      <th>2</th>\n",
              "      <td>1631687698</td>\n",
              "      <td>35.157140</td>\n",
              "      <td>136.926306</td>\n",
              "      <td>1</td>\n",
              "      <td>11</td>\n",
              "      <td>-41</td>\n",
              "      <td>35.157320</td>\n",
              "      <td>136.926447</td>\n",
              "      <td>0.0</td>\n",
              "      <td>1</td>\n",
              "      <td>25.439033</td>\n",
              "      <td>-41.0</td>\n",
              "    </tr>\n",
              "    <tr>\n",
              "      <th>3</th>\n",
              "      <td>1631687699</td>\n",
              "      <td>35.157140</td>\n",
              "      <td>136.926306</td>\n",
              "      <td>1</td>\n",
              "      <td>11</td>\n",
              "      <td>-41</td>\n",
              "      <td>35.157320</td>\n",
              "      <td>136.926447</td>\n",
              "      <td>0.0</td>\n",
              "      <td>1</td>\n",
              "      <td>25.439033</td>\n",
              "      <td>-41.0</td>\n",
              "    </tr>\n",
              "    <tr>\n",
              "      <th>4</th>\n",
              "      <td>1631687700</td>\n",
              "      <td>35.157140</td>\n",
              "      <td>136.926306</td>\n",
              "      <td>1</td>\n",
              "      <td>11</td>\n",
              "      <td>-41</td>\n",
              "      <td>35.157320</td>\n",
              "      <td>136.926447</td>\n",
              "      <td>0.0</td>\n",
              "      <td>1</td>\n",
              "      <td>25.439033</td>\n",
              "      <td>-41.0</td>\n",
              "    </tr>\n",
              "    <tr>\n",
              "      <th>...</th>\n",
              "      <td>...</td>\n",
              "      <td>...</td>\n",
              "      <td>...</td>\n",
              "      <td>...</td>\n",
              "      <td>...</td>\n",
              "      <td>...</td>\n",
              "      <td>...</td>\n",
              "      <td>...</td>\n",
              "      <td>...</td>\n",
              "      <td>...</td>\n",
              "      <td>...</td>\n",
              "      <td>...</td>\n",
              "    </tr>\n",
              "    <tr>\n",
              "      <th>1071</th>\n",
              "      <td>1631688759</td>\n",
              "      <td>35.157236</td>\n",
              "      <td>136.926489</td>\n",
              "      <td>4</td>\n",
              "      <td>1</td>\n",
              "      <td>-52</td>\n",
              "      <td>35.157165</td>\n",
              "      <td>136.926470</td>\n",
              "      <td>0.0</td>\n",
              "      <td>1</td>\n",
              "      <td>8.152950</td>\n",
              "      <td>-52.0</td>\n",
              "    </tr>\n",
              "    <tr>\n",
              "      <th>1072</th>\n",
              "      <td>1631688760</td>\n",
              "      <td>35.157236</td>\n",
              "      <td>136.926489</td>\n",
              "      <td>4</td>\n",
              "      <td>1</td>\n",
              "      <td>-52</td>\n",
              "      <td>35.157165</td>\n",
              "      <td>136.926470</td>\n",
              "      <td>0.0</td>\n",
              "      <td>1</td>\n",
              "      <td>8.152950</td>\n",
              "      <td>-52.0</td>\n",
              "    </tr>\n",
              "    <tr>\n",
              "      <th>1073</th>\n",
              "      <td>1631688761</td>\n",
              "      <td>35.157236</td>\n",
              "      <td>136.926489</td>\n",
              "      <td>4</td>\n",
              "      <td>1</td>\n",
              "      <td>-52</td>\n",
              "      <td>35.157165</td>\n",
              "      <td>136.926470</td>\n",
              "      <td>0.0</td>\n",
              "      <td>1</td>\n",
              "      <td>8.152950</td>\n",
              "      <td>-52.0</td>\n",
              "    </tr>\n",
              "    <tr>\n",
              "      <th>1074</th>\n",
              "      <td>1631688762</td>\n",
              "      <td>35.157236</td>\n",
              "      <td>136.926489</td>\n",
              "      <td>4</td>\n",
              "      <td>1</td>\n",
              "      <td>-52</td>\n",
              "      <td>35.157165</td>\n",
              "      <td>136.926470</td>\n",
              "      <td>0.0</td>\n",
              "      <td>1</td>\n",
              "      <td>8.152950</td>\n",
              "      <td>-52.0</td>\n",
              "    </tr>\n",
              "    <tr>\n",
              "      <th>1075</th>\n",
              "      <td>1631688763</td>\n",
              "      <td>35.157236</td>\n",
              "      <td>136.926489</td>\n",
              "      <td>4</td>\n",
              "      <td>1</td>\n",
              "      <td>-52</td>\n",
              "      <td>35.157165</td>\n",
              "      <td>136.926470</td>\n",
              "      <td>0.0</td>\n",
              "      <td>1</td>\n",
              "      <td>8.152950</td>\n",
              "      <td>-52.0</td>\n",
              "    </tr>\n",
              "  </tbody>\n",
              "</table>\n",
              "<p>1059 rows × 12 columns</p>\n",
              "</div>"
            ],
            "text/plain": [
              "      TimeStamp(UNIX)  Latitude_OP  ...   Distance  Moving Average (RSSI)\n",
              "0          1631687696    35.157140  ...  25.439033                  -41.0\n",
              "1          1631687697    35.157140  ...  25.439033                  -41.0\n",
              "2          1631687698    35.157140  ...  25.439033                  -41.0\n",
              "3          1631687699    35.157140  ...  25.439033                  -41.0\n",
              "4          1631687700    35.157140  ...  25.439033                  -41.0\n",
              "...               ...          ...  ...        ...                    ...\n",
              "1071       1631688759    35.157236  ...   8.152950                  -52.0\n",
              "1072       1631688760    35.157236  ...   8.152950                  -52.0\n",
              "1073       1631688761    35.157236  ...   8.152950                  -52.0\n",
              "1074       1631688762    35.157236  ...   8.152950                  -52.0\n",
              "1075       1631688763    35.157236  ...   8.152950                  -52.0\n",
              "\n",
              "[1059 rows x 12 columns]"
            ]
          },
          "metadata": {},
          "execution_count": 20
        }
      ]
    },
    {
      "cell_type": "code",
      "metadata": {
        "id": "PoeOGVgzvPxo"
      },
      "source": [
        "train[\"RSSI_AAA001\"] = np.where(train['SSID'] == 1, train[\"RSSI(dBm)\"], \"\")\n",
        "train[\"RSSI_AAA002\"] = np.where(train['SSID'] == 2, train[\"RSSI(dBm)\"], \"\")\n",
        "train[\"RSSI_AAA003\"] = np.where(train['SSID'] == 3, train[\"RSSI(dBm)\"], \"\")\n",
        "train[\"RSSI_AAA004\"] = np.where(train['SSID'] == 4, train[\"RSSI(dBm)\"], \"\")"
      ],
      "execution_count": 21,
      "outputs": []
    },
    {
      "cell_type": "code",
      "metadata": {
        "id": "TvPz_1arvmdJ"
      },
      "source": [
        "train.drop(['SSID','RSSI(dBm)'],axis=1,inplace=True)"
      ],
      "execution_count": 22,
      "outputs": []
    },
    {
      "cell_type": "code",
      "metadata": {
        "colab": {
          "base_uri": "https://localhost:8080/",
          "height": 423
        },
        "id": "lxA2X5YrwfIy",
        "outputId": "1237ea93-d57a-4731-e129-0eb2cda08879"
      },
      "source": [
        "train"
      ],
      "execution_count": 23,
      "outputs": [
        {
          "output_type": "execute_result",
          "data": {
            "text/html": [
              "<div>\n",
              "<style scoped>\n",
              "    .dataframe tbody tr th:only-of-type {\n",
              "        vertical-align: middle;\n",
              "    }\n",
              "\n",
              "    .dataframe tbody tr th {\n",
              "        vertical-align: top;\n",
              "    }\n",
              "\n",
              "    .dataframe thead th {\n",
              "        text-align: right;\n",
              "    }\n",
              "</style>\n",
              "<table border=\"1\" class=\"dataframe\">\n",
              "  <thead>\n",
              "    <tr style=\"text-align: right;\">\n",
              "      <th></th>\n",
              "      <th>TimeStamp(UNIX)</th>\n",
              "      <th>Latitude</th>\n",
              "      <th>Longitude</th>\n",
              "      <th>Channel</th>\n",
              "      <th>RSSI_AAA001</th>\n",
              "      <th>RSSI_AAA002</th>\n",
              "      <th>RSSI_AAA003</th>\n",
              "      <th>RSSI_AAA004</th>\n",
              "    </tr>\n",
              "  </thead>\n",
              "  <tbody>\n",
              "    <tr>\n",
              "      <th>0</th>\n",
              "      <td>1631687696</td>\n",
              "      <td>35.157140</td>\n",
              "      <td>136.926306</td>\n",
              "      <td>11</td>\n",
              "      <td>-41</td>\n",
              "      <td></td>\n",
              "      <td></td>\n",
              "      <td></td>\n",
              "    </tr>\n",
              "    <tr>\n",
              "      <th>1</th>\n",
              "      <td>1631687697</td>\n",
              "      <td>35.157140</td>\n",
              "      <td>136.926306</td>\n",
              "      <td>11</td>\n",
              "      <td>-41</td>\n",
              "      <td></td>\n",
              "      <td></td>\n",
              "      <td></td>\n",
              "    </tr>\n",
              "    <tr>\n",
              "      <th>2</th>\n",
              "      <td>1631687698</td>\n",
              "      <td>35.157140</td>\n",
              "      <td>136.926306</td>\n",
              "      <td>11</td>\n",
              "      <td>-41</td>\n",
              "      <td></td>\n",
              "      <td></td>\n",
              "      <td></td>\n",
              "    </tr>\n",
              "    <tr>\n",
              "      <th>3</th>\n",
              "      <td>1631687699</td>\n",
              "      <td>35.157140</td>\n",
              "      <td>136.926306</td>\n",
              "      <td>11</td>\n",
              "      <td>-41</td>\n",
              "      <td></td>\n",
              "      <td></td>\n",
              "      <td></td>\n",
              "    </tr>\n",
              "    <tr>\n",
              "      <th>4</th>\n",
              "      <td>1631687700</td>\n",
              "      <td>35.157140</td>\n",
              "      <td>136.926306</td>\n",
              "      <td>11</td>\n",
              "      <td>-41</td>\n",
              "      <td></td>\n",
              "      <td></td>\n",
              "      <td></td>\n",
              "    </tr>\n",
              "    <tr>\n",
              "      <th>...</th>\n",
              "      <td>...</td>\n",
              "      <td>...</td>\n",
              "      <td>...</td>\n",
              "      <td>...</td>\n",
              "      <td>...</td>\n",
              "      <td>...</td>\n",
              "      <td>...</td>\n",
              "      <td>...</td>\n",
              "    </tr>\n",
              "    <tr>\n",
              "      <th>1071</th>\n",
              "      <td>1631688759</td>\n",
              "      <td>35.157236</td>\n",
              "      <td>136.926489</td>\n",
              "      <td>1</td>\n",
              "      <td></td>\n",
              "      <td></td>\n",
              "      <td></td>\n",
              "      <td>-52</td>\n",
              "    </tr>\n",
              "    <tr>\n",
              "      <th>1072</th>\n",
              "      <td>1631688760</td>\n",
              "      <td>35.157236</td>\n",
              "      <td>136.926489</td>\n",
              "      <td>1</td>\n",
              "      <td></td>\n",
              "      <td></td>\n",
              "      <td></td>\n",
              "      <td>-52</td>\n",
              "    </tr>\n",
              "    <tr>\n",
              "      <th>1073</th>\n",
              "      <td>1631688761</td>\n",
              "      <td>35.157236</td>\n",
              "      <td>136.926489</td>\n",
              "      <td>1</td>\n",
              "      <td></td>\n",
              "      <td></td>\n",
              "      <td></td>\n",
              "      <td>-52</td>\n",
              "    </tr>\n",
              "    <tr>\n",
              "      <th>1074</th>\n",
              "      <td>1631688762</td>\n",
              "      <td>35.157236</td>\n",
              "      <td>136.926489</td>\n",
              "      <td>1</td>\n",
              "      <td></td>\n",
              "      <td></td>\n",
              "      <td></td>\n",
              "      <td>-52</td>\n",
              "    </tr>\n",
              "    <tr>\n",
              "      <th>1075</th>\n",
              "      <td>1631688763</td>\n",
              "      <td>35.157236</td>\n",
              "      <td>136.926489</td>\n",
              "      <td>1</td>\n",
              "      <td></td>\n",
              "      <td></td>\n",
              "      <td></td>\n",
              "      <td>-52</td>\n",
              "    </tr>\n",
              "  </tbody>\n",
              "</table>\n",
              "<p>1076 rows × 8 columns</p>\n",
              "</div>"
            ],
            "text/plain": [
              "      TimeStamp(UNIX)   Latitude  ...  RSSI_AAA003  RSSI_AAA004\n",
              "0          1631687696  35.157140  ...                          \n",
              "1          1631687697  35.157140  ...                          \n",
              "2          1631687698  35.157140  ...                          \n",
              "3          1631687699  35.157140  ...                          \n",
              "4          1631687700  35.157140  ...                          \n",
              "...               ...        ...  ...          ...          ...\n",
              "1071       1631688759  35.157236  ...                       -52\n",
              "1072       1631688760  35.157236  ...                       -52\n",
              "1073       1631688761  35.157236  ...                       -52\n",
              "1074       1631688762  35.157236  ...                       -52\n",
              "1075       1631688763  35.157236  ...                       -52\n",
              "\n",
              "[1076 rows x 8 columns]"
            ]
          },
          "metadata": {},
          "execution_count": 23
        }
      ]
    },
    {
      "cell_type": "code",
      "metadata": {
        "colab": {
          "base_uri": "https://localhost:8080/",
          "height": 423
        },
        "id": "WV8KCwfRwqtO",
        "outputId": "43557711-cee0-48a5-ecf7-7c2bac1a15b7"
      },
      "source": [
        "train_semi"
      ],
      "execution_count": 24,
      "outputs": [
        {
          "output_type": "execute_result",
          "data": {
            "text/html": [
              "<div>\n",
              "<style scoped>\n",
              "    .dataframe tbody tr th:only-of-type {\n",
              "        vertical-align: middle;\n",
              "    }\n",
              "\n",
              "    .dataframe tbody tr th {\n",
              "        vertical-align: top;\n",
              "    }\n",
              "\n",
              "    .dataframe thead th {\n",
              "        text-align: right;\n",
              "    }\n",
              "</style>\n",
              "<table border=\"1\" class=\"dataframe\">\n",
              "  <thead>\n",
              "    <tr style=\"text-align: right;\">\n",
              "      <th></th>\n",
              "      <th>TimeStamp(UNIX)</th>\n",
              "      <th>Latitude_OP</th>\n",
              "      <th>Longitude_OP</th>\n",
              "      <th>SSID</th>\n",
              "      <th>Channel</th>\n",
              "      <th>RSSI(dBm)</th>\n",
              "      <th>Latitude_AP</th>\n",
              "      <th>Longitude_AP</th>\n",
              "      <th>Hight Difference(m)</th>\n",
              "      <th>Outdoor</th>\n",
              "      <th>Distance</th>\n",
              "      <th>Moving Average (RSSI)</th>\n",
              "    </tr>\n",
              "  </thead>\n",
              "  <tbody>\n",
              "    <tr>\n",
              "      <th>0</th>\n",
              "      <td>1631687696</td>\n",
              "      <td>35.157140</td>\n",
              "      <td>136.926306</td>\n",
              "      <td>1</td>\n",
              "      <td>11</td>\n",
              "      <td>-41</td>\n",
              "      <td>35.157320</td>\n",
              "      <td>136.926447</td>\n",
              "      <td>0.0</td>\n",
              "      <td>1</td>\n",
              "      <td>25.439033</td>\n",
              "      <td>-41.0</td>\n",
              "    </tr>\n",
              "    <tr>\n",
              "      <th>1</th>\n",
              "      <td>1631687697</td>\n",
              "      <td>35.157140</td>\n",
              "      <td>136.926306</td>\n",
              "      <td>1</td>\n",
              "      <td>11</td>\n",
              "      <td>-41</td>\n",
              "      <td>35.157320</td>\n",
              "      <td>136.926447</td>\n",
              "      <td>0.0</td>\n",
              "      <td>1</td>\n",
              "      <td>25.439033</td>\n",
              "      <td>-41.0</td>\n",
              "    </tr>\n",
              "    <tr>\n",
              "      <th>2</th>\n",
              "      <td>1631687698</td>\n",
              "      <td>35.157140</td>\n",
              "      <td>136.926306</td>\n",
              "      <td>1</td>\n",
              "      <td>11</td>\n",
              "      <td>-41</td>\n",
              "      <td>35.157320</td>\n",
              "      <td>136.926447</td>\n",
              "      <td>0.0</td>\n",
              "      <td>1</td>\n",
              "      <td>25.439033</td>\n",
              "      <td>-41.0</td>\n",
              "    </tr>\n",
              "    <tr>\n",
              "      <th>3</th>\n",
              "      <td>1631687699</td>\n",
              "      <td>35.157140</td>\n",
              "      <td>136.926306</td>\n",
              "      <td>1</td>\n",
              "      <td>11</td>\n",
              "      <td>-41</td>\n",
              "      <td>35.157320</td>\n",
              "      <td>136.926447</td>\n",
              "      <td>0.0</td>\n",
              "      <td>1</td>\n",
              "      <td>25.439033</td>\n",
              "      <td>-41.0</td>\n",
              "    </tr>\n",
              "    <tr>\n",
              "      <th>4</th>\n",
              "      <td>1631687700</td>\n",
              "      <td>35.157140</td>\n",
              "      <td>136.926306</td>\n",
              "      <td>1</td>\n",
              "      <td>11</td>\n",
              "      <td>-41</td>\n",
              "      <td>35.157320</td>\n",
              "      <td>136.926447</td>\n",
              "      <td>0.0</td>\n",
              "      <td>1</td>\n",
              "      <td>25.439033</td>\n",
              "      <td>-41.0</td>\n",
              "    </tr>\n",
              "    <tr>\n",
              "      <th>...</th>\n",
              "      <td>...</td>\n",
              "      <td>...</td>\n",
              "      <td>...</td>\n",
              "      <td>...</td>\n",
              "      <td>...</td>\n",
              "      <td>...</td>\n",
              "      <td>...</td>\n",
              "      <td>...</td>\n",
              "      <td>...</td>\n",
              "      <td>...</td>\n",
              "      <td>...</td>\n",
              "      <td>...</td>\n",
              "    </tr>\n",
              "    <tr>\n",
              "      <th>1071</th>\n",
              "      <td>1631688759</td>\n",
              "      <td>35.157236</td>\n",
              "      <td>136.926489</td>\n",
              "      <td>4</td>\n",
              "      <td>1</td>\n",
              "      <td>-52</td>\n",
              "      <td>35.157165</td>\n",
              "      <td>136.926470</td>\n",
              "      <td>0.0</td>\n",
              "      <td>1</td>\n",
              "      <td>8.152950</td>\n",
              "      <td>-52.0</td>\n",
              "    </tr>\n",
              "    <tr>\n",
              "      <th>1072</th>\n",
              "      <td>1631688760</td>\n",
              "      <td>35.157236</td>\n",
              "      <td>136.926489</td>\n",
              "      <td>4</td>\n",
              "      <td>1</td>\n",
              "      <td>-52</td>\n",
              "      <td>35.157165</td>\n",
              "      <td>136.926470</td>\n",
              "      <td>0.0</td>\n",
              "      <td>1</td>\n",
              "      <td>8.152950</td>\n",
              "      <td>-52.0</td>\n",
              "    </tr>\n",
              "    <tr>\n",
              "      <th>1073</th>\n",
              "      <td>1631688761</td>\n",
              "      <td>35.157236</td>\n",
              "      <td>136.926489</td>\n",
              "      <td>4</td>\n",
              "      <td>1</td>\n",
              "      <td>-52</td>\n",
              "      <td>35.157165</td>\n",
              "      <td>136.926470</td>\n",
              "      <td>0.0</td>\n",
              "      <td>1</td>\n",
              "      <td>8.152950</td>\n",
              "      <td>-52.0</td>\n",
              "    </tr>\n",
              "    <tr>\n",
              "      <th>1074</th>\n",
              "      <td>1631688762</td>\n",
              "      <td>35.157236</td>\n",
              "      <td>136.926489</td>\n",
              "      <td>4</td>\n",
              "      <td>1</td>\n",
              "      <td>-52</td>\n",
              "      <td>35.157165</td>\n",
              "      <td>136.926470</td>\n",
              "      <td>0.0</td>\n",
              "      <td>1</td>\n",
              "      <td>8.152950</td>\n",
              "      <td>-52.0</td>\n",
              "    </tr>\n",
              "    <tr>\n",
              "      <th>1075</th>\n",
              "      <td>1631688763</td>\n",
              "      <td>35.157236</td>\n",
              "      <td>136.926489</td>\n",
              "      <td>4</td>\n",
              "      <td>1</td>\n",
              "      <td>-52</td>\n",
              "      <td>35.157165</td>\n",
              "      <td>136.926470</td>\n",
              "      <td>0.0</td>\n",
              "      <td>1</td>\n",
              "      <td>8.152950</td>\n",
              "      <td>-52.0</td>\n",
              "    </tr>\n",
              "  </tbody>\n",
              "</table>\n",
              "<p>1076 rows × 12 columns</p>\n",
              "</div>"
            ],
            "text/plain": [
              "      TimeStamp(UNIX)  Latitude_OP  ...   Distance  Moving Average (RSSI)\n",
              "0          1631687696    35.157140  ...  25.439033                  -41.0\n",
              "1          1631687697    35.157140  ...  25.439033                  -41.0\n",
              "2          1631687698    35.157140  ...  25.439033                  -41.0\n",
              "3          1631687699    35.157140  ...  25.439033                  -41.0\n",
              "4          1631687700    35.157140  ...  25.439033                  -41.0\n",
              "...               ...          ...  ...        ...                    ...\n",
              "1071       1631688759    35.157236  ...   8.152950                  -52.0\n",
              "1072       1631688760    35.157236  ...   8.152950                  -52.0\n",
              "1073       1631688761    35.157236  ...   8.152950                  -52.0\n",
              "1074       1631688762    35.157236  ...   8.152950                  -52.0\n",
              "1075       1631688763    35.157236  ...   8.152950                  -52.0\n",
              "\n",
              "[1076 rows x 12 columns]"
            ]
          },
          "metadata": {},
          "execution_count": 24
        }
      ]
    },
    {
      "cell_type": "code",
      "metadata": {
        "id": "BqGmrNzQFIeO"
      },
      "source": [
        "train_semi = pd.concat([train_semi,pd.get_dummies(train_semi['SSID'])], axis=1, join='inner').drop(columns=['SSID'])\n",
        "test_semi = pd.concat([test_semi,pd.get_dummies(test_semi['SSID'])], axis=1, join='inner').drop(columns=['SSID'])"
      ],
      "execution_count": 25,
      "outputs": []
    },
    {
      "cell_type": "code",
      "metadata": {
        "colab": {
          "base_uri": "https://localhost:8080/",
          "height": 423
        },
        "id": "d2x9TR5xBE8l",
        "outputId": "e83539ed-292f-49ce-eb90-25c678d7833a"
      },
      "source": [
        "train_semi"
      ],
      "execution_count": 26,
      "outputs": [
        {
          "output_type": "execute_result",
          "data": {
            "text/html": [
              "<div>\n",
              "<style scoped>\n",
              "    .dataframe tbody tr th:only-of-type {\n",
              "        vertical-align: middle;\n",
              "    }\n",
              "\n",
              "    .dataframe tbody tr th {\n",
              "        vertical-align: top;\n",
              "    }\n",
              "\n",
              "    .dataframe thead th {\n",
              "        text-align: right;\n",
              "    }\n",
              "</style>\n",
              "<table border=\"1\" class=\"dataframe\">\n",
              "  <thead>\n",
              "    <tr style=\"text-align: right;\">\n",
              "      <th></th>\n",
              "      <th>TimeStamp(UNIX)</th>\n",
              "      <th>Latitude_OP</th>\n",
              "      <th>Longitude_OP</th>\n",
              "      <th>Channel</th>\n",
              "      <th>RSSI(dBm)</th>\n",
              "      <th>Latitude_AP</th>\n",
              "      <th>Longitude_AP</th>\n",
              "      <th>Hight Difference(m)</th>\n",
              "      <th>Outdoor</th>\n",
              "      <th>Distance</th>\n",
              "      <th>Moving Average (RSSI)</th>\n",
              "      <th>1</th>\n",
              "      <th>2</th>\n",
              "      <th>3</th>\n",
              "      <th>4</th>\n",
              "    </tr>\n",
              "  </thead>\n",
              "  <tbody>\n",
              "    <tr>\n",
              "      <th>0</th>\n",
              "      <td>1631687696</td>\n",
              "      <td>35.157140</td>\n",
              "      <td>136.926306</td>\n",
              "      <td>11</td>\n",
              "      <td>-41</td>\n",
              "      <td>35.157320</td>\n",
              "      <td>136.926447</td>\n",
              "      <td>0.0</td>\n",
              "      <td>1</td>\n",
              "      <td>25.439033</td>\n",
              "      <td>-41.0</td>\n",
              "      <td>1</td>\n",
              "      <td>0</td>\n",
              "      <td>0</td>\n",
              "      <td>0</td>\n",
              "    </tr>\n",
              "    <tr>\n",
              "      <th>1</th>\n",
              "      <td>1631687697</td>\n",
              "      <td>35.157140</td>\n",
              "      <td>136.926306</td>\n",
              "      <td>11</td>\n",
              "      <td>-41</td>\n",
              "      <td>35.157320</td>\n",
              "      <td>136.926447</td>\n",
              "      <td>0.0</td>\n",
              "      <td>1</td>\n",
              "      <td>25.439033</td>\n",
              "      <td>-41.0</td>\n",
              "      <td>1</td>\n",
              "      <td>0</td>\n",
              "      <td>0</td>\n",
              "      <td>0</td>\n",
              "    </tr>\n",
              "    <tr>\n",
              "      <th>2</th>\n",
              "      <td>1631687698</td>\n",
              "      <td>35.157140</td>\n",
              "      <td>136.926306</td>\n",
              "      <td>11</td>\n",
              "      <td>-41</td>\n",
              "      <td>35.157320</td>\n",
              "      <td>136.926447</td>\n",
              "      <td>0.0</td>\n",
              "      <td>1</td>\n",
              "      <td>25.439033</td>\n",
              "      <td>-41.0</td>\n",
              "      <td>1</td>\n",
              "      <td>0</td>\n",
              "      <td>0</td>\n",
              "      <td>0</td>\n",
              "    </tr>\n",
              "    <tr>\n",
              "      <th>3</th>\n",
              "      <td>1631687699</td>\n",
              "      <td>35.157140</td>\n",
              "      <td>136.926306</td>\n",
              "      <td>11</td>\n",
              "      <td>-41</td>\n",
              "      <td>35.157320</td>\n",
              "      <td>136.926447</td>\n",
              "      <td>0.0</td>\n",
              "      <td>1</td>\n",
              "      <td>25.439033</td>\n",
              "      <td>-41.0</td>\n",
              "      <td>1</td>\n",
              "      <td>0</td>\n",
              "      <td>0</td>\n",
              "      <td>0</td>\n",
              "    </tr>\n",
              "    <tr>\n",
              "      <th>4</th>\n",
              "      <td>1631687700</td>\n",
              "      <td>35.157140</td>\n",
              "      <td>136.926306</td>\n",
              "      <td>11</td>\n",
              "      <td>-41</td>\n",
              "      <td>35.157320</td>\n",
              "      <td>136.926447</td>\n",
              "      <td>0.0</td>\n",
              "      <td>1</td>\n",
              "      <td>25.439033</td>\n",
              "      <td>-41.0</td>\n",
              "      <td>1</td>\n",
              "      <td>0</td>\n",
              "      <td>0</td>\n",
              "      <td>0</td>\n",
              "    </tr>\n",
              "    <tr>\n",
              "      <th>...</th>\n",
              "      <td>...</td>\n",
              "      <td>...</td>\n",
              "      <td>...</td>\n",
              "      <td>...</td>\n",
              "      <td>...</td>\n",
              "      <td>...</td>\n",
              "      <td>...</td>\n",
              "      <td>...</td>\n",
              "      <td>...</td>\n",
              "      <td>...</td>\n",
              "      <td>...</td>\n",
              "      <td>...</td>\n",
              "      <td>...</td>\n",
              "      <td>...</td>\n",
              "      <td>...</td>\n",
              "    </tr>\n",
              "    <tr>\n",
              "      <th>1071</th>\n",
              "      <td>1631688759</td>\n",
              "      <td>35.157236</td>\n",
              "      <td>136.926489</td>\n",
              "      <td>1</td>\n",
              "      <td>-52</td>\n",
              "      <td>35.157165</td>\n",
              "      <td>136.926470</td>\n",
              "      <td>0.0</td>\n",
              "      <td>1</td>\n",
              "      <td>8.152950</td>\n",
              "      <td>-52.0</td>\n",
              "      <td>0</td>\n",
              "      <td>0</td>\n",
              "      <td>0</td>\n",
              "      <td>1</td>\n",
              "    </tr>\n",
              "    <tr>\n",
              "      <th>1072</th>\n",
              "      <td>1631688760</td>\n",
              "      <td>35.157236</td>\n",
              "      <td>136.926489</td>\n",
              "      <td>1</td>\n",
              "      <td>-52</td>\n",
              "      <td>35.157165</td>\n",
              "      <td>136.926470</td>\n",
              "      <td>0.0</td>\n",
              "      <td>1</td>\n",
              "      <td>8.152950</td>\n",
              "      <td>-52.0</td>\n",
              "      <td>0</td>\n",
              "      <td>0</td>\n",
              "      <td>0</td>\n",
              "      <td>1</td>\n",
              "    </tr>\n",
              "    <tr>\n",
              "      <th>1073</th>\n",
              "      <td>1631688761</td>\n",
              "      <td>35.157236</td>\n",
              "      <td>136.926489</td>\n",
              "      <td>1</td>\n",
              "      <td>-52</td>\n",
              "      <td>35.157165</td>\n",
              "      <td>136.926470</td>\n",
              "      <td>0.0</td>\n",
              "      <td>1</td>\n",
              "      <td>8.152950</td>\n",
              "      <td>-52.0</td>\n",
              "      <td>0</td>\n",
              "      <td>0</td>\n",
              "      <td>0</td>\n",
              "      <td>1</td>\n",
              "    </tr>\n",
              "    <tr>\n",
              "      <th>1074</th>\n",
              "      <td>1631688762</td>\n",
              "      <td>35.157236</td>\n",
              "      <td>136.926489</td>\n",
              "      <td>1</td>\n",
              "      <td>-52</td>\n",
              "      <td>35.157165</td>\n",
              "      <td>136.926470</td>\n",
              "      <td>0.0</td>\n",
              "      <td>1</td>\n",
              "      <td>8.152950</td>\n",
              "      <td>-52.0</td>\n",
              "      <td>0</td>\n",
              "      <td>0</td>\n",
              "      <td>0</td>\n",
              "      <td>1</td>\n",
              "    </tr>\n",
              "    <tr>\n",
              "      <th>1075</th>\n",
              "      <td>1631688763</td>\n",
              "      <td>35.157236</td>\n",
              "      <td>136.926489</td>\n",
              "      <td>1</td>\n",
              "      <td>-52</td>\n",
              "      <td>35.157165</td>\n",
              "      <td>136.926470</td>\n",
              "      <td>0.0</td>\n",
              "      <td>1</td>\n",
              "      <td>8.152950</td>\n",
              "      <td>-52.0</td>\n",
              "      <td>0</td>\n",
              "      <td>0</td>\n",
              "      <td>0</td>\n",
              "      <td>1</td>\n",
              "    </tr>\n",
              "  </tbody>\n",
              "</table>\n",
              "<p>1076 rows × 15 columns</p>\n",
              "</div>"
            ],
            "text/plain": [
              "      TimeStamp(UNIX)  Latitude_OP  Longitude_OP  Channel  ...  1  2  3  4\n",
              "0          1631687696    35.157140    136.926306       11  ...  1  0  0  0\n",
              "1          1631687697    35.157140    136.926306       11  ...  1  0  0  0\n",
              "2          1631687698    35.157140    136.926306       11  ...  1  0  0  0\n",
              "3          1631687699    35.157140    136.926306       11  ...  1  0  0  0\n",
              "4          1631687700    35.157140    136.926306       11  ...  1  0  0  0\n",
              "...               ...          ...           ...      ...  ... .. .. .. ..\n",
              "1071       1631688759    35.157236    136.926489        1  ...  0  0  0  1\n",
              "1072       1631688760    35.157236    136.926489        1  ...  0  0  0  1\n",
              "1073       1631688761    35.157236    136.926489        1  ...  0  0  0  1\n",
              "1074       1631688762    35.157236    136.926489        1  ...  0  0  0  1\n",
              "1075       1631688763    35.157236    136.926489        1  ...  0  0  0  1\n",
              "\n",
              "[1076 rows x 15 columns]"
            ]
          },
          "metadata": {},
          "execution_count": 26
        }
      ]
    },
    {
      "cell_type": "code",
      "metadata": {
        "colab": {
          "base_uri": "https://localhost:8080/",
          "height": 423
        },
        "id": "3AGg8gtXBGeA",
        "outputId": "0fd9deb7-87bc-4ec4-f3bb-6480a28b2f3a"
      },
      "source": [
        "test_semi"
      ],
      "execution_count": 27,
      "outputs": [
        {
          "output_type": "execute_result",
          "data": {
            "text/html": [
              "<div>\n",
              "<style scoped>\n",
              "    .dataframe tbody tr th:only-of-type {\n",
              "        vertical-align: middle;\n",
              "    }\n",
              "\n",
              "    .dataframe tbody tr th {\n",
              "        vertical-align: top;\n",
              "    }\n",
              "\n",
              "    .dataframe thead th {\n",
              "        text-align: right;\n",
              "    }\n",
              "</style>\n",
              "<table border=\"1\" class=\"dataframe\">\n",
              "  <thead>\n",
              "    <tr style=\"text-align: right;\">\n",
              "      <th></th>\n",
              "      <th>TimeStamp(UNIX)</th>\n",
              "      <th>Latitude_OP</th>\n",
              "      <th>Longitude_OP</th>\n",
              "      <th>Channel</th>\n",
              "      <th>RSSI(dBm)</th>\n",
              "      <th>Latitude_AP</th>\n",
              "      <th>Longitude_AP</th>\n",
              "      <th>Hight Difference(m)</th>\n",
              "      <th>Outdoor</th>\n",
              "      <th>Distance</th>\n",
              "      <th>Moving Average (RSSI)</th>\n",
              "      <th>1</th>\n",
              "      <th>2</th>\n",
              "      <th>3</th>\n",
              "      <th>4</th>\n",
              "    </tr>\n",
              "  </thead>\n",
              "  <tbody>\n",
              "    <tr>\n",
              "      <th>0</th>\n",
              "      <td>1631689137</td>\n",
              "      <td>35.157261</td>\n",
              "      <td>136.926465</td>\n",
              "      <td>11</td>\n",
              "      <td>-41</td>\n",
              "      <td>35.157320</td>\n",
              "      <td>136.926447</td>\n",
              "      <td>0.0</td>\n",
              "      <td>1</td>\n",
              "      <td>6.906728</td>\n",
              "      <td>-41.0</td>\n",
              "      <td>1</td>\n",
              "      <td>0</td>\n",
              "      <td>0</td>\n",
              "      <td>0</td>\n",
              "    </tr>\n",
              "    <tr>\n",
              "      <th>1</th>\n",
              "      <td>1631689138</td>\n",
              "      <td>35.157261</td>\n",
              "      <td>136.926465</td>\n",
              "      <td>11</td>\n",
              "      <td>-41</td>\n",
              "      <td>35.157320</td>\n",
              "      <td>136.926447</td>\n",
              "      <td>0.0</td>\n",
              "      <td>1</td>\n",
              "      <td>6.906728</td>\n",
              "      <td>-41.0</td>\n",
              "      <td>1</td>\n",
              "      <td>0</td>\n",
              "      <td>0</td>\n",
              "      <td>0</td>\n",
              "    </tr>\n",
              "    <tr>\n",
              "      <th>2</th>\n",
              "      <td>1631689139</td>\n",
              "      <td>35.157261</td>\n",
              "      <td>136.926465</td>\n",
              "      <td>11</td>\n",
              "      <td>-41</td>\n",
              "      <td>35.157320</td>\n",
              "      <td>136.926447</td>\n",
              "      <td>0.0</td>\n",
              "      <td>1</td>\n",
              "      <td>6.906728</td>\n",
              "      <td>-41.0</td>\n",
              "      <td>1</td>\n",
              "      <td>0</td>\n",
              "      <td>0</td>\n",
              "      <td>0</td>\n",
              "    </tr>\n",
              "    <tr>\n",
              "      <th>3</th>\n",
              "      <td>1631689140</td>\n",
              "      <td>35.157261</td>\n",
              "      <td>136.926465</td>\n",
              "      <td>11</td>\n",
              "      <td>-41</td>\n",
              "      <td>35.157320</td>\n",
              "      <td>136.926447</td>\n",
              "      <td>0.0</td>\n",
              "      <td>1</td>\n",
              "      <td>6.906728</td>\n",
              "      <td>-41.0</td>\n",
              "      <td>1</td>\n",
              "      <td>0</td>\n",
              "      <td>0</td>\n",
              "      <td>0</td>\n",
              "    </tr>\n",
              "    <tr>\n",
              "      <th>4</th>\n",
              "      <td>1631689141</td>\n",
              "      <td>35.157261</td>\n",
              "      <td>136.926465</td>\n",
              "      <td>11</td>\n",
              "      <td>-41</td>\n",
              "      <td>35.157320</td>\n",
              "      <td>136.926447</td>\n",
              "      <td>0.0</td>\n",
              "      <td>1</td>\n",
              "      <td>6.906728</td>\n",
              "      <td>-41.0</td>\n",
              "      <td>1</td>\n",
              "      <td>0</td>\n",
              "      <td>0</td>\n",
              "      <td>0</td>\n",
              "    </tr>\n",
              "    <tr>\n",
              "      <th>...</th>\n",
              "      <td>...</td>\n",
              "      <td>...</td>\n",
              "      <td>...</td>\n",
              "      <td>...</td>\n",
              "      <td>...</td>\n",
              "      <td>...</td>\n",
              "      <td>...</td>\n",
              "      <td>...</td>\n",
              "      <td>...</td>\n",
              "      <td>...</td>\n",
              "      <td>...</td>\n",
              "      <td>...</td>\n",
              "      <td>...</td>\n",
              "      <td>...</td>\n",
              "      <td>...</td>\n",
              "    </tr>\n",
              "    <tr>\n",
              "      <th>1096</th>\n",
              "      <td>1631691288</td>\n",
              "      <td>35.157298</td>\n",
              "      <td>136.926575</td>\n",
              "      <td>1</td>\n",
              "      <td>-59</td>\n",
              "      <td>35.157165</td>\n",
              "      <td>136.926470</td>\n",
              "      <td>0.0</td>\n",
              "      <td>1</td>\n",
              "      <td>18.773415</td>\n",
              "      <td>-59.0</td>\n",
              "      <td>0</td>\n",
              "      <td>0</td>\n",
              "      <td>0</td>\n",
              "      <td>1</td>\n",
              "    </tr>\n",
              "    <tr>\n",
              "      <th>1097</th>\n",
              "      <td>1631691289</td>\n",
              "      <td>35.157298</td>\n",
              "      <td>136.926575</td>\n",
              "      <td>1</td>\n",
              "      <td>-59</td>\n",
              "      <td>35.157165</td>\n",
              "      <td>136.926470</td>\n",
              "      <td>0.0</td>\n",
              "      <td>1</td>\n",
              "      <td>18.773415</td>\n",
              "      <td>-59.0</td>\n",
              "      <td>0</td>\n",
              "      <td>0</td>\n",
              "      <td>0</td>\n",
              "      <td>1</td>\n",
              "    </tr>\n",
              "    <tr>\n",
              "      <th>1098</th>\n",
              "      <td>1631691290</td>\n",
              "      <td>35.157298</td>\n",
              "      <td>136.926575</td>\n",
              "      <td>1</td>\n",
              "      <td>-59</td>\n",
              "      <td>35.157165</td>\n",
              "      <td>136.926470</td>\n",
              "      <td>0.0</td>\n",
              "      <td>1</td>\n",
              "      <td>18.773415</td>\n",
              "      <td>-59.0</td>\n",
              "      <td>0</td>\n",
              "      <td>0</td>\n",
              "      <td>0</td>\n",
              "      <td>1</td>\n",
              "    </tr>\n",
              "    <tr>\n",
              "      <th>1099</th>\n",
              "      <td>1631691291</td>\n",
              "      <td>35.157298</td>\n",
              "      <td>136.926575</td>\n",
              "      <td>1</td>\n",
              "      <td>-59</td>\n",
              "      <td>35.157165</td>\n",
              "      <td>136.926470</td>\n",
              "      <td>0.0</td>\n",
              "      <td>1</td>\n",
              "      <td>18.773415</td>\n",
              "      <td>-59.0</td>\n",
              "      <td>0</td>\n",
              "      <td>0</td>\n",
              "      <td>0</td>\n",
              "      <td>1</td>\n",
              "    </tr>\n",
              "    <tr>\n",
              "      <th>1100</th>\n",
              "      <td>1631691292</td>\n",
              "      <td>35.157298</td>\n",
              "      <td>136.926575</td>\n",
              "      <td>1</td>\n",
              "      <td>-59</td>\n",
              "      <td>35.157165</td>\n",
              "      <td>136.926470</td>\n",
              "      <td>0.0</td>\n",
              "      <td>1</td>\n",
              "      <td>18.773415</td>\n",
              "      <td>-59.0</td>\n",
              "      <td>0</td>\n",
              "      <td>0</td>\n",
              "      <td>0</td>\n",
              "      <td>1</td>\n",
              "    </tr>\n",
              "  </tbody>\n",
              "</table>\n",
              "<p>1101 rows × 15 columns</p>\n",
              "</div>"
            ],
            "text/plain": [
              "      TimeStamp(UNIX)  Latitude_OP  Longitude_OP  Channel  ...  1  2  3  4\n",
              "0          1631689137    35.157261    136.926465       11  ...  1  0  0  0\n",
              "1          1631689138    35.157261    136.926465       11  ...  1  0  0  0\n",
              "2          1631689139    35.157261    136.926465       11  ...  1  0  0  0\n",
              "3          1631689140    35.157261    136.926465       11  ...  1  0  0  0\n",
              "4          1631689141    35.157261    136.926465       11  ...  1  0  0  0\n",
              "...               ...          ...           ...      ...  ... .. .. .. ..\n",
              "1096       1631691288    35.157298    136.926575        1  ...  0  0  0  1\n",
              "1097       1631691289    35.157298    136.926575        1  ...  0  0  0  1\n",
              "1098       1631691290    35.157298    136.926575        1  ...  0  0  0  1\n",
              "1099       1631691291    35.157298    136.926575        1  ...  0  0  0  1\n",
              "1100       1631691292    35.157298    136.926575        1  ...  0  0  0  1\n",
              "\n",
              "[1101 rows x 15 columns]"
            ]
          },
          "metadata": {},
          "execution_count": 27
        }
      ]
    },
    {
      "cell_type": "markdown",
      "metadata": {
        "id": "uJam-KLXq9TY"
      },
      "source": [
        "##Models\n",
        "\n",
        "For model development we follow two main concepts\n",
        "1. RSSI Distance Estimation\n",
        "2. RSSI Fingerprinting\n",
        "\n",
        "### 1. RSSI Distance Estimation\n",
        "\n",
        "RSSI distance estimation is solely dependent on a clear correlation between distance and RSSI value. As mentioned previously clear correlation is not present, thereby giving us considerable distance error between the predicted location and actual location.\n",
        "\n",
        "For performing the same we have tried several algorithms, the following have yielded the best results:\n",
        "\n",
        "### (i) Linear Regression using Polynomial Features of Degree 2:\n",
        "\n",
        "\n",
        "Since from the formula of RSSI and distance :\n",
        "\n",
        "![picture](https://drive.google.com/uc?export=view&id=15tuh-QXcKEVx1P8EW9MuWRd_lJlTpywg)\n",
        "\n",
        "where n=2, an inverse square law exists between RSSI and distance, thereby motivating us to use the same.\n",
        "\n",
        "The following illustrate the results obtained:"
      ]
    },
    {
      "cell_type": "code",
      "metadata": {
        "id": "jHGCX79WSEB4"
      },
      "source": [
        "trainX_final = train_semi[['Latitude_AP', 'Longitude_AP', 'Channel', 'RSSI(dBm)', 'Hight Difference(m)', 'Outdoor', 'Moving Average (RSSI)', 1, 2, 3, 4]]\n",
        "trainY_final = train_semi[['Latitude_OP','Longitude_OP','Distance']]"
      ],
      "execution_count": 28,
      "outputs": []
    },
    {
      "cell_type": "code",
      "metadata": {
        "id": "MYy3GHsBT_jU"
      },
      "source": [
        "testX_final = test_semi[['Latitude_AP', 'Longitude_AP', 'Channel', 'RSSI(dBm)', 'Hight Difference(m)', 'Outdoor', 'Moving Average (RSSI)', 1, 2, 3, 4]]\n",
        "testY_final = test_semi[['Latitude_OP','Longitude_OP','Distance']]"
      ],
      "execution_count": 29,
      "outputs": []
    },
    {
      "cell_type": "code",
      "metadata": {
        "colab": {
          "base_uri": "https://localhost:8080/"
        },
        "id": "Aj75Nu1CBIco",
        "outputId": "02115c65-5205-4575-c588-3f70e1c9f994"
      },
      "source": [
        "mm_scaler = MinMaxScaler()\n",
        "train_X = pd.DataFrame(mm_scaler.fit_transform(trainX_final),columns=['Latitude_AP', 'Longitude_AP', 'Channel', 'RSSI(dBm)', 'Hight Difference(m)', 'Outdoor', 'Moving Average (RSSI)', '1', '2', '3', '4'])\n",
        "test_X = pd.DataFrame(mm_scaler.transform(testX_final),columns=['Latitude_AP', 'Longitude_AP', 'Channel', 'RSSI(dBm)', 'Hight Difference(m)', 'Outdoor', 'Moving Average (RSSI)', '1', '2', '3', '4'])"
      ],
      "execution_count": 30,
      "outputs": [
        {
          "output_type": "stream",
          "name": "stderr",
          "text": [
            "/usr/local/lib/python3.7/dist-packages/sklearn/utils/validation.py:1679: FutureWarning: Feature names only support names that are all strings. Got feature names with dtypes: ['int', 'str']. An error will be raised in 1.2.\n",
            "  FutureWarning,\n",
            "/usr/local/lib/python3.7/dist-packages/sklearn/utils/validation.py:1679: FutureWarning: Feature names only support names that are all strings. Got feature names with dtypes: ['int', 'str']. An error will be raised in 1.2.\n",
            "  FutureWarning,\n",
            "/usr/local/lib/python3.7/dist-packages/sklearn/utils/validation.py:1679: FutureWarning: Feature names only support names that are all strings. Got feature names with dtypes: ['int', 'str']. An error will be raised in 1.2.\n",
            "  FutureWarning,\n"
          ]
        }
      ]
    },
    {
      "cell_type": "code",
      "metadata": {
        "colab": {
          "base_uri": "https://localhost:8080/",
          "height": 423
        },
        "id": "lRYr2GC9UMok",
        "outputId": "fbdba28f-42f6-4369-a87c-b42c1de091fe"
      },
      "source": [
        "trainX_final"
      ],
      "execution_count": 31,
      "outputs": [
        {
          "output_type": "execute_result",
          "data": {
            "text/html": [
              "<div>\n",
              "<style scoped>\n",
              "    .dataframe tbody tr th:only-of-type {\n",
              "        vertical-align: middle;\n",
              "    }\n",
              "\n",
              "    .dataframe tbody tr th {\n",
              "        vertical-align: top;\n",
              "    }\n",
              "\n",
              "    .dataframe thead th {\n",
              "        text-align: right;\n",
              "    }\n",
              "</style>\n",
              "<table border=\"1\" class=\"dataframe\">\n",
              "  <thead>\n",
              "    <tr style=\"text-align: right;\">\n",
              "      <th></th>\n",
              "      <th>Latitude_AP</th>\n",
              "      <th>Longitude_AP</th>\n",
              "      <th>Channel</th>\n",
              "      <th>RSSI(dBm)</th>\n",
              "      <th>Hight Difference(m)</th>\n",
              "      <th>Outdoor</th>\n",
              "      <th>Moving Average (RSSI)</th>\n",
              "      <th>1</th>\n",
              "      <th>2</th>\n",
              "      <th>3</th>\n",
              "      <th>4</th>\n",
              "    </tr>\n",
              "  </thead>\n",
              "  <tbody>\n",
              "    <tr>\n",
              "      <th>0</th>\n",
              "      <td>35.157320</td>\n",
              "      <td>136.926447</td>\n",
              "      <td>11</td>\n",
              "      <td>-41</td>\n",
              "      <td>0.0</td>\n",
              "      <td>1</td>\n",
              "      <td>-41.0</td>\n",
              "      <td>1</td>\n",
              "      <td>0</td>\n",
              "      <td>0</td>\n",
              "      <td>0</td>\n",
              "    </tr>\n",
              "    <tr>\n",
              "      <th>1</th>\n",
              "      <td>35.157320</td>\n",
              "      <td>136.926447</td>\n",
              "      <td>11</td>\n",
              "      <td>-41</td>\n",
              "      <td>0.0</td>\n",
              "      <td>1</td>\n",
              "      <td>-41.0</td>\n",
              "      <td>1</td>\n",
              "      <td>0</td>\n",
              "      <td>0</td>\n",
              "      <td>0</td>\n",
              "    </tr>\n",
              "    <tr>\n",
              "      <th>2</th>\n",
              "      <td>35.157320</td>\n",
              "      <td>136.926447</td>\n",
              "      <td>11</td>\n",
              "      <td>-41</td>\n",
              "      <td>0.0</td>\n",
              "      <td>1</td>\n",
              "      <td>-41.0</td>\n",
              "      <td>1</td>\n",
              "      <td>0</td>\n",
              "      <td>0</td>\n",
              "      <td>0</td>\n",
              "    </tr>\n",
              "    <tr>\n",
              "      <th>3</th>\n",
              "      <td>35.157320</td>\n",
              "      <td>136.926447</td>\n",
              "      <td>11</td>\n",
              "      <td>-41</td>\n",
              "      <td>0.0</td>\n",
              "      <td>1</td>\n",
              "      <td>-41.0</td>\n",
              "      <td>1</td>\n",
              "      <td>0</td>\n",
              "      <td>0</td>\n",
              "      <td>0</td>\n",
              "    </tr>\n",
              "    <tr>\n",
              "      <th>4</th>\n",
              "      <td>35.157320</td>\n",
              "      <td>136.926447</td>\n",
              "      <td>11</td>\n",
              "      <td>-41</td>\n",
              "      <td>0.0</td>\n",
              "      <td>1</td>\n",
              "      <td>-41.0</td>\n",
              "      <td>1</td>\n",
              "      <td>0</td>\n",
              "      <td>0</td>\n",
              "      <td>0</td>\n",
              "    </tr>\n",
              "    <tr>\n",
              "      <th>...</th>\n",
              "      <td>...</td>\n",
              "      <td>...</td>\n",
              "      <td>...</td>\n",
              "      <td>...</td>\n",
              "      <td>...</td>\n",
              "      <td>...</td>\n",
              "      <td>...</td>\n",
              "      <td>...</td>\n",
              "      <td>...</td>\n",
              "      <td>...</td>\n",
              "      <td>...</td>\n",
              "    </tr>\n",
              "    <tr>\n",
              "      <th>1071</th>\n",
              "      <td>35.157165</td>\n",
              "      <td>136.926470</td>\n",
              "      <td>1</td>\n",
              "      <td>-52</td>\n",
              "      <td>0.0</td>\n",
              "      <td>1</td>\n",
              "      <td>-52.0</td>\n",
              "      <td>0</td>\n",
              "      <td>0</td>\n",
              "      <td>0</td>\n",
              "      <td>1</td>\n",
              "    </tr>\n",
              "    <tr>\n",
              "      <th>1072</th>\n",
              "      <td>35.157165</td>\n",
              "      <td>136.926470</td>\n",
              "      <td>1</td>\n",
              "      <td>-52</td>\n",
              "      <td>0.0</td>\n",
              "      <td>1</td>\n",
              "      <td>-52.0</td>\n",
              "      <td>0</td>\n",
              "      <td>0</td>\n",
              "      <td>0</td>\n",
              "      <td>1</td>\n",
              "    </tr>\n",
              "    <tr>\n",
              "      <th>1073</th>\n",
              "      <td>35.157165</td>\n",
              "      <td>136.926470</td>\n",
              "      <td>1</td>\n",
              "      <td>-52</td>\n",
              "      <td>0.0</td>\n",
              "      <td>1</td>\n",
              "      <td>-52.0</td>\n",
              "      <td>0</td>\n",
              "      <td>0</td>\n",
              "      <td>0</td>\n",
              "      <td>1</td>\n",
              "    </tr>\n",
              "    <tr>\n",
              "      <th>1074</th>\n",
              "      <td>35.157165</td>\n",
              "      <td>136.926470</td>\n",
              "      <td>1</td>\n",
              "      <td>-52</td>\n",
              "      <td>0.0</td>\n",
              "      <td>1</td>\n",
              "      <td>-52.0</td>\n",
              "      <td>0</td>\n",
              "      <td>0</td>\n",
              "      <td>0</td>\n",
              "      <td>1</td>\n",
              "    </tr>\n",
              "    <tr>\n",
              "      <th>1075</th>\n",
              "      <td>35.157165</td>\n",
              "      <td>136.926470</td>\n",
              "      <td>1</td>\n",
              "      <td>-52</td>\n",
              "      <td>0.0</td>\n",
              "      <td>1</td>\n",
              "      <td>-52.0</td>\n",
              "      <td>0</td>\n",
              "      <td>0</td>\n",
              "      <td>0</td>\n",
              "      <td>1</td>\n",
              "    </tr>\n",
              "  </tbody>\n",
              "</table>\n",
              "<p>1076 rows × 11 columns</p>\n",
              "</div>"
            ],
            "text/plain": [
              "      Latitude_AP  Longitude_AP  Channel  RSSI(dBm)  ...  1  2  3  4\n",
              "0       35.157320    136.926447       11        -41  ...  1  0  0  0\n",
              "1       35.157320    136.926447       11        -41  ...  1  0  0  0\n",
              "2       35.157320    136.926447       11        -41  ...  1  0  0  0\n",
              "3       35.157320    136.926447       11        -41  ...  1  0  0  0\n",
              "4       35.157320    136.926447       11        -41  ...  1  0  0  0\n",
              "...           ...           ...      ...        ...  ... .. .. .. ..\n",
              "1071    35.157165    136.926470        1        -52  ...  0  0  0  1\n",
              "1072    35.157165    136.926470        1        -52  ...  0  0  0  1\n",
              "1073    35.157165    136.926470        1        -52  ...  0  0  0  1\n",
              "1074    35.157165    136.926470        1        -52  ...  0  0  0  1\n",
              "1075    35.157165    136.926470        1        -52  ...  0  0  0  1\n",
              "\n",
              "[1076 rows x 11 columns]"
            ]
          },
          "metadata": {},
          "execution_count": 31
        }
      ]
    },
    {
      "cell_type": "code",
      "metadata": {
        "colab": {
          "base_uri": "https://localhost:8080/",
          "height": 423
        },
        "id": "G3m2UhTBUQDN",
        "outputId": "96d16090-7e36-4f84-9a40-74f952924e6d"
      },
      "source": [
        "train_X"
      ],
      "execution_count": 32,
      "outputs": [
        {
          "output_type": "execute_result",
          "data": {
            "text/html": [
              "<div>\n",
              "<style scoped>\n",
              "    .dataframe tbody tr th:only-of-type {\n",
              "        vertical-align: middle;\n",
              "    }\n",
              "\n",
              "    .dataframe tbody tr th {\n",
              "        vertical-align: top;\n",
              "    }\n",
              "\n",
              "    .dataframe thead th {\n",
              "        text-align: right;\n",
              "    }\n",
              "</style>\n",
              "<table border=\"1\" class=\"dataframe\">\n",
              "  <thead>\n",
              "    <tr style=\"text-align: right;\">\n",
              "      <th></th>\n",
              "      <th>Latitude_AP</th>\n",
              "      <th>Longitude_AP</th>\n",
              "      <th>Channel</th>\n",
              "      <th>RSSI(dBm)</th>\n",
              "      <th>Hight Difference(m)</th>\n",
              "      <th>Outdoor</th>\n",
              "      <th>Moving Average (RSSI)</th>\n",
              "      <th>1</th>\n",
              "      <th>2</th>\n",
              "      <th>3</th>\n",
              "      <th>4</th>\n",
              "    </tr>\n",
              "  </thead>\n",
              "  <tbody>\n",
              "    <tr>\n",
              "      <th>0</th>\n",
              "      <td>0.852747</td>\n",
              "      <td>0.000000</td>\n",
              "      <td>1.0</td>\n",
              "      <td>1.000</td>\n",
              "      <td>0.0</td>\n",
              "      <td>0.0</td>\n",
              "      <td>1.000</td>\n",
              "      <td>1.0</td>\n",
              "      <td>0.0</td>\n",
              "      <td>0.0</td>\n",
              "      <td>0.0</td>\n",
              "    </tr>\n",
              "    <tr>\n",
              "      <th>1</th>\n",
              "      <td>0.852747</td>\n",
              "      <td>0.000000</td>\n",
              "      <td>1.0</td>\n",
              "      <td>1.000</td>\n",
              "      <td>0.0</td>\n",
              "      <td>0.0</td>\n",
              "      <td>1.000</td>\n",
              "      <td>1.0</td>\n",
              "      <td>0.0</td>\n",
              "      <td>0.0</td>\n",
              "      <td>0.0</td>\n",
              "    </tr>\n",
              "    <tr>\n",
              "      <th>2</th>\n",
              "      <td>0.852747</td>\n",
              "      <td>0.000000</td>\n",
              "      <td>1.0</td>\n",
              "      <td>1.000</td>\n",
              "      <td>0.0</td>\n",
              "      <td>0.0</td>\n",
              "      <td>1.000</td>\n",
              "      <td>1.0</td>\n",
              "      <td>0.0</td>\n",
              "      <td>0.0</td>\n",
              "      <td>0.0</td>\n",
              "    </tr>\n",
              "    <tr>\n",
              "      <th>3</th>\n",
              "      <td>0.852747</td>\n",
              "      <td>0.000000</td>\n",
              "      <td>1.0</td>\n",
              "      <td>1.000</td>\n",
              "      <td>0.0</td>\n",
              "      <td>0.0</td>\n",
              "      <td>1.000</td>\n",
              "      <td>1.0</td>\n",
              "      <td>0.0</td>\n",
              "      <td>0.0</td>\n",
              "      <td>0.0</td>\n",
              "    </tr>\n",
              "    <tr>\n",
              "      <th>4</th>\n",
              "      <td>0.852747</td>\n",
              "      <td>0.000000</td>\n",
              "      <td>1.0</td>\n",
              "      <td>1.000</td>\n",
              "      <td>0.0</td>\n",
              "      <td>0.0</td>\n",
              "      <td>1.000</td>\n",
              "      <td>1.0</td>\n",
              "      <td>0.0</td>\n",
              "      <td>0.0</td>\n",
              "      <td>0.0</td>\n",
              "    </tr>\n",
              "    <tr>\n",
              "      <th>...</th>\n",
              "      <td>...</td>\n",
              "      <td>...</td>\n",
              "      <td>...</td>\n",
              "      <td>...</td>\n",
              "      <td>...</td>\n",
              "      <td>...</td>\n",
              "      <td>...</td>\n",
              "      <td>...</td>\n",
              "      <td>...</td>\n",
              "      <td>...</td>\n",
              "      <td>...</td>\n",
              "    </tr>\n",
              "    <tr>\n",
              "      <th>1071</th>\n",
              "      <td>0.000000</td>\n",
              "      <td>0.060016</td>\n",
              "      <td>0.0</td>\n",
              "      <td>0.725</td>\n",
              "      <td>0.0</td>\n",
              "      <td>0.0</td>\n",
              "      <td>0.725</td>\n",
              "      <td>0.0</td>\n",
              "      <td>0.0</td>\n",
              "      <td>0.0</td>\n",
              "      <td>1.0</td>\n",
              "    </tr>\n",
              "    <tr>\n",
              "      <th>1072</th>\n",
              "      <td>0.000000</td>\n",
              "      <td>0.060016</td>\n",
              "      <td>0.0</td>\n",
              "      <td>0.725</td>\n",
              "      <td>0.0</td>\n",
              "      <td>0.0</td>\n",
              "      <td>0.725</td>\n",
              "      <td>0.0</td>\n",
              "      <td>0.0</td>\n",
              "      <td>0.0</td>\n",
              "      <td>1.0</td>\n",
              "    </tr>\n",
              "    <tr>\n",
              "      <th>1073</th>\n",
              "      <td>0.000000</td>\n",
              "      <td>0.060016</td>\n",
              "      <td>0.0</td>\n",
              "      <td>0.725</td>\n",
              "      <td>0.0</td>\n",
              "      <td>0.0</td>\n",
              "      <td>0.725</td>\n",
              "      <td>0.0</td>\n",
              "      <td>0.0</td>\n",
              "      <td>0.0</td>\n",
              "      <td>1.0</td>\n",
              "    </tr>\n",
              "    <tr>\n",
              "      <th>1074</th>\n",
              "      <td>0.000000</td>\n",
              "      <td>0.060016</td>\n",
              "      <td>0.0</td>\n",
              "      <td>0.725</td>\n",
              "      <td>0.0</td>\n",
              "      <td>0.0</td>\n",
              "      <td>0.725</td>\n",
              "      <td>0.0</td>\n",
              "      <td>0.0</td>\n",
              "      <td>0.0</td>\n",
              "      <td>1.0</td>\n",
              "    </tr>\n",
              "    <tr>\n",
              "      <th>1075</th>\n",
              "      <td>0.000000</td>\n",
              "      <td>0.060016</td>\n",
              "      <td>0.0</td>\n",
              "      <td>0.725</td>\n",
              "      <td>0.0</td>\n",
              "      <td>0.0</td>\n",
              "      <td>0.725</td>\n",
              "      <td>0.0</td>\n",
              "      <td>0.0</td>\n",
              "      <td>0.0</td>\n",
              "      <td>1.0</td>\n",
              "    </tr>\n",
              "  </tbody>\n",
              "</table>\n",
              "<p>1076 rows × 11 columns</p>\n",
              "</div>"
            ],
            "text/plain": [
              "      Latitude_AP  Longitude_AP  Channel  RSSI(dBm)  ...    1    2    3    4\n",
              "0        0.852747      0.000000      1.0      1.000  ...  1.0  0.0  0.0  0.0\n",
              "1        0.852747      0.000000      1.0      1.000  ...  1.0  0.0  0.0  0.0\n",
              "2        0.852747      0.000000      1.0      1.000  ...  1.0  0.0  0.0  0.0\n",
              "3        0.852747      0.000000      1.0      1.000  ...  1.0  0.0  0.0  0.0\n",
              "4        0.852747      0.000000      1.0      1.000  ...  1.0  0.0  0.0  0.0\n",
              "...           ...           ...      ...        ...  ...  ...  ...  ...  ...\n",
              "1071     0.000000      0.060016      0.0      0.725  ...  0.0  0.0  0.0  1.0\n",
              "1072     0.000000      0.060016      0.0      0.725  ...  0.0  0.0  0.0  1.0\n",
              "1073     0.000000      0.060016      0.0      0.725  ...  0.0  0.0  0.0  1.0\n",
              "1074     0.000000      0.060016      0.0      0.725  ...  0.0  0.0  0.0  1.0\n",
              "1075     0.000000      0.060016      0.0      0.725  ...  0.0  0.0  0.0  1.0\n",
              "\n",
              "[1076 rows x 11 columns]"
            ]
          },
          "metadata": {},
          "execution_count": 32
        }
      ]
    },
    {
      "cell_type": "code",
      "metadata": {
        "colab": {
          "base_uri": "https://localhost:8080/",
          "height": 423
        },
        "id": "SXzW9EwBURwR",
        "outputId": "92854bab-2ab3-43fe-ef3d-e88c6fe55460"
      },
      "source": [
        "test_semi"
      ],
      "execution_count": 33,
      "outputs": [
        {
          "output_type": "execute_result",
          "data": {
            "text/html": [
              "<div>\n",
              "<style scoped>\n",
              "    .dataframe tbody tr th:only-of-type {\n",
              "        vertical-align: middle;\n",
              "    }\n",
              "\n",
              "    .dataframe tbody tr th {\n",
              "        vertical-align: top;\n",
              "    }\n",
              "\n",
              "    .dataframe thead th {\n",
              "        text-align: right;\n",
              "    }\n",
              "</style>\n",
              "<table border=\"1\" class=\"dataframe\">\n",
              "  <thead>\n",
              "    <tr style=\"text-align: right;\">\n",
              "      <th></th>\n",
              "      <th>TimeStamp(UNIX)</th>\n",
              "      <th>Latitude_OP</th>\n",
              "      <th>Longitude_OP</th>\n",
              "      <th>Channel</th>\n",
              "      <th>RSSI(dBm)</th>\n",
              "      <th>Latitude_AP</th>\n",
              "      <th>Longitude_AP</th>\n",
              "      <th>Hight Difference(m)</th>\n",
              "      <th>Outdoor</th>\n",
              "      <th>Distance</th>\n",
              "      <th>Moving Average (RSSI)</th>\n",
              "      <th>1</th>\n",
              "      <th>2</th>\n",
              "      <th>3</th>\n",
              "      <th>4</th>\n",
              "    </tr>\n",
              "  </thead>\n",
              "  <tbody>\n",
              "    <tr>\n",
              "      <th>0</th>\n",
              "      <td>1631689137</td>\n",
              "      <td>35.157261</td>\n",
              "      <td>136.926465</td>\n",
              "      <td>11</td>\n",
              "      <td>-41</td>\n",
              "      <td>35.157320</td>\n",
              "      <td>136.926447</td>\n",
              "      <td>0.0</td>\n",
              "      <td>1</td>\n",
              "      <td>6.906728</td>\n",
              "      <td>-41.0</td>\n",
              "      <td>1</td>\n",
              "      <td>0</td>\n",
              "      <td>0</td>\n",
              "      <td>0</td>\n",
              "    </tr>\n",
              "    <tr>\n",
              "      <th>1</th>\n",
              "      <td>1631689138</td>\n",
              "      <td>35.157261</td>\n",
              "      <td>136.926465</td>\n",
              "      <td>11</td>\n",
              "      <td>-41</td>\n",
              "      <td>35.157320</td>\n",
              "      <td>136.926447</td>\n",
              "      <td>0.0</td>\n",
              "      <td>1</td>\n",
              "      <td>6.906728</td>\n",
              "      <td>-41.0</td>\n",
              "      <td>1</td>\n",
              "      <td>0</td>\n",
              "      <td>0</td>\n",
              "      <td>0</td>\n",
              "    </tr>\n",
              "    <tr>\n",
              "      <th>2</th>\n",
              "      <td>1631689139</td>\n",
              "      <td>35.157261</td>\n",
              "      <td>136.926465</td>\n",
              "      <td>11</td>\n",
              "      <td>-41</td>\n",
              "      <td>35.157320</td>\n",
              "      <td>136.926447</td>\n",
              "      <td>0.0</td>\n",
              "      <td>1</td>\n",
              "      <td>6.906728</td>\n",
              "      <td>-41.0</td>\n",
              "      <td>1</td>\n",
              "      <td>0</td>\n",
              "      <td>0</td>\n",
              "      <td>0</td>\n",
              "    </tr>\n",
              "    <tr>\n",
              "      <th>3</th>\n",
              "      <td>1631689140</td>\n",
              "      <td>35.157261</td>\n",
              "      <td>136.926465</td>\n",
              "      <td>11</td>\n",
              "      <td>-41</td>\n",
              "      <td>35.157320</td>\n",
              "      <td>136.926447</td>\n",
              "      <td>0.0</td>\n",
              "      <td>1</td>\n",
              "      <td>6.906728</td>\n",
              "      <td>-41.0</td>\n",
              "      <td>1</td>\n",
              "      <td>0</td>\n",
              "      <td>0</td>\n",
              "      <td>0</td>\n",
              "    </tr>\n",
              "    <tr>\n",
              "      <th>4</th>\n",
              "      <td>1631689141</td>\n",
              "      <td>35.157261</td>\n",
              "      <td>136.926465</td>\n",
              "      <td>11</td>\n",
              "      <td>-41</td>\n",
              "      <td>35.157320</td>\n",
              "      <td>136.926447</td>\n",
              "      <td>0.0</td>\n",
              "      <td>1</td>\n",
              "      <td>6.906728</td>\n",
              "      <td>-41.0</td>\n",
              "      <td>1</td>\n",
              "      <td>0</td>\n",
              "      <td>0</td>\n",
              "      <td>0</td>\n",
              "    </tr>\n",
              "    <tr>\n",
              "      <th>...</th>\n",
              "      <td>...</td>\n",
              "      <td>...</td>\n",
              "      <td>...</td>\n",
              "      <td>...</td>\n",
              "      <td>...</td>\n",
              "      <td>...</td>\n",
              "      <td>...</td>\n",
              "      <td>...</td>\n",
              "      <td>...</td>\n",
              "      <td>...</td>\n",
              "      <td>...</td>\n",
              "      <td>...</td>\n",
              "      <td>...</td>\n",
              "      <td>...</td>\n",
              "      <td>...</td>\n",
              "    </tr>\n",
              "    <tr>\n",
              "      <th>1096</th>\n",
              "      <td>1631691288</td>\n",
              "      <td>35.157298</td>\n",
              "      <td>136.926575</td>\n",
              "      <td>1</td>\n",
              "      <td>-59</td>\n",
              "      <td>35.157165</td>\n",
              "      <td>136.926470</td>\n",
              "      <td>0.0</td>\n",
              "      <td>1</td>\n",
              "      <td>18.773415</td>\n",
              "      <td>-59.0</td>\n",
              "      <td>0</td>\n",
              "      <td>0</td>\n",
              "      <td>0</td>\n",
              "      <td>1</td>\n",
              "    </tr>\n",
              "    <tr>\n",
              "      <th>1097</th>\n",
              "      <td>1631691289</td>\n",
              "      <td>35.157298</td>\n",
              "      <td>136.926575</td>\n",
              "      <td>1</td>\n",
              "      <td>-59</td>\n",
              "      <td>35.157165</td>\n",
              "      <td>136.926470</td>\n",
              "      <td>0.0</td>\n",
              "      <td>1</td>\n",
              "      <td>18.773415</td>\n",
              "      <td>-59.0</td>\n",
              "      <td>0</td>\n",
              "      <td>0</td>\n",
              "      <td>0</td>\n",
              "      <td>1</td>\n",
              "    </tr>\n",
              "    <tr>\n",
              "      <th>1098</th>\n",
              "      <td>1631691290</td>\n",
              "      <td>35.157298</td>\n",
              "      <td>136.926575</td>\n",
              "      <td>1</td>\n",
              "      <td>-59</td>\n",
              "      <td>35.157165</td>\n",
              "      <td>136.926470</td>\n",
              "      <td>0.0</td>\n",
              "      <td>1</td>\n",
              "      <td>18.773415</td>\n",
              "      <td>-59.0</td>\n",
              "      <td>0</td>\n",
              "      <td>0</td>\n",
              "      <td>0</td>\n",
              "      <td>1</td>\n",
              "    </tr>\n",
              "    <tr>\n",
              "      <th>1099</th>\n",
              "      <td>1631691291</td>\n",
              "      <td>35.157298</td>\n",
              "      <td>136.926575</td>\n",
              "      <td>1</td>\n",
              "      <td>-59</td>\n",
              "      <td>35.157165</td>\n",
              "      <td>136.926470</td>\n",
              "      <td>0.0</td>\n",
              "      <td>1</td>\n",
              "      <td>18.773415</td>\n",
              "      <td>-59.0</td>\n",
              "      <td>0</td>\n",
              "      <td>0</td>\n",
              "      <td>0</td>\n",
              "      <td>1</td>\n",
              "    </tr>\n",
              "    <tr>\n",
              "      <th>1100</th>\n",
              "      <td>1631691292</td>\n",
              "      <td>35.157298</td>\n",
              "      <td>136.926575</td>\n",
              "      <td>1</td>\n",
              "      <td>-59</td>\n",
              "      <td>35.157165</td>\n",
              "      <td>136.926470</td>\n",
              "      <td>0.0</td>\n",
              "      <td>1</td>\n",
              "      <td>18.773415</td>\n",
              "      <td>-59.0</td>\n",
              "      <td>0</td>\n",
              "      <td>0</td>\n",
              "      <td>0</td>\n",
              "      <td>1</td>\n",
              "    </tr>\n",
              "  </tbody>\n",
              "</table>\n",
              "<p>1101 rows × 15 columns</p>\n",
              "</div>"
            ],
            "text/plain": [
              "      TimeStamp(UNIX)  Latitude_OP  Longitude_OP  Channel  ...  1  2  3  4\n",
              "0          1631689137    35.157261    136.926465       11  ...  1  0  0  0\n",
              "1          1631689138    35.157261    136.926465       11  ...  1  0  0  0\n",
              "2          1631689139    35.157261    136.926465       11  ...  1  0  0  0\n",
              "3          1631689140    35.157261    136.926465       11  ...  1  0  0  0\n",
              "4          1631689141    35.157261    136.926465       11  ...  1  0  0  0\n",
              "...               ...          ...           ...      ...  ... .. .. .. ..\n",
              "1096       1631691288    35.157298    136.926575        1  ...  0  0  0  1\n",
              "1097       1631691289    35.157298    136.926575        1  ...  0  0  0  1\n",
              "1098       1631691290    35.157298    136.926575        1  ...  0  0  0  1\n",
              "1099       1631691291    35.157298    136.926575        1  ...  0  0  0  1\n",
              "1100       1631691292    35.157298    136.926575        1  ...  0  0  0  1\n",
              "\n",
              "[1101 rows x 15 columns]"
            ]
          },
          "metadata": {},
          "execution_count": 33
        }
      ]
    },
    {
      "cell_type": "code",
      "metadata": {
        "colab": {
          "base_uri": "https://localhost:8080/",
          "height": 423
        },
        "id": "13R0DuodVS4X",
        "outputId": "5547d305-2c04-42ef-e3c9-fb0a3077604c"
      },
      "source": [
        "test_X"
      ],
      "execution_count": 34,
      "outputs": [
        {
          "output_type": "execute_result",
          "data": {
            "text/html": [
              "<div>\n",
              "<style scoped>\n",
              "    .dataframe tbody tr th:only-of-type {\n",
              "        vertical-align: middle;\n",
              "    }\n",
              "\n",
              "    .dataframe tbody tr th {\n",
              "        vertical-align: top;\n",
              "    }\n",
              "\n",
              "    .dataframe thead th {\n",
              "        text-align: right;\n",
              "    }\n",
              "</style>\n",
              "<table border=\"1\" class=\"dataframe\">\n",
              "  <thead>\n",
              "    <tr style=\"text-align: right;\">\n",
              "      <th></th>\n",
              "      <th>Latitude_AP</th>\n",
              "      <th>Longitude_AP</th>\n",
              "      <th>Channel</th>\n",
              "      <th>RSSI(dBm)</th>\n",
              "      <th>Hight Difference(m)</th>\n",
              "      <th>Outdoor</th>\n",
              "      <th>Moving Average (RSSI)</th>\n",
              "      <th>1</th>\n",
              "      <th>2</th>\n",
              "      <th>3</th>\n",
              "      <th>4</th>\n",
              "    </tr>\n",
              "  </thead>\n",
              "  <tbody>\n",
              "    <tr>\n",
              "      <th>0</th>\n",
              "      <td>0.852747</td>\n",
              "      <td>0.000000</td>\n",
              "      <td>1.0</td>\n",
              "      <td>1.00</td>\n",
              "      <td>0.0</td>\n",
              "      <td>0.0</td>\n",
              "      <td>1.00</td>\n",
              "      <td>1.0</td>\n",
              "      <td>0.0</td>\n",
              "      <td>0.0</td>\n",
              "      <td>0.0</td>\n",
              "    </tr>\n",
              "    <tr>\n",
              "      <th>1</th>\n",
              "      <td>0.852747</td>\n",
              "      <td>0.000000</td>\n",
              "      <td>1.0</td>\n",
              "      <td>1.00</td>\n",
              "      <td>0.0</td>\n",
              "      <td>0.0</td>\n",
              "      <td>1.00</td>\n",
              "      <td>1.0</td>\n",
              "      <td>0.0</td>\n",
              "      <td>0.0</td>\n",
              "      <td>0.0</td>\n",
              "    </tr>\n",
              "    <tr>\n",
              "      <th>2</th>\n",
              "      <td>0.852747</td>\n",
              "      <td>0.000000</td>\n",
              "      <td>1.0</td>\n",
              "      <td>1.00</td>\n",
              "      <td>0.0</td>\n",
              "      <td>0.0</td>\n",
              "      <td>1.00</td>\n",
              "      <td>1.0</td>\n",
              "      <td>0.0</td>\n",
              "      <td>0.0</td>\n",
              "      <td>0.0</td>\n",
              "    </tr>\n",
              "    <tr>\n",
              "      <th>3</th>\n",
              "      <td>0.852747</td>\n",
              "      <td>0.000000</td>\n",
              "      <td>1.0</td>\n",
              "      <td>1.00</td>\n",
              "      <td>0.0</td>\n",
              "      <td>0.0</td>\n",
              "      <td>1.00</td>\n",
              "      <td>1.0</td>\n",
              "      <td>0.0</td>\n",
              "      <td>0.0</td>\n",
              "      <td>0.0</td>\n",
              "    </tr>\n",
              "    <tr>\n",
              "      <th>4</th>\n",
              "      <td>0.852747</td>\n",
              "      <td>0.000000</td>\n",
              "      <td>1.0</td>\n",
              "      <td>1.00</td>\n",
              "      <td>0.0</td>\n",
              "      <td>0.0</td>\n",
              "      <td>1.00</td>\n",
              "      <td>1.0</td>\n",
              "      <td>0.0</td>\n",
              "      <td>0.0</td>\n",
              "      <td>0.0</td>\n",
              "    </tr>\n",
              "    <tr>\n",
              "      <th>...</th>\n",
              "      <td>...</td>\n",
              "      <td>...</td>\n",
              "      <td>...</td>\n",
              "      <td>...</td>\n",
              "      <td>...</td>\n",
              "      <td>...</td>\n",
              "      <td>...</td>\n",
              "      <td>...</td>\n",
              "      <td>...</td>\n",
              "      <td>...</td>\n",
              "      <td>...</td>\n",
              "    </tr>\n",
              "    <tr>\n",
              "      <th>1096</th>\n",
              "      <td>0.000000</td>\n",
              "      <td>0.060016</td>\n",
              "      <td>0.0</td>\n",
              "      <td>0.55</td>\n",
              "      <td>0.0</td>\n",
              "      <td>0.0</td>\n",
              "      <td>0.55</td>\n",
              "      <td>0.0</td>\n",
              "      <td>0.0</td>\n",
              "      <td>0.0</td>\n",
              "      <td>1.0</td>\n",
              "    </tr>\n",
              "    <tr>\n",
              "      <th>1097</th>\n",
              "      <td>0.000000</td>\n",
              "      <td>0.060016</td>\n",
              "      <td>0.0</td>\n",
              "      <td>0.55</td>\n",
              "      <td>0.0</td>\n",
              "      <td>0.0</td>\n",
              "      <td>0.55</td>\n",
              "      <td>0.0</td>\n",
              "      <td>0.0</td>\n",
              "      <td>0.0</td>\n",
              "      <td>1.0</td>\n",
              "    </tr>\n",
              "    <tr>\n",
              "      <th>1098</th>\n",
              "      <td>0.000000</td>\n",
              "      <td>0.060016</td>\n",
              "      <td>0.0</td>\n",
              "      <td>0.55</td>\n",
              "      <td>0.0</td>\n",
              "      <td>0.0</td>\n",
              "      <td>0.55</td>\n",
              "      <td>0.0</td>\n",
              "      <td>0.0</td>\n",
              "      <td>0.0</td>\n",
              "      <td>1.0</td>\n",
              "    </tr>\n",
              "    <tr>\n",
              "      <th>1099</th>\n",
              "      <td>0.000000</td>\n",
              "      <td>0.060016</td>\n",
              "      <td>0.0</td>\n",
              "      <td>0.55</td>\n",
              "      <td>0.0</td>\n",
              "      <td>0.0</td>\n",
              "      <td>0.55</td>\n",
              "      <td>0.0</td>\n",
              "      <td>0.0</td>\n",
              "      <td>0.0</td>\n",
              "      <td>1.0</td>\n",
              "    </tr>\n",
              "    <tr>\n",
              "      <th>1100</th>\n",
              "      <td>0.000000</td>\n",
              "      <td>0.060016</td>\n",
              "      <td>0.0</td>\n",
              "      <td>0.55</td>\n",
              "      <td>0.0</td>\n",
              "      <td>0.0</td>\n",
              "      <td>0.55</td>\n",
              "      <td>0.0</td>\n",
              "      <td>0.0</td>\n",
              "      <td>0.0</td>\n",
              "      <td>1.0</td>\n",
              "    </tr>\n",
              "  </tbody>\n",
              "</table>\n",
              "<p>1101 rows × 11 columns</p>\n",
              "</div>"
            ],
            "text/plain": [
              "      Latitude_AP  Longitude_AP  Channel  RSSI(dBm)  ...    1    2    3    4\n",
              "0        0.852747      0.000000      1.0       1.00  ...  1.0  0.0  0.0  0.0\n",
              "1        0.852747      0.000000      1.0       1.00  ...  1.0  0.0  0.0  0.0\n",
              "2        0.852747      0.000000      1.0       1.00  ...  1.0  0.0  0.0  0.0\n",
              "3        0.852747      0.000000      1.0       1.00  ...  1.0  0.0  0.0  0.0\n",
              "4        0.852747      0.000000      1.0       1.00  ...  1.0  0.0  0.0  0.0\n",
              "...           ...           ...      ...        ...  ...  ...  ...  ...  ...\n",
              "1096     0.000000      0.060016      0.0       0.55  ...  0.0  0.0  0.0  1.0\n",
              "1097     0.000000      0.060016      0.0       0.55  ...  0.0  0.0  0.0  1.0\n",
              "1098     0.000000      0.060016      0.0       0.55  ...  0.0  0.0  0.0  1.0\n",
              "1099     0.000000      0.060016      0.0       0.55  ...  0.0  0.0  0.0  1.0\n",
              "1100     0.000000      0.060016      0.0       0.55  ...  0.0  0.0  0.0  1.0\n",
              "\n",
              "[1101 rows x 11 columns]"
            ]
          },
          "metadata": {},
          "execution_count": 34
        }
      ]
    },
    {
      "cell_type": "markdown",
      "metadata": {
        "id": "3ytogEDQ0hU9"
      },
      "source": [
        "###Linear Regression with Polynomial Features of Degree 2"
      ]
    },
    {
      "cell_type": "markdown",
      "metadata": {
        "id": "2QH5SEwctitd"
      },
      "source": [
        "####Estimation of Distance of RP from AP using Linear Regression with Polynomial Feature of Degree 2"
      ]
    },
    {
      "cell_type": "code",
      "metadata": {
        "id": "kqvyVi92VUnU"
      },
      "source": [
        "from sklearn.linear_model import LinearRegression\n",
        "from sklearn.preprocessing import PolynomialFeatures"
      ],
      "execution_count": 35,
      "outputs": []
    },
    {
      "cell_type": "code",
      "metadata": {
        "id": "UJ_9iANzX3Mx"
      },
      "source": [
        "polyfeat = PolynomialFeatures(degree=2)\n",
        "newtrain_X = polyfeat.fit_transform(train_X[['Channel', 'RSSI(dBm)', 'Hight Difference(m)', 'Outdoor', 'Moving Average (RSSI)']])\n",
        "newtest_X = polyfeat.transform(test_X[['Channel', 'RSSI(dBm)', 'Hight Difference(m)', 'Outdoor', 'Moving Average (RSSI)']])"
      ],
      "execution_count": 36,
      "outputs": []
    },
    {
      "cell_type": "code",
      "metadata": {
        "colab": {
          "base_uri": "https://localhost:8080/"
        },
        "id": "T6mQR5DnX_78",
        "outputId": "2b19b9f5-36a4-4214-85e6-a29991e9c7d0"
      },
      "source": [
        "model1 = LinearRegression(normalize=True, fit_intercept=False)\n",
        "model1.fit(newtrain_X, trainY_final['Distance'])\n",
        "pred_y = model1.predict(newtest_X)"
      ],
      "execution_count": 37,
      "outputs": [
        {
          "output_type": "stream",
          "name": "stderr",
          "text": [
            "/usr/local/lib/python3.7/dist-packages/sklearn/linear_model/_base.py:145: FutureWarning: 'normalize' was deprecated in version 1.0 and will be removed in 1.2.\n",
            "If you wish to scale the data, use Pipeline with a StandardScaler in a preprocessing stage. To reproduce the previous behavior:\n",
            "\n",
            "from sklearn.pipeline import make_pipeline\n",
            "\n",
            "model = make_pipeline(StandardScaler(with_mean=False), LinearRegression())\n",
            "\n",
            "If you wish to pass a sample_weight parameter, you need to pass it as a fit parameter to each step of the pipeline as follows:\n",
            "\n",
            "kwargs = {s[0] + '__sample_weight': sample_weight for s in model.steps}\n",
            "model.fit(X, y, **kwargs)\n",
            "\n",
            "\n",
            "  FutureWarning,\n"
          ]
        }
      ]
    },
    {
      "cell_type": "code",
      "metadata": {
        "colab": {
          "base_uri": "https://localhost:8080/",
          "height": 265
        },
        "id": "VJy1UNloYH5G",
        "outputId": "25f37458-84a6-4872-e2e7-b702858013f7"
      },
      "source": [
        "plt.plot(testY_final['Distance'])\n",
        "plt.plot(pred_y)\n",
        "plt.show()"
      ],
      "execution_count": 38,
      "outputs": [
        {
          "output_type": "display_data",
          "data": {
            "image/png": "[encoded data removed]",
            "text/plain": [
              "<Figure size 432x288 with 1 Axes>"
            ]
          },
          "metadata": {
            "needs_background": "light"
          }
        }
      ]
    },
    {
      "cell_type": "code",
      "metadata": {
        "colab": {
          "base_uri": "https://localhost:8080/"
        },
        "id": "sB9h44yVbrzj",
        "outputId": "bc84f178-0b03-4f47-881c-911b3f650351"
      },
      "source": [
        "dist_err=((testY_final['Distance']-pred_y)**2)**0.5\n",
        "df_error = pd.DataFrame(dist_err, columns = ['Distance Error'])\n",
        "dist_err"
      ],
      "execution_count": 39,
      "outputs": [
        {
          "output_type": "execute_result",
          "data": {
            "text/plain": [
              "0       10.345729\n",
              "1       10.345729\n",
              "2       10.345729\n",
              "3       10.345729\n",
              "4       10.345729\n",
              "          ...    \n",
              "1096     8.126144\n",
              "1097     8.126144\n",
              "1098     8.126144\n",
              "1099     8.126144\n",
              "1100     8.126144\n",
              "Name: Distance, Length: 1101, dtype: float64"
            ]
          },
          "metadata": {},
          "execution_count": 39
        }
      ]
    },
    {
      "cell_type": "code",
      "metadata": {
        "colab": {
          "base_uri": "https://localhost:8080/"
        },
        "id": "I9zi4PBWvLG6",
        "outputId": "40dba65f-e49f-409f-8ba9-115acab359e1"
      },
      "source": [
        "dist_err"
      ],
      "execution_count": 40,
      "outputs": [
        {
          "output_type": "execute_result",
          "data": {
            "text/plain": [
              "0       10.345729\n",
              "1       10.345729\n",
              "2       10.345729\n",
              "3       10.345729\n",
              "4       10.345729\n",
              "          ...    \n",
              "1096     8.126144\n",
              "1097     8.126144\n",
              "1098     8.126144\n",
              "1099     8.126144\n",
              "1100     8.126144\n",
              "Name: Distance, Length: 1101, dtype: float64"
            ]
          },
          "metadata": {},
          "execution_count": 40
        }
      ]
    },
    {
      "cell_type": "code",
      "metadata": {
        "colab": {
          "base_uri": "https://localhost:8080/"
        },
        "id": "n2pwgL8lb3mV",
        "outputId": "42df2d02-980b-4709-a6f6-d646749cd990"
      },
      "source": [
        "dist_err.mean()"
      ],
      "execution_count": 41,
      "outputs": [
        {
          "output_type": "execute_result",
          "data": {
            "text/plain": [
              "9.863278183131035"
            ]
          },
          "metadata": {},
          "execution_count": 41
        }
      ]
    },
    {
      "cell_type": "code",
      "metadata": {
        "colab": {
          "base_uri": "https://localhost:8080/"
        },
        "id": "AqoV3lm4b6Yz",
        "outputId": "baa71a08-a9d9-432b-809f-75dbcd6b4f23"
      },
      "source": [
        "dist_err.max()"
      ],
      "execution_count": 42,
      "outputs": [
        {
          "output_type": "execute_result",
          "data": {
            "text/plain": [
              "28.615543060449383"
            ]
          },
          "metadata": {},
          "execution_count": 42
        }
      ]
    },
    {
      "cell_type": "code",
      "metadata": {
        "colab": {
          "base_uri": "https://localhost:8080/"
        },
        "id": "UGBqLCtCuTnd",
        "outputId": "743fb913-d40c-4f2a-980c-dcda2048b2df"
      },
      "source": [
        "count = len([i for i in list(dist_err) if i  < 2])\n",
        "low_error = count / len(list(dist_err)) * 100\n",
        "print(\"Percentage of data with less than 2m error : \",low_error)"
      ],
      "execution_count": 43,
      "outputs": [
        {
          "output_type": "stream",
          "name": "stdout",
          "text": [
            "Percentage of data with less than 2m error :  16.62125340599455\n"
          ]
        }
      ]
    },
    {
      "cell_type": "markdown",
      "metadata": {
        "id": "RZxgP9dTtbf7"
      },
      "source": [
        "####Direct estimation of Latitude and Longitude using Linear Regression with Polynomial Feature of Degree 2"
      ]
    },
    {
      "cell_type": "code",
      "metadata": {
        "id": "VTTp3QNYahMB"
      },
      "source": [
        "polyfeat = PolynomialFeatures(degree=2)\n",
        "newtrain_X = polyfeat.fit_transform(train_X[['Latitude_AP','Longitude_AP','Channel', 'RSSI(dBm)', 'Hight Difference(m)', 'Outdoor', 'Moving Average (RSSI)','1','2','3','4']])\n",
        "newtest_X = polyfeat.transform(test_X[['Latitude_AP','Longitude_AP','Channel', 'RSSI(dBm)', 'Hight Difference(m)', 'Outdoor', 'Moving Average (RSSI)','1','2','3','4']])"
      ],
      "execution_count": 44,
      "outputs": []
    },
    {
      "cell_type": "code",
      "metadata": {
        "colab": {
          "base_uri": "https://localhost:8080/"
        },
        "id": "OGqmkfkBYXTe",
        "outputId": "ab8594cf-3136-4624-b4d2-b1defe13876b"
      },
      "source": [
        "model2 = LinearRegression(normalize=True, fit_intercept=False)\n",
        "model2.fit(newtrain_X, trainY_final[['Latitude_OP','Longitude_OP']])\n",
        "pred_y = model2.predict(newtest_X)"
      ],
      "execution_count": 45,
      "outputs": [
        {
          "output_type": "stream",
          "name": "stderr",
          "text": [
            "/usr/local/lib/python3.7/dist-packages/sklearn/linear_model/_base.py:145: FutureWarning: 'normalize' was deprecated in version 1.0 and will be removed in 1.2.\n",
            "If you wish to scale the data, use Pipeline with a StandardScaler in a preprocessing stage. To reproduce the previous behavior:\n",
            "\n",
            "from sklearn.pipeline import make_pipeline\n",
            "\n",
            "model = make_pipeline(StandardScaler(with_mean=False), LinearRegression())\n",
            "\n",
            "If you wish to pass a sample_weight parameter, you need to pass it as a fit parameter to each step of the pipeline as follows:\n",
            "\n",
            "kwargs = {s[0] + '__sample_weight': sample_weight for s in model.steps}\n",
            "model.fit(X, y, **kwargs)\n",
            "\n",
            "\n",
            "  FutureWarning,\n"
          ]
        }
      ]
    },
    {
      "cell_type": "code",
      "metadata": {
        "colab": {
          "base_uri": "https://localhost:8080/",
          "height": 276
        },
        "id": "oDgf9Y_2agG5",
        "outputId": "6b516248-be9d-475c-a2af-ee90d3a575fd"
      },
      "source": [
        "plt.plot(testY_final[['Latitude_OP']])\n",
        "plt.plot(pred_y[:,0])\n",
        "plt.show()"
      ],
      "execution_count": 46,
      "outputs": [
        {
          "output_type": "display_data",
          "data": {
            "image/png": "[encoded data removed]",
            "text/plain": [
              "<Figure size 432x288 with 1 Axes>"
            ]
          },
          "metadata": {
            "needs_background": "light"
          }
        }
      ]
    },
    {
      "cell_type": "code",
      "metadata": {
        "colab": {
          "base_uri": "https://localhost:8080/",
          "height": 276
        },
        "id": "k2P96T2tbGvN",
        "outputId": "3f35747f-ab8a-4738-fceb-14e38af45d8b"
      },
      "source": [
        "plt.plot(testY_final[['Longitude_OP']])\n",
        "plt.plot(pred_y[:,1])\n",
        "plt.show()"
      ],
      "execution_count": 47,
      "outputs": [
        {
          "output_type": "display_data",
          "data": {
            "image/png": "[encoded data removed]",
            "text/plain": [
              "<Figure size 432x288 with 1 Axes>"
            ]
          },
          "metadata": {
            "needs_background": "light"
          }
        }
      ]
    },
    {
      "cell_type": "code",
      "metadata": {
        "colab": {
          "base_uri": "https://localhost:8080/"
        },
        "id": "IHxHZeOIbhPB",
        "outputId": "8ef6d945-d536-4033-a134-b9130c838995"
      },
      "source": [
        "pred = pd.DataFrame(pred_y, columns = ['Latitude','Longitude'])\n",
        "pred['dist_err'] = (((pred['Latitude']-testY_final['Latitude_OP'])*111000)**2 + (((pred['Longitude']-testY_final['Longitude_OP'])*111000)**2))**0.5\n",
        "pred['dist_err'].mean()"
      ],
      "execution_count": 48,
      "outputs": [
        {
          "output_type": "execute_result",
          "data": {
            "text/plain": [
              "20.078328934137563"
            ]
          },
          "metadata": {},
          "execution_count": 48
        }
      ]
    },
    {
      "cell_type": "code",
      "metadata": {
        "colab": {
          "base_uri": "https://localhost:8080/"
        },
        "id": "LFJxbLjjdezk",
        "outputId": "422aeaef-9328-4b2e-f14b-99295d79f1ef"
      },
      "source": [
        "pred['dist_err'].max()"
      ],
      "execution_count": 49,
      "outputs": [
        {
          "output_type": "execute_result",
          "data": {
            "text/plain": [
              "42.45041076685584"
            ]
          },
          "metadata": {},
          "execution_count": 49
        }
      ]
    },
    {
      "cell_type": "code",
      "metadata": {
        "colab": {
          "base_uri": "https://localhost:8080/"
        },
        "id": "3Eu7NDt0ujoq",
        "outputId": "8ad78ccd-1a9f-488a-a14b-49052edff167"
      },
      "source": [
        "count = len([i for i in list(pred['dist_err']) if i  < 2])\n",
        "low_error = count / len(list(pred['dist_err'])) * 100\n",
        "print(\"Percentage of data with less than 2m error : \",low_error)"
      ],
      "execution_count": 50,
      "outputs": [
        {
          "output_type": "stream",
          "name": "stdout",
          "text": [
            "Percentage of data with less than 2m error :  0.0\n"
          ]
        }
      ]
    },
    {
      "cell_type": "markdown",
      "metadata": {
        "id": "2mBhtd4krRxh"
      },
      "source": [
        "###AdaBoost\n",
        "\n",
        "In this case we trained 8 different models for the 4 different APs.\n",
        "Two models for each AP for predicting Latitude and Longitude of the reference points/observation points respectively."
      ]
    },
    {
      "cell_type": "markdown",
      "metadata": {
        "id": "Defq5TlStJ8N"
      },
      "source": [
        "####Distance Estimation using AdaBoost"
      ]
    },
    {
      "cell_type": "code",
      "metadata": {
        "id": "tWcTfBVj_Rzp"
      },
      "source": [
        "from sklearn.ensemble import AdaBoostRegressor\n",
        "from sklearn.model_selection import cross_val_score, KFold\n",
        "from sklearn.metrics import mean_squared_error"
      ],
      "execution_count": 51,
      "outputs": []
    },
    {
      "cell_type": "code",
      "metadata": {
        "colab": {
          "base_uri": "https://localhost:8080/",
          "height": 478
        },
        "id": "oLvGcRm8DkAm",
        "outputId": "9e9a0998-4708-4c4f-da36-feb600ef331a"
      },
      "source": [
        "train_semi"
      ],
      "execution_count": 52,
      "outputs": [
        {
          "output_type": "execute_result",
          "data": {
            "text/html": [
              "<div>\n",
              "<style scoped>\n",
              "    .dataframe tbody tr th:only-of-type {\n",
              "        vertical-align: middle;\n",
              "    }\n",
              "\n",
              "    .dataframe tbody tr th {\n",
              "        vertical-align: top;\n",
              "    }\n",
              "\n",
              "    .dataframe thead th {\n",
              "        text-align: right;\n",
              "    }\n",
              "</style>\n",
              "<table border=\"1\" class=\"dataframe\">\n",
              "  <thead>\n",
              "    <tr style=\"text-align: right;\">\n",
              "      <th></th>\n",
              "      <th>TimeStamp(UNIX)</th>\n",
              "      <th>Latitude_OP</th>\n",
              "      <th>Longitude_OP</th>\n",
              "      <th>Channel</th>\n",
              "      <th>RSSI(dBm)</th>\n",
              "      <th>Latitude_AP</th>\n",
              "      <th>Longitude_AP</th>\n",
              "      <th>Hight Difference(m)</th>\n",
              "      <th>Outdoor</th>\n",
              "      <th>Distance</th>\n",
              "      <th>Moving Average (RSSI)</th>\n",
              "      <th>1</th>\n",
              "      <th>2</th>\n",
              "      <th>3</th>\n",
              "      <th>4</th>\n",
              "    </tr>\n",
              "  </thead>\n",
              "  <tbody>\n",
              "    <tr>\n",
              "      <th>0</th>\n",
              "      <td>1631687696</td>\n",
              "      <td>35.157140</td>\n",
              "      <td>136.926306</td>\n",
              "      <td>11</td>\n",
              "      <td>-41</td>\n",
              "      <td>35.157320</td>\n",
              "      <td>136.926447</td>\n",
              "      <td>0.0</td>\n",
              "      <td>1</td>\n",
              "      <td>25.439033</td>\n",
              "      <td>-41.0</td>\n",
              "      <td>1</td>\n",
              "      <td>0</td>\n",
              "      <td>0</td>\n",
              "      <td>0</td>\n",
              "    </tr>\n",
              "    <tr>\n",
              "      <th>1</th>\n",
              "      <td>1631687697</td>\n",
              "      <td>35.157140</td>\n",
              "      <td>136.926306</td>\n",
              "      <td>11</td>\n",
              "      <td>-41</td>\n",
              "      <td>35.157320</td>\n",
              "      <td>136.926447</td>\n",
              "      <td>0.0</td>\n",
              "      <td>1</td>\n",
              "      <td>25.439033</td>\n",
              "      <td>-41.0</td>\n",
              "      <td>1</td>\n",
              "      <td>0</td>\n",
              "      <td>0</td>\n",
              "      <td>0</td>\n",
              "    </tr>\n",
              "    <tr>\n",
              "      <th>2</th>\n",
              "      <td>1631687698</td>\n",
              "      <td>35.157140</td>\n",
              "      <td>136.926306</td>\n",
              "      <td>11</td>\n",
              "      <td>-41</td>\n",
              "      <td>35.157320</td>\n",
              "      <td>136.926447</td>\n",
              "      <td>0.0</td>\n",
              "      <td>1</td>\n",
              "      <td>25.439033</td>\n",
              "      <td>-41.0</td>\n",
              "      <td>1</td>\n",
              "      <td>0</td>\n",
              "      <td>0</td>\n",
              "      <td>0</td>\n",
              "    </tr>\n",
              "    <tr>\n",
              "      <th>3</th>\n",
              "      <td>1631687699</td>\n",
              "      <td>35.157140</td>\n",
              "      <td>136.926306</td>\n",
              "      <td>11</td>\n",
              "      <td>-41</td>\n",
              "      <td>35.157320</td>\n",
              "      <td>136.926447</td>\n",
              "      <td>0.0</td>\n",
              "      <td>1</td>\n",
              "      <td>25.439033</td>\n",
              "      <td>-41.0</td>\n",
              "      <td>1</td>\n",
              "      <td>0</td>\n",
              "      <td>0</td>\n",
              "      <td>0</td>\n",
              "    </tr>\n",
              "    <tr>\n",
              "      <th>4</th>\n",
              "      <td>1631687700</td>\n",
              "      <td>35.157140</td>\n",
              "      <td>136.926306</td>\n",
              "      <td>11</td>\n",
              "      <td>-41</td>\n",
              "      <td>35.157320</td>\n",
              "      <td>136.926447</td>\n",
              "      <td>0.0</td>\n",
              "      <td>1</td>\n",
              "      <td>25.439033</td>\n",
              "      <td>-41.0</td>\n",
              "      <td>1</td>\n",
              "      <td>0</td>\n",
              "      <td>0</td>\n",
              "      <td>0</td>\n",
              "    </tr>\n",
              "    <tr>\n",
              "      <th>...</th>\n",
              "      <td>...</td>\n",
              "      <td>...</td>\n",
              "      <td>...</td>\n",
              "      <td>...</td>\n",
              "      <td>...</td>\n",
              "      <td>...</td>\n",
              "      <td>...</td>\n",
              "      <td>...</td>\n",
              "      <td>...</td>\n",
              "      <td>...</td>\n",
              "      <td>...</td>\n",
              "      <td>...</td>\n",
              "      <td>...</td>\n",
              "      <td>...</td>\n",
              "      <td>...</td>\n",
              "    </tr>\n",
              "    <tr>\n",
              "      <th>1071</th>\n",
              "      <td>1631688759</td>\n",
              "      <td>35.157236</td>\n",
              "      <td>136.926489</td>\n",
              "      <td>1</td>\n",
              "      <td>-52</td>\n",
              "      <td>35.157165</td>\n",
              "      <td>136.926470</td>\n",
              "      <td>0.0</td>\n",
              "      <td>1</td>\n",
              "      <td>8.152950</td>\n",
              "      <td>-52.0</td>\n",
              "      <td>0</td>\n",
              "      <td>0</td>\n",
              "      <td>0</td>\n",
              "      <td>1</td>\n",
              "    </tr>\n",
              "    <tr>\n",
              "      <th>1072</th>\n",
              "      <td>1631688760</td>\n",
              "      <td>35.157236</td>\n",
              "      <td>136.926489</td>\n",
              "      <td>1</td>\n",
              "      <td>-52</td>\n",
              "      <td>35.157165</td>\n",
              "      <td>136.926470</td>\n",
              "      <td>0.0</td>\n",
              "      <td>1</td>\n",
              "      <td>8.152950</td>\n",
              "      <td>-52.0</td>\n",
              "      <td>0</td>\n",
              "      <td>0</td>\n",
              "      <td>0</td>\n",
              "      <td>1</td>\n",
              "    </tr>\n",
              "    <tr>\n",
              "      <th>1073</th>\n",
              "      <td>1631688761</td>\n",
              "      <td>35.157236</td>\n",
              "      <td>136.926489</td>\n",
              "      <td>1</td>\n",
              "      <td>-52</td>\n",
              "      <td>35.157165</td>\n",
              "      <td>136.926470</td>\n",
              "      <td>0.0</td>\n",
              "      <td>1</td>\n",
              "      <td>8.152950</td>\n",
              "      <td>-52.0</td>\n",
              "      <td>0</td>\n",
              "      <td>0</td>\n",
              "      <td>0</td>\n",
              "      <td>1</td>\n",
              "    </tr>\n",
              "    <tr>\n",
              "      <th>1074</th>\n",
              "      <td>1631688762</td>\n",
              "      <td>35.157236</td>\n",
              "      <td>136.926489</td>\n",
              "      <td>1</td>\n",
              "      <td>-52</td>\n",
              "      <td>35.157165</td>\n",
              "      <td>136.926470</td>\n",
              "      <td>0.0</td>\n",
              "      <td>1</td>\n",
              "      <td>8.152950</td>\n",
              "      <td>-52.0</td>\n",
              "      <td>0</td>\n",
              "      <td>0</td>\n",
              "      <td>0</td>\n",
              "      <td>1</td>\n",
              "    </tr>\n",
              "    <tr>\n",
              "      <th>1075</th>\n",
              "      <td>1631688763</td>\n",
              "      <td>35.157236</td>\n",
              "      <td>136.926489</td>\n",
              "      <td>1</td>\n",
              "      <td>-52</td>\n",
              "      <td>35.157165</td>\n",
              "      <td>136.926470</td>\n",
              "      <td>0.0</td>\n",
              "      <td>1</td>\n",
              "      <td>8.152950</td>\n",
              "      <td>-52.0</td>\n",
              "      <td>0</td>\n",
              "      <td>0</td>\n",
              "      <td>0</td>\n",
              "      <td>1</td>\n",
              "    </tr>\n",
              "  </tbody>\n",
              "</table>\n",
              "<p>1076 rows × 15 columns</p>\n",
              "</div>"
            ],
            "text/plain": [
              "      TimeStamp(UNIX)  Latitude_OP  Longitude_OP  Channel  ...  1  2  3  4\n",
              "0          1631687696    35.157140    136.926306       11  ...  1  0  0  0\n",
              "1          1631687697    35.157140    136.926306       11  ...  1  0  0  0\n",
              "2          1631687698    35.157140    136.926306       11  ...  1  0  0  0\n",
              "3          1631687699    35.157140    136.926306       11  ...  1  0  0  0\n",
              "4          1631687700    35.157140    136.926306       11  ...  1  0  0  0\n",
              "...               ...          ...           ...      ...  ... .. .. .. ..\n",
              "1071       1631688759    35.157236    136.926489        1  ...  0  0  0  1\n",
              "1072       1631688760    35.157236    136.926489        1  ...  0  0  0  1\n",
              "1073       1631688761    35.157236    136.926489        1  ...  0  0  0  1\n",
              "1074       1631688762    35.157236    136.926489        1  ...  0  0  0  1\n",
              "1075       1631688763    35.157236    136.926489        1  ...  0  0  0  1\n",
              "\n",
              "[1076 rows x 15 columns]"
            ]
          },
          "metadata": {},
          "execution_count": 52
        }
      ]
    },
    {
      "cell_type": "code",
      "metadata": {
        "colab": {
          "base_uri": "https://localhost:8080/"
        },
        "id": "LBMSVj7bJjBd",
        "outputId": "0d9faaf9-3568-42bc-bbaa-00eac91cc168"
      },
      "source": [
        "mm_scaler = MinMaxScaler()\n",
        "train_semiX = pd.DataFrame(mm_scaler.fit_transform(train_semi[['Latitude_AP', 'Longitude_AP', 'Channel', 'RSSI(dBm)', 'Hight Difference(m)', 'Outdoor', 'Moving Average (RSSI)', 1, 2, 3, 4]]),columns=['Latitude_AP', 'Longitude_AP', 'Channel', 'RSSI(dBm)', 'Hight Difference(m)', 'Outdoor', 'Moving Average (RSSI)', 1, 2, 3, 4])\n",
        "test_semiX = pd.DataFrame(mm_scaler.transform(test_semi[['Latitude_AP', 'Longitude_AP', 'Channel', 'RSSI(dBm)', 'Hight Difference(m)', 'Outdoor', 'Moving Average (RSSI)', 1, 2, 3, 4]]),columns=['Latitude_AP', 'Longitude_AP', 'Channel', 'RSSI(dBm)', 'Hight Difference(m)', 'Outdoor', 'Moving Average (RSSI)', 1, 2, 3, 4])"
      ],
      "execution_count": 53,
      "outputs": [
        {
          "output_type": "stream",
          "name": "stderr",
          "text": [
            "/usr/local/lib/python3.7/dist-packages/sklearn/utils/validation.py:1679: FutureWarning: Feature names only support names that are all strings. Got feature names with dtypes: ['int', 'str']. An error will be raised in 1.2.\n",
            "  FutureWarning,\n",
            "/usr/local/lib/python3.7/dist-packages/sklearn/utils/validation.py:1679: FutureWarning: Feature names only support names that are all strings. Got feature names with dtypes: ['int', 'str']. An error will be raised in 1.2.\n",
            "  FutureWarning,\n",
            "/usr/local/lib/python3.7/dist-packages/sklearn/utils/validation.py:1679: FutureWarning: Feature names only support names that are all strings. Got feature names with dtypes: ['int', 'str']. An error will be raised in 1.2.\n",
            "  FutureWarning,\n"
          ]
        }
      ]
    },
    {
      "cell_type": "code",
      "metadata": {
        "id": "Npf0Q0fzApIe"
      },
      "source": [
        "ap01_dat_tr = pd.concat([train_semiX[train_semiX[1]==1],(train_semi[train_semi[1]==1])[['Distance','Latitude_OP','Longitude_OP']]],axis=1).reset_index(drop=True)\n",
        "ap02_dat_tr = pd.concat([train_semiX[train_semiX[2]==1],(train_semi[train_semi[2]==1])[['Distance','Latitude_OP','Longitude_OP']]],axis=1).reset_index(drop=True)\n",
        "ap03_dat_tr = pd.concat([train_semiX[train_semiX[3]==1],(train_semi[train_semi[3]==1])[['Distance','Latitude_OP','Longitude_OP']]],axis=1).reset_index(drop=True)\n",
        "ap04_dat_tr = pd.concat([train_semiX[train_semiX[4]==1],(train_semi[train_semi[4]==1])[['Distance','Latitude_OP','Longitude_OP']]],axis=1).reset_index(drop=True)\n",
        "ap01_dat_te = pd.concat([test_semiX[test_semiX[1]==1],(test_semi[test_semi[1]==1])[['Distance','Latitude_OP','Longitude_OP']]],axis=1).reset_index(drop=True)\n",
        "ap02_dat_te = pd.concat([test_semiX[test_semiX[2]==1],(test_semi[test_semi[2]==1])[['Distance','Latitude_OP','Longitude_OP']]],axis=1).reset_index(drop=True)\n",
        "ap03_dat_te = pd.concat([test_semiX[test_semiX[3]==1],(test_semi[test_semi[3]==1])[['Distance','Latitude_OP','Longitude_OP']]],axis=1).reset_index(drop=True)\n",
        "ap04_dat_te = pd.concat([test_semiX[test_semiX[4]==1],(test_semi[test_semi[4]==1])[['Distance','Latitude_OP','Longitude_OP']]],axis=1).reset_index(drop=True)"
      ],
      "execution_count": 54,
      "outputs": []
    },
    {
      "cell_type": "code",
      "metadata": {
        "id": "7X-0B6B6DJwc"
      },
      "source": [
        "ap01_datX_tr = ap01_dat_tr[['Outdoor','Moving Average (RSSI)']]\n",
        "ap01_datY_tr = ap01_dat_tr[['Distance']]\n",
        "ap02_datX_tr = ap02_dat_tr[['Outdoor','Moving Average (RSSI)']]\n",
        "ap02_datY_tr = ap02_dat_tr[['Distance']]\n",
        "ap03_datX_tr = ap03_dat_tr[['Outdoor','Moving Average (RSSI)']]\n",
        "ap03_datY_tr = ap03_dat_tr[['Distance']]\n",
        "ap04_datX_tr = ap04_dat_tr[['Outdoor','Moving Average (RSSI)']]\n",
        "ap04_datY_tr = ap04_dat_tr[['Distance']]\n",
        "ap01_datX_te = ap01_dat_te[['Outdoor','Moving Average (RSSI)']]\n",
        "ap01_datY_te = ap01_dat_te[['Distance']]\n",
        "ap02_datX_te = ap02_dat_te[['Outdoor','Moving Average (RSSI)']]\n",
        "ap02_datY_te = ap02_dat_te[['Distance']]\n",
        "ap03_datX_te = ap03_dat_te[['Outdoor','Moving Average (RSSI)']]\n",
        "ap03_datY_te = ap03_dat_te[['Distance']]\n",
        "ap04_datX_te = ap04_dat_te[['Outdoor','Moving Average (RSSI)']]\n",
        "ap04_datY_te = ap04_dat_te[['Distance']]"
      ],
      "execution_count": 55,
      "outputs": []
    },
    {
      "cell_type": "code",
      "metadata": {
        "id": "7VN5Bdl2EoRI"
      },
      "source": [
        "polyfeat = PolynomialFeatures(degree=2)\n",
        "ap01_datX_tr = polyfeat.fit_transform(ap01_datX_tr)\n",
        "ap01_datX_te = polyfeat.transform(ap01_datX_te)\n",
        "polyfeat = PolynomialFeatures(degree=2)\n",
        "ap02_datX_tr = polyfeat.fit_transform(ap02_datX_tr)\n",
        "ap02_datX_te = polyfeat.transform(ap02_datX_te)\n",
        "polyfeat = PolynomialFeatures(degree=2)\n",
        "ap03_datX_tr = polyfeat.fit_transform(ap03_datX_tr)\n",
        "ap03_datX_te = polyfeat.transform(ap03_datX_te)\n",
        "polyfeat = PolynomialFeatures(degree=2)\n",
        "ap04_datX_tr = polyfeat.fit_transform(ap04_datX_tr)\n",
        "ap04_datX_te = polyfeat.transform(ap04_datX_te)"
      ],
      "execution_count": 56,
      "outputs": []
    },
    {
      "cell_type": "code",
      "metadata": {
        "colab": {
          "base_uri": "https://localhost:8080/"
        },
        "id": "uGpEpH8kGnQD",
        "outputId": "11b959c9-3abe-4f2b-f69b-fffe0c712897"
      },
      "source": [
        "ada_AP1 = AdaBoostRegressor(n_estimators=50)\n",
        "ada_AP1.fit(ap01_datX_tr,ap01_datY_tr)\n",
        "prediction = ada_AP1.predict(ap01_datX_te)\n",
        "prediction = prediction.reshape(-1,1)"
      ],
      "execution_count": 57,
      "outputs": [
        {
          "output_type": "stream",
          "name": "stderr",
          "text": [
            "/usr/local/lib/python3.7/dist-packages/sklearn/utils/validation.py:985: DataConversionWarning: A column-vector y was passed when a 1d array was expected. Please change the shape of y to (n_samples, ), for example using ravel().\n",
            "  y = column_or_1d(y, warn=True)\n"
          ]
        }
      ]
    },
    {
      "cell_type": "code",
      "metadata": {
        "colab": {
          "base_uri": "https://localhost:8080/",
          "height": 265
        },
        "id": "lwvSIldtHTpF",
        "outputId": "7e803252-71e8-4598-f6b4-8c49519e1289"
      },
      "source": [
        "plt.plot(ap01_datY_te)\n",
        "plt.plot(prediction)\n",
        "plt.show()"
      ],
      "execution_count": 58,
      "outputs": [
        {
          "output_type": "display_data",
          "data": {
            "image/png": "[encoded data removed]",
            "text/plain": [
              "<Figure size 432x288 with 1 Axes>"
            ]
          },
          "metadata": {
            "needs_background": "light"
          }
        }
      ]
    },
    {
      "cell_type": "code",
      "metadata": {
        "colab": {
          "base_uri": "https://localhost:8080/",
          "height": 423
        },
        "id": "9_8atiqMHmpm",
        "outputId": "d9f01ad4-6816-4b7f-88a8-2177372d4841"
      },
      "source": [
        "dist_err=((ap01_datY_te-prediction)**2)**0.5\n",
        "df_error = pd.DataFrame(dist_err, columns = ['Distance Error'])\n",
        "dist_err"
      ],
      "execution_count": 59,
      "outputs": [
        {
          "output_type": "execute_result",
          "data": {
            "text/html": [
              "<div>\n",
              "<style scoped>\n",
              "    .dataframe tbody tr th:only-of-type {\n",
              "        vertical-align: middle;\n",
              "    }\n",
              "\n",
              "    .dataframe tbody tr th {\n",
              "        vertical-align: top;\n",
              "    }\n",
              "\n",
              "    .dataframe thead th {\n",
              "        text-align: right;\n",
              "    }\n",
              "</style>\n",
              "<table border=\"1\" class=\"dataframe\">\n",
              "  <thead>\n",
              "    <tr style=\"text-align: right;\">\n",
              "      <th></th>\n",
              "      <th>Distance</th>\n",
              "    </tr>\n",
              "  </thead>\n",
              "  <tbody>\n",
              "    <tr>\n",
              "      <th>0</th>\n",
              "      <td>15.665519</td>\n",
              "    </tr>\n",
              "    <tr>\n",
              "      <th>1</th>\n",
              "      <td>15.665519</td>\n",
              "    </tr>\n",
              "    <tr>\n",
              "      <th>2</th>\n",
              "      <td>15.665519</td>\n",
              "    </tr>\n",
              "    <tr>\n",
              "      <th>3</th>\n",
              "      <td>15.665519</td>\n",
              "    </tr>\n",
              "    <tr>\n",
              "      <th>4</th>\n",
              "      <td>15.665519</td>\n",
              "    </tr>\n",
              "    <tr>\n",
              "      <th>...</th>\n",
              "      <td>...</td>\n",
              "    </tr>\n",
              "    <tr>\n",
              "      <th>270</th>\n",
              "      <td>6.410593</td>\n",
              "    </tr>\n",
              "    <tr>\n",
              "      <th>271</th>\n",
              "      <td>7.961828</td>\n",
              "    </tr>\n",
              "    <tr>\n",
              "      <th>272</th>\n",
              "      <td>11.142346</td>\n",
              "    </tr>\n",
              "    <tr>\n",
              "      <th>273</th>\n",
              "      <td>15.856848</td>\n",
              "    </tr>\n",
              "    <tr>\n",
              "      <th>274</th>\n",
              "      <td>3.979083</td>\n",
              "    </tr>\n",
              "  </tbody>\n",
              "</table>\n",
              "<p>275 rows × 1 columns</p>\n",
              "</div>"
            ],
            "text/plain": [
              "      Distance\n",
              "0    15.665519\n",
              "1    15.665519\n",
              "2    15.665519\n",
              "3    15.665519\n",
              "4    15.665519\n",
              "..         ...\n",
              "270   6.410593\n",
              "271   7.961828\n",
              "272  11.142346\n",
              "273  15.856848\n",
              "274   3.979083\n",
              "\n",
              "[275 rows x 1 columns]"
            ]
          },
          "metadata": {},
          "execution_count": 59
        }
      ]
    },
    {
      "cell_type": "code",
      "metadata": {
        "colab": {
          "base_uri": "https://localhost:8080/"
        },
        "id": "dX6l6QBHH9-J",
        "outputId": "e3bc3b7a-5789-47ae-c7f4-427ce29a2625"
      },
      "source": [
        "dist_err.mean()"
      ],
      "execution_count": 60,
      "outputs": [
        {
          "output_type": "execute_result",
          "data": {
            "text/plain": [
              "Distance    13.616292\n",
              "dtype: float64"
            ]
          },
          "metadata": {},
          "execution_count": 60
        }
      ]
    },
    {
      "cell_type": "code",
      "metadata": {
        "colab": {
          "base_uri": "https://localhost:8080/"
        },
        "id": "k_lOkihtIA7s",
        "outputId": "47d90ad3-2bc1-4939-ef43-1a00ad3fd8c1"
      },
      "source": [
        "dist_err.max()"
      ],
      "execution_count": 61,
      "outputs": [
        {
          "output_type": "execute_result",
          "data": {
            "text/plain": [
              "Distance    38.332407\n",
              "dtype: float64"
            ]
          },
          "metadata": {},
          "execution_count": 61
        }
      ]
    },
    {
      "cell_type": "code",
      "metadata": {
        "colab": {
          "base_uri": "https://localhost:8080/"
        },
        "id": "hxNgRtEMuwRR",
        "outputId": "0c6e98c7-d2d9-4618-dd6a-e6c9392249da"
      },
      "source": [
        "count = len([i for i in list(dist_err['Distance']) if i  < 2])\n",
        "low_error = count / len(list(dist_err['Distance'])) * 100\n",
        "print(\"Percentage of data with less than 2m error : \",low_error)"
      ],
      "execution_count": 62,
      "outputs": [
        {
          "output_type": "stream",
          "name": "stdout",
          "text": [
            "Percentage of data with less than 2m error :  8.727272727272728\n"
          ]
        }
      ]
    },
    {
      "cell_type": "code",
      "metadata": {
        "colab": {
          "base_uri": "https://localhost:8080/"
        },
        "id": "EY8OS3HgQ0dM",
        "outputId": "d3dca1ad-730b-4220-9ab0-9e83904183a9"
      },
      "source": [
        "ada_AP2 = AdaBoostRegressor(n_estimators=50)\n",
        "ada_AP2.fit(ap02_datX_tr,ap02_datY_tr)\n",
        "prediction = ada_AP2.predict(ap02_datX_te)\n",
        "prediction = prediction.reshape(-1,1)"
      ],
      "execution_count": 63,
      "outputs": [
        {
          "output_type": "stream",
          "name": "stderr",
          "text": [
            "/usr/local/lib/python3.7/dist-packages/sklearn/utils/validation.py:985: DataConversionWarning: A column-vector y was passed when a 1d array was expected. Please change the shape of y to (n_samples, ), for example using ravel().\n",
            "  y = column_or_1d(y, warn=True)\n"
          ]
        }
      ]
    },
    {
      "cell_type": "code",
      "metadata": {
        "colab": {
          "base_uri": "https://localhost:8080/",
          "height": 265
        },
        "id": "XNa4qNIvQ0dN",
        "outputId": "28e99e54-705c-4471-b055-a9d36e71e534"
      },
      "source": [
        "plt.plot(ap02_datY_te)\n",
        "plt.plot(prediction)\n",
        "plt.show()"
      ],
      "execution_count": 64,
      "outputs": [
        {
          "output_type": "display_data",
          "data": {
            "image/png": "[encoded data removed]",
            "text/plain": [
              "<Figure size 432x288 with 1 Axes>"
            ]
          },
          "metadata": {
            "needs_background": "light"
          }
        }
      ]
    },
    {
      "cell_type": "code",
      "metadata": {
        "colab": {
          "base_uri": "https://localhost:8080/",
          "height": 423
        },
        "id": "s2LogkO9Q0dN",
        "outputId": "92cd8fd9-822f-4133-f571-359f2e6b4a43"
      },
      "source": [
        "dist_err=((ap02_datY_te-prediction)**2)**0.5\n",
        "df_error = pd.DataFrame(dist_err, columns = ['Distance Error'])\n",
        "dist_err"
      ],
      "execution_count": 65,
      "outputs": [
        {
          "output_type": "execute_result",
          "data": {
            "text/html": [
              "<div>\n",
              "<style scoped>\n",
              "    .dataframe tbody tr th:only-of-type {\n",
              "        vertical-align: middle;\n",
              "    }\n",
              "\n",
              "    .dataframe tbody tr th {\n",
              "        vertical-align: top;\n",
              "    }\n",
              "\n",
              "    .dataframe thead th {\n",
              "        text-align: right;\n",
              "    }\n",
              "</style>\n",
              "<table border=\"1\" class=\"dataframe\">\n",
              "  <thead>\n",
              "    <tr style=\"text-align: right;\">\n",
              "      <th></th>\n",
              "      <th>Distance</th>\n",
              "    </tr>\n",
              "  </thead>\n",
              "  <tbody>\n",
              "    <tr>\n",
              "      <th>0</th>\n",
              "      <td>14.120991</td>\n",
              "    </tr>\n",
              "    <tr>\n",
              "      <th>1</th>\n",
              "      <td>5.926924</td>\n",
              "    </tr>\n",
              "    <tr>\n",
              "      <th>2</th>\n",
              "      <td>5.926924</td>\n",
              "    </tr>\n",
              "    <tr>\n",
              "      <th>3</th>\n",
              "      <td>1.269421</td>\n",
              "    </tr>\n",
              "    <tr>\n",
              "      <th>4</th>\n",
              "      <td>1.269421</td>\n",
              "    </tr>\n",
              "    <tr>\n",
              "      <th>...</th>\n",
              "      <td>...</td>\n",
              "    </tr>\n",
              "    <tr>\n",
              "      <th>271</th>\n",
              "      <td>6.837727</td>\n",
              "    </tr>\n",
              "    <tr>\n",
              "      <th>272</th>\n",
              "      <td>11.552471</td>\n",
              "    </tr>\n",
              "    <tr>\n",
              "      <th>273</th>\n",
              "      <td>11.495231</td>\n",
              "    </tr>\n",
              "    <tr>\n",
              "      <th>274</th>\n",
              "      <td>11.495231</td>\n",
              "    </tr>\n",
              "    <tr>\n",
              "      <th>275</th>\n",
              "      <td>11.495231</td>\n",
              "    </tr>\n",
              "  </tbody>\n",
              "</table>\n",
              "<p>276 rows × 1 columns</p>\n",
              "</div>"
            ],
            "text/plain": [
              "      Distance\n",
              "0    14.120991\n",
              "1     5.926924\n",
              "2     5.926924\n",
              "3     1.269421\n",
              "4     1.269421\n",
              "..         ...\n",
              "271   6.837727\n",
              "272  11.552471\n",
              "273  11.495231\n",
              "274  11.495231\n",
              "275  11.495231\n",
              "\n",
              "[276 rows x 1 columns]"
            ]
          },
          "metadata": {},
          "execution_count": 65
        }
      ]
    },
    {
      "cell_type": "code",
      "metadata": {
        "colab": {
          "base_uri": "https://localhost:8080/"
        },
        "id": "2PndooQ2Q0dN",
        "outputId": "77106051-d73d-4f5e-bae0-dbabaaf1aa5b"
      },
      "source": [
        "dist_err.mean()"
      ],
      "execution_count": 66,
      "outputs": [
        {
          "output_type": "execute_result",
          "data": {
            "text/plain": [
              "Distance    12.986783\n",
              "dtype: float64"
            ]
          },
          "metadata": {},
          "execution_count": 66
        }
      ]
    },
    {
      "cell_type": "code",
      "metadata": {
        "colab": {
          "base_uri": "https://localhost:8080/"
        },
        "id": "p7ypAhXsQ0dN",
        "outputId": "0da45ee6-1e99-45db-c471-f6b0f0ce8ac0"
      },
      "source": [
        "dist_err.max()"
      ],
      "execution_count": 67,
      "outputs": [
        {
          "output_type": "execute_result",
          "data": {
            "text/plain": [
              "Distance    33.332312\n",
              "dtype: float64"
            ]
          },
          "metadata": {},
          "execution_count": 67
        }
      ]
    },
    {
      "cell_type": "code",
      "metadata": {
        "colab": {
          "base_uri": "https://localhost:8080/"
        },
        "id": "FasRYxH1uznl",
        "outputId": "6acc15c5-600d-42d2-f952-a491b0a2cb51"
      },
      "source": [
        "count = len([i for i in list(dist_err['Distance']) if i  < 2])\n",
        "low_error = count / len(list(dist_err['Distance'])) * 100\n",
        "print(\"Percentage of data with less than 2m error : \",low_error)"
      ],
      "execution_count": 68,
      "outputs": [
        {
          "output_type": "stream",
          "name": "stdout",
          "text": [
            "Percentage of data with less than 2m error :  10.869565217391305\n"
          ]
        }
      ]
    },
    {
      "cell_type": "code",
      "metadata": {
        "colab": {
          "base_uri": "https://localhost:8080/"
        },
        "id": "IDh5mjPHQ4TB",
        "outputId": "22c73134-a913-4f2a-ce27-59645f789807"
      },
      "source": [
        "ada_AP3 = AdaBoostRegressor(n_estimators=50)\n",
        "ada_AP3.fit(ap03_datX_tr,ap03_datY_tr)\n",
        "prediction = ada_AP3.predict(ap03_datX_te)\n",
        "prediction = prediction.reshape(-1,1)"
      ],
      "execution_count": 69,
      "outputs": [
        {
          "output_type": "stream",
          "name": "stderr",
          "text": [
            "/usr/local/lib/python3.7/dist-packages/sklearn/utils/validation.py:985: DataConversionWarning: A column-vector y was passed when a 1d array was expected. Please change the shape of y to (n_samples, ), for example using ravel().\n",
            "  y = column_or_1d(y, warn=True)\n"
          ]
        }
      ]
    },
    {
      "cell_type": "code",
      "metadata": {
        "colab": {
          "base_uri": "https://localhost:8080/",
          "height": 265
        },
        "id": "JuS9u2yUQ4TB",
        "outputId": "c2c78246-acae-4d71-ea59-587c944bc103"
      },
      "source": [
        "plt.plot(ap03_datY_te)\n",
        "plt.plot(prediction)\n",
        "plt.show()"
      ],
      "execution_count": 70,
      "outputs": [
        {
          "output_type": "display_data",
          "data": {
            "image/png": "[encoded data removed]",
            "text/plain": [
              "<Figure size 432x288 with 1 Axes>"
            ]
          },
          "metadata": {
            "needs_background": "light"
          }
        }
      ]
    },
    {
      "cell_type": "code",
      "metadata": {
        "colab": {
          "base_uri": "https://localhost:8080/",
          "height": 423
        },
        "id": "fCIJa2Q8Q4TC",
        "outputId": "02b08c72-381a-4ae0-e5ef-ce9dacc1be95"
      },
      "source": [
        "dist_err=((ap03_datY_te-prediction)**2)**0.5\n",
        "df_error = pd.DataFrame(dist_err, columns = ['Distance Error'])\n",
        "dist_err"
      ],
      "execution_count": 71,
      "outputs": [
        {
          "output_type": "execute_result",
          "data": {
            "text/html": [
              "<div>\n",
              "<style scoped>\n",
              "    .dataframe tbody tr th:only-of-type {\n",
              "        vertical-align: middle;\n",
              "    }\n",
              "\n",
              "    .dataframe tbody tr th {\n",
              "        vertical-align: top;\n",
              "    }\n",
              "\n",
              "    .dataframe thead th {\n",
              "        text-align: right;\n",
              "    }\n",
              "</style>\n",
              "<table border=\"1\" class=\"dataframe\">\n",
              "  <thead>\n",
              "    <tr style=\"text-align: right;\">\n",
              "      <th></th>\n",
              "      <th>Distance</th>\n",
              "    </tr>\n",
              "  </thead>\n",
              "  <tbody>\n",
              "    <tr>\n",
              "      <th>0</th>\n",
              "      <td>11.759434</td>\n",
              "    </tr>\n",
              "    <tr>\n",
              "      <th>1</th>\n",
              "      <td>11.759434</td>\n",
              "    </tr>\n",
              "    <tr>\n",
              "      <th>2</th>\n",
              "      <td>11.759434</td>\n",
              "    </tr>\n",
              "    <tr>\n",
              "      <th>3</th>\n",
              "      <td>11.759434</td>\n",
              "    </tr>\n",
              "    <tr>\n",
              "      <th>4</th>\n",
              "      <td>13.329621</td>\n",
              "    </tr>\n",
              "    <tr>\n",
              "      <th>...</th>\n",
              "      <td>...</td>\n",
              "    </tr>\n",
              "    <tr>\n",
              "      <th>270</th>\n",
              "      <td>1.117929</td>\n",
              "    </tr>\n",
              "    <tr>\n",
              "      <th>271</th>\n",
              "      <td>1.117929</td>\n",
              "    </tr>\n",
              "    <tr>\n",
              "      <th>272</th>\n",
              "      <td>1.117929</td>\n",
              "    </tr>\n",
              "    <tr>\n",
              "      <th>273</th>\n",
              "      <td>1.117929</td>\n",
              "    </tr>\n",
              "    <tr>\n",
              "      <th>274</th>\n",
              "      <td>1.117929</td>\n",
              "    </tr>\n",
              "  </tbody>\n",
              "</table>\n",
              "<p>275 rows × 1 columns</p>\n",
              "</div>"
            ],
            "text/plain": [
              "      Distance\n",
              "0    11.759434\n",
              "1    11.759434\n",
              "2    11.759434\n",
              "3    11.759434\n",
              "4    13.329621\n",
              "..         ...\n",
              "270   1.117929\n",
              "271   1.117929\n",
              "272   1.117929\n",
              "273   1.117929\n",
              "274   1.117929\n",
              "\n",
              "[275 rows x 1 columns]"
            ]
          },
          "metadata": {},
          "execution_count": 71
        }
      ]
    },
    {
      "cell_type": "code",
      "metadata": {
        "colab": {
          "base_uri": "https://localhost:8080/"
        },
        "id": "8GqBiA3qQ4TC",
        "outputId": "15625456-146f-4bcd-bd40-2be2918bc47f"
      },
      "source": [
        "dist_err.mean()"
      ],
      "execution_count": 72,
      "outputs": [
        {
          "output_type": "execute_result",
          "data": {
            "text/plain": [
              "Distance    9.61157\n",
              "dtype: float64"
            ]
          },
          "metadata": {},
          "execution_count": 72
        }
      ]
    },
    {
      "cell_type": "code",
      "metadata": {
        "colab": {
          "base_uri": "https://localhost:8080/"
        },
        "id": "B5jaPtH7Q4TC",
        "outputId": "9801e212-ff40-4b11-b570-e2fb89aa4748"
      },
      "source": [
        "dist_err.max()"
      ],
      "execution_count": 73,
      "outputs": [
        {
          "output_type": "execute_result",
          "data": {
            "text/plain": [
              "Distance    23.867479\n",
              "dtype: float64"
            ]
          },
          "metadata": {},
          "execution_count": 73
        }
      ]
    },
    {
      "cell_type": "code",
      "metadata": {
        "colab": {
          "base_uri": "https://localhost:8080/"
        },
        "id": "zA6ns9OSu1cm",
        "outputId": "81c463f0-3cdb-40cd-a351-4e77b7b53ea7"
      },
      "source": [
        "count = len([i for i in list(dist_err['Distance']) if i  < 2])\n",
        "low_error = count / len(list(dist_err['Distance'])) * 100\n",
        "print(\"Percentage of data with less than 2m error : \",low_error)"
      ],
      "execution_count": 74,
      "outputs": [
        {
          "output_type": "stream",
          "name": "stdout",
          "text": [
            "Percentage of data with less than 2m error :  7.636363636363637\n"
          ]
        }
      ]
    },
    {
      "cell_type": "code",
      "metadata": {
        "colab": {
          "base_uri": "https://localhost:8080/"
        },
        "id": "6qSNOIx-Q5WU",
        "outputId": "d76e4a29-a820-465c-ef6f-2d830209c6be"
      },
      "source": [
        "ada_AP4 = AdaBoostRegressor(n_estimators=50)\n",
        "ada_AP4.fit(ap04_datX_tr,ap04_datY_tr)\n",
        "prediction = ada_AP4.predict(ap04_datX_te)\n",
        "prediction = prediction.reshape(-1,1)"
      ],
      "execution_count": 75,
      "outputs": [
        {
          "output_type": "stream",
          "name": "stderr",
          "text": [
            "/usr/local/lib/python3.7/dist-packages/sklearn/utils/validation.py:985: DataConversionWarning: A column-vector y was passed when a 1d array was expected. Please change the shape of y to (n_samples, ), for example using ravel().\n",
            "  y = column_or_1d(y, warn=True)\n"
          ]
        }
      ]
    },
    {
      "cell_type": "code",
      "metadata": {
        "colab": {
          "base_uri": "https://localhost:8080/",
          "height": 265
        },
        "id": "zgPSQG57Q5WV",
        "outputId": "9a11f9f7-8298-4509-b285-cd1fc0f9b298"
      },
      "source": [
        "plt.plot(ap04_datY_te)\n",
        "plt.plot(prediction)\n",
        "plt.show()"
      ],
      "execution_count": 76,
      "outputs": [
        {
          "output_type": "display_data",
          "data": {
            "image/png": "[encoded data removed]",
            "text/plain": [
              "<Figure size 432x288 with 1 Axes>"
            ]
          },
          "metadata": {
            "needs_background": "light"
          }
        }
      ]
    },
    {
      "cell_type": "code",
      "metadata": {
        "colab": {
          "base_uri": "https://localhost:8080/",
          "height": 423
        },
        "id": "onYj8hdyQ5WV",
        "outputId": "434a2a68-6255-4d3c-845a-198979ae812a"
      },
      "source": [
        "dist_err=((ap04_datY_te-prediction)**2)**0.5\n",
        "df_error = pd.DataFrame(dist_err, columns = ['Distance Error'])\n",
        "dist_err"
      ],
      "execution_count": 77,
      "outputs": [
        {
          "output_type": "execute_result",
          "data": {
            "text/html": [
              "<div>\n",
              "<style scoped>\n",
              "    .dataframe tbody tr th:only-of-type {\n",
              "        vertical-align: middle;\n",
              "    }\n",
              "\n",
              "    .dataframe tbody tr th {\n",
              "        vertical-align: top;\n",
              "    }\n",
              "\n",
              "    .dataframe thead th {\n",
              "        text-align: right;\n",
              "    }\n",
              "</style>\n",
              "<table border=\"1\" class=\"dataframe\">\n",
              "  <thead>\n",
              "    <tr style=\"text-align: right;\">\n",
              "      <th></th>\n",
              "      <th>Distance</th>\n",
              "    </tr>\n",
              "  </thead>\n",
              "  <tbody>\n",
              "    <tr>\n",
              "      <th>0</th>\n",
              "      <td>7.798348</td>\n",
              "    </tr>\n",
              "    <tr>\n",
              "      <th>1</th>\n",
              "      <td>7.798348</td>\n",
              "    </tr>\n",
              "    <tr>\n",
              "      <th>2</th>\n",
              "      <td>7.798348</td>\n",
              "    </tr>\n",
              "    <tr>\n",
              "      <th>3</th>\n",
              "      <td>7.798348</td>\n",
              "    </tr>\n",
              "    <tr>\n",
              "      <th>4</th>\n",
              "      <td>7.798348</td>\n",
              "    </tr>\n",
              "    <tr>\n",
              "      <th>...</th>\n",
              "      <td>...</td>\n",
              "    </tr>\n",
              "    <tr>\n",
              "      <th>270</th>\n",
              "      <td>11.006122</td>\n",
              "    </tr>\n",
              "    <tr>\n",
              "      <th>271</th>\n",
              "      <td>11.006122</td>\n",
              "    </tr>\n",
              "    <tr>\n",
              "      <th>272</th>\n",
              "      <td>11.006122</td>\n",
              "    </tr>\n",
              "    <tr>\n",
              "      <th>273</th>\n",
              "      <td>11.006122</td>\n",
              "    </tr>\n",
              "    <tr>\n",
              "      <th>274</th>\n",
              "      <td>11.006122</td>\n",
              "    </tr>\n",
              "  </tbody>\n",
              "</table>\n",
              "<p>275 rows × 1 columns</p>\n",
              "</div>"
            ],
            "text/plain": [
              "      Distance\n",
              "0     7.798348\n",
              "1     7.798348\n",
              "2     7.798348\n",
              "3     7.798348\n",
              "4     7.798348\n",
              "..         ...\n",
              "270  11.006122\n",
              "271  11.006122\n",
              "272  11.006122\n",
              "273  11.006122\n",
              "274  11.006122\n",
              "\n",
              "[275 rows x 1 columns]"
            ]
          },
          "metadata": {},
          "execution_count": 77
        }
      ]
    },
    {
      "cell_type": "code",
      "metadata": {
        "colab": {
          "base_uri": "https://localhost:8080/"
        },
        "id": "esOElQT9Q5WW",
        "outputId": "02d39ff0-cd50-4a28-a24b-6dd8fc3e7ea7"
      },
      "source": [
        "dist_err.mean()"
      ],
      "execution_count": 78,
      "outputs": [
        {
          "output_type": "execute_result",
          "data": {
            "text/plain": [
              "Distance    13.619863\n",
              "dtype: float64"
            ]
          },
          "metadata": {},
          "execution_count": 78
        }
      ]
    },
    {
      "cell_type": "code",
      "metadata": {
        "colab": {
          "base_uri": "https://localhost:8080/"
        },
        "id": "Nc3CotvfQ5WW",
        "outputId": "e32fcc1d-bc7f-4937-c1eb-5cc5cfc74a90"
      },
      "source": [
        "dist_err.max()"
      ],
      "execution_count": 79,
      "outputs": [
        {
          "output_type": "execute_result",
          "data": {
            "text/plain": [
              "Distance    26.859802\n",
              "dtype: float64"
            ]
          },
          "metadata": {},
          "execution_count": 79
        }
      ]
    },
    {
      "cell_type": "code",
      "metadata": {
        "colab": {
          "base_uri": "https://localhost:8080/"
        },
        "id": "UQobP4r_u2_B",
        "outputId": "1d0b1280-6964-47fe-cb0d-fd0cdb88cb7d"
      },
      "source": [
        "count = len([i for i in list(dist_err['Distance']) if i  < 2])\n",
        "low_error = count / len(list(dist_err['Distance'])) * 100\n",
        "print(\"Percentage of data with less than 2m error : \",low_error)"
      ],
      "execution_count": 80,
      "outputs": [
        {
          "output_type": "stream",
          "name": "stdout",
          "text": [
            "Percentage of data with less than 2m error :  8.363636363636363\n"
          ]
        }
      ]
    },
    {
      "cell_type": "markdown",
      "metadata": {
        "id": "9FBMb7hCtRA8"
      },
      "source": [
        "####Direct estimation of Latitude and Longitude using AdaBoost"
      ]
    },
    {
      "cell_type": "code",
      "metadata": {
        "id": "t6eBqLnnoIbX"
      },
      "source": [
        "ap01_datX_tr = ap01_dat_tr[['Latitude_AP','Longitude_AP','Outdoor','Moving Average (RSSI)']]\n",
        "ap01_datY_tr = ap01_dat_tr[['Latitude_OP','Longitude_OP']]\n",
        "ap02_datX_tr = ap02_dat_tr[['Latitude_AP','Longitude_AP','Outdoor','Moving Average (RSSI)']]\n",
        "ap02_datY_tr = ap02_dat_tr[['Latitude_OP','Longitude_OP']]\n",
        "ap03_datX_tr = ap03_dat_tr[['Latitude_AP','Longitude_AP','Outdoor','Moving Average (RSSI)']]\n",
        "ap03_datY_tr = ap03_dat_tr[['Latitude_OP','Longitude_OP']]\n",
        "ap04_datX_tr = ap04_dat_tr[['Latitude_AP','Longitude_AP','Outdoor','Moving Average (RSSI)']]\n",
        "ap04_datY_tr = ap04_dat_tr[['Latitude_OP','Longitude_OP']]\n",
        "ap01_datX_te = ap01_dat_te[['Latitude_AP','Longitude_AP','Outdoor','Moving Average (RSSI)']]\n",
        "ap01_datY_te = ap01_dat_te[['Latitude_OP','Longitude_OP']]\n",
        "ap02_datX_te = ap02_dat_te[['Latitude_AP','Longitude_AP','Outdoor','Moving Average (RSSI)']]\n",
        "ap02_datY_te = ap02_dat_te[['Latitude_OP','Longitude_OP']]\n",
        "ap03_datX_te = ap03_dat_te[['Latitude_AP','Longitude_AP','Outdoor','Moving Average (RSSI)']]\n",
        "ap03_datY_te = ap03_dat_te[['Latitude_OP','Longitude_OP']]\n",
        "ap04_datX_te = ap04_dat_te[['Latitude_AP','Longitude_AP','Outdoor','Moving Average (RSSI)']]\n",
        "ap04_datY_te = ap04_dat_te[['Latitude_OP','Longitude_OP']]"
      ],
      "execution_count": 81,
      "outputs": []
    },
    {
      "cell_type": "code",
      "metadata": {
        "colab": {
          "base_uri": "https://localhost:8080/",
          "height": 423
        },
        "id": "gBK4MfbUn18i",
        "outputId": "f1bb0007-c1bd-4f0d-e1ad-93cd7c9a72d5"
      },
      "source": [
        "ap01_datY_tr"
      ],
      "execution_count": 82,
      "outputs": [
        {
          "output_type": "execute_result",
          "data": {
            "text/html": [
              "<div>\n",
              "<style scoped>\n",
              "    .dataframe tbody tr th:only-of-type {\n",
              "        vertical-align: middle;\n",
              "    }\n",
              "\n",
              "    .dataframe tbody tr th {\n",
              "        vertical-align: top;\n",
              "    }\n",
              "\n",
              "    .dataframe thead th {\n",
              "        text-align: right;\n",
              "    }\n",
              "</style>\n",
              "<table border=\"1\" class=\"dataframe\">\n",
              "  <thead>\n",
              "    <tr style=\"text-align: right;\">\n",
              "      <th></th>\n",
              "      <th>Latitude_OP</th>\n",
              "      <th>Longitude_OP</th>\n",
              "    </tr>\n",
              "  </thead>\n",
              "  <tbody>\n",
              "    <tr>\n",
              "      <th>0</th>\n",
              "      <td>35.157140</td>\n",
              "      <td>136.926306</td>\n",
              "    </tr>\n",
              "    <tr>\n",
              "      <th>1</th>\n",
              "      <td>35.157140</td>\n",
              "      <td>136.926306</td>\n",
              "    </tr>\n",
              "    <tr>\n",
              "      <th>2</th>\n",
              "      <td>35.157140</td>\n",
              "      <td>136.926306</td>\n",
              "    </tr>\n",
              "    <tr>\n",
              "      <th>3</th>\n",
              "      <td>35.157140</td>\n",
              "      <td>136.926306</td>\n",
              "    </tr>\n",
              "    <tr>\n",
              "      <th>4</th>\n",
              "      <td>35.157140</td>\n",
              "      <td>136.926306</td>\n",
              "    </tr>\n",
              "    <tr>\n",
              "      <th>...</th>\n",
              "      <td>...</td>\n",
              "      <td>...</td>\n",
              "    </tr>\n",
              "    <tr>\n",
              "      <th>264</th>\n",
              "      <td>35.157236</td>\n",
              "      <td>136.926489</td>\n",
              "    </tr>\n",
              "    <tr>\n",
              "      <th>265</th>\n",
              "      <td>35.157236</td>\n",
              "      <td>136.926489</td>\n",
              "    </tr>\n",
              "    <tr>\n",
              "      <th>266</th>\n",
              "      <td>35.157236</td>\n",
              "      <td>136.926489</td>\n",
              "    </tr>\n",
              "    <tr>\n",
              "      <th>267</th>\n",
              "      <td>35.157236</td>\n",
              "      <td>136.926489</td>\n",
              "    </tr>\n",
              "    <tr>\n",
              "      <th>268</th>\n",
              "      <td>35.157236</td>\n",
              "      <td>136.926489</td>\n",
              "    </tr>\n",
              "  </tbody>\n",
              "</table>\n",
              "<p>269 rows × 2 columns</p>\n",
              "</div>"
            ],
            "text/plain": [
              "     Latitude_OP  Longitude_OP\n",
              "0      35.157140    136.926306\n",
              "1      35.157140    136.926306\n",
              "2      35.157140    136.926306\n",
              "3      35.157140    136.926306\n",
              "4      35.157140    136.926306\n",
              "..           ...           ...\n",
              "264    35.157236    136.926489\n",
              "265    35.157236    136.926489\n",
              "266    35.157236    136.926489\n",
              "267    35.157236    136.926489\n",
              "268    35.157236    136.926489\n",
              "\n",
              "[269 rows x 2 columns]"
            ]
          },
          "metadata": {},
          "execution_count": 82
        }
      ]
    },
    {
      "cell_type": "code",
      "metadata": {
        "id": "6V37WpLnq1Qf"
      },
      "source": [
        "ada_AP1_Lat = AdaBoostRegressor(n_estimators=25)\n",
        "ada_AP1_Lat.fit(ap01_datX_tr,ap01_datY_tr['Latitude_OP'])\n",
        "prediction1_Lat = ada_AP1_Lat.predict(ap01_datX_te)\n",
        "prediction1_Lat = pd.DataFrame(prediction1_Lat.reshape(-1,1),columns=['Latitude'])\n",
        "ada_AP1_Lon = AdaBoostRegressor(n_estimators=25)\n",
        "ada_AP1_Lon.fit(ap01_datX_tr,ap01_datY_tr['Longitude_OP'])\n",
        "prediction1_Lon = ada_AP1_Lon.predict(ap01_datX_te)\n",
        "prediction1_Lon = pd.DataFrame(prediction1_Lon.reshape(-1,1),columns=['Longitude'])"
      ],
      "execution_count": 83,
      "outputs": []
    },
    {
      "cell_type": "code",
      "metadata": {
        "colab": {
          "base_uri": "https://localhost:8080/"
        },
        "id": "G_UV4BX9n9Ef",
        "outputId": "5c03d8ae-5826-45cb-e896-00c3b99113aa"
      },
      "source": [
        "pred1 = pd.concat([prediction1_Lat,prediction1_Lon],axis=1)\n",
        "pred['dist_err'] = (((pred1['Latitude']-ap01_datY_tr['Latitude_OP'])*111000)**2 + (((pred1['Longitude']-ap01_datY_tr['Longitude_OP'])*111000)**2))**0.5\n",
        "pred['dist_err'].mean()"
      ],
      "execution_count": 84,
      "outputs": [
        {
          "output_type": "execute_result",
          "data": {
            "text/plain": [
              "19.673131614487016"
            ]
          },
          "metadata": {},
          "execution_count": 84
        }
      ]
    },
    {
      "cell_type": "code",
      "metadata": {
        "colab": {
          "base_uri": "https://localhost:8080/"
        },
        "id": "9VPacxyFqfHp",
        "outputId": "885e0b59-aa5c-4426-e824-b4b5bd72693d"
      },
      "source": [
        "pred['dist_err'].max()"
      ],
      "execution_count": 85,
      "outputs": [
        {
          "output_type": "execute_result",
          "data": {
            "text/plain": [
              "41.52826901703881"
            ]
          },
          "metadata": {},
          "execution_count": 85
        }
      ]
    },
    {
      "cell_type": "code",
      "metadata": {
        "colab": {
          "base_uri": "https://localhost:8080/"
        },
        "id": "QYRBPti2u4hA",
        "outputId": "db00e769-220b-4af5-ab81-aec9a5b9374e"
      },
      "source": [
        "count = len([i for i in list(pred['dist_err']) if i  < 2])\n",
        "low_error = count / len(list(pred['dist_err'])) * 100\n",
        "print(\"Percentage of data with less than 2m error : \",low_error)"
      ],
      "execution_count": 86,
      "outputs": [
        {
          "output_type": "stream",
          "name": "stdout",
          "text": [
            "Percentage of data with less than 2m error :  1.725703905540418\n"
          ]
        }
      ]
    },
    {
      "cell_type": "code",
      "metadata": {
        "id": "kHqqTOhKq8UH"
      },
      "source": [
        "ada_AP2_Lat = AdaBoostRegressor(n_estimators=25)\n",
        "ada_AP2_Lat.fit(ap02_datX_tr,ap02_datY_tr['Latitude_OP'])\n",
        "prediction2_Lat = ada_AP2_Lat.predict(ap02_datX_te)\n",
        "prediction2_Lat = pd.DataFrame(prediction2_Lat.reshape(-1,1),columns=['Latitude'])\n",
        "ada_AP2_Lon = AdaBoostRegressor(n_estimators=25)\n",
        "ada_AP2_Lon.fit(ap02_datX_tr,ap01_datY_tr['Longitude_OP'])\n",
        "prediction2_Lon = ada_AP2_Lon.predict(ap02_datX_te)\n",
        "prediction2_Lon = pd.DataFrame(prediction2_Lon.reshape(-1,1),columns=['Longitude'])"
      ],
      "execution_count": 87,
      "outputs": []
    },
    {
      "cell_type": "code",
      "metadata": {
        "colab": {
          "base_uri": "https://localhost:8080/"
        },
        "id": "OpoPN7B1q8UH",
        "outputId": "6659a93b-6ca1-4f93-c689-31b2629f9481"
      },
      "source": [
        "pred2 = pd.concat([prediction2_Lat,prediction2_Lon],axis=1)\n",
        "pred['dist_err'] = (((pred2['Latitude']-ap02_datY_tr['Latitude_OP'])*111000)**2 + (((pred2['Longitude']-ap02_datY_tr['Longitude_OP'])*111000)**2))**0.5\n",
        "pred['dist_err'].mean()"
      ],
      "execution_count": 88,
      "outputs": [
        {
          "output_type": "execute_result",
          "data": {
            "text/plain": [
              "17.97531831518963"
            ]
          },
          "metadata": {},
          "execution_count": 88
        }
      ]
    },
    {
      "cell_type": "code",
      "metadata": {
        "colab": {
          "base_uri": "https://localhost:8080/"
        },
        "id": "69WIb8Ghq8UI",
        "outputId": "f67b5809-3e7a-4ea6-ce0a-3d2bfbb6253c"
      },
      "source": [
        "pred['dist_err'].max()"
      ],
      "execution_count": 89,
      "outputs": [
        {
          "output_type": "execute_result",
          "data": {
            "text/plain": [
              "58.822566511409164"
            ]
          },
          "metadata": {},
          "execution_count": 89
        }
      ]
    },
    {
      "cell_type": "code",
      "metadata": {
        "colab": {
          "base_uri": "https://localhost:8080/"
        },
        "id": "ugR_nxHfu7wB",
        "outputId": "f124147a-465b-4bfa-abd9-aa7d308142ff"
      },
      "source": [
        "count = len([i for i in list(pred['dist_err']) if i  < 2])\n",
        "low_error = count / len(list(pred['dist_err'])) * 100\n",
        "print(\"Percentage of data with less than 2m error : \",low_error)"
      ],
      "execution_count": 90,
      "outputs": [
        {
          "output_type": "stream",
          "name": "stdout",
          "text": [
            "Percentage of data with less than 2m error :  3.3605812897366025\n"
          ]
        }
      ]
    },
    {
      "cell_type": "code",
      "metadata": {
        "id": "UpnKwTisq9Qp"
      },
      "source": [
        "ada_AP3_Lat = AdaBoostRegressor(n_estimators=25)\n",
        "ada_AP3_Lat.fit(ap03_datX_tr,ap03_datY_tr['Latitude_OP'])\n",
        "prediction3_Lat = ada_AP3_Lat.predict(ap03_datX_te)\n",
        "prediction3_Lat = pd.DataFrame(prediction3_Lat.reshape(-1,1),columns=['Latitude'])\n",
        "ada_AP3_Lon = AdaBoostRegressor(n_estimators=25)\n",
        "ada_AP3_Lon.fit(ap03_datX_tr,ap03_datY_tr['Longitude_OP'])\n",
        "prediction3_Lon = ada_AP3_Lon.predict(ap03_datX_te)\n",
        "prediction3_Lon = pd.DataFrame(prediction3_Lon.reshape(-1,1),columns=['Longitude'])"
      ],
      "execution_count": 91,
      "outputs": []
    },
    {
      "cell_type": "code",
      "metadata": {
        "colab": {
          "base_uri": "https://localhost:8080/"
        },
        "id": "2xZWM0j5q9Qq",
        "outputId": "c40d6c62-e7ec-4364-b0c8-1bb734eb46fc"
      },
      "source": [
        "pred3 = pd.concat([prediction3_Lat,prediction3_Lon],axis=1)\n",
        "pred['dist_err'] = (((pred3['Latitude']-ap03_datY_tr['Latitude_OP'])*111000)**2 + (((pred3['Longitude']-ap03_datY_tr['Longitude_OP'])*111000)**2))**0.5\n",
        "pred['dist_err'].mean()"
      ],
      "execution_count": 92,
      "outputs": [
        {
          "output_type": "execute_result",
          "data": {
            "text/plain": [
              "16.866572242402064"
            ]
          },
          "metadata": {},
          "execution_count": 92
        }
      ]
    },
    {
      "cell_type": "code",
      "metadata": {
        "colab": {
          "base_uri": "https://localhost:8080/"
        },
        "id": "YMFO0dwxq9Qq",
        "outputId": "84b2f6a8-a068-4a51-cdaf-be5cc722f581"
      },
      "source": [
        "pred['dist_err'].max()"
      ],
      "execution_count": 93,
      "outputs": [
        {
          "output_type": "execute_result",
          "data": {
            "text/plain": [
              "36.53647587895017"
            ]
          },
          "metadata": {},
          "execution_count": 93
        }
      ]
    },
    {
      "cell_type": "code",
      "metadata": {
        "colab": {
          "base_uri": "https://localhost:8080/"
        },
        "id": "npMM1C44u9-9",
        "outputId": "ade7dab0-4900-4473-e810-cfc83b2254c7"
      },
      "source": [
        "count = len([i for i in list(pred['dist_err']) if i  < 2])\n",
        "low_error = count / len(list(pred['dist_err'])) * 100\n",
        "print(\"Percentage of data with less than 2m error : \",low_error)"
      ],
      "execution_count": 94,
      "outputs": [
        {
          "output_type": "stream",
          "name": "stdout",
          "text": [
            "Percentage of data with less than 2m error :  0.0\n"
          ]
        }
      ]
    },
    {
      "cell_type": "code",
      "metadata": {
        "id": "5ldfq5sPq-QK"
      },
      "source": [
        "ada_AP4_Lat = AdaBoostRegressor(n_estimators=25)\n",
        "ada_AP4_Lat.fit(ap04_datX_tr,ap04_datY_tr['Latitude_OP'])\n",
        "prediction4_Lat = ada_AP4_Lat.predict(ap04_datX_te)\n",
        "prediction4_Lat = pd.DataFrame(prediction4_Lat.reshape(-1,1),columns=['Latitude'])\n",
        "ada_AP4_Lon = AdaBoostRegressor(n_estimators=25)\n",
        "ada_AP4_Lon.fit(ap04_datX_tr,ap04_datY_tr['Longitude_OP'])\n",
        "prediction4_Lon = ada_AP4_Lon.predict(ap04_datX_te)\n",
        "prediction4_Lon = pd.DataFrame(prediction4_Lon.reshape(-1,1),columns=['Longitude'])"
      ],
      "execution_count": 95,
      "outputs": []
    },
    {
      "cell_type": "code",
      "metadata": {
        "colab": {
          "base_uri": "https://localhost:8080/"
        },
        "id": "zZA8Zx78q-QK",
        "outputId": "d911a338-0936-4056-a681-8728974784bd"
      },
      "source": [
        "pred4 = pd.concat([prediction4_Lat,prediction4_Lon],axis=1)\n",
        "pred['dist_err'] = (((pred4['Latitude']-ap04_datY_tr['Latitude_OP'])*111000)**2 + (((pred4['Longitude']-ap04_datY_tr['Longitude_OP'])*111000)**2))**0.5\n",
        "pred['dist_err'].mean()"
      ],
      "execution_count": 96,
      "outputs": [
        {
          "output_type": "execute_result",
          "data": {
            "text/plain": [
              "45.876075853045776"
            ]
          },
          "metadata": {},
          "execution_count": 96
        }
      ]
    },
    {
      "cell_type": "code",
      "metadata": {
        "colab": {
          "base_uri": "https://localhost:8080/"
        },
        "id": "WoplEOa2q-QL",
        "outputId": "cf874b4d-42b8-4784-8f16-ca5db0720d29"
      },
      "source": [
        "pred['dist_err'].max()"
      ],
      "execution_count": 97,
      "outputs": [
        {
          "output_type": "execute_result",
          "data": {
            "text/plain": [
              "64.21984701830405"
            ]
          },
          "metadata": {},
          "execution_count": 97
        }
      ]
    },
    {
      "cell_type": "code",
      "metadata": {
        "colab": {
          "base_uri": "https://localhost:8080/"
        },
        "id": "RMg7LXxIu_2V",
        "outputId": "3df71db0-5a55-40d7-d8a0-c664bedc2f14"
      },
      "source": [
        "count = len([i for i in list(pred['dist_err']) if i  < 2])\n",
        "low_error = count / len(list(pred['dist_err'])) * 100\n",
        "print(\"Percentage of data with less than 2m error : \",low_error)"
      ],
      "execution_count": 98,
      "outputs": [
        {
          "output_type": "stream",
          "name": "stdout",
          "text": [
            "Percentage of data with less than 2m error :  0.36330608537693004\n"
          ]
        }
      ]
    },
    {
      "cell_type": "markdown",
      "metadata": {
        "id": "SI4ibXg8roXy"
      },
      "source": [
        "### 2. RSSI Fingerprinting\n",
        "\n",
        "Fingerprinting of RSSI gives us a map of the RSSI throughout the area of inspection, it is effective for both indoor and outdoor experimental conditions. However, many data points uniformly spread throughout the area, gives the model a better understanding, which is not available in this scenario.\n",
        "\n",
        "###(i) KNN - Regressor\n",
        "\n",
        "We have used KNN regressor to predict reference point locations using the concept of RSSI Fingerprinting."
      ]
    },
    {
      "cell_type": "code",
      "metadata": {
        "id": "ft_uMU2zdpiO"
      },
      "source": [
        "from sklearn import neighbors\n",
        "from sklearn.metrics import mean_squared_error \n",
        "from math import sqrt\n",
        "import matplotlib.pyplot as plt\n",
        "%matplotlib inline"
      ],
      "execution_count": 99,
      "outputs": []
    },
    {
      "cell_type": "code",
      "metadata": {
        "colab": {
          "base_uri": "https://localhost:8080/"
        },
        "id": "w6p2wUaWmiYi",
        "outputId": "3342ba77-bb4b-408d-de84-9f75e291a351"
      },
      "source": [
        "rmse_val = [] #to store rmse values for different k\n",
        "for K in range(13):\n",
        "    K = K+1\n",
        "    model = neighbors.KNeighborsRegressor(n_neighbors = K)\n",
        "\n",
        "    model.fit(newtrain_X, trainY_final[['Latitude_OP','Longitude_OP']])  #fit the model\n",
        "    pred=model.predict(newtest_X) #make prediction on test set\n",
        "    error = sqrt(mean_squared_error(testY_final[['Latitude_OP','Longitude_OP']],pred)) #calculate rmse\n",
        "    rmse_val.append(error) #store rmse values\n",
        "    print('RMSE value for k= ' , K , 'is:', error)"
      ],
      "execution_count": 100,
      "outputs": [
        {
          "output_type": "stream",
          "name": "stdout",
          "text": [
            "RMSE value for k=  1 is: 0.00019403133450176412\n",
            "RMSE value for k=  2 is: 0.00017599442745989613\n",
            "RMSE value for k=  3 is: 0.00015660253439955558\n",
            "RMSE value for k=  4 is: 0.00014742622766071331\n",
            "RMSE value for k=  5 is: 0.00014352280953079433\n",
            "RMSE value for k=  6 is: 0.00014236459141663612\n",
            "RMSE value for k=  7 is: 0.00014152271060345912\n",
            "RMSE value for k=  8 is: 0.00014222109114668514\n",
            "RMSE value for k=  9 is: 0.00014250639222449473\n",
            "RMSE value for k=  10 is: 0.00014302952811793768\n",
            "RMSE value for k=  11 is: 0.0001435621872199662\n",
            "RMSE value for k=  12 is: 0.0001444131374214374\n",
            "RMSE value for k=  13 is: 0.00014504664334179568\n"
          ]
        }
      ]
    },
    {
      "cell_type": "code",
      "metadata": {
        "colab": {
          "base_uri": "https://localhost:8080/",
          "height": 284
        },
        "id": "2DH7ytXimluq",
        "outputId": "5205cda3-532c-49a3-cb89-33ad1ba06549"
      },
      "source": [
        "#plotting the rmse values against k values\n",
        "curve = pd.DataFrame(rmse_val) #elbow curve \n",
        "curve.plot()"
      ],
      "execution_count": 101,
      "outputs": [
        {
          "output_type": "execute_result",
          "data": {
            "text/plain": [
              "<matplotlib.axes._subplots.AxesSubplot at 0x7f7e8dd6c950>"
            ]
          },
          "metadata": {},
          "execution_count": 101
        },
        {
          "output_type": "display_data",
          "data": {
            "image/png": "[encoded data removed]",
            "text/plain": [
              "<Figure size 432x288 with 1 Axes>"
            ]
          },
          "metadata": {
            "needs_background": "light"
          }
        }
      ]
    },
    {
      "cell_type": "code",
      "metadata": {
        "id": "p11Da7-QnQHu"
      },
      "source": [
        "model = neighbors.KNeighborsRegressor(n_neighbors = 5)\n",
        "model.fit(newtrain_X, trainY_final[['Latitude_OP','Longitude_OP']])  #fit the model\n",
        "pred_knn=model.predict(newtest_X) #make prediction on test set\n"
      ],
      "execution_count": 102,
      "outputs": []
    },
    {
      "cell_type": "code",
      "metadata": {
        "colab": {
          "base_uri": "https://localhost:8080/",
          "height": 295
        },
        "id": "6SEbFa-rnUkh",
        "outputId": "3350f7fb-5170-4ab7-a53c-67d6b03dd0d5"
      },
      "source": [
        "# pred=model.predict(newtest_X)\n",
        "x_ax = range(len(testY_final[['Latitude_OP']]))\n",
        "plt.plot(x_ax, testY_final[['Latitude_OP']], linewidth=1, label=\"original\")\n",
        "plt.plot(x_ax, pred_knn[:,0], linewidth=1.1, label=\"predicted\")\n",
        "plt.title(\"KNN 5- neighbours\")\n",
        "plt.xlabel('X-axis')\n",
        "plt.ylabel('Y-axis')\n",
        "plt.legend(loc='best',fancybox=True, shadow=True)\n",
        "plt.grid(True)\n",
        "plt.show() "
      ],
      "execution_count": 103,
      "outputs": [
        {
          "output_type": "display_data",
          "data": {
            "image/png": "[encoded data removed]",
            "text/plain": [
              "<Figure size 432x288 with 1 Axes>"
            ]
          },
          "metadata": {
            "needs_background": "light"
          }
        }
      ]
    },
    {
      "cell_type": "code",
      "metadata": {
        "colab": {
          "base_uri": "https://localhost:8080/",
          "height": 295
        },
        "id": "eqH9EPOGn2Q3",
        "outputId": "b0fb9e6a-fea6-447d-d0a7-363f0a21105c"
      },
      "source": [
        "# pred=model.predict(newtest_X)\n",
        "x_ax = range(len(testY_final[['Longitude_OP']]))\n",
        "plt.plot(x_ax, testY_final[['Longitude_OP']], linewidth=1, label=\"original\")\n",
        "plt.plot(x_ax, pred_knn[:,1], linewidth=1.1, label=\"predicted\")\n",
        "plt.title(\"KNN 5- neighbours\")\n",
        "plt.xlabel('X-axis')\n",
        "plt.ylabel('Y-axis')\n",
        "plt.legend(loc='best',fancybox=True, shadow=True)\n",
        "plt.grid(True)\n",
        "plt.show() "
      ],
      "execution_count": 104,
      "outputs": [
        {
          "output_type": "display_data",
          "data": {
            "image/png": "[encoded data removed]",
            "text/plain": [
              "<Figure size 432x288 with 1 Axes>"
            ]
          },
          "metadata": {
            "needs_background": "light"
          }
        }
      ]
    },
    {
      "cell_type": "code",
      "metadata": {
        "colab": {
          "base_uri": "https://localhost:8080/"
        },
        "id": "VMdH2Mycn_kX",
        "outputId": "fe0994bc-76c0-4ed1-a716-082094fcb2a7"
      },
      "source": [
        "pred = pd.DataFrame(pred_knn, columns = ['Latitude','Longitude'])\n",
        "pred['dist_err'] = (((pred['Latitude']-testY_final['Latitude_OP'])*111000)**2 + (((pred['Longitude']-testY_final['Longitude_OP'])*111000)**2))**0.5\n",
        "pred['dist_err'].mean()"
      ],
      "execution_count": 105,
      "outputs": [
        {
          "output_type": "execute_result",
          "data": {
            "text/plain": [
              "20.320987330547233"
            ]
          },
          "metadata": {},
          "execution_count": 105
        }
      ]
    },
    {
      "cell_type": "code",
      "metadata": {
        "colab": {
          "base_uri": "https://localhost:8080/"
        },
        "id": "N7pkFp5-oGZ9",
        "outputId": "b422cb8e-5208-43b6-dcdf-000d3e5d713a"
      },
      "source": [
        "pred['dist_err'].max()"
      ],
      "execution_count": 106,
      "outputs": [
        {
          "output_type": "execute_result",
          "data": {
            "text/plain": [
              "61.28648126758737"
            ]
          },
          "metadata": {},
          "execution_count": 106
        }
      ]
    },
    {
      "cell_type": "code",
      "metadata": {
        "colab": {
          "base_uri": "https://localhost:8080/"
        },
        "id": "N11457hVvBwe",
        "outputId": "639ad507-471f-434c-c105-ce2c831af1a4"
      },
      "source": [
        "count = len([i for i in list(pred['dist_err']) if i  < 2])\n",
        "low_error = count / len(list(pred['dist_err'])) * 100\n",
        "print(\"Percentage of data with less than 2m error : \",low_error)"
      ],
      "execution_count": null,
      "outputs": [
        {
          "output_type": "stream",
          "name": "stdout",
          "text": [
            "Percentage of data with less than 2m error :  0.2724795640326975\n"
          ]
        }
      ]
    },
    {
      "cell_type": "markdown",
      "metadata": {
        "id": "azh4uTEOr-ZG"
      },
      "source": [
        "##Summary\n",
        "\n",
        "We discovered that the data set downloaded was in relatively clean state and therefore we did not have to clean up the data. However, feature engineering was required to come to the conclusions regarding the data. \n",
        "\n",
        "Since the number of Reference point in the training dataset is limited to 13, and is not uniformly distributed over the localisation area, satisfactory results could not be obtained using RSSI fingerprinting technique."
      ]
    },
    {
      "cell_type": "markdown",
      "metadata": {
        "id": "KqFkQL2dsw9N"
      },
      "source": [
        "## Future aspects for improvement\n",
        "\n",
        "Filters such as Kalman Filter and Gaussian Filter can be applied to the data if the data collected is in the form of a Time-Series with changes in Latitude and Longitude. \n",
        "\n",
        "More number of reference points in the data provided would significantly improve the performance of the models."
      ]
    },
    {
      "cell_type": "markdown",
      "metadata": {
        "id": "TGW7u0naspvV"
      },
      "source": [
        "## References\n",
        "\n",
        "- Shen, Y., Hwang, B. and Jeong, J.P., 2020. Particle Filtering-Based Indoor Positioning System for Beacon Tag Tracking. IEEE Access, 8, pp.226445-226460.\n",
        "\n",
        "- Li, G., Geng, E., Ye, Z., Xu, Y., Lin, J. and Pang, Y., 2018. Indoor positioning algorithm based on the improved RSSI distance model. Sensors, 18(9), p.2820.\n",
        "\n",
        "- Bullmann, M., Fetzer, T., Ebner, F., Ebner, M., Deinzer, F. and Grzegorzek, M., 2020. Comparison of 2.4 GHz WiFi FTM-and RSSI-based indoor positioning methods in realistic scenarios. Sensors, 20(16), p.4515.\n",
        "\n",
        "- Sung, Y., 2016. RSSI-based distance estimation framework using a Kalman filter for sustainable indoor computing environments. Sustainability, 8(11), p.1136."
      ]
    }
  ]
}
